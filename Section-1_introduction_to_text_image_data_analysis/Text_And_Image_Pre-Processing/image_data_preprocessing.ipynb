{
 "cells": [
  {
   "cell_type": "markdown",
   "metadata": {},
   "source": [
    "Three main processes:\n",
    "1. Image acquisition - processes of translating the analog data into binary data for digital iamges.\n",
    "2. Image Preprocessing - low level processing of images.\n",
    "     - image resizing\n",
    "     - image rescaling\n",
    "     - image cropping\n",
    "     - image rotation\n",
    "     - image intensity\n",
    "     - image edge detection\n",
    "     - feature detection\n",
    "3. Image analysis - Machine learning algorithm.\n",
    "     - identify similar images\n",
    "     - creating cluster of images\n",
    "     - object recognition"
   ]
  },
  {
   "cell_type": "code",
   "execution_count": null,
   "metadata": {},
   "outputs": [],
   "source": []
  }
 ],
 "metadata": {
  "kernelspec": {
   "display_name": "Python 3",
   "language": "python",
   "name": "python3"
  },
  "language_info": {
   "name": "python",
   "version": "3.10.14"
  }
 },
 "nbformat": 4,
 "nbformat_minor": 2
}
