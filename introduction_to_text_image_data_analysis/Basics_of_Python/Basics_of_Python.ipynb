{
 "cells": [
  {
   "cell_type": "code",
   "execution_count": 1,
   "metadata": {},
   "outputs": [
    {
     "name": "stdout",
     "output_type": "stream",
     "text": [
      "Welcome to Python World!!\n"
     ]
    }
   ],
   "source": [
    "print(\"Welcome to Python World!!\")"
   ]
  },
  {
   "cell_type": "markdown",
   "metadata": {},
   "source": [
    "# 1. Program to print output in a program"
   ]
  },
  {
   "cell_type": "code",
   "execution_count": 2,
   "metadata": {},
   "outputs": [
    {
     "name": "stdout",
     "output_type": "stream",
     "text": [
      "Total salary is salary \n",
      "Total salary is:  7000\n"
     ]
    }
   ],
   "source": [
    "salary = 7000\n",
    "print(\"Total salary is salary \")\n",
    "print(\"Total salary is: \",salary)"
   ]
  },
  {
   "cell_type": "markdown",
   "metadata": {},
   "source": [
    "# 2. Program to print multiple outputs in single program"
   ]
  },
  {
   "cell_type": "code",
   "execution_count": 3,
   "metadata": {},
   "outputs": [
    {
     "name": "stdout",
     "output_type": "stream",
     "text": [
      "Welcome\n",
      "to\n",
      "Python World\n"
     ]
    }
   ],
   "source": [
    "print(\"Welcome\")\n",
    "print('to')\n",
    "print('Python World')"
   ]
  },
  {
   "cell_type": "markdown",
   "metadata": {},
   "source": [
    "# 3. Program to show use of only input() function"
   ]
  },
  {
   "cell_type": "code",
   "execution_count": 4,
   "metadata": {},
   "outputs": [
    {
     "name": "stdout",
     "output_type": "stream",
     "text": [
      "The number is : 10 and class is : <class 'str'>\n"
     ]
    }
   ],
   "source": [
    "num = input(\"Enter the number: \")\n",
    "print(\"The number is :\",num,\"and class is :\",type(num))"
   ]
  },
  {
   "cell_type": "markdown",
   "metadata": {},
   "source": [
    "# 4. Program to enter string using input() function"
   ]
  },
  {
   "cell_type": "code",
   "execution_count": 5,
   "metadata": {},
   "outputs": [
    {
     "name": "stdout",
     "output_type": "stream",
     "text": [
      "Hello and Welcome  Prodip\n"
     ]
    }
   ],
   "source": [
    "usernme = input(\"Enter your name: \")\n",
    "print(\"Hello and Welcome \",usernme)"
   ]
  },
  {
   "cell_type": "markdown",
   "metadata": {},
   "source": [
    "# 5. Program to show use of int() function for entering integer input"
   ]
  },
  {
   "cell_type": "code",
   "execution_count": 7,
   "metadata": {},
   "outputs": [
    {
     "name": "stdout",
     "output_type": "stream",
     "text": [
      "The salary is:  80000 And type is: <class 'int'>\n"
     ]
    }
   ],
   "source": [
    "salary = int(input(\"Enter the salary:\"))\n",
    "print(\"The salary is: \",salary,\"And type is:\",type(salary))"
   ]
  },
  {
   "cell_type": "markdown",
   "metadata": {},
   "source": [
    "# 6. Program to use float() to accept float value from the user"
   ]
  },
  {
   "cell_type": "code",
   "execution_count": 10,
   "metadata": {},
   "outputs": [
    {
     "name": "stdout",
     "output_type": "stream",
     "text": [
      "The side is : 12.6\n",
      "The area of square using variable is: 158.76\n",
      "The area of square compute directly is : 158.76\n"
     ]
    }
   ],
   "source": [
    "side = float(input(\"Enter the side of the square: \"))\n",
    "print(\"The side is :\",side)\n",
    "area = side * side \n",
    "print(\"The area of square using variable is:\",area)\n",
    "print(\"The area of square compute directly is :\",side * side)"
   ]
  },
  {
   "cell_type": "markdown",
   "metadata": {},
   "source": [
    "# 7. Program to take input from the user using eval() function"
   ]
  },
  {
   "cell_type": "code",
   "execution_count": 13,
   "metadata": {},
   "outputs": [
    {
     "name": "stdout",
     "output_type": "stream",
     "text": [
      "the value of first variable: 33.5\n",
      "val1 = 33.5 type: <class 'float'>\n",
      "the value of second variable: 444\n",
      "val2 = 444 type: <class 'int'>\n",
      "the value of third variable: 56.0\n",
      "val3 = 56.0 type: <class 'float'>\n"
     ]
    }
   ],
   "source": [
    "val1 = eval(input(\"Enter the value of first variable: \"))\n",
    "print(\"the value of first variable:\",val1)\n",
    "print('val1 =',val1,'type:',type(val1))\n",
    "val2 = eval(input(\"Enter the value of second variable: \"))\n",
    "print(\"the value of second variable:\",val2)\n",
    "print('val2 =',val2,'type:',type(val2))\n",
    "val3 = eval(input(\"Enter the value of first variable: \"))\n",
    "print(\"the value of third variable:\",val3)\n",
    "print('val3 =',val3,'type:',type(val3))\n",
    "\n",
    "\n",
    "\n"
   ]
  },
  {
   "cell_type": "markdown",
   "metadata": {},
   "source": [
    "# 8. Program to show use of accepting multiple inputs"
   ]
  },
  {
   "cell_type": "code",
   "execution_count": 15,
   "metadata": {},
   "outputs": [
    {
     "name": "stdout",
     "output_type": "stream",
     "text": [
      "12 + 54 + 87.8 = 153.8\n"
     ]
    }
   ],
   "source": [
    "a,b,c = eval(input(\"Enter three numbers:\"))\n",
    "print(a,'+',b,'+',c,'=',a+b+c)"
   ]
  },
  {
   "cell_type": "markdown",
   "metadata": {},
   "source": [
    "1. Module - A module is file containing definitions,statements,functions,classes and variables.\n",
    "   - https://docs.python.org/3/py-modindex.html\n",
    "   - commonly used modules and functions are follows : Calender,Collections(container data types functions),datetime,os,random,re,math,\n",
    "     statistics,string,time,tkinter,pickle etc. \n",
    "   - Three different ways to import functions and module/library: \n",
    "       * from module/library name import*\n",
    "       * import module/library name\n",
    "       * from module/library import function 1,function 2,... "
   ]
  },
  {
   "cell_type": "markdown",
   "metadata": {},
   "source": [
    "# 9. Program to compare amount of two customers - using <b>if statement</b>"
   ]
  },
  {
   "cell_type": "code",
   "execution_count": 18,
   "metadata": {},
   "outputs": [
    {
     "name": "stdout",
     "output_type": "stream",
     "text": [
      "The first customer amount is: 30\n",
      "The second customer amount is: 12.44\n",
      "First Customer is better\n"
     ]
    }
   ],
   "source": [
    "a1,a2 = eval(input(\"Input the amount of two customers: \"))\n",
    "print(\"The first customer amount is:\",a1)\n",
    "print(\"The second customer amount is:\",a2)\n",
    "\n",
    "if(a1>a2):\n",
    "    print(\"First Customer is better\")"
   ]
  },
  {
   "cell_type": "markdown",
   "metadata": {},
   "source": [
    "# 10. Program to print the result depending on total expenses"
   ]
  },
  {
   "cell_type": "code",
   "execution_count": 20,
   "metadata": {},
   "outputs": [
    {
     "name": "stdout",
     "output_type": "stream",
     "text": [
      "total salary of employees is: 50000.0\n",
      "the other expenses is:  30000.0\n",
      "the total salary and expenses:  80000.0\n",
      "Well Managed Expenses\n",
      "Effective Management\n"
     ]
    }
   ],
   "source": [
    "salary = float(input(\"Input the total salary of employees:  \"))\n",
    "print(\"total salary of employees is:\",salary)\n",
    "expenses = float(input(\"Input the other expenses:  \"))\n",
    "print(\"the other expenses is: \",expenses)\n",
    "total = salary + expenses \n",
    "print(\"the total salary and expenses: \", total)\n",
    "if total > 90000:\n",
    "    print(\"High Expenses\")\n",
    "    print(\"Try to decrease the expenses\")\n",
    "else:\n",
    "    print(\"Well Managed Expenses\")\n",
    "    print(\"Effective Management\")\n"
   ]
  },
  {
   "cell_type": "markdown",
   "metadata": {},
   "source": [
    "# 11. Program for increasing the salary by 5% every year for 10 years"
   ]
  },
  {
   "cell_type": "code",
   "execution_count": 24,
   "metadata": {},
   "outputs": [
    {
     "name": "stdout",
     "output_type": "stream",
     "text": [
      "Initial Salary is:  52000\n",
      "Salary after 1 years: 54600.0\n",
      "Salary after 2 years: 57330.0\n",
      "Salary after 3 years: 60196.5\n",
      "Salary after 4 years: 63206.325\n",
      "Salary after 5 years: 66366.64125\n",
      "Salary after 6 years: 69684.9733125\n",
      "Salary after 7 years: 73169.221978125\n",
      "Salary after 8 years: 76827.68307703125\n",
      "Salary after 9 years: 80669.06723088282\n",
      "Salary after 10 years: 84702.52059242697\n",
      "Finished Task\n"
     ]
    }
   ],
   "source": [
    "salary = int(input(\"Input the initial salary :\"))\n",
    "print(\"Initial Salary is: \",salary)\n",
    "for year in range(1,11):\n",
    "    salary = salary + salary * 0.05\n",
    "    print(\"Salary after\",year,\"years:\",salary)\n",
    "print(\"Finished Task\")"
   ]
  },
  {
   "cell_type": "markdown",
   "metadata": {},
   "source": [
    "# 12. Program using while loop to print amount within a range"
   ]
  },
  {
   "cell_type": "code",
   "execution_count": 25,
   "metadata": {},
   "outputs": [
    {
     "name": "stdout",
     "output_type": "stream",
     "text": [
      "5101\n",
      "5102\n",
      "5103\n",
      "5104\n",
      "5105\n",
      "Finished Task\n"
     ]
    }
   ],
   "source": [
    "counter = 5101\n",
    "while(counter<=5105):\n",
    "    print(counter)\n",
    "    counter=counter+1\n",
    "print(\"Finished Task\")"
   ]
  },
  {
   "cell_type": "code",
   "execution_count": 28,
   "metadata": {},
   "outputs": [
    {
     "name": "stdout",
     "output_type": "stream",
     "text": [
      "Initial Salary is:  52000\n",
      "Salary after 1 years: 54600.0\n",
      "Salary after 2 years: 57330.0\n",
      "Salary after 3 years: 60196.5\n",
      "Salary after 4 years: 63206.325\n",
      "Salary after 5 years: 66366.64125\n",
      "Salary after 6 years: 69684.9733125\n",
      "Salary after 7 years: 73169.221978125\n",
      "Salary after 8 years: 76827.68307703125\n",
      "Salary after 9 years: 80669.06723088282\n",
      "Salary after 10 years: 84702.52059242697\n",
      "Finished Task\n"
     ]
    }
   ],
   "source": [
    "salary = int(input(\"Input the initial salary :\"))\n",
    "print(\"Initial Salary is: \",salary)\n",
    "years = 1\n",
    "while(years<=10):\n",
    "    salary = salary + salary * 0.05\n",
    "    print(\"Salary after\",years,\"years:\",salary)\n",
    "    years = years+1\n",
    "print(\"Finished Task\")"
   ]
  },
  {
   "cell_type": "markdown",
   "metadata": {},
   "source": [
    "# 13. Program to compute salary with argumants\n",
    "### Creating total_salary() function for calculating total salary"
   ]
  },
  {
   "cell_type": "code",
   "execution_count": 29,
   "metadata": {},
   "outputs": [],
   "source": [
    "def total_salary(fixed_sal,variable_sal):\n",
    "    print(\"The total salary is: \",fixed_sal+variable_sal)"
   ]
  },
  {
   "cell_type": "markdown",
   "metadata": {},
   "source": [
    "### Calling the function according to user choice"
   ]
  },
  {
   "cell_type": "code",
   "execution_count": 31,
   "metadata": {},
   "outputs": [
    {
     "name": "stdout",
     "output_type": "stream",
     "text": [
      "Score is selecting : 4\n",
      "The total salary is:  110000\n"
     ]
    }
   ],
   "source": [
    "fixed_sal = 50000\n",
    "score = int(input(\"Performance: 1-Poor,2-Average,3-Above Average,4-Excellent: \"))\n",
    "print(\"Score is selecting :\",score)\n",
    "if score == 1:\n",
    "    variable_sal = 10000\n",
    "    total_salary(fixed_sal,variable_sal)\n",
    "elif score == 2:\n",
    "    variable_sal = 20000\n",
    "    total_salary(fixed_sal,variable_sal)\n",
    "elif score == 3:\n",
    "    variable_sal = 40000\n",
    "    total_salary(fixed_sal,variable_sal)\n",
    "elif score == 4:\n",
    "    variable_sal = 60000\n",
    "    total_salary(fixed_sal,variable_sal)\n",
    "else:\n",
    "    print(\"Not a valid option\")\n"
   ]
  },
  {
   "cell_type": "markdown",
   "metadata": {},
   "source": [
    "- Array is a collection of same data type (Homogeneous).\n",
    "- List is a collection of different data type (Heterogeneous)."
   ]
  },
  {
   "cell_type": "markdown",
   "metadata": {},
   "source": [
    "# 14. Program to create array from Numpy library"
   ]
  },
  {
   "cell_type": "code",
   "execution_count": 32,
   "metadata": {},
   "outputs": [],
   "source": [
    "import numpy as np"
   ]
  },
  {
   "cell_type": "code",
   "execution_count": 33,
   "metadata": {},
   "outputs": [
    {
     "name": "stdout",
     "output_type": "stream",
     "text": [
      "2.1.0\n"
     ]
    }
   ],
   "source": [
    "print(np.__version__)"
   ]
  },
  {
   "cell_type": "markdown",
   "metadata": {},
   "source": [
    "### Creating an array of integers related to express"
   ]
  },
  {
   "cell_type": "code",
   "execution_count": 36,
   "metadata": {},
   "outputs": [
    {
     "name": "stdout",
     "output_type": "stream",
     "text": [
      "The array of integers is : \n",
      " [101 102 105 106 104 100]\n",
      "<class 'numpy.ndarray'>\n"
     ]
    }
   ],
   "source": [
    "expenses = np.array([101,102,105,106,104,100],dtype='int')\n",
    "print(\"The array of integers is : \\n\",expenses)\n",
    "print(type(expenses))"
   ]
  },
  {
   "cell_type": "markdown",
   "metadata": {},
   "source": [
    "# 15. Program for creating and accessing intems from list"
   ]
  },
  {
   "cell_type": "code",
   "execution_count": 37,
   "metadata": {},
   "outputs": [
    {
     "name": "stdout",
     "output_type": "stream",
     "text": [
      "List of the employees:  ['Prodip', 'Mou', 'Raja', 'Kuntal', 'Amit']\n"
     ]
    }
   ],
   "source": [
    "emp_list = [\"Prodip\",\"Mou\",\"Raja\",\"Kuntal\",\"Amit\"]\n",
    "print(\"List of the employees: \",emp_list)"
   ]
  },
  {
   "cell_type": "markdown",
   "metadata": {},
   "source": [
    "### Using for loop to dispaly items from a list"
   ]
  },
  {
   "cell_type": "code",
   "execution_count": 38,
   "metadata": {},
   "outputs": [
    {
     "name": "stdout",
     "output_type": "stream",
     "text": [
      "Prodip\n",
      "Mou\n",
      "Raja\n",
      "Kuntal\n",
      "Amit\n"
     ]
    }
   ],
   "source": [
    "for employees in emp_list:\n",
    "    print(employees)"
   ]
  },
  {
   "cell_type": "code",
   "execution_count": 39,
   "metadata": {},
   "outputs": [
    {
     "name": "stdout",
     "output_type": "stream",
     "text": [
      "The 1 item is: Prodip\n",
      "The 2 item is: Mou\n",
      "The 3 item is: Raja\n",
      "The 4 item is: Kuntal\n",
      "The 5 item is: Amit\n"
     ]
    }
   ],
   "source": [
    "for num in range(0,5):\n",
    "    print(\"The\",num+1,\"item is:\",emp_list[num])"
   ]
  },
  {
   "cell_type": "markdown",
   "metadata": {},
   "source": [
    "# 16. Program to access employee information from a heterogeneous tuple"
   ]
  },
  {
   "cell_type": "code",
   "execution_count": 41,
   "metadata": {},
   "outputs": [
    {
     "name": "stdout",
     "output_type": "stream",
     "text": [
      "Employees:  ('Prodip', 'Mou', 'Raja', 'Kuntal', 'Amit', 44, 45, 33, True)\n"
     ]
    }
   ],
   "source": [
    "emp_tuple = (\"Prodip\",\"Mou\",\"Raja\",\"Kuntal\",\"Amit\",44,45,33,True)\n",
    "print(\"Employees: \",emp_tuple)"
   ]
  },
  {
   "cell_type": "markdown",
   "metadata": {},
   "source": [
    "### Using for loop to dispaly first four elements of the tuple"
   ]
  },
  {
   "cell_type": "code",
   "execution_count": 43,
   "metadata": {},
   "outputs": [
    {
     "name": "stdout",
     "output_type": "stream",
     "text": [
      "The tuple element 1 is:  Prodip\n",
      "The tuple element 2 is:  Mou\n",
      "The tuple element 3 is:  Raja\n",
      "The tuple element 4 is:  Kuntal\n"
     ]
    }
   ],
   "source": [
    "for num in range(0,4):\n",
    "    print(\"The tuple element\",num+1,\"is: \",emp_tuple[num])"
   ]
  },
  {
   "cell_type": "markdown",
   "metadata": {},
   "source": [
    "# 17. Program for accessing dictionary elements"
   ]
  },
  {
   "cell_type": "code",
   "execution_count": 46,
   "metadata": {},
   "outputs": [
    {
     "name": "stdout",
     "output_type": "stream",
     "text": [
      "{'name': 'Machine Learning', 'author': 'Prodip Sarkar', 'Publisher': 'Wiley'}\n",
      "<class 'dict'>\n"
     ]
    }
   ],
   "source": [
    "book_dict = {\n",
    "    'name':'Machine Learning',\n",
    "    'author':'Prodip Sarkar',\n",
    "    'Publisher':'Wiley'\n",
    "}\n",
    "print(book_dict)\n",
    "print(type(book_dict))"
   ]
  },
  {
   "cell_type": "markdown",
   "metadata": {},
   "source": [
    "### Displaying the keys in the dictionary"
   ]
  },
  {
   "cell_type": "code",
   "execution_count": 49,
   "metadata": {},
   "outputs": [
    {
     "name": "stdout",
     "output_type": "stream",
     "text": [
      "Keys in the dictionary are:\n",
      " dict_keys(['name', 'author', 'Publisher'])\n"
     ]
    }
   ],
   "source": [
    "print(\"Keys in the dictionary are:\\n\",book_dict.keys())"
   ]
  },
  {
   "cell_type": "markdown",
   "metadata": {},
   "source": [
    "### Displaying the values in the dictionary"
   ]
  },
  {
   "cell_type": "code",
   "execution_count": 50,
   "metadata": {},
   "outputs": [
    {
     "name": "stdout",
     "output_type": "stream",
     "text": [
      "Values in the dictionary are:\n",
      " dict_values(['Machine Learning', 'Prodip Sarkar', 'Wiley'])\n"
     ]
    }
   ],
   "source": [
    "print(\"Values in the dictionary are:\\n\",book_dict.values())"
   ]
  },
  {
   "cell_type": "markdown",
   "metadata": {},
   "source": [
    "### Displaying the key-vaule pairs in the dictionary"
   ]
  },
  {
   "cell_type": "code",
   "execution_count": 51,
   "metadata": {},
   "outputs": [
    {
     "name": "stdout",
     "output_type": "stream",
     "text": [
      "Keys and Values in the dictionary are:\n",
      " dict_items([('name', 'Machine Learning'), ('author', 'Prodip Sarkar'), ('Publisher', 'Wiley')])\n"
     ]
    }
   ],
   "source": [
    "print(\"Key-Value pair in the dictionary are:\\n\",book_dict.items())"
   ]
  },
  {
   "cell_type": "markdown",
   "metadata": {},
   "source": [
    "### Dispalying the values with respect to specified key"
   ]
  },
  {
   "cell_type": "code",
   "execution_count": 53,
   "metadata": {},
   "outputs": [
    {
     "name": "stdout",
     "output_type": "stream",
     "text": [
      "Name of the book is : Machine Learning\n",
      "Author is: Prodip Sarkar\n",
      "Publisher is : Wiley\n"
     ]
    }
   ],
   "source": [
    "print(\"Name of the book is :\",book_dict['name'])\n",
    "print(\"Author is:\",book_dict['author'])\n",
    "print(\"Publisher is :\",book_dict['Publisher'])"
   ]
  },
  {
   "cell_type": "markdown",
   "metadata": {},
   "source": [
    "# 18. Program for creating strings using different approaches\n",
    "### Creating a string using double quotes"
   ]
  },
  {
   "cell_type": "code",
   "execution_count": 54,
   "metadata": {},
   "outputs": [
    {
     "name": "stdout",
     "output_type": "stream",
     "text": [
      " Hello and Welcome..\n"
     ]
    }
   ],
   "source": [
    "string_1 = \" Hello and Welcome..\"\n",
    "print(string_1)"
   ]
  },
  {
   "cell_type": "markdown",
   "metadata": {},
   "source": [
    "### Creating a string using single quotes"
   ]
  },
  {
   "cell_type": "code",
   "execution_count": 55,
   "metadata": {},
   "outputs": [
    {
     "name": "stdout",
     "output_type": "stream",
     "text": [
      "Welcome to Python World\n"
     ]
    }
   ],
   "source": [
    "string_2 = 'Welcome to Python World'\n",
    "print(string_2)"
   ]
  },
  {
   "cell_type": "markdown",
   "metadata": {},
   "source": [
    "### Creating a multiline string using triple quotes"
   ]
  },
  {
   "cell_type": "code",
   "execution_count": 57,
   "metadata": {},
   "outputs": [
    {
     "name": "stdout",
     "output_type": "stream",
     "text": [
      " This is an example\n",
      "of a special multi-line\n",
      "string!!!! \n"
     ]
    }
   ],
   "source": [
    "string_3 = \"\"\" This is an example\n",
    "of a special multi-line\n",
    "string!!!! \"\"\"\n",
    "print(string_3)"
   ]
  },
  {
   "cell_type": "markdown",
   "metadata": {},
   "source": [
    "# 19. Concatenation of strings\n",
    "### Using single quotes"
   ]
  },
  {
   "cell_type": "code",
   "execution_count": 59,
   "metadata": {},
   "outputs": [
    {
     "name": "stdout",
     "output_type": "stream",
     "text": [
      "Prodip Sarkar\n"
     ]
    }
   ],
   "source": [
    "string_4 = 'Prodip' + ' Sarkar'\n",
    "print(string_4)"
   ]
  },
  {
   "cell_type": "markdown",
   "metadata": {},
   "source": [
    "### Using double quotes to concatenation strings"
   ]
  },
  {
   "cell_type": "code",
   "execution_count": 62,
   "metadata": {},
   "outputs": [
    {
     "name": "stdout",
     "output_type": "stream",
     "text": [
      "Delhi is capital of India. \n"
     ]
    }
   ],
   "source": [
    "string_5 = \"Delhi\" + \" is capital of India. \"\n",
    "print(string_5)"
   ]
  },
  {
   "cell_type": "markdown",
   "metadata": {},
   "source": [
    "# 20. Using both single and double quotes to concatenate strings"
   ]
  },
  {
   "cell_type": "code",
   "execution_count": 64,
   "metadata": {},
   "outputs": [
    {
     "name": "stdout",
     "output_type": "stream",
     "text": [
      "Python is wonderful!!!\n"
     ]
    }
   ],
   "source": [
    "string_6 = 'Python is ' + \"wonderful!!!\"\n",
    "print(string_6)"
   ]
  },
  {
   "cell_type": "markdown",
   "metadata": {},
   "source": [
    "# 21. Using single quotes without \"+\" sign to concatenate strings"
   ]
  },
  {
   "cell_type": "code",
   "execution_count": 65,
   "metadata": {},
   "outputs": [
    {
     "name": "stdout",
     "output_type": "stream",
     "text": [
      "R is a statistical  language!!!\n"
     ]
    }
   ],
   "source": [
    "string_7 = 'R is ' 'a statistical ' ' language!!!'\n",
    "print(string_7)"
   ]
  },
  {
   "cell_type": "markdown",
   "metadata": {},
   "source": [
    "# 22. Using multiple lines for string concatenation"
   ]
  },
  {
   "cell_type": "code",
   "execution_count": 68,
   "metadata": {},
   "outputs": [
    {
     "name": "stdout",
     "output_type": "stream",
     "text": [
      "Another way to concatenation  multiple strings!!!\n"
     ]
    }
   ],
   "source": [
    "string_8 = ('Another '\n",
    "    'way '\n",
    "    'to concatenation '\n",
    "    ' multiple strings!!!'\n",
    "    )\n",
    "print(string_8)"
   ]
  },
  {
   "cell_type": "markdown",
   "metadata": {},
   "source": [
    "# 23. Program for demonstrating string indexing"
   ]
  },
  {
   "cell_type": "code",
   "execution_count": 69,
   "metadata": {},
   "outputs": [],
   "source": [
    "string_9 = \"PYTHON\""
   ]
  },
  {
   "cell_type": "markdown",
   "metadata": {},
   "source": [
    "### Using enumerate() function for determining index"
   ]
  },
  {
   "cell_type": "code",
   "execution_count": 70,
   "metadata": {},
   "outputs": [
    {
     "name": "stdout",
     "output_type": "stream",
     "text": [
      "The letter -> P has index -> 0\n",
      "The letter -> Y has index -> 1\n",
      "The letter -> T has index -> 2\n",
      "The letter -> H has index -> 3\n",
      "The letter -> O has index -> 4\n",
      "The letter -> N has index -> 5\n"
     ]
    }
   ],
   "source": [
    "for index,letter in enumerate(string_9):\n",
    "    print('The letter ->',letter,'has index ->',index)"
   ]
  },
  {
   "cell_type": "code",
   "execution_count": 72,
   "metadata": {},
   "outputs": [
    {
     "name": "stdout",
     "output_type": "stream",
     "text": [
      "The letter -> R has index -> 0\n",
      "The letter ->   has index -> 1\n",
      "The letter -> i has index -> 2\n",
      "The letter -> s has index -> 3\n",
      "The letter ->   has index -> 4\n",
      "The letter -> a has index -> 5\n",
      "The letter ->   has index -> 6\n",
      "The letter -> s has index -> 7\n",
      "The letter -> t has index -> 8\n",
      "The letter -> a has index -> 9\n",
      "The letter -> t has index -> 10\n",
      "The letter -> i has index -> 11\n",
      "The letter -> s has index -> 12\n",
      "The letter -> t has index -> 13\n",
      "The letter -> i has index -> 14\n",
      "The letter -> c has index -> 15\n",
      "The letter -> a has index -> 16\n",
      "The letter -> l has index -> 17\n",
      "The letter ->   has index -> 18\n",
      "The letter ->   has index -> 19\n",
      "The letter -> l has index -> 20\n",
      "The letter -> a has index -> 21\n",
      "The letter -> n has index -> 22\n",
      "The letter -> g has index -> 23\n",
      "The letter -> u has index -> 24\n",
      "The letter -> a has index -> 25\n",
      "The letter -> g has index -> 26\n",
      "The letter -> e has index -> 27\n",
      "The letter -> ! has index -> 28\n"
     ]
    }
   ],
   "source": [
    "string_10 = 'R is ' 'a statistical ' ' language!'\n",
    "for index,letter in enumerate(string_10):\n",
    "    print('The letter ->',letter,'has index ->',index)\n"
   ]
  },
  {
   "cell_type": "markdown",
   "metadata": {},
   "source": [
    "### Displaying letters from starting of the string"
   ]
  },
  {
   "cell_type": "code",
   "execution_count": 76,
   "metadata": {},
   "outputs": [
    {
     "name": "stdout",
     "output_type": "stream",
     "text": [
      "The letters from start: P Y T H O N\n"
     ]
    }
   ],
   "source": [
    "print('The letters from start:',string_9[0],string_9[1],string_9[2],string_9[3],string_9[4],string_9[5])"
   ]
  },
  {
   "cell_type": "markdown",
   "metadata": {},
   "source": [
    "### Displaying letters from end of the string"
   ]
  },
  {
   "cell_type": "code",
   "execution_count": 79,
   "metadata": {},
   "outputs": [
    {
     "name": "stdout",
     "output_type": "stream",
     "text": [
      "The letters from end: N O H T Y P\n"
     ]
    }
   ],
   "source": [
    "print('The letters from end:',string_9[-1],string_9[-2],string_9[-3],string_9[-4],string_9[-5],string_9[-6])"
   ]
  },
  {
   "cell_type": "markdown",
   "metadata": {},
   "source": [
    "# 24. Program for demonstrating string slicing "
   ]
  },
  {
   "cell_type": "code",
   "execution_count": 89,
   "metadata": {},
   "outputs": [
    {
     "name": "stdout",
     "output_type": "stream",
     "text": [
      "Starting from index 1 and before index 3 : YT\n",
      "All the letters: PYTHON\n",
      "First three letters: PYT\n",
      "Last three letters: HON\n",
      "Complete string using slicing:  PYTHON\n"
     ]
    }
   ],
   "source": [
    "print('Starting from index 1 and before index 3 :',string_9[1:3])\n",
    "print('All the letters:',string_9[:])\n",
    "print('First three letters:',string_9[:3])\n",
    "print('Last three letters:',string_9[-3:])\n",
    "print('Complete string using slicing: ',string_9[:3] + string_9[3:])"
   ]
  },
  {
   "cell_type": "code",
   "execution_count": 92,
   "metadata": {},
   "outputs": [
    {
     "name": "stdout",
     "output_type": "stream",
     "text": [
      "Complete string using slicing:  PYTHON\n"
     ]
    }
   ],
   "source": [
    "print('Complete string using slicing: ',string_9[:3] + string_9[-3:])"
   ]
  },
  {
   "cell_type": "markdown",
   "metadata": {},
   "source": [
    "# 25. Program to show string slicing with offsets"
   ]
  },
  {
   "cell_type": "code",
   "execution_count": 95,
   "metadata": {},
   "outputs": [
    {
     "name": "stdout",
     "output_type": "stream",
     "text": [
      "Each second Character in slicing is: PTO\n",
      "Each second Character in string from 0:4 index: PT\n",
      "String without offset results in:  PYTHON\n"
     ]
    }
   ],
   "source": [
    "print('Each second Character in slicing is:',string_9[::2])\n",
    "print('Each second Character in string from 0:4 index:',string_9[0:4:2])\n",
    "print('String without offset results in: ',string_9[::1])"
   ]
  },
  {
   "cell_type": "markdown",
   "metadata": {},
   "source": [
    "# 26. Program for using functions related to changing case of the string"
   ]
  },
  {
   "cell_type": "code",
   "execution_count": 96,
   "metadata": {},
   "outputs": [],
   "source": [
    "mystring_1 = 'PyThon is ProgrAmmING lanGuage!!!'"
   ]
  },
  {
   "cell_type": "markdown",
   "metadata": {},
   "source": [
    "### The capitalize() returns first letter capitalized and rest lowercased"
   ]
  },
  {
   "cell_type": "code",
   "execution_count": 97,
   "metadata": {},
   "outputs": [
    {
     "name": "stdout",
     "output_type": "stream",
     "text": [
      "Capitalized String: Python is programming language!!!\n"
     ]
    }
   ],
   "source": [
    "print(\"Capitalized String:\",mystring_1.capitalize())"
   ]
  },
  {
   "cell_type": "markdown",
   "metadata": {},
   "source": [
    "### The title() returns first character of each word capitalized"
   ]
  },
  {
   "cell_type": "code",
   "execution_count": 98,
   "metadata": {},
   "outputs": [
    {
     "name": "stdout",
     "output_type": "stream",
     "text": [
      "String in title case: Python Is Programming Language!!!\n"
     ]
    }
   ],
   "source": [
    "print(\"String in title case:\",mystring_1.title())"
   ]
  },
  {
   "cell_type": "markdown",
   "metadata": {},
   "source": [
    "### The lower() returns a copy of all lowercase letters"
   ]
  },
  {
   "cell_type": "code",
   "execution_count": 99,
   "metadata": {},
   "outputs": [
    {
     "name": "stdout",
     "output_type": "stream",
     "text": [
      "String in lower case: python is programming language!!!\n"
     ]
    }
   ],
   "source": [
    "print(\"String in lower case:\",mystring_1.lower())"
   ]
  },
  {
   "cell_type": "markdown",
   "metadata": {},
   "source": [
    "### The upper() returns a copy of all uppercase letters"
   ]
  },
  {
   "cell_type": "code",
   "execution_count": 100,
   "metadata": {},
   "outputs": [
    {
     "name": "stdout",
     "output_type": "stream",
     "text": [
      "String in upper case: PYTHON IS PROGRAMMING LANGUAGE!!!\n"
     ]
    }
   ],
   "source": [
    "print(\"String in upper case:\",mystring_1.upper())"
   ]
  },
  {
   "cell_type": "markdown",
   "metadata": {},
   "source": [
    "### The swapcase() returns reversing the case(upper and lower case) of characters in the string"
   ]
  },
  {
   "cell_type": "code",
   "execution_count": 101,
   "metadata": {},
   "outputs": [
    {
     "name": "stdout",
     "output_type": "stream",
     "text": [
      "String in swap case: pYtHON IS pROGRaMMing LANgUAGE!!!\n"
     ]
    }
   ],
   "source": [
    "print(\"String in swap case:\",mystring_1.swapcase())"
   ]
  },
  {
   "cell_type": "markdown",
   "metadata": {},
   "source": [
    "### The casefold() returns a lower case string,used for caseless matching"
   ]
  },
  {
   "cell_type": "code",
   "execution_count": 102,
   "metadata": {},
   "outputs": [
    {
     "name": "stdout",
     "output_type": "stream",
     "text": [
      "String in casefold : python is programming language!!!\n"
     ]
    }
   ],
   "source": [
    "print(\"String in casefold :\",mystring_1.casefold())"
   ]
  },
  {
   "cell_type": "markdown",
   "metadata": {},
   "source": [
    "# 27. Alignment and Indentation functions related to string"
   ]
  },
  {
   "cell_type": "code",
   "execution_count": 105,
   "metadata": {},
   "outputs": [],
   "source": [
    "mystring_2 = \"Python\""
   ]
  },
  {
   "cell_type": "markdown",
   "metadata": {},
   "source": [
    "### The rjust() right justifies for specified width with fill characters"
   ]
  },
  {
   "cell_type": "code",
   "execution_count": 107,
   "metadata": {},
   "outputs": [
    {
     "name": "stdout",
     "output_type": "stream",
     "text": [
      "********Python\n",
      "#######Python\n",
      "      Python\n"
     ]
    }
   ],
   "source": [
    "print(mystring_2.rjust(14,\"*\"))\n",
    "print(mystring_2.rjust(13,\"#\"))\n",
    "print(mystring_2.rjust(12))"
   ]
  },
  {
   "cell_type": "markdown",
   "metadata": {},
   "source": [
    "### The ljust() left justifies for specified width with fill characters"
   ]
  },
  {
   "cell_type": "code",
   "execution_count": 108,
   "metadata": {},
   "outputs": [
    {
     "name": "stdout",
     "output_type": "stream",
     "text": [
      "Python$$$$$$$$$$\n",
      "Python!!!!!!!!!!!!\n",
      "Python        \n"
     ]
    }
   ],
   "source": [
    "print(mystring_2.ljust(16,\"$\"))\n",
    "print(mystring_2.ljust(18,\"!\"))\n",
    "print(mystring_2.ljust(14))"
   ]
  },
  {
   "cell_type": "markdown",
   "metadata": {},
   "source": [
    "### The center() centers for specified width with optional fill charcters "
   ]
  },
  {
   "cell_type": "code",
   "execution_count": 111,
   "metadata": {},
   "outputs": [
    {
     "name": "stdout",
     "output_type": "stream",
     "text": [
      "@@@@@@Python@@@@@@\n"
     ]
    }
   ],
   "source": [
    "print(mystring_2.center(18,'@'))"
   ]
  },
  {
   "cell_type": "markdown",
   "metadata": {},
   "source": [
    "### The zfill() returns string left filled with zeroes for specified width"
   ]
  },
  {
   "cell_type": "code",
   "execution_count": 114,
   "metadata": {},
   "outputs": [
    {
     "name": "stdout",
     "output_type": "stream",
     "text": [
      "000000Python\n"
     ]
    }
   ],
   "source": [
    "print(mystring_2.zfill(12))"
   ]
  },
  {
   "cell_type": "markdown",
   "metadata": {},
   "source": [
    "# 28. Program for using functions on string"
   ]
  },
  {
   "cell_type": "code",
   "execution_count": 115,
   "metadata": {},
   "outputs": [],
   "source": [
    "mystring_3 = 'spyder is in Anaconda; jupyter is in Anaconda'"
   ]
  },
  {
   "cell_type": "markdown",
   "metadata": {},
   "source": [
    "### The split() splits the string on the basis of specified delimiter"
   ]
  },
  {
   "cell_type": "code",
   "execution_count": 118,
   "metadata": {},
   "outputs": [
    {
     "name": "stdout",
     "output_type": "stream",
     "text": [
      "Split string using semicolon:\n",
      " ['spyder is in Anaconda', ' jupyter is in Anaconda']\n"
     ]
    }
   ],
   "source": [
    "print(\"Split string using semicolon:\\n\",mystring_3.split(';'))"
   ]
  },
  {
   "cell_type": "markdown",
   "metadata": {},
   "source": [
    "### The join() joins the strings with the specified string"
   ]
  },
  {
   "cell_type": "code",
   "execution_count": 119,
   "metadata": {},
   "outputs": [
    {
     "name": "stdout",
     "output_type": "stream",
     "text": [
      "spyder is in Anaconda and \n",
      " jupyter is in Anaconda\n"
     ]
    }
   ],
   "source": [
    "print(\" and \\n\".join(mystring_3.split(';')))"
   ]
  },
  {
   "cell_type": "markdown",
   "metadata": {},
   "source": [
    "### The len() determines the length of the string"
   ]
  },
  {
   "cell_type": "code",
   "execution_count": 120,
   "metadata": {},
   "outputs": [
    {
     "name": "stdout",
     "output_type": "stream",
     "text": [
      "Length of the string is : 45\n"
     ]
    }
   ],
   "source": [
    "print(\"Length of the string is :\",len(mystring_3))"
   ]
  },
  {
   "cell_type": "markdown",
   "metadata": {},
   "source": [
    "### The 'in' returns true if string contains substring else return false"
   ]
  },
  {
   "cell_type": "code",
   "execution_count": 122,
   "metadata": {},
   "outputs": [
    {
     "name": "stdout",
     "output_type": "stream",
     "text": [
      "Is good present in the string: False\n",
      "Python\n"
     ]
    }
   ],
   "source": [
    "print('Is good present in the string:','good' in mystring_2)\n",
    "print(mystring_2)"
   ]
  },
  {
   "cell_type": "markdown",
   "metadata": {},
   "source": [
    "### The startswith() returns true if string starts with specified substring"
   ]
  },
  {
   "cell_type": "code",
   "execution_count": 123,
   "metadata": {},
   "outputs": [
    {
     "name": "stdout",
     "output_type": "stream",
     "text": [
      "Does string start with good : False\n"
     ]
    }
   ],
   "source": [
    "print('Does string start with good :',mystring_2.startswith('good'))"
   ]
  },
  {
   "cell_type": "markdown",
   "metadata": {},
   "source": [
    "### The endswith() returns true if string ends with specified substring"
   ]
  },
  {
   "cell_type": "code",
   "execution_count": 124,
   "metadata": {},
   "outputs": [
    {
     "name": "stdout",
     "output_type": "stream",
     "text": [
      "Does string ends with change : False\n"
     ]
    }
   ],
   "source": [
    "print('Does string ends with change :',mystring_3.endswith('change'))"
   ]
  },
  {
   "cell_type": "markdown",
   "metadata": {},
   "source": [
    "### The replace() replace all old substrings with new substrings"
   ]
  },
  {
   "cell_type": "code",
   "execution_count": 126,
   "metadata": {},
   "outputs": [
    {
     "name": "stdout",
     "output_type": "stream",
     "text": [
      "New String: spyder from Anaconda; jupyter from Anaconda\n",
      "spyder is in Anaconda; jupyter is in Anaconda\n"
     ]
    }
   ],
   "source": [
    "print('New String:',mystring_3.replace('is in','from'))\n",
    "print(mystring_3)"
   ]
  },
  {
   "cell_type": "markdown",
   "metadata": {},
   "source": [
    "### The count() counts non-overlapping occurance of specified substring"
   ]
  },
  {
   "cell_type": "code",
   "execution_count": 127,
   "metadata": {},
   "outputs": [
    {
     "name": "stdout",
     "output_type": "stream",
     "text": [
      "Number of times (i) occurred : 4\n"
     ]
    }
   ],
   "source": [
    "print(\"Number of times (i) occurred :\",mystring_3.count('i'))"
   ]
  },
  {
   "cell_type": "markdown",
   "metadata": {},
   "source": [
    "### The find() return index of first occurance; -1 if not found"
   ]
  },
  {
   "cell_type": "code",
   "execution_count": 128,
   "metadata": {},
   "outputs": [
    {
     "name": "stdout",
     "output_type": "stream",
     "text": [
      " First occurrance of (xy) is at index:  -1\n"
     ]
    }
   ],
   "source": [
    "print(\" First occurrance of (xy) is at index: \",mystring_3.find('xy'))"
   ]
  },
  {
   "cell_type": "markdown",
   "metadata": {},
   "source": [
    "### The rfind() return index of last occurrance; -1 if not found"
   ]
  },
  {
   "cell_type": "code",
   "execution_count": 129,
   "metadata": {},
   "outputs": [
    {
     "name": "stdout",
     "output_type": "stream",
     "text": [
      "Last occurrance of (in) is at index:  34\n"
     ]
    }
   ],
   "source": [
    "print(\"Last occurrance of (in) is at index: \",mystring_3.rfind('in'))"
   ]
  },
  {
   "cell_type": "markdown",
   "metadata": {},
   "source": [
    "### The index() return index of first occurrance; ValueError if not found"
   ]
  },
  {
   "cell_type": "code",
   "execution_count": 130,
   "metadata": {},
   "outputs": [
    {
     "name": "stdout",
     "output_type": "stream",
     "text": [
      "First occurrance of (in) is at index:  10\n"
     ]
    }
   ],
   "source": [
    "print(\"First occurrance of (in) is at index: \",mystring_3.index('in'))"
   ]
  },
  {
   "cell_type": "markdown",
   "metadata": {},
   "source": [
    "### The rindex() return index of last occurrance; ValueError if not found"
   ]
  },
  {
   "cell_type": "code",
   "execution_count": 131,
   "metadata": {},
   "outputs": [
    {
     "ename": "ValueError",
     "evalue": "substring not found",
     "output_type": "error",
     "traceback": [
      "\u001b[0;31m---------------------------------------------------------------------------\u001b[0m",
      "\u001b[0;31mValueError\u001b[0m                                Traceback (most recent call last)",
      "Cell \u001b[0;32mIn[131], line 1\u001b[0m\n\u001b[0;32m----> 1\u001b[0m \u001b[38;5;28mprint\u001b[39m(\u001b[38;5;124m\"\u001b[39m\u001b[38;5;124m Last occurrance of (xy) is at index: \u001b[39m\u001b[38;5;124m\"\u001b[39m,\u001b[43mmystring_3\u001b[49m\u001b[38;5;241;43m.\u001b[39;49m\u001b[43mrindex\u001b[49m\u001b[43m(\u001b[49m\u001b[38;5;124;43m'\u001b[39;49m\u001b[38;5;124;43mxy\u001b[39;49m\u001b[38;5;124;43m'\u001b[39;49m\u001b[43m)\u001b[49m)\n",
      "\u001b[0;31mValueError\u001b[0m: substring not found"
     ]
    }
   ],
   "source": [
    "print(\" Last occurrance of (xy) is at index: \",mystring_3.rindex('xy'))"
   ]
  },
  {
   "cell_type": "markdown",
   "metadata": {},
   "source": [
    "Regular Expression :\n",
    "- A regular expression is mainly useful for text processing and is a special sequence of characters that helps to match \n",
    "     or find other strings or sets of strings,using a specialized syntax held in a pattern.\n",
    "- Regular Expresssions are found from \"re\" module in python.\n",
    "-  The most common functions of regular expression are - findall(),match(),search() and sub().\n",
    "-  Syntax: re.sub(old_str,new_str,str)\n",
    "-  Syntax: re.match(p,str) - search for first position.\n",
    "-  Syntax: re.search(p,str) - search for entire string.\n",
    "-  Syntax: re.findall(p,str)\n",
    "-  p is character/group of characters/pattern\n",
    "-  str is the original string.\n",
    "-  re.search() to find the first match for a pattern. findall() finds *all* the matches and returns them as a list of strings, with each string representing one match."
   ]
  },
  {
   "cell_type": "markdown",
   "metadata": {},
   "source": [
    "# 29. Program to use functions from \"re\" module\n",
    "### Importing re module"
   ]
  },
  {
   "cell_type": "code",
   "execution_count": 132,
   "metadata": {},
   "outputs": [],
   "source": [
    "import re"
   ]
  },
  {
   "cell_type": "markdown",
   "metadata": {},
   "source": [
    "### Creating different strings"
   ]
  },
  {
   "cell_type": "code",
   "execution_count": 133,
   "metadata": {},
   "outputs": [
    {
     "name": "stdout",
     "output_type": "stream",
     "text": [
      "Original string is: Hi! Welcome to Python World!\n"
     ]
    }
   ],
   "source": [
    "mystring_4 = \"Hi! Welcome to Python World!\"\n",
    "print(\"Original string is:\",mystring_4)"
   ]
  },
  {
   "cell_type": "markdown",
   "metadata": {},
   "source": [
    "### Using sub() function"
   ]
  },
  {
   "cell_type": "code",
   "execution_count": 134,
   "metadata": {},
   "outputs": [
    {
     "name": "stdout",
     "output_type": "stream",
     "text": [
      "New string is: Good Morning Welcome to Python World!\n"
     ]
    }
   ],
   "source": [
    "mystring_5 = re.sub('Hi!','Good Morning',mystring_4)\n",
    "print(\"New string is:\",mystring_5)"
   ]
  },
  {
   "cell_type": "markdown",
   "metadata": {},
   "source": [
    "### Using match() function"
   ]
  },
  {
   "cell_type": "code",
   "execution_count": 136,
   "metadata": {},
   "outputs": [
    {
     "name": "stdout",
     "output_type": "stream",
     "text": [
      "<re.Match object; span=(0, 2), match='Go'>\n",
      "None\n"
     ]
    }
   ],
   "source": [
    "print(re.match('Go',mystring_5))\n",
    "print(re.match('Mo',mystring_5))\n"
   ]
  },
  {
   "cell_type": "markdown",
   "metadata": {},
   "source": [
    "### Using search() function"
   ]
  },
  {
   "cell_type": "code",
   "execution_count": 137,
   "metadata": {},
   "outputs": [
    {
     "name": "stdout",
     "output_type": "stream",
     "text": [
      "<re.Match object; span=(0, 2), match='Go'>\n",
      "<re.Match object; span=(5, 7), match='Mo'>\n"
     ]
    }
   ],
   "source": [
    "print(re.search('Go',mystring_5))\n",
    "print(re.search('Mo',mystring_5))\n",
    "\n"
   ]
  },
  {
   "cell_type": "markdown",
   "metadata": {},
   "source": [
    "# 30. Program to use search() and findall() functions from re module"
   ]
  },
  {
   "cell_type": "code",
   "execution_count": 2,
   "metadata": {},
   "outputs": [],
   "source": [
    "import re\n",
    "mystring_6 = \"Welcome!!! Dr.Sharma Dr.Kapoor Dr.Roy\""
   ]
  },
  {
   "cell_type": "markdown",
   "metadata": {},
   "source": [
    "### The * matches 0 or more occurances of preceding expression"
   ]
  },
  {
   "cell_type": "code",
   "execution_count": 4,
   "metadata": {},
   "outputs": [
    {
     "name": "stdout",
     "output_type": "stream",
     "text": [
      "['Dr.Sharma Dr.Kapoor Dr.Roy']\n"
     ]
    }
   ],
   "source": [
    "print(re.findall(r\"Dr.*\",mystring_6))"
   ]
  },
  {
   "cell_type": "markdown",
   "metadata": {},
   "source": [
    "### The + matches 1 or more occurrances of preceding expression"
   ]
  },
  {
   "cell_type": "code",
   "execution_count": 5,
   "metadata": {},
   "outputs": [
    {
     "name": "stdout",
     "output_type": "stream",
     "text": [
      "['Dr.Sharma Dr.Kapoor Dr.Roy']\n"
     ]
    }
   ],
   "source": [
    "print(re.findall(r\"Dr.+\",mystring_6))"
   ]
  },
  {
   "cell_type": "markdown",
   "metadata": {},
   "source": [
    "### The ? matches 0 or 1 occurrances of preceding expression"
   ]
  },
  {
   "cell_type": "code",
   "execution_count": 6,
   "metadata": {},
   "outputs": [
    {
     "name": "stdout",
     "output_type": "stream",
     "text": [
      "['Dr.', 'Dr.', 'Dr.']\n"
     ]
    }
   ],
   "source": [
    "print(re.findall(r\"Dr.?\",mystring_6))"
   ]
  },
  {
   "cell_type": "markdown",
   "metadata": {},
   "source": [
    "### The * matches 0 or more occurances of preceding expression"
   ]
  },
  {
   "cell_type": "code",
   "execution_count": 7,
   "metadata": {},
   "outputs": [
    {
     "name": "stdout",
     "output_type": "stream",
     "text": [
      "<re.Match object; span=(11, 37), match='Dr.Sharma Dr.Kapoor Dr.Roy'>\n"
     ]
    }
   ],
   "source": [
    "print(re.search(r\"Dr.*\",mystring_6))"
   ]
  },
  {
   "cell_type": "markdown",
   "metadata": {},
   "source": [
    "### The + matches 1 or more occurrances of preceding expression"
   ]
  },
  {
   "cell_type": "code",
   "execution_count": 8,
   "metadata": {},
   "outputs": [
    {
     "name": "stdout",
     "output_type": "stream",
     "text": [
      "<re.Match object; span=(11, 37), match='Dr.Sharma Dr.Kapoor Dr.Roy'>\n"
     ]
    }
   ],
   "source": [
    "print(re.search(r\"Dr.+\",mystring_6))"
   ]
  },
  {
   "cell_type": "markdown",
   "metadata": {},
   "source": [
    "### The ? matches 0 or 1 occurrances of preceding expression"
   ]
  },
  {
   "cell_type": "code",
   "execution_count": 9,
   "metadata": {},
   "outputs": [
    {
     "name": "stdout",
     "output_type": "stream",
     "text": [
      "<re.Match object; span=(11, 14), match='Dr.'>\n"
     ]
    }
   ],
   "source": [
    "print(re.search(r\"Dr.?\",mystring_6))"
   ]
  },
  {
   "cell_type": "markdown",
   "metadata": {},
   "source": [
    "### The {n} matches n or more occurrances of preceding expression"
   ]
  },
  {
   "cell_type": "code",
   "execution_count": 14,
   "metadata": {},
   "outputs": [
    {
     "name": "stdout",
     "output_type": "stream",
     "text": [
      "<re.Match object; span=(27, 29), match='oo'>\n"
     ]
    }
   ],
   "source": [
    "print(re.search(r\"o{2}\",mystring_6))"
   ]
  },
  {
   "cell_type": "markdown",
   "metadata": {},
   "source": [
    "### The {n,m} matches at least n or at most m occurrances of expression"
   ]
  },
  {
   "cell_type": "code",
   "execution_count": 15,
   "metadata": {},
   "outputs": [
    {
     "name": "stdout",
     "output_type": "stream",
     "text": [
      "<re.Match object; span=(27, 29), match='oo'>\n"
     ]
    }
   ],
   "source": [
    "print(re.search(r\"o{2,3}\",mystring_6))"
   ]
  },
  {
   "cell_type": "markdown",
   "metadata": {},
   "source": [
    "### The ^ matches begining of line"
   ]
  },
  {
   "cell_type": "code",
   "execution_count": 21,
   "metadata": {},
   "outputs": [
    {
     "name": "stdout",
     "output_type": "stream",
     "text": [
      "None\n",
      "<re.Match object; span=(0, 7), match='Welcome'>\n",
      "None\n"
     ]
    }
   ],
   "source": [
    "print(re.search(r\"^welcome\",mystring_6))\n",
    "print(re.search(r\"^Welcome\",mystring_6))\n",
    "print(re.search(r\"^Roy\",mystring_6))\n"
   ]
  },
  {
   "cell_type": "markdown",
   "metadata": {},
   "source": [
    "### The $ matches end of line"
   ]
  },
  {
   "cell_type": "code",
   "execution_count": 25,
   "metadata": {},
   "outputs": [
    {
     "name": "stdout",
     "output_type": "stream",
     "text": [
      "Welcome!!! Dr.Sharma Dr.Kapoor Dr.Roy\n",
      "<re.Match object; span=(34, 37), match='Roy'>\n",
      "None\n"
     ]
    }
   ],
   "source": [
    "print(mystring_6)\n",
    "print(re.search(r\"Roy$\",mystring_6))\n",
    "print(re.search(r\"roy$\",mystring_6))\n"
   ]
  },
  {
   "cell_type": "markdown",
   "metadata": {},
   "source": [
    "### The | matches either of two letters"
   ]
  },
  {
   "cell_type": "code",
   "execution_count": 27,
   "metadata": {},
   "outputs": [
    {
     "name": "stdout",
     "output_type": "stream",
     "text": [
      "<re.Match object; span=(14, 20), match='Sharma'>\n",
      "<re.Match object; span=(0, 7), match='Welcome'>\n"
     ]
    }
   ],
   "source": [
    "print(re.search(r\"Sharma|Kapoor|Roy\",mystring_6))\n",
    "print(re.search(r\"Dr.|Welcome\",mystring_6))"
   ]
  },
  {
   "cell_type": "markdown",
   "metadata": {},
   "source": [
    "### The [] helps to match any single character in brackets"
   ]
  },
  {
   "cell_type": "code",
   "execution_count": 28,
   "metadata": {},
   "outputs": [
    {
     "name": "stdout",
     "output_type": "stream",
     "text": [
      "<re.Match object; span=(14, 15), match='S'>\n",
      "['S', 'K', 'R']\n"
     ]
    }
   ],
   "source": [
    "print(re.search(r\"[SKR]\",mystring_6))\n",
    "print(re.findall(r\"[SKR]\",mystring_6))"
   ]
  },
  {
   "cell_type": "markdown",
   "metadata": {},
   "source": [
    "### Range of letters in square bracket help to select 1 letter from range"
   ]
  },
  {
   "cell_type": "code",
   "execution_count": 29,
   "metadata": {},
   "outputs": [
    {
     "name": "stdout",
     "output_type": "stream",
     "text": [
      "<re.Match object; span=(0, 1), match='W'>\n",
      "['W']\n"
     ]
    }
   ],
   "source": [
    "print(re.search(r\"[W-Z]\",mystring_6))\n",
    "print(re.findall(r\"[W-Z]\",mystring_6))"
   ]
  },
  {
   "cell_type": "markdown",
   "metadata": {},
   "source": [
    "### The ^ sign in square bracket matches any character not in brackets"
   ]
  },
  {
   "cell_type": "code",
   "execution_count": 31,
   "metadata": {},
   "outputs": [
    {
     "name": "stdout",
     "output_type": "stream",
     "text": [
      "<re.Match object; span=(0, 1), match='W'>\n",
      "['W', '!', '!', '!', ' ', '.', ' ', '.', ' ', '.', 'y']\n"
     ]
    }
   ],
   "source": [
    "print(re.search(r\"[^A-Ua-u]\",mystring_6))\n",
    "print(re.findall(r\"[^A-Ua-u]\",mystring_6))"
   ]
  },
  {
   "cell_type": "markdown",
   "metadata": {},
   "source": [
    "### The \\w matches alphanumeric charcters and + matches group"
   ]
  },
  {
   "cell_type": "code",
   "execution_count": 32,
   "metadata": {},
   "outputs": [
    {
     "name": "stdout",
     "output_type": "stream",
     "text": [
      "<re.Match object; span=(0, 7), match='Welcome'>\n",
      "<re.Match object; span=(0, 10), match='Welcome!!!'>\n",
      "<re.Match object; span=(0, 8), match='Welcome!'>\n"
     ]
    }
   ],
   "source": [
    "print(re.search(r\"\\w+\",mystring_6))\n",
    "print(re.search(r\"[\\w\\!]+\",mystring_6))\n",
    "print(re.search(r\"\\w+\\!\",mystring_6))"
   ]
  },
  {
   "cell_type": "markdown",
   "metadata": {},
   "source": [
    "### The \\W matches non-word charcters"
   ]
  },
  {
   "cell_type": "code",
   "execution_count": 33,
   "metadata": {},
   "outputs": [
    {
     "name": "stdout",
     "output_type": "stream",
     "text": [
      "<re.Match object; span=(7, 11), match='!!! '>\n",
      "<re.Match object; span=(10, 12), match=' D'>\n",
      "<re.Match object; span=(10, 13), match=' Dr'>\n"
     ]
    }
   ],
   "source": [
    "print(re.search(r\"\\W+\",mystring_6))\n",
    "print(re.search(r\"(\\W\\w)\",mystring_6))\n",
    "print(re.search(r\"(\\W\\w+)\",mystring_6))"
   ]
  },
  {
   "cell_type": "markdown",
   "metadata": {},
   "source": [
    "### The pattern formed by specific letter and alphanumeric characters"
   ]
  },
  {
   "cell_type": "code",
   "execution_count": 34,
   "metadata": {},
   "outputs": [
    {
     "name": "stdout",
     "output_type": "stream",
     "text": [
      "<re.Match object; span=(11, 20), match='Dr.Sharma'>\n",
      "['Dr.Sharma', 'Dr.Kapoor', 'Dr.Roy']\n"
     ]
    }
   ],
   "source": [
    "print(re.search(r\"(Dr.\\w+)\",mystring_6))\n",
    "print(re.findall(r\"(Dr.\\w+)\",mystring_6))"
   ]
  },
  {
   "cell_type": "markdown",
   "metadata": {},
   "source": [
    "### The . matches any single charcter except new line"
   ]
  },
  {
   "cell_type": "code",
   "execution_count": 35,
   "metadata": {},
   "outputs": [
    {
     "name": "stdout",
     "output_type": "stream",
     "text": [
      "<re.Match object; span=(0, 1), match='W'>\n"
     ]
    }
   ],
   "source": [
    "print(re.search(r\"(.)\",mystring_6))"
   ]
  },
  {
   "cell_type": "markdown",
   "metadata": {},
   "source": [
    "### The .m matches newline also"
   ]
  },
  {
   "cell_type": "code",
   "execution_count": 36,
   "metadata": {},
   "outputs": [
    {
     "name": "stdout",
     "output_type": "stream",
     "text": [
      "<re.Match object; span=(4, 6), match='om'>\n"
     ]
    }
   ],
   "source": [
    "print(re.search(r\"(.m)\",mystring_6))"
   ]
  },
  {
   "cell_type": "markdown",
   "metadata": {},
   "source": [
    "### The \\W matches non-word characters"
   ]
  },
  {
   "cell_type": "code",
   "execution_count": 37,
   "metadata": {},
   "outputs": [
    {
     "name": "stdout",
     "output_type": "stream",
     "text": [
      "['Welcome', '', '', '', 'Dr', 'Sharma', 'Dr', 'Kapoor', 'Dr', 'Roy']\n",
      "['Welcome!!! ', 'Sharma ', 'Kapoor ', 'Roy']\n"
     ]
    }
   ],
   "source": [
    "print(re.split(r\"\\W\",mystring_6))\n",
    "print(re.split(r\"Dr.\",mystring_6))"
   ]
  },
  {
   "cell_type": "markdown",
   "metadata": {},
   "source": [
    "### The use of multiline flags through regular expression"
   ]
  },
  {
   "cell_type": "code",
   "execution_count": 38,
   "metadata": {},
   "outputs": [
    {
     "name": "stdout",
     "output_type": "stream",
     "text": [
      "['W']\n",
      "['W', 'P', 'W']\n"
     ]
    }
   ],
   "source": [
    "import re\n",
    "mystring_7 = \"\"\"Welcome to \n",
    "Python \n",
    "World\"\"\"\n",
    "print(re.findall(r\"^\\w\",mystring_7))\n",
    "print(re.findall(r\"^\\w\",mystring_7,re.MULTILINE))"
   ]
  },
  {
   "cell_type": "markdown",
   "metadata": {},
   "source": [
    "### Using Serach function"
   ]
  },
  {
   "cell_type": "code",
   "execution_count": 40,
   "metadata": {},
   "outputs": [
    {
     "name": "stdout",
     "output_type": "stream",
     "text": [
      "Searching \"France\" in \"India\"....\n",
      "The country is not present in list\n",
      "Searching \"France\" in \"France\"....\n",
      "The country is present in list\n",
      "Searching \"France\" in \"China\"....\n",
      "The country is not present in list\n",
      "Searching \"France\" in \"Pakistan\"....\n",
      "The country is not present in list\n",
      "Searching \"France\" in \"Bangladesh\"....\n",
      "The country is not present in list\n",
      "Searching \"France\" in \"Srilanka\"....\n",
      "The country is not present in list\n"
     ]
    }
   ],
   "source": [
    "countrieslist = [\"India\",\"France\",\"China\",\"Pakistan\",\"Bangladesh\",\"Srilanka\"]\n",
    "mystring= \"France\"\n",
    "\n",
    "for country in countrieslist:\n",
    "    print('Searching \"%s\" in \"%s\"....' %(mystring,country))\n",
    "    if re.search(mystring,country):\n",
    "        print(\"The country is present in list\")\n",
    "    else:\n",
    "        print(\"The country is not present in list\")\n"
   ]
  },
  {
   "cell_type": "markdown",
   "metadata": {},
   "source": [
    "# 31. Program to print e-mail address from the  given strings"
   ]
  },
  {
   "cell_type": "code",
   "execution_count": 41,
   "metadata": {},
   "outputs": [
    {
     "name": "stdout",
     "output_type": "stream",
     "text": [
      "The correct e-mail addresses in the string are:\n",
      "123@google.com\n",
      "abc.123@hotmail.com\n",
      "abc_123@yahoomail.com\n"
     ]
    }
   ],
   "source": [
    "mystring_email = 'abc-123@google.com,abc.123,abc.123@hotmail.com,abc_123,abc_123@yahoomail.com'\n",
    "\n",
    "emails= re.findall(r\"[\\w\\.-_]+@[\\w\\.-_]+\",mystring_email)\n",
    "print(\"The correct e-mail addresses in the string are:\")\n",
    "for email in emails:\n",
    "    print(email)"
   ]
  },
  {
   "cell_type": "markdown",
   "metadata": {},
   "source": [
    "# Data Management"
   ]
  },
  {
   "cell_type": "code",
   "execution_count": 1,
   "metadata": {},
   "outputs": [],
   "source": [
    "import pandas as pd"
   ]
  },
  {
   "cell_type": "code",
   "execution_count": 2,
   "metadata": {},
   "outputs": [
    {
     "data": {
      "text/plain": [
       "'2.2.2'"
      ]
     },
     "execution_count": 2,
     "metadata": {},
     "output_type": "execute_result"
    }
   ],
   "source": [
    "pd.__version__"
   ]
  },
  {
   "cell_type": "code",
   "execution_count": 3,
   "metadata": {},
   "outputs": [
    {
     "name": "stdout",
     "output_type": "stream",
     "text": [
      "The current working directory is:  /Users/hackthebox/Downloads/Machine_Learning_for_Text_And_Image_Data_Analysis/introduction_to_text_image_data_analysis/Basics_of_Python\n"
     ]
    }
   ],
   "source": [
    "import os\n",
    "print(\"The current working directory is: \",os.getcwd())\n",
    "# os.chdir() -> change the directory"
   ]
  },
  {
   "cell_type": "markdown",
   "metadata": {},
   "source": [
    "# 32. Program to determine charcteristics of an existing dataset"
   ]
  },
  {
   "cell_type": "code",
   "execution_count": 4,
   "metadata": {},
   "outputs": [],
   "source": [
    "import pandas as pd"
   ]
  },
  {
   "cell_type": "markdown",
   "metadata": {},
   "source": [
    "### Importing \"csv\" file and storing in DataFrame"
   ]
  },
  {
   "cell_type": "code",
   "execution_count": 5,
   "metadata": {},
   "outputs": [],
   "source": [
    "data = pd.read_csv(\"/Users/hackthebox/Downloads/Machine_Learning_for_Text_And_Image_Data_Analysis/introduction_to_text_image_data_analysis/Basics_of_Python/IBM_HR-Employee-Attrition.csv\")"
   ]
  },
  {
   "cell_type": "code",
   "execution_count": 6,
   "metadata": {},
   "outputs": [
    {
     "data": {
      "text/html": [
       "<div>\n",
       "<style scoped>\n",
       "    .dataframe tbody tr th:only-of-type {\n",
       "        vertical-align: middle;\n",
       "    }\n",
       "\n",
       "    .dataframe tbody tr th {\n",
       "        vertical-align: top;\n",
       "    }\n",
       "\n",
       "    .dataframe thead th {\n",
       "        text-align: right;\n",
       "    }\n",
       "</style>\n",
       "<table border=\"1\" class=\"dataframe\">\n",
       "  <thead>\n",
       "    <tr style=\"text-align: right;\">\n",
       "      <th></th>\n",
       "      <th>Age</th>\n",
       "      <th>Attrition</th>\n",
       "      <th>BusinessTravel</th>\n",
       "      <th>DailyRate</th>\n",
       "      <th>Department</th>\n",
       "      <th>DistanceFromHome</th>\n",
       "      <th>Education</th>\n",
       "      <th>EducationField</th>\n",
       "      <th>EmployeeCount</th>\n",
       "      <th>EmployeeNumber</th>\n",
       "      <th>...</th>\n",
       "      <th>RelationshipSatisfaction</th>\n",
       "      <th>StandardHours</th>\n",
       "      <th>StockOptionLevel</th>\n",
       "      <th>TotalWorkingYears</th>\n",
       "      <th>TrainingTimesLastYear</th>\n",
       "      <th>WorkLifeBalance</th>\n",
       "      <th>YearsAtCompany</th>\n",
       "      <th>YearsInCurrentRole</th>\n",
       "      <th>YearsSinceLastPromotion</th>\n",
       "      <th>YearsWithCurrManager</th>\n",
       "    </tr>\n",
       "  </thead>\n",
       "  <tbody>\n",
       "    <tr>\n",
       "      <th>0</th>\n",
       "      <td>41</td>\n",
       "      <td>Yes</td>\n",
       "      <td>Travel_Rarely</td>\n",
       "      <td>1102</td>\n",
       "      <td>Sales</td>\n",
       "      <td>1</td>\n",
       "      <td>2</td>\n",
       "      <td>Life Sciences</td>\n",
       "      <td>1</td>\n",
       "      <td>1</td>\n",
       "      <td>...</td>\n",
       "      <td>1</td>\n",
       "      <td>80</td>\n",
       "      <td>0</td>\n",
       "      <td>8</td>\n",
       "      <td>0</td>\n",
       "      <td>1</td>\n",
       "      <td>6</td>\n",
       "      <td>4</td>\n",
       "      <td>0</td>\n",
       "      <td>5</td>\n",
       "    </tr>\n",
       "    <tr>\n",
       "      <th>1</th>\n",
       "      <td>49</td>\n",
       "      <td>No</td>\n",
       "      <td>Travel_Frequently</td>\n",
       "      <td>279</td>\n",
       "      <td>Research &amp; Development</td>\n",
       "      <td>8</td>\n",
       "      <td>1</td>\n",
       "      <td>Life Sciences</td>\n",
       "      <td>1</td>\n",
       "      <td>2</td>\n",
       "      <td>...</td>\n",
       "      <td>4</td>\n",
       "      <td>80</td>\n",
       "      <td>1</td>\n",
       "      <td>10</td>\n",
       "      <td>3</td>\n",
       "      <td>3</td>\n",
       "      <td>10</td>\n",
       "      <td>7</td>\n",
       "      <td>1</td>\n",
       "      <td>7</td>\n",
       "    </tr>\n",
       "    <tr>\n",
       "      <th>2</th>\n",
       "      <td>37</td>\n",
       "      <td>Yes</td>\n",
       "      <td>Travel_Rarely</td>\n",
       "      <td>1373</td>\n",
       "      <td>Research &amp; Development</td>\n",
       "      <td>2</td>\n",
       "      <td>2</td>\n",
       "      <td>Other</td>\n",
       "      <td>1</td>\n",
       "      <td>4</td>\n",
       "      <td>...</td>\n",
       "      <td>2</td>\n",
       "      <td>80</td>\n",
       "      <td>0</td>\n",
       "      <td>7</td>\n",
       "      <td>3</td>\n",
       "      <td>3</td>\n",
       "      <td>0</td>\n",
       "      <td>0</td>\n",
       "      <td>0</td>\n",
       "      <td>0</td>\n",
       "    </tr>\n",
       "    <tr>\n",
       "      <th>3</th>\n",
       "      <td>33</td>\n",
       "      <td>No</td>\n",
       "      <td>Travel_Frequently</td>\n",
       "      <td>1392</td>\n",
       "      <td>Research &amp; Development</td>\n",
       "      <td>3</td>\n",
       "      <td>4</td>\n",
       "      <td>Life Sciences</td>\n",
       "      <td>1</td>\n",
       "      <td>5</td>\n",
       "      <td>...</td>\n",
       "      <td>3</td>\n",
       "      <td>80</td>\n",
       "      <td>0</td>\n",
       "      <td>8</td>\n",
       "      <td>3</td>\n",
       "      <td>3</td>\n",
       "      <td>8</td>\n",
       "      <td>7</td>\n",
       "      <td>3</td>\n",
       "      <td>0</td>\n",
       "    </tr>\n",
       "    <tr>\n",
       "      <th>4</th>\n",
       "      <td>27</td>\n",
       "      <td>No</td>\n",
       "      <td>Travel_Rarely</td>\n",
       "      <td>591</td>\n",
       "      <td>Research &amp; Development</td>\n",
       "      <td>2</td>\n",
       "      <td>1</td>\n",
       "      <td>Medical</td>\n",
       "      <td>1</td>\n",
       "      <td>7</td>\n",
       "      <td>...</td>\n",
       "      <td>4</td>\n",
       "      <td>80</td>\n",
       "      <td>1</td>\n",
       "      <td>6</td>\n",
       "      <td>3</td>\n",
       "      <td>3</td>\n",
       "      <td>2</td>\n",
       "      <td>2</td>\n",
       "      <td>2</td>\n",
       "      <td>2</td>\n",
       "    </tr>\n",
       "  </tbody>\n",
       "</table>\n",
       "<p>5 rows × 35 columns</p>\n",
       "</div>"
      ],
      "text/plain": [
       "   Age Attrition     BusinessTravel  DailyRate              Department  \\\n",
       "0   41       Yes      Travel_Rarely       1102                   Sales   \n",
       "1   49        No  Travel_Frequently        279  Research & Development   \n",
       "2   37       Yes      Travel_Rarely       1373  Research & Development   \n",
       "3   33        No  Travel_Frequently       1392  Research & Development   \n",
       "4   27        No      Travel_Rarely        591  Research & Development   \n",
       "\n",
       "   DistanceFromHome  Education EducationField  EmployeeCount  EmployeeNumber  \\\n",
       "0                 1          2  Life Sciences              1               1   \n",
       "1                 8          1  Life Sciences              1               2   \n",
       "2                 2          2          Other              1               4   \n",
       "3                 3          4  Life Sciences              1               5   \n",
       "4                 2          1        Medical              1               7   \n",
       "\n",
       "   ...  RelationshipSatisfaction StandardHours  StockOptionLevel  \\\n",
       "0  ...                         1            80                 0   \n",
       "1  ...                         4            80                 1   \n",
       "2  ...                         2            80                 0   \n",
       "3  ...                         3            80                 0   \n",
       "4  ...                         4            80                 1   \n",
       "\n",
       "   TotalWorkingYears  TrainingTimesLastYear WorkLifeBalance  YearsAtCompany  \\\n",
       "0                  8                      0               1               6   \n",
       "1                 10                      3               3              10   \n",
       "2                  7                      3               3               0   \n",
       "3                  8                      3               3               8   \n",
       "4                  6                      3               3               2   \n",
       "\n",
       "  YearsInCurrentRole  YearsSinceLastPromotion  YearsWithCurrManager  \n",
       "0                  4                        0                     5  \n",
       "1                  7                        1                     7  \n",
       "2                  0                        0                     0  \n",
       "3                  7                        3                     0  \n",
       "4                  2                        2                     2  \n",
       "\n",
       "[5 rows x 35 columns]"
      ]
     },
     "execution_count": 6,
     "metadata": {},
     "output_type": "execute_result"
    }
   ],
   "source": [
    "data.head()"
   ]
  },
  {
   "cell_type": "markdown",
   "metadata": {},
   "source": [
    "### Determining Dimension,size and columns of the dataset"
   ]
  },
  {
   "cell_type": "code",
   "execution_count": 7,
   "metadata": {},
   "outputs": [
    {
     "name": "stdout",
     "output_type": "stream",
     "text": [
      "The dimension of the dataset is: (1470, 35)\n",
      "The size of the dataset is: 51450\n",
      "The columns in the dataset is: Index(['Age', 'Attrition', 'BusinessTravel', 'DailyRate', 'Department',\n",
      "       'DistanceFromHome', 'Education', 'EducationField', 'EmployeeCount',\n",
      "       'EmployeeNumber', 'EnvironmentSatisfaction', 'Gender', 'HourlyRate',\n",
      "       'JobInvolvement', 'JobLevel', 'JobRole', 'JobSatisfaction',\n",
      "       'MaritalStatus', 'MonthlyIncome', 'MonthlyRate', 'NumCompaniesWorked',\n",
      "       'Over18', 'OverTime', 'PercentSalaryHike', 'PerformanceRating',\n",
      "       'RelationshipSatisfaction', 'StandardHours', 'StockOptionLevel',\n",
      "       'TotalWorkingYears', 'TrainingTimesLastYear', 'WorkLifeBalance',\n",
      "       'YearsAtCompany', 'YearsInCurrentRole', 'YearsSinceLastPromotion',\n",
      "       'YearsWithCurrManager'],\n",
      "      dtype='object')\n"
     ]
    }
   ],
   "source": [
    "print(\"The dimension of the dataset is:\",data.shape)\n",
    "print(\"The size of the dataset is:\",data.size)\n",
    "print(\"The columns in the dataset is:\",data.columns)\n"
   ]
  },
  {
   "cell_type": "markdown",
   "metadata": {},
   "source": [
    "### Displaying the information of the dataset using info() function"
   ]
  },
  {
   "cell_type": "code",
   "execution_count": 8,
   "metadata": {},
   "outputs": [
    {
     "name": "stdout",
     "output_type": "stream",
     "text": [
      "<class 'pandas.core.frame.DataFrame'>\n",
      "RangeIndex: 1470 entries, 0 to 1469\n",
      "Data columns (total 35 columns):\n",
      " #   Column                    Non-Null Count  Dtype \n",
      "---  ------                    --------------  ----- \n",
      " 0   Age                       1470 non-null   int64 \n",
      " 1   Attrition                 1470 non-null   object\n",
      " 2   BusinessTravel            1470 non-null   object\n",
      " 3   DailyRate                 1470 non-null   int64 \n",
      " 4   Department                1470 non-null   object\n",
      " 5   DistanceFromHome          1470 non-null   int64 \n",
      " 6   Education                 1470 non-null   int64 \n",
      " 7   EducationField            1470 non-null   object\n",
      " 8   EmployeeCount             1470 non-null   int64 \n",
      " 9   EmployeeNumber            1470 non-null   int64 \n",
      " 10  EnvironmentSatisfaction   1470 non-null   int64 \n",
      " 11  Gender                    1470 non-null   object\n",
      " 12  HourlyRate                1470 non-null   int64 \n",
      " 13  JobInvolvement            1470 non-null   int64 \n",
      " 14  JobLevel                  1470 non-null   int64 \n",
      " 15  JobRole                   1470 non-null   object\n",
      " 16  JobSatisfaction           1470 non-null   int64 \n",
      " 17  MaritalStatus             1470 non-null   object\n",
      " 18  MonthlyIncome             1470 non-null   int64 \n",
      " 19  MonthlyRate               1470 non-null   int64 \n",
      " 20  NumCompaniesWorked        1470 non-null   int64 \n",
      " 21  Over18                    1470 non-null   object\n",
      " 22  OverTime                  1470 non-null   object\n",
      " 23  PercentSalaryHike         1470 non-null   int64 \n",
      " 24  PerformanceRating         1470 non-null   int64 \n",
      " 25  RelationshipSatisfaction  1470 non-null   int64 \n",
      " 26  StandardHours             1470 non-null   int64 \n",
      " 27  StockOptionLevel          1470 non-null   int64 \n",
      " 28  TotalWorkingYears         1470 non-null   int64 \n",
      " 29  TrainingTimesLastYear     1470 non-null   int64 \n",
      " 30  WorkLifeBalance           1470 non-null   int64 \n",
      " 31  YearsAtCompany            1470 non-null   int64 \n",
      " 32  YearsInCurrentRole        1470 non-null   int64 \n",
      " 33  YearsSinceLastPromotion   1470 non-null   int64 \n",
      " 34  YearsWithCurrManager      1470 non-null   int64 \n",
      "dtypes: int64(26), object(9)\n",
      "memory usage: 402.1+ KB\n",
      "The information of the dataset is: \n",
      " None\n"
     ]
    }
   ],
   "source": [
    "print(\"The information of the dataset is: \\n\",data.info())"
   ]
  },
  {
   "cell_type": "markdown",
   "metadata": {},
   "source": [
    "### Dispalying details of continuous variables using describe() function"
   ]
  },
  {
   "cell_type": "code",
   "execution_count": 9,
   "metadata": {},
   "outputs": [
    {
     "name": "stdout",
     "output_type": "stream",
     "text": [
      "The description of the dataset is: \n",
      "                Age    DailyRate  DistanceFromHome    Education  EmployeeCount  \\\n",
      "count  1470.000000  1470.000000       1470.000000  1470.000000         1470.0   \n",
      "mean     36.923810   802.485714          9.192517     2.912925            1.0   \n",
      "std       9.135373   403.509100          8.106864     1.024165            0.0   \n",
      "min      18.000000   102.000000          1.000000     1.000000            1.0   \n",
      "25%      30.000000   465.000000          2.000000     2.000000            1.0   \n",
      "50%      36.000000   802.000000          7.000000     3.000000            1.0   \n",
      "75%      43.000000  1157.000000         14.000000     4.000000            1.0   \n",
      "max      60.000000  1499.000000         29.000000     5.000000            1.0   \n",
      "\n",
      "       EmployeeNumber  EnvironmentSatisfaction   HourlyRate  JobInvolvement  \\\n",
      "count     1470.000000              1470.000000  1470.000000     1470.000000   \n",
      "mean      1024.865306                 2.721769    65.891156        2.729932   \n",
      "std        602.024335                 1.093082    20.329428        0.711561   \n",
      "min          1.000000                 1.000000    30.000000        1.000000   \n",
      "25%        491.250000                 2.000000    48.000000        2.000000   \n",
      "50%       1020.500000                 3.000000    66.000000        3.000000   \n",
      "75%       1555.750000                 4.000000    83.750000        3.000000   \n",
      "max       2068.000000                 4.000000   100.000000        4.000000   \n",
      "\n",
      "          JobLevel  ...  RelationshipSatisfaction  StandardHours  \\\n",
      "count  1470.000000  ...               1470.000000         1470.0   \n",
      "mean      2.063946  ...                  2.712245           80.0   \n",
      "std       1.106940  ...                  1.081209            0.0   \n",
      "min       1.000000  ...                  1.000000           80.0   \n",
      "25%       1.000000  ...                  2.000000           80.0   \n",
      "50%       2.000000  ...                  3.000000           80.0   \n",
      "75%       3.000000  ...                  4.000000           80.0   \n",
      "max       5.000000  ...                  4.000000           80.0   \n",
      "\n",
      "       StockOptionLevel  TotalWorkingYears  TrainingTimesLastYear  \\\n",
      "count       1470.000000        1470.000000            1470.000000   \n",
      "mean           0.793878          11.279592               2.799320   \n",
      "std            0.852077           7.780782               1.289271   \n",
      "min            0.000000           0.000000               0.000000   \n",
      "25%            0.000000           6.000000               2.000000   \n",
      "50%            1.000000          10.000000               3.000000   \n",
      "75%            1.000000          15.000000               3.000000   \n",
      "max            3.000000          40.000000               6.000000   \n",
      "\n",
      "       WorkLifeBalance  YearsAtCompany  YearsInCurrentRole  \\\n",
      "count      1470.000000     1470.000000         1470.000000   \n",
      "mean          2.761224        7.008163            4.229252   \n",
      "std           0.706476        6.126525            3.623137   \n",
      "min           1.000000        0.000000            0.000000   \n",
      "25%           2.000000        3.000000            2.000000   \n",
      "50%           3.000000        5.000000            3.000000   \n",
      "75%           3.000000        9.000000            7.000000   \n",
      "max           4.000000       40.000000           18.000000   \n",
      "\n",
      "       YearsSinceLastPromotion  YearsWithCurrManager  \n",
      "count              1470.000000           1470.000000  \n",
      "mean                  2.187755              4.123129  \n",
      "std                   3.222430              3.568136  \n",
      "min                   0.000000              0.000000  \n",
      "25%                   0.000000              2.000000  \n",
      "50%                   1.000000              3.000000  \n",
      "75%                   3.000000              7.000000  \n",
      "max                  15.000000             17.000000  \n",
      "\n",
      "[8 rows x 26 columns]\n"
     ]
    }
   ],
   "source": [
    "print(\"The description of the dataset is: \\n\",data.describe())"
   ]
  },
  {
   "cell_type": "markdown",
   "metadata": {},
   "source": [
    "### Displaying records from dataset using head() and tail() function"
   ]
  },
  {
   "cell_type": "code",
   "execution_count": 10,
   "metadata": {},
   "outputs": [
    {
     "name": "stdout",
     "output_type": "stream",
     "text": [
      "The first five records are: \n",
      "    Age Attrition     BusinessTravel  DailyRate              Department  \\\n",
      "0   41       Yes      Travel_Rarely       1102                   Sales   \n",
      "1   49        No  Travel_Frequently        279  Research & Development   \n",
      "2   37       Yes      Travel_Rarely       1373  Research & Development   \n",
      "3   33        No  Travel_Frequently       1392  Research & Development   \n",
      "4   27        No      Travel_Rarely        591  Research & Development   \n",
      "\n",
      "   DistanceFromHome  Education EducationField  EmployeeCount  EmployeeNumber  \\\n",
      "0                 1          2  Life Sciences              1               1   \n",
      "1                 8          1  Life Sciences              1               2   \n",
      "2                 2          2          Other              1               4   \n",
      "3                 3          4  Life Sciences              1               5   \n",
      "4                 2          1        Medical              1               7   \n",
      "\n",
      "   ...  RelationshipSatisfaction StandardHours  StockOptionLevel  \\\n",
      "0  ...                         1            80                 0   \n",
      "1  ...                         4            80                 1   \n",
      "2  ...                         2            80                 0   \n",
      "3  ...                         3            80                 0   \n",
      "4  ...                         4            80                 1   \n",
      "\n",
      "   TotalWorkingYears  TrainingTimesLastYear WorkLifeBalance  YearsAtCompany  \\\n",
      "0                  8                      0               1               6   \n",
      "1                 10                      3               3              10   \n",
      "2                  7                      3               3               0   \n",
      "3                  8                      3               3               8   \n",
      "4                  6                      3               3               2   \n",
      "\n",
      "  YearsInCurrentRole  YearsSinceLastPromotion  YearsWithCurrManager  \n",
      "0                  4                        0                     5  \n",
      "1                  7                        1                     7  \n",
      "2                  0                        0                     0  \n",
      "3                  7                        3                     0  \n",
      "4                  2                        2                     2  \n",
      "\n",
      "[5 rows x 35 columns]\n"
     ]
    }
   ],
   "source": [
    "print(\"The first five records are: \\n\",data.head())"
   ]
  },
  {
   "cell_type": "code",
   "execution_count": 11,
   "metadata": {},
   "outputs": [
    {
     "name": "stdout",
     "output_type": "stream",
     "text": [
      "The last five records are: \n",
      "       Age Attrition     BusinessTravel  DailyRate              Department  \\\n",
      "1465   36        No  Travel_Frequently        884  Research & Development   \n",
      "1466   39        No      Travel_Rarely        613  Research & Development   \n",
      "1467   27        No      Travel_Rarely        155  Research & Development   \n",
      "1468   49        No  Travel_Frequently       1023                   Sales   \n",
      "1469   34        No      Travel_Rarely        628  Research & Development   \n",
      "\n",
      "      DistanceFromHome  Education EducationField  EmployeeCount  \\\n",
      "1465                23          2        Medical              1   \n",
      "1466                 6          1        Medical              1   \n",
      "1467                 4          3  Life Sciences              1   \n",
      "1468                 2          3        Medical              1   \n",
      "1469                 8          3        Medical              1   \n",
      "\n",
      "      EmployeeNumber  ...  RelationshipSatisfaction StandardHours  \\\n",
      "1465            2061  ...                         3            80   \n",
      "1466            2062  ...                         1            80   \n",
      "1467            2064  ...                         2            80   \n",
      "1468            2065  ...                         4            80   \n",
      "1469            2068  ...                         1            80   \n",
      "\n",
      "      StockOptionLevel  TotalWorkingYears  TrainingTimesLastYear  \\\n",
      "1465                 1                 17                      3   \n",
      "1466                 1                  9                      5   \n",
      "1467                 1                  6                      0   \n",
      "1468                 0                 17                      3   \n",
      "1469                 0                  6                      3   \n",
      "\n",
      "     WorkLifeBalance  YearsAtCompany YearsInCurrentRole  \\\n",
      "1465               3               5                  2   \n",
      "1466               3               7                  7   \n",
      "1467               3               6                  2   \n",
      "1468               2               9                  6   \n",
      "1469               4               4                  3   \n",
      "\n",
      "      YearsSinceLastPromotion  YearsWithCurrManager  \n",
      "1465                        0                     3  \n",
      "1466                        1                     7  \n",
      "1467                        0                     3  \n",
      "1468                        0                     8  \n",
      "1469                        1                     2  \n",
      "\n",
      "[5 rows x 35 columns]\n"
     ]
    }
   ],
   "source": [
    "print(\"The last five records are: \\n\",data.tail())"
   ]
  },
  {
   "cell_type": "markdown",
   "metadata": {},
   "source": [
    "### Dispalying the first three records"
   ]
  },
  {
   "cell_type": "code",
   "execution_count": 12,
   "metadata": {},
   "outputs": [
    {
     "name": "stdout",
     "output_type": "stream",
     "text": [
      "The first three records of dataset are: \n",
      "    Age Attrition     BusinessTravel  DailyRate              Department  \\\n",
      "0   41       Yes      Travel_Rarely       1102                   Sales   \n",
      "1   49        No  Travel_Frequently        279  Research & Development   \n",
      "2   37       Yes      Travel_Rarely       1373  Research & Development   \n",
      "\n",
      "   DistanceFromHome  Education EducationField  EmployeeCount  EmployeeNumber  \\\n",
      "0                 1          2  Life Sciences              1               1   \n",
      "1                 8          1  Life Sciences              1               2   \n",
      "2                 2          2          Other              1               4   \n",
      "\n",
      "   ...  RelationshipSatisfaction StandardHours  StockOptionLevel  \\\n",
      "0  ...                         1            80                 0   \n",
      "1  ...                         4            80                 1   \n",
      "2  ...                         2            80                 0   \n",
      "\n",
      "   TotalWorkingYears  TrainingTimesLastYear WorkLifeBalance  YearsAtCompany  \\\n",
      "0                  8                      0               1               6   \n",
      "1                 10                      3               3              10   \n",
      "2                  7                      3               3               0   \n",
      "\n",
      "  YearsInCurrentRole  YearsSinceLastPromotion  YearsWithCurrManager  \n",
      "0                  4                        0                     5  \n",
      "1                  7                        1                     7  \n",
      "2                  0                        0                     0  \n",
      "\n",
      "[3 rows x 35 columns]\n"
     ]
    }
   ],
   "source": [
    "print(\"The first three records of dataset are: \\n\",data.head(3))"
   ]
  },
  {
   "cell_type": "markdown",
   "metadata": {},
   "source": [
    "### Dispalying the first three records of \"age\" and \"gender\""
   ]
  },
  {
   "cell_type": "code",
   "execution_count": 13,
   "metadata": {},
   "outputs": [
    {
     "name": "stdout",
     "output_type": "stream",
     "text": [
      "The first 3 records of the selected columns from the dataset are: \n",
      "    Age  Gender\n",
      "0   41  Female\n",
      "1   49    Male\n",
      "2   37    Male\n"
     ]
    }
   ],
   "source": [
    "print(\"The first 3 records of the selected columns from the dataset are: \\n\",data[['Age','Gender']].head(3))"
   ]
  },
  {
   "cell_type": "markdown",
   "metadata": {},
   "source": [
    "### Dispalying the last one records"
   ]
  },
  {
   "cell_type": "code",
   "execution_count": 14,
   "metadata": {},
   "outputs": [
    {
     "name": "stdout",
     "output_type": "stream",
     "text": [
      "The last one record of dataset is: \n",
      "       Age Attrition BusinessTravel  DailyRate              Department  \\\n",
      "1469   34        No  Travel_Rarely        628  Research & Development   \n",
      "\n",
      "      DistanceFromHome  Education EducationField  EmployeeCount  \\\n",
      "1469                 8          3        Medical              1   \n",
      "\n",
      "      EmployeeNumber  ...  RelationshipSatisfaction StandardHours  \\\n",
      "1469            2068  ...                         1            80   \n",
      "\n",
      "      StockOptionLevel  TotalWorkingYears  TrainingTimesLastYear  \\\n",
      "1469                 0                  6                      3   \n",
      "\n",
      "     WorkLifeBalance  YearsAtCompany YearsInCurrentRole  \\\n",
      "1469               4               4                  3   \n",
      "\n",
      "      YearsSinceLastPromotion  YearsWithCurrManager  \n",
      "1469                        1                     2  \n",
      "\n",
      "[1 rows x 35 columns]\n"
     ]
    }
   ],
   "source": [
    "print(\"The last one record of dataset is: \\n\",data.tail(1))"
   ]
  },
  {
   "cell_type": "markdown",
   "metadata": {},
   "source": [
    "### Dispalying the last two records of \"age\" and \"gender\""
   ]
  },
  {
   "cell_type": "code",
   "execution_count": 15,
   "metadata": {},
   "outputs": [
    {
     "name": "stdout",
     "output_type": "stream",
     "text": [
      "The last 2 records of the selected columns from the dataset are: \n",
      "       Age Gender\n",
      "1468   49   Male\n",
      "1469   34   Male\n"
     ]
    }
   ],
   "source": [
    "print(\"The last 2 records of the selected columns from the dataset are: \\n\",data[['Age','Gender']].tail(2))"
   ]
  },
  {
   "cell_type": "markdown",
   "metadata": {},
   "source": [
    "### Determining number of categories and categories for categorical variables"
   ]
  },
  {
   "cell_type": "code",
   "execution_count": 16,
   "metadata": {},
   "outputs": [
    {
     "name": "stdout",
     "output_type": "stream",
     "text": [
      "Number of categories: 3\n",
      "Categories for department: \n",
      " ['Sales' 'Research & Development' 'Human Resources']\n",
      "Number of categories: 9\n",
      "Categories for job role: \n",
      " ['Sales Executive' 'Research Scientist' 'Laboratory Technician'\n",
      " 'Manufacturing Director' 'Healthcare Representative' 'Manager'\n",
      " 'Sales Representative' 'Research Director' 'Human Resources']\n"
     ]
    }
   ],
   "source": [
    "print(\"Number of categories:\",data['Department'].nunique())\n",
    "print(\"Categories for department: \\n\",data['Department'].unique())\n",
    "print(\"Number of categories:\",data['JobRole'].nunique())\n",
    "print(\"Categories for job role: \\n\",data['JobRole'].unique())"
   ]
  },
  {
   "cell_type": "markdown",
   "metadata": {},
   "source": [
    "### Using copy() function to create a new dataset"
   ]
  },
  {
   "cell_type": "code",
   "execution_count": 17,
   "metadata": {},
   "outputs": [],
   "source": [
    "newdata_ibm = data.copy()"
   ]
  },
  {
   "cell_type": "markdown",
   "metadata": {},
   "source": [
    "### Adding a new column \"new1\""
   ]
  },
  {
   "cell_type": "code",
   "execution_count": 18,
   "metadata": {},
   "outputs": [],
   "source": [
    "newdata_ibm['new1'] = list(range(1,1471))"
   ]
  },
  {
   "cell_type": "markdown",
   "metadata": {},
   "source": [
    "### Dispalying the dimension of the new dataset using shape"
   ]
  },
  {
   "cell_type": "code",
   "execution_count": 19,
   "metadata": {},
   "outputs": [
    {
     "name": "stdout",
     "output_type": "stream",
     "text": [
      "Dimension of dataset after adding columns: (1470, 36)\n"
     ]
    }
   ],
   "source": [
    "print(\"Dimension of dataset after adding columns:\",newdata_ibm.shape)"
   ]
  },
  {
   "cell_type": "markdown",
   "metadata": {},
   "source": [
    "### Using drop() function to delete columns named \"new1\""
   ]
  },
  {
   "cell_type": "code",
   "execution_count": 20,
   "metadata": {},
   "outputs": [
    {
     "name": "stdout",
     "output_type": "stream",
     "text": [
      "Dimension of dataset after removing new columns: (1470, 35)\n"
     ]
    }
   ],
   "source": [
    "newdata_ibm = newdata_ibm.drop(columns = ['new1'])\n",
    "print(\"Dimension of dataset after removing new columns:\",newdata_ibm.shape)"
   ]
  },
  {
   "cell_type": "markdown",
   "metadata": {},
   "source": [
    "### Deleting the row at index 0 and 3 using drop() function"
   ]
  },
  {
   "cell_type": "code",
   "execution_count": 21,
   "metadata": {},
   "outputs": [
    {
     "name": "stdout",
     "output_type": "stream",
     "text": [
      "Dimension of dataset after removing two rows at index 0 and 3 : (1468, 35)\n"
     ]
    }
   ],
   "source": [
    "newdata_ibm = newdata_ibm.drop(index=[0,3])\n",
    "print(\"Dimension of dataset after removing two rows at index 0 and 3 :\",newdata_ibm.shape)"
   ]
  },
  {
   "cell_type": "markdown",
   "metadata": {},
   "source": [
    "# 33. Program to use mathematical and statistical functions on filtered data"
   ]
  },
  {
   "cell_type": "markdown",
   "metadata": {},
   "source": [
    "### Determining mean of age column using mean() function"
   ]
  },
  {
   "cell_type": "code",
   "execution_count": 22,
   "metadata": {},
   "outputs": [
    {
     "name": "stdout",
     "output_type": "stream",
     "text": [
      "Mean of age is:  36.923809523809524\n"
     ]
    }
   ],
   "source": [
    "print(\"Mean of age is: \",data['Age'].mean())"
   ]
  },
  {
   "cell_type": "markdown",
   "metadata": {},
   "source": [
    "### Determining median of age column using median() function"
   ]
  },
  {
   "cell_type": "code",
   "execution_count": 23,
   "metadata": {},
   "outputs": [
    {
     "name": "stdout",
     "output_type": "stream",
     "text": [
      "Median of age is:  36.0\n"
     ]
    }
   ],
   "source": [
    "print(\"Median of age is: \",data['Age'].median())"
   ]
  },
  {
   "cell_type": "markdown",
   "metadata": {},
   "source": [
    "### Determining maximum of daily rate column using max() function"
   ]
  },
  {
   "cell_type": "code",
   "execution_count": 24,
   "metadata": {},
   "outputs": [
    {
     "name": "stdout",
     "output_type": "stream",
     "text": [
      "Maximum daily rate is: 1499\n"
     ]
    }
   ],
   "source": [
    "print(\"Maximum daily rate is:\",data[\"DailyRate\"].max())"
   ]
  },
  {
   "cell_type": "markdown",
   "metadata": {},
   "source": [
    "### Determining minimum of daily rate column using min() function"
   ]
  },
  {
   "cell_type": "code",
   "execution_count": 25,
   "metadata": {},
   "outputs": [
    {
     "name": "stdout",
     "output_type": "stream",
     "text": [
      "Minimummin daily rate is: 102\n"
     ]
    }
   ],
   "source": [
    "print(\"Minimummin daily rate is:\",data[\"DailyRate\"].min())"
   ]
  },
  {
   "cell_type": "markdown",
   "metadata": {},
   "source": [
    "### Determining sum of hourly rate column using sum() function"
   ]
  },
  {
   "cell_type": "code",
   "execution_count": 26,
   "metadata": {},
   "outputs": [
    {
     "name": "stdout",
     "output_type": "stream",
     "text": [
      "Sum of  hourly rate is: 96860\n"
     ]
    }
   ],
   "source": [
    "print(\"Sum of  hourly rate is:\",data[\"HourlyRate\"].sum())"
   ]
  },
  {
   "cell_type": "markdown",
   "metadata": {},
   "source": [
    "### Determining 3 smallest values using nsmallest() function"
   ]
  },
  {
   "cell_type": "code",
   "execution_count": 27,
   "metadata": {},
   "outputs": [
    {
     "name": "stdout",
     "output_type": "stream",
     "text": [
      "Three smallest values of hourly rate: \n",
      " 57    30\n",
      "78    30\n",
      "81    30\n",
      "Name: HourlyRate, dtype: int64\n"
     ]
    }
   ],
   "source": [
    "print(\"Three smallest values of hourly rate: \\n\",data[\"HourlyRate\"].nsmallest().head(3))"
   ]
  },
  {
   "cell_type": "markdown",
   "metadata": {},
   "source": [
    "### Determining 4 largest values using nlargest() function"
   ]
  },
  {
   "cell_type": "code",
   "execution_count": 28,
   "metadata": {},
   "outputs": [
    {
     "name": "stdout",
     "output_type": "stream",
     "text": [
      "Four largest vaules of hourly rate: \n",
      " 104    100\n",
      "128    100\n",
      "171    100\n",
      "241    100\n",
      "Name: HourlyRate, dtype: int64\n"
     ]
    }
   ],
   "source": [
    "print(\"Four largest vaules of hourly rate: \\n\",data[\"HourlyRate\"].nlargest().head(4))"
   ]
  },
  {
   "cell_type": "markdown",
   "metadata": {},
   "source": [
    "### Determining the correlation between continuous variables"
   ]
  },
  {
   "cell_type": "code",
   "execution_count": 29,
   "metadata": {},
   "outputs": [
    {
     "name": "stdout",
     "output_type": "stream",
     "text": [
      "Correlation between the variables: \n",
      "                                 Age  DailyRate  DistanceFromHome  Education  \\\n",
      "Age                       1.000000   0.010661         -0.001686   0.208034   \n",
      "DailyRate                 0.010661   1.000000         -0.004985  -0.016806   \n",
      "DistanceFromHome         -0.001686  -0.004985          1.000000   0.021042   \n",
      "Education                 0.208034  -0.016806          0.021042   1.000000   \n",
      "EmployeeCount                  NaN        NaN               NaN        NaN   \n",
      "EmployeeNumber           -0.010145  -0.050990          0.032916   0.042070   \n",
      "EnvironmentSatisfaction   0.010146   0.018355         -0.016075  -0.027128   \n",
      "HourlyRate                0.024287   0.023381          0.031131   0.016775   \n",
      "JobInvolvement            0.029820   0.046135          0.008783   0.042438   \n",
      "JobLevel                  0.509604   0.002966          0.005303   0.101589   \n",
      "JobSatisfaction          -0.004892   0.030571         -0.003669  -0.011296   \n",
      "MonthlyIncome             0.497855   0.007707         -0.017014   0.094961   \n",
      "MonthlyRate               0.028051  -0.032182          0.027473  -0.026084   \n",
      "NumCompaniesWorked        0.299635   0.038153         -0.029251   0.126317   \n",
      "PercentSalaryHike         0.003634   0.022704          0.040235  -0.011111   \n",
      "PerformanceRating         0.001904   0.000473          0.027110  -0.024539   \n",
      "RelationshipSatisfaction  0.053535   0.007846          0.006557  -0.009118   \n",
      "StandardHours                  NaN        NaN               NaN        NaN   \n",
      "StockOptionLevel          0.037510   0.042143          0.044872   0.018422   \n",
      "TotalWorkingYears         0.680381   0.014515          0.004628   0.148280   \n",
      "TrainingTimesLastYear    -0.019621   0.002453         -0.036942  -0.025100   \n",
      "WorkLifeBalance          -0.021490  -0.037848         -0.026556   0.009819   \n",
      "YearsAtCompany            0.311309  -0.034055          0.009508   0.069114   \n",
      "YearsInCurrentRole        0.212901   0.009932          0.018845   0.060236   \n",
      "YearsSinceLastPromotion   0.216513  -0.033229          0.010029   0.054254   \n",
      "YearsWithCurrManager      0.202089  -0.026363          0.014406   0.069065   \n",
      "\n",
      "                          EmployeeCount  EmployeeNumber  \\\n",
      "Age                                 NaN       -0.010145   \n",
      "DailyRate                           NaN       -0.050990   \n",
      "DistanceFromHome                    NaN        0.032916   \n",
      "Education                           NaN        0.042070   \n",
      "EmployeeCount                       NaN             NaN   \n",
      "EmployeeNumber                      NaN        1.000000   \n",
      "EnvironmentSatisfaction             NaN        0.017621   \n",
      "HourlyRate                          NaN        0.035179   \n",
      "JobInvolvement                      NaN       -0.006888   \n",
      "JobLevel                            NaN       -0.018519   \n",
      "JobSatisfaction                     NaN       -0.046247   \n",
      "MonthlyIncome                       NaN       -0.014829   \n",
      "MonthlyRate                         NaN        0.012648   \n",
      "NumCompaniesWorked                  NaN       -0.001251   \n",
      "PercentSalaryHike                   NaN       -0.012944   \n",
      "PerformanceRating                   NaN       -0.020359   \n",
      "RelationshipSatisfaction            NaN       -0.069861   \n",
      "StandardHours                       NaN             NaN   \n",
      "StockOptionLevel                    NaN        0.062227   \n",
      "TotalWorkingYears                   NaN       -0.014365   \n",
      "TrainingTimesLastYear               NaN        0.023603   \n",
      "WorkLifeBalance                     NaN        0.010309   \n",
      "YearsAtCompany                      NaN       -0.011240   \n",
      "YearsInCurrentRole                  NaN       -0.008416   \n",
      "YearsSinceLastPromotion             NaN       -0.009019   \n",
      "YearsWithCurrManager                NaN       -0.009197   \n",
      "\n",
      "                          EnvironmentSatisfaction  HourlyRate  JobInvolvement  \\\n",
      "Age                                      0.010146    0.024287        0.029820   \n",
      "DailyRate                                0.018355    0.023381        0.046135   \n",
      "DistanceFromHome                        -0.016075    0.031131        0.008783   \n",
      "Education                               -0.027128    0.016775        0.042438   \n",
      "EmployeeCount                                 NaN         NaN             NaN   \n",
      "EmployeeNumber                           0.017621    0.035179       -0.006888   \n",
      "EnvironmentSatisfaction                  1.000000   -0.049857       -0.008278   \n",
      "HourlyRate                              -0.049857    1.000000        0.042861   \n",
      "JobInvolvement                          -0.008278    0.042861        1.000000   \n",
      "JobLevel                                 0.001212   -0.027853       -0.012630   \n",
      "JobSatisfaction                         -0.006784   -0.071335       -0.021476   \n",
      "MonthlyIncome                           -0.006259   -0.015794       -0.015271   \n",
      "MonthlyRate                              0.037600   -0.015297       -0.016322   \n",
      "NumCompaniesWorked                       0.012594    0.022157        0.015012   \n",
      "PercentSalaryHike                       -0.031701   -0.009062       -0.017205   \n",
      "PerformanceRating                       -0.029548   -0.002172       -0.029071   \n",
      "RelationshipSatisfaction                 0.007665    0.001330        0.034297   \n",
      "StandardHours                                 NaN         NaN             NaN   \n",
      "StockOptionLevel                         0.003432    0.050263        0.021523   \n",
      "TotalWorkingYears                       -0.002693   -0.002334       -0.005533   \n",
      "TrainingTimesLastYear                   -0.019359   -0.008548       -0.015338   \n",
      "WorkLifeBalance                          0.027627   -0.004607       -0.014617   \n",
      "YearsAtCompany                           0.001458   -0.019582       -0.021355   \n",
      "YearsInCurrentRole                       0.018007   -0.024106        0.008717   \n",
      "YearsSinceLastPromotion                  0.016194   -0.026716       -0.024184   \n",
      "YearsWithCurrManager                    -0.004999   -0.020123        0.025976   \n",
      "\n",
      "                          JobLevel  ...  RelationshipSatisfaction  \\\n",
      "Age                       0.509604  ...                  0.053535   \n",
      "DailyRate                 0.002966  ...                  0.007846   \n",
      "DistanceFromHome          0.005303  ...                  0.006557   \n",
      "Education                 0.101589  ...                 -0.009118   \n",
      "EmployeeCount                  NaN  ...                       NaN   \n",
      "EmployeeNumber           -0.018519  ...                 -0.069861   \n",
      "EnvironmentSatisfaction   0.001212  ...                  0.007665   \n",
      "HourlyRate               -0.027853  ...                  0.001330   \n",
      "JobInvolvement           -0.012630  ...                  0.034297   \n",
      "JobLevel                  1.000000  ...                  0.021642   \n",
      "JobSatisfaction          -0.001944  ...                 -0.012454   \n",
      "MonthlyIncome             0.950300  ...                  0.025873   \n",
      "MonthlyRate               0.039563  ...                 -0.004085   \n",
      "NumCompaniesWorked        0.142501  ...                  0.052733   \n",
      "PercentSalaryHike        -0.034730  ...                 -0.040490   \n",
      "PerformanceRating        -0.021222  ...                 -0.031351   \n",
      "RelationshipSatisfaction  0.021642  ...                  1.000000   \n",
      "StandardHours                  NaN  ...                       NaN   \n",
      "StockOptionLevel          0.013984  ...                 -0.045952   \n",
      "TotalWorkingYears         0.782208  ...                  0.024054   \n",
      "TrainingTimesLastYear    -0.018191  ...                  0.002497   \n",
      "WorkLifeBalance           0.037818  ...                  0.019604   \n",
      "YearsAtCompany            0.534739  ...                  0.019367   \n",
      "YearsInCurrentRole        0.389447  ...                 -0.015123   \n",
      "YearsSinceLastPromotion   0.353885  ...                  0.033493   \n",
      "YearsWithCurrManager      0.375281  ...                 -0.000867   \n",
      "\n",
      "                          StandardHours  StockOptionLevel  TotalWorkingYears  \\\n",
      "Age                                 NaN          0.037510           0.680381   \n",
      "DailyRate                           NaN          0.042143           0.014515   \n",
      "DistanceFromHome                    NaN          0.044872           0.004628   \n",
      "Education                           NaN          0.018422           0.148280   \n",
      "EmployeeCount                       NaN               NaN                NaN   \n",
      "EmployeeNumber                      NaN          0.062227          -0.014365   \n",
      "EnvironmentSatisfaction             NaN          0.003432          -0.002693   \n",
      "HourlyRate                          NaN          0.050263          -0.002334   \n",
      "JobInvolvement                      NaN          0.021523          -0.005533   \n",
      "JobLevel                            NaN          0.013984           0.782208   \n",
      "JobSatisfaction                     NaN          0.010690          -0.020185   \n",
      "MonthlyIncome                       NaN          0.005408           0.772893   \n",
      "MonthlyRate                         NaN         -0.034323           0.026442   \n",
      "NumCompaniesWorked                  NaN          0.030075           0.237639   \n",
      "PercentSalaryHike                   NaN          0.007528          -0.020608   \n",
      "PerformanceRating                   NaN          0.003506           0.006744   \n",
      "RelationshipSatisfaction            NaN         -0.045952           0.024054   \n",
      "StandardHours                       NaN               NaN                NaN   \n",
      "StockOptionLevel                    NaN          1.000000           0.010136   \n",
      "TotalWorkingYears                   NaN          0.010136           1.000000   \n",
      "TrainingTimesLastYear               NaN          0.011274          -0.035662   \n",
      "WorkLifeBalance                     NaN          0.004129           0.001008   \n",
      "YearsAtCompany                      NaN          0.015058           0.628133   \n",
      "YearsInCurrentRole                  NaN          0.050818           0.460365   \n",
      "YearsSinceLastPromotion             NaN          0.014352           0.404858   \n",
      "YearsWithCurrManager                NaN          0.024698           0.459188   \n",
      "\n",
      "                          TrainingTimesLastYear  WorkLifeBalance  \\\n",
      "Age                                   -0.019621        -0.021490   \n",
      "DailyRate                              0.002453        -0.037848   \n",
      "DistanceFromHome                      -0.036942        -0.026556   \n",
      "Education                             -0.025100         0.009819   \n",
      "EmployeeCount                               NaN              NaN   \n",
      "EmployeeNumber                         0.023603         0.010309   \n",
      "EnvironmentSatisfaction               -0.019359         0.027627   \n",
      "HourlyRate                            -0.008548        -0.004607   \n",
      "JobInvolvement                        -0.015338        -0.014617   \n",
      "JobLevel                              -0.018191         0.037818   \n",
      "JobSatisfaction                       -0.005779        -0.019459   \n",
      "MonthlyIncome                         -0.021736         0.030683   \n",
      "MonthlyRate                            0.001467         0.007963   \n",
      "NumCompaniesWorked                    -0.066054        -0.008366   \n",
      "PercentSalaryHike                     -0.005221        -0.003280   \n",
      "PerformanceRating                     -0.015579         0.002572   \n",
      "RelationshipSatisfaction               0.002497         0.019604   \n",
      "StandardHours                               NaN              NaN   \n",
      "StockOptionLevel                       0.011274         0.004129   \n",
      "TotalWorkingYears                     -0.035662         0.001008   \n",
      "TrainingTimesLastYear                  1.000000         0.028072   \n",
      "WorkLifeBalance                        0.028072         1.000000   \n",
      "YearsAtCompany                         0.003569         0.012089   \n",
      "YearsInCurrentRole                    -0.005738         0.049856   \n",
      "YearsSinceLastPromotion               -0.002067         0.008941   \n",
      "YearsWithCurrManager                  -0.004096         0.002759   \n",
      "\n",
      "                          YearsAtCompany  YearsInCurrentRole  \\\n",
      "Age                             0.311309            0.212901   \n",
      "DailyRate                      -0.034055            0.009932   \n",
      "DistanceFromHome                0.009508            0.018845   \n",
      "Education                       0.069114            0.060236   \n",
      "EmployeeCount                        NaN                 NaN   \n",
      "EmployeeNumber                 -0.011240           -0.008416   \n",
      "EnvironmentSatisfaction         0.001458            0.018007   \n",
      "HourlyRate                     -0.019582           -0.024106   \n",
      "JobInvolvement                 -0.021355            0.008717   \n",
      "JobLevel                        0.534739            0.389447   \n",
      "JobSatisfaction                -0.003803           -0.002305   \n",
      "MonthlyIncome                   0.514285            0.363818   \n",
      "MonthlyRate                    -0.023655           -0.012815   \n",
      "NumCompaniesWorked             -0.118421           -0.090754   \n",
      "PercentSalaryHike              -0.035991           -0.001520   \n",
      "PerformanceRating               0.003435            0.034986   \n",
      "RelationshipSatisfaction        0.019367           -0.015123   \n",
      "StandardHours                        NaN                 NaN   \n",
      "StockOptionLevel                0.015058            0.050818   \n",
      "TotalWorkingYears               0.628133            0.460365   \n",
      "TrainingTimesLastYear           0.003569           -0.005738   \n",
      "WorkLifeBalance                 0.012089            0.049856   \n",
      "YearsAtCompany                  1.000000            0.758754   \n",
      "YearsInCurrentRole              0.758754            1.000000   \n",
      "YearsSinceLastPromotion         0.618409            0.548056   \n",
      "YearsWithCurrManager            0.769212            0.714365   \n",
      "\n",
      "                          YearsSinceLastPromotion  YearsWithCurrManager  \n",
      "Age                                      0.216513              0.202089  \n",
      "DailyRate                               -0.033229             -0.026363  \n",
      "DistanceFromHome                         0.010029              0.014406  \n",
      "Education                                0.054254              0.069065  \n",
      "EmployeeCount                                 NaN                   NaN  \n",
      "EmployeeNumber                          -0.009019             -0.009197  \n",
      "EnvironmentSatisfaction                  0.016194             -0.004999  \n",
      "HourlyRate                              -0.026716             -0.020123  \n",
      "JobInvolvement                          -0.024184              0.025976  \n",
      "JobLevel                                 0.353885              0.375281  \n",
      "JobSatisfaction                         -0.018214             -0.027656  \n",
      "MonthlyIncome                            0.344978              0.344079  \n",
      "MonthlyRate                              0.001567             -0.036746  \n",
      "NumCompaniesWorked                      -0.036814             -0.110319  \n",
      "PercentSalaryHike                       -0.022154             -0.011985  \n",
      "PerformanceRating                        0.017896              0.022827  \n",
      "RelationshipSatisfaction                 0.033493             -0.000867  \n",
      "StandardHours                                 NaN                   NaN  \n",
      "StockOptionLevel                         0.014352              0.024698  \n",
      "TotalWorkingYears                        0.404858              0.459188  \n",
      "TrainingTimesLastYear                   -0.002067             -0.004096  \n",
      "WorkLifeBalance                          0.008941              0.002759  \n",
      "YearsAtCompany                           0.618409              0.769212  \n",
      "YearsInCurrentRole                       0.548056              0.714365  \n",
      "YearsSinceLastPromotion                  1.000000              0.510224  \n",
      "YearsWithCurrManager                     0.510224              1.000000  \n",
      "\n",
      "[26 rows x 26 columns]\n"
     ]
    }
   ],
   "source": [
    "print(\"Correlation between the variables: \\n \",data.corr(numeric_only=True))"
   ]
  },
  {
   "cell_type": "code",
   "execution_count": 30,
   "metadata": {},
   "outputs": [
    {
     "data": {
      "text/html": [
       "<div>\n",
       "<style scoped>\n",
       "    .dataframe tbody tr th:only-of-type {\n",
       "        vertical-align: middle;\n",
       "    }\n",
       "\n",
       "    .dataframe tbody tr th {\n",
       "        vertical-align: top;\n",
       "    }\n",
       "\n",
       "    .dataframe thead th {\n",
       "        text-align: right;\n",
       "    }\n",
       "</style>\n",
       "<table border=\"1\" class=\"dataframe\">\n",
       "  <thead>\n",
       "    <tr style=\"text-align: right;\">\n",
       "      <th></th>\n",
       "      <th>Age</th>\n",
       "      <th>DailyRate</th>\n",
       "      <th>DistanceFromHome</th>\n",
       "      <th>Education</th>\n",
       "      <th>EmployeeCount</th>\n",
       "      <th>EmployeeNumber</th>\n",
       "      <th>EnvironmentSatisfaction</th>\n",
       "      <th>HourlyRate</th>\n",
       "      <th>JobInvolvement</th>\n",
       "      <th>JobLevel</th>\n",
       "      <th>...</th>\n",
       "      <th>RelationshipSatisfaction</th>\n",
       "      <th>StandardHours</th>\n",
       "      <th>StockOptionLevel</th>\n",
       "      <th>TotalWorkingYears</th>\n",
       "      <th>TrainingTimesLastYear</th>\n",
       "      <th>WorkLifeBalance</th>\n",
       "      <th>YearsAtCompany</th>\n",
       "      <th>YearsInCurrentRole</th>\n",
       "      <th>YearsSinceLastPromotion</th>\n",
       "      <th>YearsWithCurrManager</th>\n",
       "    </tr>\n",
       "  </thead>\n",
       "  <tbody>\n",
       "    <tr>\n",
       "      <th>Age</th>\n",
       "      <td>1.000000</td>\n",
       "      <td>0.010661</td>\n",
       "      <td>-0.001686</td>\n",
       "      <td>0.208034</td>\n",
       "      <td>NaN</td>\n",
       "      <td>-0.010145</td>\n",
       "      <td>0.010146</td>\n",
       "      <td>0.024287</td>\n",
       "      <td>0.029820</td>\n",
       "      <td>0.509604</td>\n",
       "      <td>...</td>\n",
       "      <td>0.053535</td>\n",
       "      <td>NaN</td>\n",
       "      <td>0.037510</td>\n",
       "      <td>0.680381</td>\n",
       "      <td>-0.019621</td>\n",
       "      <td>-0.021490</td>\n",
       "      <td>0.311309</td>\n",
       "      <td>0.212901</td>\n",
       "      <td>0.216513</td>\n",
       "      <td>0.202089</td>\n",
       "    </tr>\n",
       "    <tr>\n",
       "      <th>DailyRate</th>\n",
       "      <td>0.010661</td>\n",
       "      <td>1.000000</td>\n",
       "      <td>-0.004985</td>\n",
       "      <td>-0.016806</td>\n",
       "      <td>NaN</td>\n",
       "      <td>-0.050990</td>\n",
       "      <td>0.018355</td>\n",
       "      <td>0.023381</td>\n",
       "      <td>0.046135</td>\n",
       "      <td>0.002966</td>\n",
       "      <td>...</td>\n",
       "      <td>0.007846</td>\n",
       "      <td>NaN</td>\n",
       "      <td>0.042143</td>\n",
       "      <td>0.014515</td>\n",
       "      <td>0.002453</td>\n",
       "      <td>-0.037848</td>\n",
       "      <td>-0.034055</td>\n",
       "      <td>0.009932</td>\n",
       "      <td>-0.033229</td>\n",
       "      <td>-0.026363</td>\n",
       "    </tr>\n",
       "    <tr>\n",
       "      <th>DistanceFromHome</th>\n",
       "      <td>-0.001686</td>\n",
       "      <td>-0.004985</td>\n",
       "      <td>1.000000</td>\n",
       "      <td>0.021042</td>\n",
       "      <td>NaN</td>\n",
       "      <td>0.032916</td>\n",
       "      <td>-0.016075</td>\n",
       "      <td>0.031131</td>\n",
       "      <td>0.008783</td>\n",
       "      <td>0.005303</td>\n",
       "      <td>...</td>\n",
       "      <td>0.006557</td>\n",
       "      <td>NaN</td>\n",
       "      <td>0.044872</td>\n",
       "      <td>0.004628</td>\n",
       "      <td>-0.036942</td>\n",
       "      <td>-0.026556</td>\n",
       "      <td>0.009508</td>\n",
       "      <td>0.018845</td>\n",
       "      <td>0.010029</td>\n",
       "      <td>0.014406</td>\n",
       "    </tr>\n",
       "    <tr>\n",
       "      <th>Education</th>\n",
       "      <td>0.208034</td>\n",
       "      <td>-0.016806</td>\n",
       "      <td>0.021042</td>\n",
       "      <td>1.000000</td>\n",
       "      <td>NaN</td>\n",
       "      <td>0.042070</td>\n",
       "      <td>-0.027128</td>\n",
       "      <td>0.016775</td>\n",
       "      <td>0.042438</td>\n",
       "      <td>0.101589</td>\n",
       "      <td>...</td>\n",
       "      <td>-0.009118</td>\n",
       "      <td>NaN</td>\n",
       "      <td>0.018422</td>\n",
       "      <td>0.148280</td>\n",
       "      <td>-0.025100</td>\n",
       "      <td>0.009819</td>\n",
       "      <td>0.069114</td>\n",
       "      <td>0.060236</td>\n",
       "      <td>0.054254</td>\n",
       "      <td>0.069065</td>\n",
       "    </tr>\n",
       "    <tr>\n",
       "      <th>EmployeeCount</th>\n",
       "      <td>NaN</td>\n",
       "      <td>NaN</td>\n",
       "      <td>NaN</td>\n",
       "      <td>NaN</td>\n",
       "      <td>NaN</td>\n",
       "      <td>NaN</td>\n",
       "      <td>NaN</td>\n",
       "      <td>NaN</td>\n",
       "      <td>NaN</td>\n",
       "      <td>NaN</td>\n",
       "      <td>...</td>\n",
       "      <td>NaN</td>\n",
       "      <td>NaN</td>\n",
       "      <td>NaN</td>\n",
       "      <td>NaN</td>\n",
       "      <td>NaN</td>\n",
       "      <td>NaN</td>\n",
       "      <td>NaN</td>\n",
       "      <td>NaN</td>\n",
       "      <td>NaN</td>\n",
       "      <td>NaN</td>\n",
       "    </tr>\n",
       "    <tr>\n",
       "      <th>EmployeeNumber</th>\n",
       "      <td>-0.010145</td>\n",
       "      <td>-0.050990</td>\n",
       "      <td>0.032916</td>\n",
       "      <td>0.042070</td>\n",
       "      <td>NaN</td>\n",
       "      <td>1.000000</td>\n",
       "      <td>0.017621</td>\n",
       "      <td>0.035179</td>\n",
       "      <td>-0.006888</td>\n",
       "      <td>-0.018519</td>\n",
       "      <td>...</td>\n",
       "      <td>-0.069861</td>\n",
       "      <td>NaN</td>\n",
       "      <td>0.062227</td>\n",
       "      <td>-0.014365</td>\n",
       "      <td>0.023603</td>\n",
       "      <td>0.010309</td>\n",
       "      <td>-0.011240</td>\n",
       "      <td>-0.008416</td>\n",
       "      <td>-0.009019</td>\n",
       "      <td>-0.009197</td>\n",
       "    </tr>\n",
       "    <tr>\n",
       "      <th>EnvironmentSatisfaction</th>\n",
       "      <td>0.010146</td>\n",
       "      <td>0.018355</td>\n",
       "      <td>-0.016075</td>\n",
       "      <td>-0.027128</td>\n",
       "      <td>NaN</td>\n",
       "      <td>0.017621</td>\n",
       "      <td>1.000000</td>\n",
       "      <td>-0.049857</td>\n",
       "      <td>-0.008278</td>\n",
       "      <td>0.001212</td>\n",
       "      <td>...</td>\n",
       "      <td>0.007665</td>\n",
       "      <td>NaN</td>\n",
       "      <td>0.003432</td>\n",
       "      <td>-0.002693</td>\n",
       "      <td>-0.019359</td>\n",
       "      <td>0.027627</td>\n",
       "      <td>0.001458</td>\n",
       "      <td>0.018007</td>\n",
       "      <td>0.016194</td>\n",
       "      <td>-0.004999</td>\n",
       "    </tr>\n",
       "    <tr>\n",
       "      <th>HourlyRate</th>\n",
       "      <td>0.024287</td>\n",
       "      <td>0.023381</td>\n",
       "      <td>0.031131</td>\n",
       "      <td>0.016775</td>\n",
       "      <td>NaN</td>\n",
       "      <td>0.035179</td>\n",
       "      <td>-0.049857</td>\n",
       "      <td>1.000000</td>\n",
       "      <td>0.042861</td>\n",
       "      <td>-0.027853</td>\n",
       "      <td>...</td>\n",
       "      <td>0.001330</td>\n",
       "      <td>NaN</td>\n",
       "      <td>0.050263</td>\n",
       "      <td>-0.002334</td>\n",
       "      <td>-0.008548</td>\n",
       "      <td>-0.004607</td>\n",
       "      <td>-0.019582</td>\n",
       "      <td>-0.024106</td>\n",
       "      <td>-0.026716</td>\n",
       "      <td>-0.020123</td>\n",
       "    </tr>\n",
       "    <tr>\n",
       "      <th>JobInvolvement</th>\n",
       "      <td>0.029820</td>\n",
       "      <td>0.046135</td>\n",
       "      <td>0.008783</td>\n",
       "      <td>0.042438</td>\n",
       "      <td>NaN</td>\n",
       "      <td>-0.006888</td>\n",
       "      <td>-0.008278</td>\n",
       "      <td>0.042861</td>\n",
       "      <td>1.000000</td>\n",
       "      <td>-0.012630</td>\n",
       "      <td>...</td>\n",
       "      <td>0.034297</td>\n",
       "      <td>NaN</td>\n",
       "      <td>0.021523</td>\n",
       "      <td>-0.005533</td>\n",
       "      <td>-0.015338</td>\n",
       "      <td>-0.014617</td>\n",
       "      <td>-0.021355</td>\n",
       "      <td>0.008717</td>\n",
       "      <td>-0.024184</td>\n",
       "      <td>0.025976</td>\n",
       "    </tr>\n",
       "    <tr>\n",
       "      <th>JobLevel</th>\n",
       "      <td>0.509604</td>\n",
       "      <td>0.002966</td>\n",
       "      <td>0.005303</td>\n",
       "      <td>0.101589</td>\n",
       "      <td>NaN</td>\n",
       "      <td>-0.018519</td>\n",
       "      <td>0.001212</td>\n",
       "      <td>-0.027853</td>\n",
       "      <td>-0.012630</td>\n",
       "      <td>1.000000</td>\n",
       "      <td>...</td>\n",
       "      <td>0.021642</td>\n",
       "      <td>NaN</td>\n",
       "      <td>0.013984</td>\n",
       "      <td>0.782208</td>\n",
       "      <td>-0.018191</td>\n",
       "      <td>0.037818</td>\n",
       "      <td>0.534739</td>\n",
       "      <td>0.389447</td>\n",
       "      <td>0.353885</td>\n",
       "      <td>0.375281</td>\n",
       "    </tr>\n",
       "    <tr>\n",
       "      <th>JobSatisfaction</th>\n",
       "      <td>-0.004892</td>\n",
       "      <td>0.030571</td>\n",
       "      <td>-0.003669</td>\n",
       "      <td>-0.011296</td>\n",
       "      <td>NaN</td>\n",
       "      <td>-0.046247</td>\n",
       "      <td>-0.006784</td>\n",
       "      <td>-0.071335</td>\n",
       "      <td>-0.021476</td>\n",
       "      <td>-0.001944</td>\n",
       "      <td>...</td>\n",
       "      <td>-0.012454</td>\n",
       "      <td>NaN</td>\n",
       "      <td>0.010690</td>\n",
       "      <td>-0.020185</td>\n",
       "      <td>-0.005779</td>\n",
       "      <td>-0.019459</td>\n",
       "      <td>-0.003803</td>\n",
       "      <td>-0.002305</td>\n",
       "      <td>-0.018214</td>\n",
       "      <td>-0.027656</td>\n",
       "    </tr>\n",
       "    <tr>\n",
       "      <th>MonthlyIncome</th>\n",
       "      <td>0.497855</td>\n",
       "      <td>0.007707</td>\n",
       "      <td>-0.017014</td>\n",
       "      <td>0.094961</td>\n",
       "      <td>NaN</td>\n",
       "      <td>-0.014829</td>\n",
       "      <td>-0.006259</td>\n",
       "      <td>-0.015794</td>\n",
       "      <td>-0.015271</td>\n",
       "      <td>0.950300</td>\n",
       "      <td>...</td>\n",
       "      <td>0.025873</td>\n",
       "      <td>NaN</td>\n",
       "      <td>0.005408</td>\n",
       "      <td>0.772893</td>\n",
       "      <td>-0.021736</td>\n",
       "      <td>0.030683</td>\n",
       "      <td>0.514285</td>\n",
       "      <td>0.363818</td>\n",
       "      <td>0.344978</td>\n",
       "      <td>0.344079</td>\n",
       "    </tr>\n",
       "    <tr>\n",
       "      <th>MonthlyRate</th>\n",
       "      <td>0.028051</td>\n",
       "      <td>-0.032182</td>\n",
       "      <td>0.027473</td>\n",
       "      <td>-0.026084</td>\n",
       "      <td>NaN</td>\n",
       "      <td>0.012648</td>\n",
       "      <td>0.037600</td>\n",
       "      <td>-0.015297</td>\n",
       "      <td>-0.016322</td>\n",
       "      <td>0.039563</td>\n",
       "      <td>...</td>\n",
       "      <td>-0.004085</td>\n",
       "      <td>NaN</td>\n",
       "      <td>-0.034323</td>\n",
       "      <td>0.026442</td>\n",
       "      <td>0.001467</td>\n",
       "      <td>0.007963</td>\n",
       "      <td>-0.023655</td>\n",
       "      <td>-0.012815</td>\n",
       "      <td>0.001567</td>\n",
       "      <td>-0.036746</td>\n",
       "    </tr>\n",
       "    <tr>\n",
       "      <th>NumCompaniesWorked</th>\n",
       "      <td>0.299635</td>\n",
       "      <td>0.038153</td>\n",
       "      <td>-0.029251</td>\n",
       "      <td>0.126317</td>\n",
       "      <td>NaN</td>\n",
       "      <td>-0.001251</td>\n",
       "      <td>0.012594</td>\n",
       "      <td>0.022157</td>\n",
       "      <td>0.015012</td>\n",
       "      <td>0.142501</td>\n",
       "      <td>...</td>\n",
       "      <td>0.052733</td>\n",
       "      <td>NaN</td>\n",
       "      <td>0.030075</td>\n",
       "      <td>0.237639</td>\n",
       "      <td>-0.066054</td>\n",
       "      <td>-0.008366</td>\n",
       "      <td>-0.118421</td>\n",
       "      <td>-0.090754</td>\n",
       "      <td>-0.036814</td>\n",
       "      <td>-0.110319</td>\n",
       "    </tr>\n",
       "    <tr>\n",
       "      <th>PercentSalaryHike</th>\n",
       "      <td>0.003634</td>\n",
       "      <td>0.022704</td>\n",
       "      <td>0.040235</td>\n",
       "      <td>-0.011111</td>\n",
       "      <td>NaN</td>\n",
       "      <td>-0.012944</td>\n",
       "      <td>-0.031701</td>\n",
       "      <td>-0.009062</td>\n",
       "      <td>-0.017205</td>\n",
       "      <td>-0.034730</td>\n",
       "      <td>...</td>\n",
       "      <td>-0.040490</td>\n",
       "      <td>NaN</td>\n",
       "      <td>0.007528</td>\n",
       "      <td>-0.020608</td>\n",
       "      <td>-0.005221</td>\n",
       "      <td>-0.003280</td>\n",
       "      <td>-0.035991</td>\n",
       "      <td>-0.001520</td>\n",
       "      <td>-0.022154</td>\n",
       "      <td>-0.011985</td>\n",
       "    </tr>\n",
       "    <tr>\n",
       "      <th>PerformanceRating</th>\n",
       "      <td>0.001904</td>\n",
       "      <td>0.000473</td>\n",
       "      <td>0.027110</td>\n",
       "      <td>-0.024539</td>\n",
       "      <td>NaN</td>\n",
       "      <td>-0.020359</td>\n",
       "      <td>-0.029548</td>\n",
       "      <td>-0.002172</td>\n",
       "      <td>-0.029071</td>\n",
       "      <td>-0.021222</td>\n",
       "      <td>...</td>\n",
       "      <td>-0.031351</td>\n",
       "      <td>NaN</td>\n",
       "      <td>0.003506</td>\n",
       "      <td>0.006744</td>\n",
       "      <td>-0.015579</td>\n",
       "      <td>0.002572</td>\n",
       "      <td>0.003435</td>\n",
       "      <td>0.034986</td>\n",
       "      <td>0.017896</td>\n",
       "      <td>0.022827</td>\n",
       "    </tr>\n",
       "    <tr>\n",
       "      <th>RelationshipSatisfaction</th>\n",
       "      <td>0.053535</td>\n",
       "      <td>0.007846</td>\n",
       "      <td>0.006557</td>\n",
       "      <td>-0.009118</td>\n",
       "      <td>NaN</td>\n",
       "      <td>-0.069861</td>\n",
       "      <td>0.007665</td>\n",
       "      <td>0.001330</td>\n",
       "      <td>0.034297</td>\n",
       "      <td>0.021642</td>\n",
       "      <td>...</td>\n",
       "      <td>1.000000</td>\n",
       "      <td>NaN</td>\n",
       "      <td>-0.045952</td>\n",
       "      <td>0.024054</td>\n",
       "      <td>0.002497</td>\n",
       "      <td>0.019604</td>\n",
       "      <td>0.019367</td>\n",
       "      <td>-0.015123</td>\n",
       "      <td>0.033493</td>\n",
       "      <td>-0.000867</td>\n",
       "    </tr>\n",
       "    <tr>\n",
       "      <th>StandardHours</th>\n",
       "      <td>NaN</td>\n",
       "      <td>NaN</td>\n",
       "      <td>NaN</td>\n",
       "      <td>NaN</td>\n",
       "      <td>NaN</td>\n",
       "      <td>NaN</td>\n",
       "      <td>NaN</td>\n",
       "      <td>NaN</td>\n",
       "      <td>NaN</td>\n",
       "      <td>NaN</td>\n",
       "      <td>...</td>\n",
       "      <td>NaN</td>\n",
       "      <td>NaN</td>\n",
       "      <td>NaN</td>\n",
       "      <td>NaN</td>\n",
       "      <td>NaN</td>\n",
       "      <td>NaN</td>\n",
       "      <td>NaN</td>\n",
       "      <td>NaN</td>\n",
       "      <td>NaN</td>\n",
       "      <td>NaN</td>\n",
       "    </tr>\n",
       "    <tr>\n",
       "      <th>StockOptionLevel</th>\n",
       "      <td>0.037510</td>\n",
       "      <td>0.042143</td>\n",
       "      <td>0.044872</td>\n",
       "      <td>0.018422</td>\n",
       "      <td>NaN</td>\n",
       "      <td>0.062227</td>\n",
       "      <td>0.003432</td>\n",
       "      <td>0.050263</td>\n",
       "      <td>0.021523</td>\n",
       "      <td>0.013984</td>\n",
       "      <td>...</td>\n",
       "      <td>-0.045952</td>\n",
       "      <td>NaN</td>\n",
       "      <td>1.000000</td>\n",
       "      <td>0.010136</td>\n",
       "      <td>0.011274</td>\n",
       "      <td>0.004129</td>\n",
       "      <td>0.015058</td>\n",
       "      <td>0.050818</td>\n",
       "      <td>0.014352</td>\n",
       "      <td>0.024698</td>\n",
       "    </tr>\n",
       "    <tr>\n",
       "      <th>TotalWorkingYears</th>\n",
       "      <td>0.680381</td>\n",
       "      <td>0.014515</td>\n",
       "      <td>0.004628</td>\n",
       "      <td>0.148280</td>\n",
       "      <td>NaN</td>\n",
       "      <td>-0.014365</td>\n",
       "      <td>-0.002693</td>\n",
       "      <td>-0.002334</td>\n",
       "      <td>-0.005533</td>\n",
       "      <td>0.782208</td>\n",
       "      <td>...</td>\n",
       "      <td>0.024054</td>\n",
       "      <td>NaN</td>\n",
       "      <td>0.010136</td>\n",
       "      <td>1.000000</td>\n",
       "      <td>-0.035662</td>\n",
       "      <td>0.001008</td>\n",
       "      <td>0.628133</td>\n",
       "      <td>0.460365</td>\n",
       "      <td>0.404858</td>\n",
       "      <td>0.459188</td>\n",
       "    </tr>\n",
       "    <tr>\n",
       "      <th>TrainingTimesLastYear</th>\n",
       "      <td>-0.019621</td>\n",
       "      <td>0.002453</td>\n",
       "      <td>-0.036942</td>\n",
       "      <td>-0.025100</td>\n",
       "      <td>NaN</td>\n",
       "      <td>0.023603</td>\n",
       "      <td>-0.019359</td>\n",
       "      <td>-0.008548</td>\n",
       "      <td>-0.015338</td>\n",
       "      <td>-0.018191</td>\n",
       "      <td>...</td>\n",
       "      <td>0.002497</td>\n",
       "      <td>NaN</td>\n",
       "      <td>0.011274</td>\n",
       "      <td>-0.035662</td>\n",
       "      <td>1.000000</td>\n",
       "      <td>0.028072</td>\n",
       "      <td>0.003569</td>\n",
       "      <td>-0.005738</td>\n",
       "      <td>-0.002067</td>\n",
       "      <td>-0.004096</td>\n",
       "    </tr>\n",
       "    <tr>\n",
       "      <th>WorkLifeBalance</th>\n",
       "      <td>-0.021490</td>\n",
       "      <td>-0.037848</td>\n",
       "      <td>-0.026556</td>\n",
       "      <td>0.009819</td>\n",
       "      <td>NaN</td>\n",
       "      <td>0.010309</td>\n",
       "      <td>0.027627</td>\n",
       "      <td>-0.004607</td>\n",
       "      <td>-0.014617</td>\n",
       "      <td>0.037818</td>\n",
       "      <td>...</td>\n",
       "      <td>0.019604</td>\n",
       "      <td>NaN</td>\n",
       "      <td>0.004129</td>\n",
       "      <td>0.001008</td>\n",
       "      <td>0.028072</td>\n",
       "      <td>1.000000</td>\n",
       "      <td>0.012089</td>\n",
       "      <td>0.049856</td>\n",
       "      <td>0.008941</td>\n",
       "      <td>0.002759</td>\n",
       "    </tr>\n",
       "    <tr>\n",
       "      <th>YearsAtCompany</th>\n",
       "      <td>0.311309</td>\n",
       "      <td>-0.034055</td>\n",
       "      <td>0.009508</td>\n",
       "      <td>0.069114</td>\n",
       "      <td>NaN</td>\n",
       "      <td>-0.011240</td>\n",
       "      <td>0.001458</td>\n",
       "      <td>-0.019582</td>\n",
       "      <td>-0.021355</td>\n",
       "      <td>0.534739</td>\n",
       "      <td>...</td>\n",
       "      <td>0.019367</td>\n",
       "      <td>NaN</td>\n",
       "      <td>0.015058</td>\n",
       "      <td>0.628133</td>\n",
       "      <td>0.003569</td>\n",
       "      <td>0.012089</td>\n",
       "      <td>1.000000</td>\n",
       "      <td>0.758754</td>\n",
       "      <td>0.618409</td>\n",
       "      <td>0.769212</td>\n",
       "    </tr>\n",
       "    <tr>\n",
       "      <th>YearsInCurrentRole</th>\n",
       "      <td>0.212901</td>\n",
       "      <td>0.009932</td>\n",
       "      <td>0.018845</td>\n",
       "      <td>0.060236</td>\n",
       "      <td>NaN</td>\n",
       "      <td>-0.008416</td>\n",
       "      <td>0.018007</td>\n",
       "      <td>-0.024106</td>\n",
       "      <td>0.008717</td>\n",
       "      <td>0.389447</td>\n",
       "      <td>...</td>\n",
       "      <td>-0.015123</td>\n",
       "      <td>NaN</td>\n",
       "      <td>0.050818</td>\n",
       "      <td>0.460365</td>\n",
       "      <td>-0.005738</td>\n",
       "      <td>0.049856</td>\n",
       "      <td>0.758754</td>\n",
       "      <td>1.000000</td>\n",
       "      <td>0.548056</td>\n",
       "      <td>0.714365</td>\n",
       "    </tr>\n",
       "    <tr>\n",
       "      <th>YearsSinceLastPromotion</th>\n",
       "      <td>0.216513</td>\n",
       "      <td>-0.033229</td>\n",
       "      <td>0.010029</td>\n",
       "      <td>0.054254</td>\n",
       "      <td>NaN</td>\n",
       "      <td>-0.009019</td>\n",
       "      <td>0.016194</td>\n",
       "      <td>-0.026716</td>\n",
       "      <td>-0.024184</td>\n",
       "      <td>0.353885</td>\n",
       "      <td>...</td>\n",
       "      <td>0.033493</td>\n",
       "      <td>NaN</td>\n",
       "      <td>0.014352</td>\n",
       "      <td>0.404858</td>\n",
       "      <td>-0.002067</td>\n",
       "      <td>0.008941</td>\n",
       "      <td>0.618409</td>\n",
       "      <td>0.548056</td>\n",
       "      <td>1.000000</td>\n",
       "      <td>0.510224</td>\n",
       "    </tr>\n",
       "    <tr>\n",
       "      <th>YearsWithCurrManager</th>\n",
       "      <td>0.202089</td>\n",
       "      <td>-0.026363</td>\n",
       "      <td>0.014406</td>\n",
       "      <td>0.069065</td>\n",
       "      <td>NaN</td>\n",
       "      <td>-0.009197</td>\n",
       "      <td>-0.004999</td>\n",
       "      <td>-0.020123</td>\n",
       "      <td>0.025976</td>\n",
       "      <td>0.375281</td>\n",
       "      <td>...</td>\n",
       "      <td>-0.000867</td>\n",
       "      <td>NaN</td>\n",
       "      <td>0.024698</td>\n",
       "      <td>0.459188</td>\n",
       "      <td>-0.004096</td>\n",
       "      <td>0.002759</td>\n",
       "      <td>0.769212</td>\n",
       "      <td>0.714365</td>\n",
       "      <td>0.510224</td>\n",
       "      <td>1.000000</td>\n",
       "    </tr>\n",
       "  </tbody>\n",
       "</table>\n",
       "<p>26 rows × 26 columns</p>\n",
       "</div>"
      ],
      "text/plain": [
       "                               Age  DailyRate  DistanceFromHome  Education  \\\n",
       "Age                       1.000000   0.010661         -0.001686   0.208034   \n",
       "DailyRate                 0.010661   1.000000         -0.004985  -0.016806   \n",
       "DistanceFromHome         -0.001686  -0.004985          1.000000   0.021042   \n",
       "Education                 0.208034  -0.016806          0.021042   1.000000   \n",
       "EmployeeCount                  NaN        NaN               NaN        NaN   \n",
       "EmployeeNumber           -0.010145  -0.050990          0.032916   0.042070   \n",
       "EnvironmentSatisfaction   0.010146   0.018355         -0.016075  -0.027128   \n",
       "HourlyRate                0.024287   0.023381          0.031131   0.016775   \n",
       "JobInvolvement            0.029820   0.046135          0.008783   0.042438   \n",
       "JobLevel                  0.509604   0.002966          0.005303   0.101589   \n",
       "JobSatisfaction          -0.004892   0.030571         -0.003669  -0.011296   \n",
       "MonthlyIncome             0.497855   0.007707         -0.017014   0.094961   \n",
       "MonthlyRate               0.028051  -0.032182          0.027473  -0.026084   \n",
       "NumCompaniesWorked        0.299635   0.038153         -0.029251   0.126317   \n",
       "PercentSalaryHike         0.003634   0.022704          0.040235  -0.011111   \n",
       "PerformanceRating         0.001904   0.000473          0.027110  -0.024539   \n",
       "RelationshipSatisfaction  0.053535   0.007846          0.006557  -0.009118   \n",
       "StandardHours                  NaN        NaN               NaN        NaN   \n",
       "StockOptionLevel          0.037510   0.042143          0.044872   0.018422   \n",
       "TotalWorkingYears         0.680381   0.014515          0.004628   0.148280   \n",
       "TrainingTimesLastYear    -0.019621   0.002453         -0.036942  -0.025100   \n",
       "WorkLifeBalance          -0.021490  -0.037848         -0.026556   0.009819   \n",
       "YearsAtCompany            0.311309  -0.034055          0.009508   0.069114   \n",
       "YearsInCurrentRole        0.212901   0.009932          0.018845   0.060236   \n",
       "YearsSinceLastPromotion   0.216513  -0.033229          0.010029   0.054254   \n",
       "YearsWithCurrManager      0.202089  -0.026363          0.014406   0.069065   \n",
       "\n",
       "                          EmployeeCount  EmployeeNumber  \\\n",
       "Age                                 NaN       -0.010145   \n",
       "DailyRate                           NaN       -0.050990   \n",
       "DistanceFromHome                    NaN        0.032916   \n",
       "Education                           NaN        0.042070   \n",
       "EmployeeCount                       NaN             NaN   \n",
       "EmployeeNumber                      NaN        1.000000   \n",
       "EnvironmentSatisfaction             NaN        0.017621   \n",
       "HourlyRate                          NaN        0.035179   \n",
       "JobInvolvement                      NaN       -0.006888   \n",
       "JobLevel                            NaN       -0.018519   \n",
       "JobSatisfaction                     NaN       -0.046247   \n",
       "MonthlyIncome                       NaN       -0.014829   \n",
       "MonthlyRate                         NaN        0.012648   \n",
       "NumCompaniesWorked                  NaN       -0.001251   \n",
       "PercentSalaryHike                   NaN       -0.012944   \n",
       "PerformanceRating                   NaN       -0.020359   \n",
       "RelationshipSatisfaction            NaN       -0.069861   \n",
       "StandardHours                       NaN             NaN   \n",
       "StockOptionLevel                    NaN        0.062227   \n",
       "TotalWorkingYears                   NaN       -0.014365   \n",
       "TrainingTimesLastYear               NaN        0.023603   \n",
       "WorkLifeBalance                     NaN        0.010309   \n",
       "YearsAtCompany                      NaN       -0.011240   \n",
       "YearsInCurrentRole                  NaN       -0.008416   \n",
       "YearsSinceLastPromotion             NaN       -0.009019   \n",
       "YearsWithCurrManager                NaN       -0.009197   \n",
       "\n",
       "                          EnvironmentSatisfaction  HourlyRate  JobInvolvement  \\\n",
       "Age                                      0.010146    0.024287        0.029820   \n",
       "DailyRate                                0.018355    0.023381        0.046135   \n",
       "DistanceFromHome                        -0.016075    0.031131        0.008783   \n",
       "Education                               -0.027128    0.016775        0.042438   \n",
       "EmployeeCount                                 NaN         NaN             NaN   \n",
       "EmployeeNumber                           0.017621    0.035179       -0.006888   \n",
       "EnvironmentSatisfaction                  1.000000   -0.049857       -0.008278   \n",
       "HourlyRate                              -0.049857    1.000000        0.042861   \n",
       "JobInvolvement                          -0.008278    0.042861        1.000000   \n",
       "JobLevel                                 0.001212   -0.027853       -0.012630   \n",
       "JobSatisfaction                         -0.006784   -0.071335       -0.021476   \n",
       "MonthlyIncome                           -0.006259   -0.015794       -0.015271   \n",
       "MonthlyRate                              0.037600   -0.015297       -0.016322   \n",
       "NumCompaniesWorked                       0.012594    0.022157        0.015012   \n",
       "PercentSalaryHike                       -0.031701   -0.009062       -0.017205   \n",
       "PerformanceRating                       -0.029548   -0.002172       -0.029071   \n",
       "RelationshipSatisfaction                 0.007665    0.001330        0.034297   \n",
       "StandardHours                                 NaN         NaN             NaN   \n",
       "StockOptionLevel                         0.003432    0.050263        0.021523   \n",
       "TotalWorkingYears                       -0.002693   -0.002334       -0.005533   \n",
       "TrainingTimesLastYear                   -0.019359   -0.008548       -0.015338   \n",
       "WorkLifeBalance                          0.027627   -0.004607       -0.014617   \n",
       "YearsAtCompany                           0.001458   -0.019582       -0.021355   \n",
       "YearsInCurrentRole                       0.018007   -0.024106        0.008717   \n",
       "YearsSinceLastPromotion                  0.016194   -0.026716       -0.024184   \n",
       "YearsWithCurrManager                    -0.004999   -0.020123        0.025976   \n",
       "\n",
       "                          JobLevel  ...  RelationshipSatisfaction  \\\n",
       "Age                       0.509604  ...                  0.053535   \n",
       "DailyRate                 0.002966  ...                  0.007846   \n",
       "DistanceFromHome          0.005303  ...                  0.006557   \n",
       "Education                 0.101589  ...                 -0.009118   \n",
       "EmployeeCount                  NaN  ...                       NaN   \n",
       "EmployeeNumber           -0.018519  ...                 -0.069861   \n",
       "EnvironmentSatisfaction   0.001212  ...                  0.007665   \n",
       "HourlyRate               -0.027853  ...                  0.001330   \n",
       "JobInvolvement           -0.012630  ...                  0.034297   \n",
       "JobLevel                  1.000000  ...                  0.021642   \n",
       "JobSatisfaction          -0.001944  ...                 -0.012454   \n",
       "MonthlyIncome             0.950300  ...                  0.025873   \n",
       "MonthlyRate               0.039563  ...                 -0.004085   \n",
       "NumCompaniesWorked        0.142501  ...                  0.052733   \n",
       "PercentSalaryHike        -0.034730  ...                 -0.040490   \n",
       "PerformanceRating        -0.021222  ...                 -0.031351   \n",
       "RelationshipSatisfaction  0.021642  ...                  1.000000   \n",
       "StandardHours                  NaN  ...                       NaN   \n",
       "StockOptionLevel          0.013984  ...                 -0.045952   \n",
       "TotalWorkingYears         0.782208  ...                  0.024054   \n",
       "TrainingTimesLastYear    -0.018191  ...                  0.002497   \n",
       "WorkLifeBalance           0.037818  ...                  0.019604   \n",
       "YearsAtCompany            0.534739  ...                  0.019367   \n",
       "YearsInCurrentRole        0.389447  ...                 -0.015123   \n",
       "YearsSinceLastPromotion   0.353885  ...                  0.033493   \n",
       "YearsWithCurrManager      0.375281  ...                 -0.000867   \n",
       "\n",
       "                          StandardHours  StockOptionLevel  TotalWorkingYears  \\\n",
       "Age                                 NaN          0.037510           0.680381   \n",
       "DailyRate                           NaN          0.042143           0.014515   \n",
       "DistanceFromHome                    NaN          0.044872           0.004628   \n",
       "Education                           NaN          0.018422           0.148280   \n",
       "EmployeeCount                       NaN               NaN                NaN   \n",
       "EmployeeNumber                      NaN          0.062227          -0.014365   \n",
       "EnvironmentSatisfaction             NaN          0.003432          -0.002693   \n",
       "HourlyRate                          NaN          0.050263          -0.002334   \n",
       "JobInvolvement                      NaN          0.021523          -0.005533   \n",
       "JobLevel                            NaN          0.013984           0.782208   \n",
       "JobSatisfaction                     NaN          0.010690          -0.020185   \n",
       "MonthlyIncome                       NaN          0.005408           0.772893   \n",
       "MonthlyRate                         NaN         -0.034323           0.026442   \n",
       "NumCompaniesWorked                  NaN          0.030075           0.237639   \n",
       "PercentSalaryHike                   NaN          0.007528          -0.020608   \n",
       "PerformanceRating                   NaN          0.003506           0.006744   \n",
       "RelationshipSatisfaction            NaN         -0.045952           0.024054   \n",
       "StandardHours                       NaN               NaN                NaN   \n",
       "StockOptionLevel                    NaN          1.000000           0.010136   \n",
       "TotalWorkingYears                   NaN          0.010136           1.000000   \n",
       "TrainingTimesLastYear               NaN          0.011274          -0.035662   \n",
       "WorkLifeBalance                     NaN          0.004129           0.001008   \n",
       "YearsAtCompany                      NaN          0.015058           0.628133   \n",
       "YearsInCurrentRole                  NaN          0.050818           0.460365   \n",
       "YearsSinceLastPromotion             NaN          0.014352           0.404858   \n",
       "YearsWithCurrManager                NaN          0.024698           0.459188   \n",
       "\n",
       "                          TrainingTimesLastYear  WorkLifeBalance  \\\n",
       "Age                                   -0.019621        -0.021490   \n",
       "DailyRate                              0.002453        -0.037848   \n",
       "DistanceFromHome                      -0.036942        -0.026556   \n",
       "Education                             -0.025100         0.009819   \n",
       "EmployeeCount                               NaN              NaN   \n",
       "EmployeeNumber                         0.023603         0.010309   \n",
       "EnvironmentSatisfaction               -0.019359         0.027627   \n",
       "HourlyRate                            -0.008548        -0.004607   \n",
       "JobInvolvement                        -0.015338        -0.014617   \n",
       "JobLevel                              -0.018191         0.037818   \n",
       "JobSatisfaction                       -0.005779        -0.019459   \n",
       "MonthlyIncome                         -0.021736         0.030683   \n",
       "MonthlyRate                            0.001467         0.007963   \n",
       "NumCompaniesWorked                    -0.066054        -0.008366   \n",
       "PercentSalaryHike                     -0.005221        -0.003280   \n",
       "PerformanceRating                     -0.015579         0.002572   \n",
       "RelationshipSatisfaction               0.002497         0.019604   \n",
       "StandardHours                               NaN              NaN   \n",
       "StockOptionLevel                       0.011274         0.004129   \n",
       "TotalWorkingYears                     -0.035662         0.001008   \n",
       "TrainingTimesLastYear                  1.000000         0.028072   \n",
       "WorkLifeBalance                        0.028072         1.000000   \n",
       "YearsAtCompany                         0.003569         0.012089   \n",
       "YearsInCurrentRole                    -0.005738         0.049856   \n",
       "YearsSinceLastPromotion               -0.002067         0.008941   \n",
       "YearsWithCurrManager                  -0.004096         0.002759   \n",
       "\n",
       "                          YearsAtCompany  YearsInCurrentRole  \\\n",
       "Age                             0.311309            0.212901   \n",
       "DailyRate                      -0.034055            0.009932   \n",
       "DistanceFromHome                0.009508            0.018845   \n",
       "Education                       0.069114            0.060236   \n",
       "EmployeeCount                        NaN                 NaN   \n",
       "EmployeeNumber                 -0.011240           -0.008416   \n",
       "EnvironmentSatisfaction         0.001458            0.018007   \n",
       "HourlyRate                     -0.019582           -0.024106   \n",
       "JobInvolvement                 -0.021355            0.008717   \n",
       "JobLevel                        0.534739            0.389447   \n",
       "JobSatisfaction                -0.003803           -0.002305   \n",
       "MonthlyIncome                   0.514285            0.363818   \n",
       "MonthlyRate                    -0.023655           -0.012815   \n",
       "NumCompaniesWorked             -0.118421           -0.090754   \n",
       "PercentSalaryHike              -0.035991           -0.001520   \n",
       "PerformanceRating               0.003435            0.034986   \n",
       "RelationshipSatisfaction        0.019367           -0.015123   \n",
       "StandardHours                        NaN                 NaN   \n",
       "StockOptionLevel                0.015058            0.050818   \n",
       "TotalWorkingYears               0.628133            0.460365   \n",
       "TrainingTimesLastYear           0.003569           -0.005738   \n",
       "WorkLifeBalance                 0.012089            0.049856   \n",
       "YearsAtCompany                  1.000000            0.758754   \n",
       "YearsInCurrentRole              0.758754            1.000000   \n",
       "YearsSinceLastPromotion         0.618409            0.548056   \n",
       "YearsWithCurrManager            0.769212            0.714365   \n",
       "\n",
       "                          YearsSinceLastPromotion  YearsWithCurrManager  \n",
       "Age                                      0.216513              0.202089  \n",
       "DailyRate                               -0.033229             -0.026363  \n",
       "DistanceFromHome                         0.010029              0.014406  \n",
       "Education                                0.054254              0.069065  \n",
       "EmployeeCount                                 NaN                   NaN  \n",
       "EmployeeNumber                          -0.009019             -0.009197  \n",
       "EnvironmentSatisfaction                  0.016194             -0.004999  \n",
       "HourlyRate                              -0.026716             -0.020123  \n",
       "JobInvolvement                          -0.024184              0.025976  \n",
       "JobLevel                                 0.353885              0.375281  \n",
       "JobSatisfaction                         -0.018214             -0.027656  \n",
       "MonthlyIncome                            0.344978              0.344079  \n",
       "MonthlyRate                              0.001567             -0.036746  \n",
       "NumCompaniesWorked                      -0.036814             -0.110319  \n",
       "PercentSalaryHike                       -0.022154             -0.011985  \n",
       "PerformanceRating                        0.017896              0.022827  \n",
       "RelationshipSatisfaction                 0.033493             -0.000867  \n",
       "StandardHours                                 NaN                   NaN  \n",
       "StockOptionLevel                         0.014352              0.024698  \n",
       "TotalWorkingYears                        0.404858              0.459188  \n",
       "TrainingTimesLastYear                   -0.002067             -0.004096  \n",
       "WorkLifeBalance                          0.008941              0.002759  \n",
       "YearsAtCompany                           0.618409              0.769212  \n",
       "YearsInCurrentRole                       0.548056              0.714365  \n",
       "YearsSinceLastPromotion                  1.000000              0.510224  \n",
       "YearsWithCurrManager                     0.510224              1.000000  \n",
       "\n",
       "[26 rows x 26 columns]"
      ]
     },
     "execution_count": 30,
     "metadata": {},
     "output_type": "execute_result"
    }
   ],
   "source": [
    "data.corr(numeric_only=True).T"
   ]
  },
  {
   "cell_type": "markdown",
   "metadata": {},
   "source": [
    "### Sorting in descending order"
   ]
  },
  {
   "cell_type": "code",
   "execution_count": 32,
   "metadata": {},
   "outputs": [
    {
     "name": "stdout",
     "output_type": "stream",
     "text": [
      "Top two records based on descending order for age are:       Age Attrition BusinessTravel  DailyRate              Department  \\\n",
      "1209   60        No  Travel_Rarely        370  Research & Development   \n",
      "411    60        No  Travel_Rarely        422  Research & Development   \n",
      "\n",
      "      DistanceFromHome  Education EducationField  EmployeeCount  \\\n",
      "1209                 1          4        Medical              1   \n",
      "411                  7          3  Life Sciences              1   \n",
      "\n",
      "      EmployeeNumber  ...  RelationshipSatisfaction StandardHours  \\\n",
      "1209            1697  ...                         3            80   \n",
      "411              549  ...                         4            80   \n",
      "\n",
      "      StockOptionLevel  TotalWorkingYears  TrainingTimesLastYear  \\\n",
      "1209                 1                 19                      2   \n",
      "411                  0                 33                      5   \n",
      "\n",
      "     WorkLifeBalance  YearsAtCompany YearsInCurrentRole  \\\n",
      "1209               4               1                  0   \n",
      "411                1              29                  8   \n",
      "\n",
      "      YearsSinceLastPromotion  YearsWithCurrManager  \n",
      "1209                        0                     0  \n",
      "411                        11                    10  \n",
      "\n",
      "[2 rows x 35 columns]\n",
      "Bottom two records based on descending order for age are:       Age Attrition     BusinessTravel  DailyRate Department  \\\n",
      "1153   18       Yes  Travel_Frequently        544      Sales   \n",
      "457    18       Yes  Travel_Frequently       1306      Sales   \n",
      "\n",
      "      DistanceFromHome  Education EducationField  EmployeeCount  \\\n",
      "1153                 3          2        Medical              1   \n",
      "457                  5          3      Marketing              1   \n",
      "\n",
      "      EmployeeNumber  ...  RelationshipSatisfaction StandardHours  \\\n",
      "1153            1624  ...                         3            80   \n",
      "457              614  ...                         4            80   \n",
      "\n",
      "      StockOptionLevel  TotalWorkingYears  TrainingTimesLastYear  \\\n",
      "1153                 0                  0                      2   \n",
      "457                  0                  0                      3   \n",
      "\n",
      "     WorkLifeBalance  YearsAtCompany YearsInCurrentRole  \\\n",
      "1153               4               0                  0   \n",
      "457                3               0                  0   \n",
      "\n",
      "      YearsSinceLastPromotion  YearsWithCurrManager  \n",
      "1153                        0                     0  \n",
      "457                         0                     0  \n",
      "\n",
      "[2 rows x 35 columns]\n"
     ]
    }
   ],
   "source": [
    "print(\"Top two records based on descending order for age are:\",data.sort_values(by='Age',ascending=False).head(2))\n",
    "print(\"Bottom two records based on descending order for age are:\",data.sort_values(by='Age',ascending=False).tail(2))"
   ]
  },
  {
   "cell_type": "markdown",
   "metadata": {},
   "source": [
    "### Sorting in ascending order"
   ]
  },
  {
   "cell_type": "code",
   "execution_count": 33,
   "metadata": {},
   "outputs": [
    {
     "name": "stdout",
     "output_type": "stream",
     "text": [
      "Top two records based on descending order for TP are:      Age Attrition     BusinessTravel  DailyRate              Department  \\\n",
      "457   18       Yes  Travel_Frequently       1306                   Sales   \n",
      "828   18       Yes         Non-Travel        247  Research & Development   \n",
      "\n",
      "     DistanceFromHome  Education EducationField  EmployeeCount  \\\n",
      "457                 5          3      Marketing              1   \n",
      "828                 8          1        Medical              1   \n",
      "\n",
      "     EmployeeNumber  ...  RelationshipSatisfaction StandardHours  \\\n",
      "457             614  ...                         4            80   \n",
      "828            1156  ...                         4            80   \n",
      "\n",
      "     StockOptionLevel  TotalWorkingYears  TrainingTimesLastYear  \\\n",
      "457                 0                  0                      3   \n",
      "828                 0                  0                      0   \n",
      "\n",
      "    WorkLifeBalance  YearsAtCompany YearsInCurrentRole  \\\n",
      "457               3               0                  0   \n",
      "828               3               0                  0   \n",
      "\n",
      "     YearsSinceLastPromotion  YearsWithCurrManager  \n",
      "457                        0                     0  \n",
      "828                        0                     0  \n",
      "\n",
      "[2 rows x 35 columns]\n",
      "Bottom two records based on descending order for TP are:       Age Attrition BusinessTravel  DailyRate              Department  \\\n",
      "879    60        No  Travel_Rarely        696                   Sales   \n",
      "1209   60        No  Travel_Rarely        370  Research & Development   \n",
      "\n",
      "      DistanceFromHome  Education EducationField  EmployeeCount  \\\n",
      "879                  7          4      Marketing              1   \n",
      "1209                 1          4        Medical              1   \n",
      "\n",
      "      EmployeeNumber  ...  RelationshipSatisfaction StandardHours  \\\n",
      "879             1233  ...                         2            80   \n",
      "1209            1697  ...                         3            80   \n",
      "\n",
      "      StockOptionLevel  TotalWorkingYears  TrainingTimesLastYear  \\\n",
      "879                  1                 12                      3   \n",
      "1209                 1                 19                      2   \n",
      "\n",
      "     WorkLifeBalance  YearsAtCompany YearsInCurrentRole  \\\n",
      "879                3              11                  7   \n",
      "1209               4               1                  0   \n",
      "\n",
      "      YearsSinceLastPromotion  YearsWithCurrManager  \n",
      "879                         1                     9  \n",
      "1209                        0                     0  \n",
      "\n",
      "[2 rows x 35 columns]\n"
     ]
    }
   ],
   "source": [
    "print(\"Top two records based on descending order for TP are:\",data.sort_values(by='Age',ascending=True).head(2))\n",
    "print(\"Bottom two records based on descending order for TP are:\",data.sort_values(by='Age',ascending=True).tail(2))"
   ]
  },
  {
   "cell_type": "markdown",
   "metadata": {},
   "source": [
    "# 34. Program for using relational operators for filtering the data"
   ]
  },
  {
   "cell_type": "markdown",
   "metadata": {},
   "source": [
    "### Displaying the first 2 records where Department is Sales"
   ]
  },
  {
   "cell_type": "code",
   "execution_count": 34,
   "metadata": {},
   "outputs": [
    {
     "name": "stdout",
     "output_type": "stream",
     "text": [
      "First 2 records of sales department are: \n",
      "     Age Attrition BusinessTravel  DailyRate Department  DistanceFromHome  \\\n",
      "0    41       Yes  Travel_Rarely       1102      Sales                 1   \n",
      "18   53        No  Travel_Rarely       1219      Sales                 2   \n",
      "\n",
      "    Education EducationField  EmployeeCount  EmployeeNumber  ...  \\\n",
      "0           2  Life Sciences              1               1  ...   \n",
      "18          4  Life Sciences              1              23  ...   \n",
      "\n",
      "    RelationshipSatisfaction StandardHours  StockOptionLevel  \\\n",
      "0                          1            80                 0   \n",
      "18                         3            80                 0   \n",
      "\n",
      "    TotalWorkingYears  TrainingTimesLastYear WorkLifeBalance  YearsAtCompany  \\\n",
      "0                   8                      0               1               6   \n",
      "18                 31                      3               3              25   \n",
      "\n",
      "   YearsInCurrentRole  YearsSinceLastPromotion  YearsWithCurrManager  \n",
      "0                   4                        0                     5  \n",
      "18                  8                        3                     7  \n",
      "\n",
      "[2 rows x 35 columns]\n"
     ]
    }
   ],
   "source": [
    "sales_data = data[data['Department']==\"Sales\"]\n",
    "print(\"First 2 records of sales department are: \\n\",sales_data.head(2))"
   ]
  },
  {
   "cell_type": "code",
   "execution_count": 35,
   "metadata": {},
   "outputs": [
    {
     "data": {
      "text/html": [
       "<div>\n",
       "<style scoped>\n",
       "    .dataframe tbody tr th:only-of-type {\n",
       "        vertical-align: middle;\n",
       "    }\n",
       "\n",
       "    .dataframe tbody tr th {\n",
       "        vertical-align: top;\n",
       "    }\n",
       "\n",
       "    .dataframe thead th {\n",
       "        text-align: right;\n",
       "    }\n",
       "</style>\n",
       "<table border=\"1\" class=\"dataframe\">\n",
       "  <thead>\n",
       "    <tr style=\"text-align: right;\">\n",
       "      <th></th>\n",
       "      <th>Age</th>\n",
       "      <th>Attrition</th>\n",
       "      <th>BusinessTravel</th>\n",
       "      <th>DailyRate</th>\n",
       "      <th>Department</th>\n",
       "      <th>DistanceFromHome</th>\n",
       "      <th>Education</th>\n",
       "      <th>EducationField</th>\n",
       "      <th>EmployeeCount</th>\n",
       "      <th>EmployeeNumber</th>\n",
       "      <th>...</th>\n",
       "      <th>RelationshipSatisfaction</th>\n",
       "      <th>StandardHours</th>\n",
       "      <th>StockOptionLevel</th>\n",
       "      <th>TotalWorkingYears</th>\n",
       "      <th>TrainingTimesLastYear</th>\n",
       "      <th>WorkLifeBalance</th>\n",
       "      <th>YearsAtCompany</th>\n",
       "      <th>YearsInCurrentRole</th>\n",
       "      <th>YearsSinceLastPromotion</th>\n",
       "      <th>YearsWithCurrManager</th>\n",
       "    </tr>\n",
       "  </thead>\n",
       "  <tbody>\n",
       "    <tr>\n",
       "      <th>0</th>\n",
       "      <td>41</td>\n",
       "      <td>Yes</td>\n",
       "      <td>Travel_Rarely</td>\n",
       "      <td>1102</td>\n",
       "      <td>Sales</td>\n",
       "      <td>1</td>\n",
       "      <td>2</td>\n",
       "      <td>Life Sciences</td>\n",
       "      <td>1</td>\n",
       "      <td>1</td>\n",
       "      <td>...</td>\n",
       "      <td>1</td>\n",
       "      <td>80</td>\n",
       "      <td>0</td>\n",
       "      <td>8</td>\n",
       "      <td>0</td>\n",
       "      <td>1</td>\n",
       "      <td>6</td>\n",
       "      <td>4</td>\n",
       "      <td>0</td>\n",
       "      <td>5</td>\n",
       "    </tr>\n",
       "    <tr>\n",
       "      <th>18</th>\n",
       "      <td>53</td>\n",
       "      <td>No</td>\n",
       "      <td>Travel_Rarely</td>\n",
       "      <td>1219</td>\n",
       "      <td>Sales</td>\n",
       "      <td>2</td>\n",
       "      <td>4</td>\n",
       "      <td>Life Sciences</td>\n",
       "      <td>1</td>\n",
       "      <td>23</td>\n",
       "      <td>...</td>\n",
       "      <td>3</td>\n",
       "      <td>80</td>\n",
       "      <td>0</td>\n",
       "      <td>31</td>\n",
       "      <td>3</td>\n",
       "      <td>3</td>\n",
       "      <td>25</td>\n",
       "      <td>8</td>\n",
       "      <td>3</td>\n",
       "      <td>7</td>\n",
       "    </tr>\n",
       "    <tr>\n",
       "      <th>21</th>\n",
       "      <td>36</td>\n",
       "      <td>Yes</td>\n",
       "      <td>Travel_Rarely</td>\n",
       "      <td>1218</td>\n",
       "      <td>Sales</td>\n",
       "      <td>9</td>\n",
       "      <td>4</td>\n",
       "      <td>Life Sciences</td>\n",
       "      <td>1</td>\n",
       "      <td>27</td>\n",
       "      <td>...</td>\n",
       "      <td>2</td>\n",
       "      <td>80</td>\n",
       "      <td>0</td>\n",
       "      <td>10</td>\n",
       "      <td>4</td>\n",
       "      <td>3</td>\n",
       "      <td>5</td>\n",
       "      <td>3</td>\n",
       "      <td>0</td>\n",
       "      <td>3</td>\n",
       "    </tr>\n",
       "    <tr>\n",
       "      <th>27</th>\n",
       "      <td>42</td>\n",
       "      <td>No</td>\n",
       "      <td>Travel_Rarely</td>\n",
       "      <td>691</td>\n",
       "      <td>Sales</td>\n",
       "      <td>8</td>\n",
       "      <td>4</td>\n",
       "      <td>Marketing</td>\n",
       "      <td>1</td>\n",
       "      <td>35</td>\n",
       "      <td>...</td>\n",
       "      <td>4</td>\n",
       "      <td>80</td>\n",
       "      <td>1</td>\n",
       "      <td>10</td>\n",
       "      <td>2</td>\n",
       "      <td>3</td>\n",
       "      <td>9</td>\n",
       "      <td>7</td>\n",
       "      <td>4</td>\n",
       "      <td>2</td>\n",
       "    </tr>\n",
       "    <tr>\n",
       "      <th>29</th>\n",
       "      <td>46</td>\n",
       "      <td>No</td>\n",
       "      <td>Travel_Rarely</td>\n",
       "      <td>705</td>\n",
       "      <td>Sales</td>\n",
       "      <td>2</td>\n",
       "      <td>4</td>\n",
       "      <td>Marketing</td>\n",
       "      <td>1</td>\n",
       "      <td>38</td>\n",
       "      <td>...</td>\n",
       "      <td>4</td>\n",
       "      <td>80</td>\n",
       "      <td>0</td>\n",
       "      <td>22</td>\n",
       "      <td>2</td>\n",
       "      <td>2</td>\n",
       "      <td>2</td>\n",
       "      <td>2</td>\n",
       "      <td>2</td>\n",
       "      <td>1</td>\n",
       "    </tr>\n",
       "    <tr>\n",
       "      <th>...</th>\n",
       "      <td>...</td>\n",
       "      <td>...</td>\n",
       "      <td>...</td>\n",
       "      <td>...</td>\n",
       "      <td>...</td>\n",
       "      <td>...</td>\n",
       "      <td>...</td>\n",
       "      <td>...</td>\n",
       "      <td>...</td>\n",
       "      <td>...</td>\n",
       "      <td>...</td>\n",
       "      <td>...</td>\n",
       "      <td>...</td>\n",
       "      <td>...</td>\n",
       "      <td>...</td>\n",
       "      <td>...</td>\n",
       "      <td>...</td>\n",
       "      <td>...</td>\n",
       "      <td>...</td>\n",
       "      <td>...</td>\n",
       "      <td>...</td>\n",
       "    </tr>\n",
       "    <tr>\n",
       "      <th>1454</th>\n",
       "      <td>45</td>\n",
       "      <td>No</td>\n",
       "      <td>Travel_Rarely</td>\n",
       "      <td>374</td>\n",
       "      <td>Sales</td>\n",
       "      <td>20</td>\n",
       "      <td>3</td>\n",
       "      <td>Life Sciences</td>\n",
       "      <td>1</td>\n",
       "      <td>2046</td>\n",
       "      <td>...</td>\n",
       "      <td>3</td>\n",
       "      <td>80</td>\n",
       "      <td>0</td>\n",
       "      <td>8</td>\n",
       "      <td>3</td>\n",
       "      <td>3</td>\n",
       "      <td>5</td>\n",
       "      <td>3</td>\n",
       "      <td>0</td>\n",
       "      <td>1</td>\n",
       "    </tr>\n",
       "    <tr>\n",
       "      <th>1461</th>\n",
       "      <td>50</td>\n",
       "      <td>Yes</td>\n",
       "      <td>Travel_Rarely</td>\n",
       "      <td>410</td>\n",
       "      <td>Sales</td>\n",
       "      <td>28</td>\n",
       "      <td>3</td>\n",
       "      <td>Marketing</td>\n",
       "      <td>1</td>\n",
       "      <td>2055</td>\n",
       "      <td>...</td>\n",
       "      <td>2</td>\n",
       "      <td>80</td>\n",
       "      <td>1</td>\n",
       "      <td>20</td>\n",
       "      <td>3</td>\n",
       "      <td>3</td>\n",
       "      <td>3</td>\n",
       "      <td>2</td>\n",
       "      <td>2</td>\n",
       "      <td>0</td>\n",
       "    </tr>\n",
       "    <tr>\n",
       "      <th>1462</th>\n",
       "      <td>39</td>\n",
       "      <td>No</td>\n",
       "      <td>Travel_Rarely</td>\n",
       "      <td>722</td>\n",
       "      <td>Sales</td>\n",
       "      <td>24</td>\n",
       "      <td>1</td>\n",
       "      <td>Marketing</td>\n",
       "      <td>1</td>\n",
       "      <td>2056</td>\n",
       "      <td>...</td>\n",
       "      <td>1</td>\n",
       "      <td>80</td>\n",
       "      <td>1</td>\n",
       "      <td>21</td>\n",
       "      <td>2</td>\n",
       "      <td>2</td>\n",
       "      <td>20</td>\n",
       "      <td>9</td>\n",
       "      <td>9</td>\n",
       "      <td>6</td>\n",
       "    </tr>\n",
       "    <tr>\n",
       "      <th>1464</th>\n",
       "      <td>26</td>\n",
       "      <td>No</td>\n",
       "      <td>Travel_Rarely</td>\n",
       "      <td>1167</td>\n",
       "      <td>Sales</td>\n",
       "      <td>5</td>\n",
       "      <td>3</td>\n",
       "      <td>Other</td>\n",
       "      <td>1</td>\n",
       "      <td>2060</td>\n",
       "      <td>...</td>\n",
       "      <td>4</td>\n",
       "      <td>80</td>\n",
       "      <td>0</td>\n",
       "      <td>5</td>\n",
       "      <td>2</td>\n",
       "      <td>3</td>\n",
       "      <td>4</td>\n",
       "      <td>2</td>\n",
       "      <td>0</td>\n",
       "      <td>0</td>\n",
       "    </tr>\n",
       "    <tr>\n",
       "      <th>1468</th>\n",
       "      <td>49</td>\n",
       "      <td>No</td>\n",
       "      <td>Travel_Frequently</td>\n",
       "      <td>1023</td>\n",
       "      <td>Sales</td>\n",
       "      <td>2</td>\n",
       "      <td>3</td>\n",
       "      <td>Medical</td>\n",
       "      <td>1</td>\n",
       "      <td>2065</td>\n",
       "      <td>...</td>\n",
       "      <td>4</td>\n",
       "      <td>80</td>\n",
       "      <td>0</td>\n",
       "      <td>17</td>\n",
       "      <td>3</td>\n",
       "      <td>2</td>\n",
       "      <td>9</td>\n",
       "      <td>6</td>\n",
       "      <td>0</td>\n",
       "      <td>8</td>\n",
       "    </tr>\n",
       "  </tbody>\n",
       "</table>\n",
       "<p>446 rows × 35 columns</p>\n",
       "</div>"
      ],
      "text/plain": [
       "      Age Attrition     BusinessTravel  DailyRate Department  \\\n",
       "0      41       Yes      Travel_Rarely       1102      Sales   \n",
       "18     53        No      Travel_Rarely       1219      Sales   \n",
       "21     36       Yes      Travel_Rarely       1218      Sales   \n",
       "27     42        No      Travel_Rarely        691      Sales   \n",
       "29     46        No      Travel_Rarely        705      Sales   \n",
       "...   ...       ...                ...        ...        ...   \n",
       "1454   45        No      Travel_Rarely        374      Sales   \n",
       "1461   50       Yes      Travel_Rarely        410      Sales   \n",
       "1462   39        No      Travel_Rarely        722      Sales   \n",
       "1464   26        No      Travel_Rarely       1167      Sales   \n",
       "1468   49        No  Travel_Frequently       1023      Sales   \n",
       "\n",
       "      DistanceFromHome  Education EducationField  EmployeeCount  \\\n",
       "0                    1          2  Life Sciences              1   \n",
       "18                   2          4  Life Sciences              1   \n",
       "21                   9          4  Life Sciences              1   \n",
       "27                   8          4      Marketing              1   \n",
       "29                   2          4      Marketing              1   \n",
       "...                ...        ...            ...            ...   \n",
       "1454                20          3  Life Sciences              1   \n",
       "1461                28          3      Marketing              1   \n",
       "1462                24          1      Marketing              1   \n",
       "1464                 5          3          Other              1   \n",
       "1468                 2          3        Medical              1   \n",
       "\n",
       "      EmployeeNumber  ...  RelationshipSatisfaction StandardHours  \\\n",
       "0                  1  ...                         1            80   \n",
       "18                23  ...                         3            80   \n",
       "21                27  ...                         2            80   \n",
       "27                35  ...                         4            80   \n",
       "29                38  ...                         4            80   \n",
       "...              ...  ...                       ...           ...   \n",
       "1454            2046  ...                         3            80   \n",
       "1461            2055  ...                         2            80   \n",
       "1462            2056  ...                         1            80   \n",
       "1464            2060  ...                         4            80   \n",
       "1468            2065  ...                         4            80   \n",
       "\n",
       "      StockOptionLevel  TotalWorkingYears  TrainingTimesLastYear  \\\n",
       "0                    0                  8                      0   \n",
       "18                   0                 31                      3   \n",
       "21                   0                 10                      4   \n",
       "27                   1                 10                      2   \n",
       "29                   0                 22                      2   \n",
       "...                ...                ...                    ...   \n",
       "1454                 0                  8                      3   \n",
       "1461                 1                 20                      3   \n",
       "1462                 1                 21                      2   \n",
       "1464                 0                  5                      2   \n",
       "1468                 0                 17                      3   \n",
       "\n",
       "     WorkLifeBalance  YearsAtCompany YearsInCurrentRole  \\\n",
       "0                  1               6                  4   \n",
       "18                 3              25                  8   \n",
       "21                 3               5                  3   \n",
       "27                 3               9                  7   \n",
       "29                 2               2                  2   \n",
       "...              ...             ...                ...   \n",
       "1454               3               5                  3   \n",
       "1461               3               3                  2   \n",
       "1462               2              20                  9   \n",
       "1464               3               4                  2   \n",
       "1468               2               9                  6   \n",
       "\n",
       "      YearsSinceLastPromotion  YearsWithCurrManager  \n",
       "0                           0                     5  \n",
       "18                          3                     7  \n",
       "21                          0                     3  \n",
       "27                          4                     2  \n",
       "29                          2                     1  \n",
       "...                       ...                   ...  \n",
       "1454                        0                     1  \n",
       "1461                        2                     0  \n",
       "1462                        9                     6  \n",
       "1464                        0                     0  \n",
       "1468                        0                     8  \n",
       "\n",
       "[446 rows x 35 columns]"
      ]
     },
     "execution_count": 35,
     "metadata": {},
     "output_type": "execute_result"
    }
   ],
   "source": [
    "sales_data"
   ]
  },
  {
   "cell_type": "markdown",
   "metadata": {},
   "source": [
    "### Displaying first 3 records where Age is greater than equal to 50"
   ]
  },
  {
   "cell_type": "code",
   "execution_count": 36,
   "metadata": {},
   "outputs": [
    {
     "name": "stdout",
     "output_type": "stream",
     "text": [
      "First 3 records of age more than 50 are: \n",
      "     Age Attrition BusinessTravel  DailyRate              Department  \\\n",
      "6    59        No  Travel_Rarely       1324  Research & Development   \n",
      "18   53        No  Travel_Rarely       1219                   Sales   \n",
      "25   53        No  Travel_Rarely       1282  Research & Development   \n",
      "\n",
      "    DistanceFromHome  Education EducationField  EmployeeCount  EmployeeNumber  \\\n",
      "6                  3          3        Medical              1              10   \n",
      "18                 2          4  Life Sciences              1              23   \n",
      "25                 5          3          Other              1              32   \n",
      "\n",
      "    ...  RelationshipSatisfaction StandardHours  StockOptionLevel  \\\n",
      "6   ...                         1            80                 3   \n",
      "18  ...                         3            80                 0   \n",
      "25  ...                         4            80                 1   \n",
      "\n",
      "    TotalWorkingYears  TrainingTimesLastYear WorkLifeBalance  YearsAtCompany  \\\n",
      "6                  12                      3               2               1   \n",
      "18                 31                      3               3              25   \n",
      "25                 26                      3               2              14   \n",
      "\n",
      "   YearsInCurrentRole  YearsSinceLastPromotion  YearsWithCurrManager  \n",
      "6                   0                        0                     0  \n",
      "18                  8                        3                     7  \n",
      "25                 13                        4                     8  \n",
      "\n",
      "[3 rows x 35 columns]\n"
     ]
    }
   ],
   "source": [
    "age_more50 = data[data[\"Age\"]>= 50]\n",
    "print(\"First 3 records of age more than 50 are: \\n\",age_more50.head(3))"
   ]
  },
  {
   "cell_type": "code",
   "execution_count": 37,
   "metadata": {},
   "outputs": [
    {
     "data": {
      "text/html": [
       "<div>\n",
       "<style scoped>\n",
       "    .dataframe tbody tr th:only-of-type {\n",
       "        vertical-align: middle;\n",
       "    }\n",
       "\n",
       "    .dataframe tbody tr th {\n",
       "        vertical-align: top;\n",
       "    }\n",
       "\n",
       "    .dataframe thead th {\n",
       "        text-align: right;\n",
       "    }\n",
       "</style>\n",
       "<table border=\"1\" class=\"dataframe\">\n",
       "  <thead>\n",
       "    <tr style=\"text-align: right;\">\n",
       "      <th></th>\n",
       "      <th>Age</th>\n",
       "      <th>Attrition</th>\n",
       "      <th>BusinessTravel</th>\n",
       "      <th>DailyRate</th>\n",
       "      <th>Department</th>\n",
       "      <th>DistanceFromHome</th>\n",
       "      <th>Education</th>\n",
       "      <th>EducationField</th>\n",
       "      <th>EmployeeCount</th>\n",
       "      <th>EmployeeNumber</th>\n",
       "      <th>...</th>\n",
       "      <th>RelationshipSatisfaction</th>\n",
       "      <th>StandardHours</th>\n",
       "      <th>StockOptionLevel</th>\n",
       "      <th>TotalWorkingYears</th>\n",
       "      <th>TrainingTimesLastYear</th>\n",
       "      <th>WorkLifeBalance</th>\n",
       "      <th>YearsAtCompany</th>\n",
       "      <th>YearsInCurrentRole</th>\n",
       "      <th>YearsSinceLastPromotion</th>\n",
       "      <th>YearsWithCurrManager</th>\n",
       "    </tr>\n",
       "  </thead>\n",
       "  <tbody>\n",
       "    <tr>\n",
       "      <th>6</th>\n",
       "      <td>59</td>\n",
       "      <td>No</td>\n",
       "      <td>Travel_Rarely</td>\n",
       "      <td>1324</td>\n",
       "      <td>Research &amp; Development</td>\n",
       "      <td>3</td>\n",
       "      <td>3</td>\n",
       "      <td>Medical</td>\n",
       "      <td>1</td>\n",
       "      <td>10</td>\n",
       "      <td>...</td>\n",
       "      <td>1</td>\n",
       "      <td>80</td>\n",
       "      <td>3</td>\n",
       "      <td>12</td>\n",
       "      <td>3</td>\n",
       "      <td>2</td>\n",
       "      <td>1</td>\n",
       "      <td>0</td>\n",
       "      <td>0</td>\n",
       "      <td>0</td>\n",
       "    </tr>\n",
       "    <tr>\n",
       "      <th>18</th>\n",
       "      <td>53</td>\n",
       "      <td>No</td>\n",
       "      <td>Travel_Rarely</td>\n",
       "      <td>1219</td>\n",
       "      <td>Sales</td>\n",
       "      <td>2</td>\n",
       "      <td>4</td>\n",
       "      <td>Life Sciences</td>\n",
       "      <td>1</td>\n",
       "      <td>23</td>\n",
       "      <td>...</td>\n",
       "      <td>3</td>\n",
       "      <td>80</td>\n",
       "      <td>0</td>\n",
       "      <td>31</td>\n",
       "      <td>3</td>\n",
       "      <td>3</td>\n",
       "      <td>25</td>\n",
       "      <td>8</td>\n",
       "      <td>3</td>\n",
       "      <td>7</td>\n",
       "    </tr>\n",
       "    <tr>\n",
       "      <th>25</th>\n",
       "      <td>53</td>\n",
       "      <td>No</td>\n",
       "      <td>Travel_Rarely</td>\n",
       "      <td>1282</td>\n",
       "      <td>Research &amp; Development</td>\n",
       "      <td>5</td>\n",
       "      <td>3</td>\n",
       "      <td>Other</td>\n",
       "      <td>1</td>\n",
       "      <td>32</td>\n",
       "      <td>...</td>\n",
       "      <td>4</td>\n",
       "      <td>80</td>\n",
       "      <td>1</td>\n",
       "      <td>26</td>\n",
       "      <td>3</td>\n",
       "      <td>2</td>\n",
       "      <td>14</td>\n",
       "      <td>13</td>\n",
       "      <td>4</td>\n",
       "      <td>8</td>\n",
       "    </tr>\n",
       "    <tr>\n",
       "      <th>36</th>\n",
       "      <td>50</td>\n",
       "      <td>Yes</td>\n",
       "      <td>Travel_Rarely</td>\n",
       "      <td>869</td>\n",
       "      <td>Sales</td>\n",
       "      <td>3</td>\n",
       "      <td>2</td>\n",
       "      <td>Marketing</td>\n",
       "      <td>1</td>\n",
       "      <td>47</td>\n",
       "      <td>...</td>\n",
       "      <td>3</td>\n",
       "      <td>80</td>\n",
       "      <td>0</td>\n",
       "      <td>3</td>\n",
       "      <td>2</td>\n",
       "      <td>3</td>\n",
       "      <td>3</td>\n",
       "      <td>2</td>\n",
       "      <td>0</td>\n",
       "      <td>2</td>\n",
       "    </tr>\n",
       "    <tr>\n",
       "      <th>62</th>\n",
       "      <td>50</td>\n",
       "      <td>No</td>\n",
       "      <td>Travel_Rarely</td>\n",
       "      <td>989</td>\n",
       "      <td>Research &amp; Development</td>\n",
       "      <td>7</td>\n",
       "      <td>2</td>\n",
       "      <td>Medical</td>\n",
       "      <td>1</td>\n",
       "      <td>80</td>\n",
       "      <td>...</td>\n",
       "      <td>4</td>\n",
       "      <td>80</td>\n",
       "      <td>1</td>\n",
       "      <td>29</td>\n",
       "      <td>2</td>\n",
       "      <td>2</td>\n",
       "      <td>27</td>\n",
       "      <td>3</td>\n",
       "      <td>13</td>\n",
       "      <td>8</td>\n",
       "    </tr>\n",
       "    <tr>\n",
       "      <th>...</th>\n",
       "      <td>...</td>\n",
       "      <td>...</td>\n",
       "      <td>...</td>\n",
       "      <td>...</td>\n",
       "      <td>...</td>\n",
       "      <td>...</td>\n",
       "      <td>...</td>\n",
       "      <td>...</td>\n",
       "      <td>...</td>\n",
       "      <td>...</td>\n",
       "      <td>...</td>\n",
       "      <td>...</td>\n",
       "      <td>...</td>\n",
       "      <td>...</td>\n",
       "      <td>...</td>\n",
       "      <td>...</td>\n",
       "      <td>...</td>\n",
       "      <td>...</td>\n",
       "      <td>...</td>\n",
       "      <td>...</td>\n",
       "      <td>...</td>\n",
       "    </tr>\n",
       "    <tr>\n",
       "      <th>1434</th>\n",
       "      <td>52</td>\n",
       "      <td>No</td>\n",
       "      <td>Non-Travel</td>\n",
       "      <td>585</td>\n",
       "      <td>Sales</td>\n",
       "      <td>29</td>\n",
       "      <td>4</td>\n",
       "      <td>Life Sciences</td>\n",
       "      <td>1</td>\n",
       "      <td>2019</td>\n",
       "      <td>...</td>\n",
       "      <td>2</td>\n",
       "      <td>80</td>\n",
       "      <td>2</td>\n",
       "      <td>16</td>\n",
       "      <td>3</td>\n",
       "      <td>2</td>\n",
       "      <td>9</td>\n",
       "      <td>8</td>\n",
       "      <td>0</td>\n",
       "      <td>0</td>\n",
       "    </tr>\n",
       "    <tr>\n",
       "      <th>1441</th>\n",
       "      <td>56</td>\n",
       "      <td>No</td>\n",
       "      <td>Non-Travel</td>\n",
       "      <td>667</td>\n",
       "      <td>Research &amp; Development</td>\n",
       "      <td>1</td>\n",
       "      <td>4</td>\n",
       "      <td>Life Sciences</td>\n",
       "      <td>1</td>\n",
       "      <td>2026</td>\n",
       "      <td>...</td>\n",
       "      <td>1</td>\n",
       "      <td>80</td>\n",
       "      <td>1</td>\n",
       "      <td>13</td>\n",
       "      <td>2</td>\n",
       "      <td>2</td>\n",
       "      <td>13</td>\n",
       "      <td>12</td>\n",
       "      <td>1</td>\n",
       "      <td>9</td>\n",
       "    </tr>\n",
       "    <tr>\n",
       "      <th>1444</th>\n",
       "      <td>56</td>\n",
       "      <td>Yes</td>\n",
       "      <td>Travel_Rarely</td>\n",
       "      <td>310</td>\n",
       "      <td>Research &amp; Development</td>\n",
       "      <td>7</td>\n",
       "      <td>2</td>\n",
       "      <td>Technical Degree</td>\n",
       "      <td>1</td>\n",
       "      <td>2032</td>\n",
       "      <td>...</td>\n",
       "      <td>4</td>\n",
       "      <td>80</td>\n",
       "      <td>1</td>\n",
       "      <td>14</td>\n",
       "      <td>4</td>\n",
       "      <td>1</td>\n",
       "      <td>10</td>\n",
       "      <td>9</td>\n",
       "      <td>9</td>\n",
       "      <td>8</td>\n",
       "    </tr>\n",
       "    <tr>\n",
       "      <th>1452</th>\n",
       "      <td>50</td>\n",
       "      <td>Yes</td>\n",
       "      <td>Travel_Frequently</td>\n",
       "      <td>878</td>\n",
       "      <td>Sales</td>\n",
       "      <td>1</td>\n",
       "      <td>4</td>\n",
       "      <td>Life Sciences</td>\n",
       "      <td>1</td>\n",
       "      <td>2044</td>\n",
       "      <td>...</td>\n",
       "      <td>4</td>\n",
       "      <td>80</td>\n",
       "      <td>2</td>\n",
       "      <td>12</td>\n",
       "      <td>3</td>\n",
       "      <td>3</td>\n",
       "      <td>6</td>\n",
       "      <td>3</td>\n",
       "      <td>0</td>\n",
       "      <td>1</td>\n",
       "    </tr>\n",
       "    <tr>\n",
       "      <th>1461</th>\n",
       "      <td>50</td>\n",
       "      <td>Yes</td>\n",
       "      <td>Travel_Rarely</td>\n",
       "      <td>410</td>\n",
       "      <td>Sales</td>\n",
       "      <td>28</td>\n",
       "      <td>3</td>\n",
       "      <td>Marketing</td>\n",
       "      <td>1</td>\n",
       "      <td>2055</td>\n",
       "      <td>...</td>\n",
       "      <td>2</td>\n",
       "      <td>80</td>\n",
       "      <td>1</td>\n",
       "      <td>20</td>\n",
       "      <td>3</td>\n",
       "      <td>3</td>\n",
       "      <td>3</td>\n",
       "      <td>2</td>\n",
       "      <td>2</td>\n",
       "      <td>0</td>\n",
       "    </tr>\n",
       "  </tbody>\n",
       "</table>\n",
       "<p>173 rows × 35 columns</p>\n",
       "</div>"
      ],
      "text/plain": [
       "      Age Attrition     BusinessTravel  DailyRate              Department  \\\n",
       "6      59        No      Travel_Rarely       1324  Research & Development   \n",
       "18     53        No      Travel_Rarely       1219                   Sales   \n",
       "25     53        No      Travel_Rarely       1282  Research & Development   \n",
       "36     50       Yes      Travel_Rarely        869                   Sales   \n",
       "62     50        No      Travel_Rarely        989  Research & Development   \n",
       "...   ...       ...                ...        ...                     ...   \n",
       "1434   52        No         Non-Travel        585                   Sales   \n",
       "1441   56        No         Non-Travel        667  Research & Development   \n",
       "1444   56       Yes      Travel_Rarely        310  Research & Development   \n",
       "1452   50       Yes  Travel_Frequently        878                   Sales   \n",
       "1461   50       Yes      Travel_Rarely        410                   Sales   \n",
       "\n",
       "      DistanceFromHome  Education    EducationField  EmployeeCount  \\\n",
       "6                    3          3           Medical              1   \n",
       "18                   2          4     Life Sciences              1   \n",
       "25                   5          3             Other              1   \n",
       "36                   3          2         Marketing              1   \n",
       "62                   7          2           Medical              1   \n",
       "...                ...        ...               ...            ...   \n",
       "1434                29          4     Life Sciences              1   \n",
       "1441                 1          4     Life Sciences              1   \n",
       "1444                 7          2  Technical Degree              1   \n",
       "1452                 1          4     Life Sciences              1   \n",
       "1461                28          3         Marketing              1   \n",
       "\n",
       "      EmployeeNumber  ...  RelationshipSatisfaction StandardHours  \\\n",
       "6                 10  ...                         1            80   \n",
       "18                23  ...                         3            80   \n",
       "25                32  ...                         4            80   \n",
       "36                47  ...                         3            80   \n",
       "62                80  ...                         4            80   \n",
       "...              ...  ...                       ...           ...   \n",
       "1434            2019  ...                         2            80   \n",
       "1441            2026  ...                         1            80   \n",
       "1444            2032  ...                         4            80   \n",
       "1452            2044  ...                         4            80   \n",
       "1461            2055  ...                         2            80   \n",
       "\n",
       "      StockOptionLevel  TotalWorkingYears  TrainingTimesLastYear  \\\n",
       "6                    3                 12                      3   \n",
       "18                   0                 31                      3   \n",
       "25                   1                 26                      3   \n",
       "36                   0                  3                      2   \n",
       "62                   1                 29                      2   \n",
       "...                ...                ...                    ...   \n",
       "1434                 2                 16                      3   \n",
       "1441                 1                 13                      2   \n",
       "1444                 1                 14                      4   \n",
       "1452                 2                 12                      3   \n",
       "1461                 1                 20                      3   \n",
       "\n",
       "     WorkLifeBalance  YearsAtCompany YearsInCurrentRole  \\\n",
       "6                  2               1                  0   \n",
       "18                 3              25                  8   \n",
       "25                 2              14                 13   \n",
       "36                 3               3                  2   \n",
       "62                 2              27                  3   \n",
       "...              ...             ...                ...   \n",
       "1434               2               9                  8   \n",
       "1441               2              13                 12   \n",
       "1444               1              10                  9   \n",
       "1452               3               6                  3   \n",
       "1461               3               3                  2   \n",
       "\n",
       "      YearsSinceLastPromotion  YearsWithCurrManager  \n",
       "6                           0                     0  \n",
       "18                          3                     7  \n",
       "25                          4                     8  \n",
       "36                          0                     2  \n",
       "62                         13                     8  \n",
       "...                       ...                   ...  \n",
       "1434                        0                     0  \n",
       "1441                        1                     9  \n",
       "1444                        9                     8  \n",
       "1452                        0                     1  \n",
       "1461                        2                     0  \n",
       "\n",
       "[173 rows x 35 columns]"
      ]
     },
     "execution_count": 37,
     "metadata": {},
     "output_type": "execute_result"
    }
   ],
   "source": [
    "age_more50"
   ]
  },
  {
   "cell_type": "markdown",
   "metadata": {},
   "source": [
    "### Displaying last 2 records where Daily Rate is less than or equal to 500"
   ]
  },
  {
   "cell_type": "code",
   "execution_count": 38,
   "metadata": {},
   "outputs": [
    {
     "name": "stdout",
     "output_type": "stream",
     "text": [
      "Last 2 records having Dailyrate <=500 are:       Age Attrition BusinessTravel  DailyRate              Department  \\\n",
      "1463   31        No     Non-Travel        325  Research & Development   \n",
      "1467   27        No  Travel_Rarely        155  Research & Development   \n",
      "\n",
      "      DistanceFromHome  Education EducationField  EmployeeCount  \\\n",
      "1463                 5          3        Medical              1   \n",
      "1467                 4          3  Life Sciences              1   \n",
      "\n",
      "      EmployeeNumber  ...  RelationshipSatisfaction StandardHours  \\\n",
      "1463            2057  ...                         2            80   \n",
      "1467            2064  ...                         2            80   \n",
      "\n",
      "      StockOptionLevel  TotalWorkingYears  TrainingTimesLastYear  \\\n",
      "1463                 0                 10                      2   \n",
      "1467                 1                  6                      0   \n",
      "\n",
      "     WorkLifeBalance  YearsAtCompany YearsInCurrentRole  \\\n",
      "1463               3               9                  4   \n",
      "1467               3               6                  2   \n",
      "\n",
      "      YearsSinceLastPromotion  YearsWithCurrManager  \n",
      "1463                        1                     7  \n",
      "1467                        0                     3  \n",
      "\n",
      "[2 rows x 35 columns]\n"
     ]
    }
   ],
   "source": [
    "dailyrate_less500 = data[data['DailyRate']<= 500]\n",
    "print(\"Last 2 records having Dailyrate <=500 are:\",dailyrate_less500.tail(2))"
   ]
  },
  {
   "cell_type": "code",
   "execution_count": 39,
   "metadata": {},
   "outputs": [
    {
     "data": {
      "text/html": [
       "<div>\n",
       "<style scoped>\n",
       "    .dataframe tbody tr th:only-of-type {\n",
       "        vertical-align: middle;\n",
       "    }\n",
       "\n",
       "    .dataframe tbody tr th {\n",
       "        vertical-align: top;\n",
       "    }\n",
       "\n",
       "    .dataframe thead th {\n",
       "        text-align: right;\n",
       "    }\n",
       "</style>\n",
       "<table border=\"1\" class=\"dataframe\">\n",
       "  <thead>\n",
       "    <tr style=\"text-align: right;\">\n",
       "      <th></th>\n",
       "      <th>Age</th>\n",
       "      <th>Attrition</th>\n",
       "      <th>BusinessTravel</th>\n",
       "      <th>DailyRate</th>\n",
       "      <th>Department</th>\n",
       "      <th>DistanceFromHome</th>\n",
       "      <th>Education</th>\n",
       "      <th>EducationField</th>\n",
       "      <th>EmployeeCount</th>\n",
       "      <th>EmployeeNumber</th>\n",
       "      <th>...</th>\n",
       "      <th>RelationshipSatisfaction</th>\n",
       "      <th>StandardHours</th>\n",
       "      <th>StockOptionLevel</th>\n",
       "      <th>TotalWorkingYears</th>\n",
       "      <th>TrainingTimesLastYear</th>\n",
       "      <th>WorkLifeBalance</th>\n",
       "      <th>YearsAtCompany</th>\n",
       "      <th>YearsInCurrentRole</th>\n",
       "      <th>YearsSinceLastPromotion</th>\n",
       "      <th>YearsWithCurrManager</th>\n",
       "    </tr>\n",
       "  </thead>\n",
       "  <tbody>\n",
       "    <tr>\n",
       "      <th>1</th>\n",
       "      <td>49</td>\n",
       "      <td>No</td>\n",
       "      <td>Travel_Frequently</td>\n",
       "      <td>279</td>\n",
       "      <td>Research &amp; Development</td>\n",
       "      <td>8</td>\n",
       "      <td>1</td>\n",
       "      <td>Life Sciences</td>\n",
       "      <td>1</td>\n",
       "      <td>2</td>\n",
       "      <td>...</td>\n",
       "      <td>4</td>\n",
       "      <td>80</td>\n",
       "      <td>1</td>\n",
       "      <td>10</td>\n",
       "      <td>3</td>\n",
       "      <td>3</td>\n",
       "      <td>10</td>\n",
       "      <td>7</td>\n",
       "      <td>1</td>\n",
       "      <td>7</td>\n",
       "    </tr>\n",
       "    <tr>\n",
       "      <th>8</th>\n",
       "      <td>38</td>\n",
       "      <td>No</td>\n",
       "      <td>Travel_Frequently</td>\n",
       "      <td>216</td>\n",
       "      <td>Research &amp; Development</td>\n",
       "      <td>23</td>\n",
       "      <td>3</td>\n",
       "      <td>Life Sciences</td>\n",
       "      <td>1</td>\n",
       "      <td>12</td>\n",
       "      <td>...</td>\n",
       "      <td>2</td>\n",
       "      <td>80</td>\n",
       "      <td>0</td>\n",
       "      <td>10</td>\n",
       "      <td>2</td>\n",
       "      <td>3</td>\n",
       "      <td>9</td>\n",
       "      <td>7</td>\n",
       "      <td>1</td>\n",
       "      <td>8</td>\n",
       "    </tr>\n",
       "    <tr>\n",
       "      <th>11</th>\n",
       "      <td>29</td>\n",
       "      <td>No</td>\n",
       "      <td>Travel_Rarely</td>\n",
       "      <td>153</td>\n",
       "      <td>Research &amp; Development</td>\n",
       "      <td>15</td>\n",
       "      <td>2</td>\n",
       "      <td>Life Sciences</td>\n",
       "      <td>1</td>\n",
       "      <td>15</td>\n",
       "      <td>...</td>\n",
       "      <td>4</td>\n",
       "      <td>80</td>\n",
       "      <td>0</td>\n",
       "      <td>10</td>\n",
       "      <td>3</td>\n",
       "      <td>3</td>\n",
       "      <td>9</td>\n",
       "      <td>5</td>\n",
       "      <td>0</td>\n",
       "      <td>8</td>\n",
       "    </tr>\n",
       "    <tr>\n",
       "      <th>14</th>\n",
       "      <td>28</td>\n",
       "      <td>Yes</td>\n",
       "      <td>Travel_Rarely</td>\n",
       "      <td>103</td>\n",
       "      <td>Research &amp; Development</td>\n",
       "      <td>24</td>\n",
       "      <td>3</td>\n",
       "      <td>Life Sciences</td>\n",
       "      <td>1</td>\n",
       "      <td>19</td>\n",
       "      <td>...</td>\n",
       "      <td>2</td>\n",
       "      <td>80</td>\n",
       "      <td>0</td>\n",
       "      <td>6</td>\n",
       "      <td>4</td>\n",
       "      <td>3</td>\n",
       "      <td>4</td>\n",
       "      <td>2</td>\n",
       "      <td>0</td>\n",
       "      <td>3</td>\n",
       "    </tr>\n",
       "    <tr>\n",
       "      <th>16</th>\n",
       "      <td>32</td>\n",
       "      <td>No</td>\n",
       "      <td>Travel_Rarely</td>\n",
       "      <td>334</td>\n",
       "      <td>Research &amp; Development</td>\n",
       "      <td>5</td>\n",
       "      <td>2</td>\n",
       "      <td>Life Sciences</td>\n",
       "      <td>1</td>\n",
       "      <td>21</td>\n",
       "      <td>...</td>\n",
       "      <td>4</td>\n",
       "      <td>80</td>\n",
       "      <td>2</td>\n",
       "      <td>7</td>\n",
       "      <td>5</td>\n",
       "      <td>2</td>\n",
       "      <td>6</td>\n",
       "      <td>2</td>\n",
       "      <td>0</td>\n",
       "      <td>5</td>\n",
       "    </tr>\n",
       "    <tr>\n",
       "      <th>...</th>\n",
       "      <td>...</td>\n",
       "      <td>...</td>\n",
       "      <td>...</td>\n",
       "      <td>...</td>\n",
       "      <td>...</td>\n",
       "      <td>...</td>\n",
       "      <td>...</td>\n",
       "      <td>...</td>\n",
       "      <td>...</td>\n",
       "      <td>...</td>\n",
       "      <td>...</td>\n",
       "      <td>...</td>\n",
       "      <td>...</td>\n",
       "      <td>...</td>\n",
       "      <td>...</td>\n",
       "      <td>...</td>\n",
       "      <td>...</td>\n",
       "      <td>...</td>\n",
       "      <td>...</td>\n",
       "      <td>...</td>\n",
       "      <td>...</td>\n",
       "    </tr>\n",
       "    <tr>\n",
       "      <th>1458</th>\n",
       "      <td>35</td>\n",
       "      <td>No</td>\n",
       "      <td>Travel_Rarely</td>\n",
       "      <td>287</td>\n",
       "      <td>Research &amp; Development</td>\n",
       "      <td>1</td>\n",
       "      <td>4</td>\n",
       "      <td>Life Sciences</td>\n",
       "      <td>1</td>\n",
       "      <td>2052</td>\n",
       "      <td>...</td>\n",
       "      <td>4</td>\n",
       "      <td>80</td>\n",
       "      <td>1</td>\n",
       "      <td>4</td>\n",
       "      <td>5</td>\n",
       "      <td>3</td>\n",
       "      <td>4</td>\n",
       "      <td>3</td>\n",
       "      <td>1</td>\n",
       "      <td>1</td>\n",
       "    </tr>\n",
       "    <tr>\n",
       "      <th>1460</th>\n",
       "      <td>29</td>\n",
       "      <td>No</td>\n",
       "      <td>Travel_Rarely</td>\n",
       "      <td>468</td>\n",
       "      <td>Research &amp; Development</td>\n",
       "      <td>28</td>\n",
       "      <td>4</td>\n",
       "      <td>Medical</td>\n",
       "      <td>1</td>\n",
       "      <td>2054</td>\n",
       "      <td>...</td>\n",
       "      <td>2</td>\n",
       "      <td>80</td>\n",
       "      <td>0</td>\n",
       "      <td>5</td>\n",
       "      <td>3</td>\n",
       "      <td>1</td>\n",
       "      <td>5</td>\n",
       "      <td>4</td>\n",
       "      <td>0</td>\n",
       "      <td>4</td>\n",
       "    </tr>\n",
       "    <tr>\n",
       "      <th>1461</th>\n",
       "      <td>50</td>\n",
       "      <td>Yes</td>\n",
       "      <td>Travel_Rarely</td>\n",
       "      <td>410</td>\n",
       "      <td>Sales</td>\n",
       "      <td>28</td>\n",
       "      <td>3</td>\n",
       "      <td>Marketing</td>\n",
       "      <td>1</td>\n",
       "      <td>2055</td>\n",
       "      <td>...</td>\n",
       "      <td>2</td>\n",
       "      <td>80</td>\n",
       "      <td>1</td>\n",
       "      <td>20</td>\n",
       "      <td>3</td>\n",
       "      <td>3</td>\n",
       "      <td>3</td>\n",
       "      <td>2</td>\n",
       "      <td>2</td>\n",
       "      <td>0</td>\n",
       "    </tr>\n",
       "    <tr>\n",
       "      <th>1463</th>\n",
       "      <td>31</td>\n",
       "      <td>No</td>\n",
       "      <td>Non-Travel</td>\n",
       "      <td>325</td>\n",
       "      <td>Research &amp; Development</td>\n",
       "      <td>5</td>\n",
       "      <td>3</td>\n",
       "      <td>Medical</td>\n",
       "      <td>1</td>\n",
       "      <td>2057</td>\n",
       "      <td>...</td>\n",
       "      <td>2</td>\n",
       "      <td>80</td>\n",
       "      <td>0</td>\n",
       "      <td>10</td>\n",
       "      <td>2</td>\n",
       "      <td>3</td>\n",
       "      <td>9</td>\n",
       "      <td>4</td>\n",
       "      <td>1</td>\n",
       "      <td>7</td>\n",
       "    </tr>\n",
       "    <tr>\n",
       "      <th>1467</th>\n",
       "      <td>27</td>\n",
       "      <td>No</td>\n",
       "      <td>Travel_Rarely</td>\n",
       "      <td>155</td>\n",
       "      <td>Research &amp; Development</td>\n",
       "      <td>4</td>\n",
       "      <td>3</td>\n",
       "      <td>Life Sciences</td>\n",
       "      <td>1</td>\n",
       "      <td>2064</td>\n",
       "      <td>...</td>\n",
       "      <td>2</td>\n",
       "      <td>80</td>\n",
       "      <td>1</td>\n",
       "      <td>6</td>\n",
       "      <td>0</td>\n",
       "      <td>3</td>\n",
       "      <td>6</td>\n",
       "      <td>2</td>\n",
       "      <td>0</td>\n",
       "      <td>3</td>\n",
       "    </tr>\n",
       "  </tbody>\n",
       "</table>\n",
       "<p>405 rows × 35 columns</p>\n",
       "</div>"
      ],
      "text/plain": [
       "      Age Attrition     BusinessTravel  DailyRate              Department  \\\n",
       "1      49        No  Travel_Frequently        279  Research & Development   \n",
       "8      38        No  Travel_Frequently        216  Research & Development   \n",
       "11     29        No      Travel_Rarely        153  Research & Development   \n",
       "14     28       Yes      Travel_Rarely        103  Research & Development   \n",
       "16     32        No      Travel_Rarely        334  Research & Development   \n",
       "...   ...       ...                ...        ...                     ...   \n",
       "1458   35        No      Travel_Rarely        287  Research & Development   \n",
       "1460   29        No      Travel_Rarely        468  Research & Development   \n",
       "1461   50       Yes      Travel_Rarely        410                   Sales   \n",
       "1463   31        No         Non-Travel        325  Research & Development   \n",
       "1467   27        No      Travel_Rarely        155  Research & Development   \n",
       "\n",
       "      DistanceFromHome  Education EducationField  EmployeeCount  \\\n",
       "1                    8          1  Life Sciences              1   \n",
       "8                   23          3  Life Sciences              1   \n",
       "11                  15          2  Life Sciences              1   \n",
       "14                  24          3  Life Sciences              1   \n",
       "16                   5          2  Life Sciences              1   \n",
       "...                ...        ...            ...            ...   \n",
       "1458                 1          4  Life Sciences              1   \n",
       "1460                28          4        Medical              1   \n",
       "1461                28          3      Marketing              1   \n",
       "1463                 5          3        Medical              1   \n",
       "1467                 4          3  Life Sciences              1   \n",
       "\n",
       "      EmployeeNumber  ...  RelationshipSatisfaction StandardHours  \\\n",
       "1                  2  ...                         4            80   \n",
       "8                 12  ...                         2            80   \n",
       "11                15  ...                         4            80   \n",
       "14                19  ...                         2            80   \n",
       "16                21  ...                         4            80   \n",
       "...              ...  ...                       ...           ...   \n",
       "1458            2052  ...                         4            80   \n",
       "1460            2054  ...                         2            80   \n",
       "1461            2055  ...                         2            80   \n",
       "1463            2057  ...                         2            80   \n",
       "1467            2064  ...                         2            80   \n",
       "\n",
       "      StockOptionLevel  TotalWorkingYears  TrainingTimesLastYear  \\\n",
       "1                    1                 10                      3   \n",
       "8                    0                 10                      2   \n",
       "11                   0                 10                      3   \n",
       "14                   0                  6                      4   \n",
       "16                   2                  7                      5   \n",
       "...                ...                ...                    ...   \n",
       "1458                 1                  4                      5   \n",
       "1460                 0                  5                      3   \n",
       "1461                 1                 20                      3   \n",
       "1463                 0                 10                      2   \n",
       "1467                 1                  6                      0   \n",
       "\n",
       "     WorkLifeBalance  YearsAtCompany YearsInCurrentRole  \\\n",
       "1                  3              10                  7   \n",
       "8                  3               9                  7   \n",
       "11                 3               9                  5   \n",
       "14                 3               4                  2   \n",
       "16                 2               6                  2   \n",
       "...              ...             ...                ...   \n",
       "1458               3               4                  3   \n",
       "1460               1               5                  4   \n",
       "1461               3               3                  2   \n",
       "1463               3               9                  4   \n",
       "1467               3               6                  2   \n",
       "\n",
       "      YearsSinceLastPromotion  YearsWithCurrManager  \n",
       "1                           1                     7  \n",
       "8                           1                     8  \n",
       "11                          0                     8  \n",
       "14                          0                     3  \n",
       "16                          0                     5  \n",
       "...                       ...                   ...  \n",
       "1458                        1                     1  \n",
       "1460                        0                     4  \n",
       "1461                        2                     0  \n",
       "1463                        1                     7  \n",
       "1467                        0                     3  \n",
       "\n",
       "[405 rows x 35 columns]"
      ]
     },
     "execution_count": 39,
     "metadata": {},
     "output_type": "execute_result"
    }
   ],
   "source": [
    "dailyrate_less500"
   ]
  },
  {
   "cell_type": "markdown",
   "metadata": {},
   "source": [
    "# 35. Creating a new subset using \"and\" for multiple condition "
   ]
  },
  {
   "cell_type": "code",
   "execution_count": 40,
   "metadata": {},
   "outputs": [
    {
     "name": "stdout",
     "output_type": "stream",
     "text": [
      "Shape of new dataset using and is: (732, 35)\n"
     ]
    }
   ],
   "source": [
    "filter_1 = data[(data['Age']>=35) & (data['Attrition'] == 'No')]\n",
    "print(\"Shape of new dataset using and is:\",filter_1.shape)"
   ]
  },
  {
   "cell_type": "code",
   "execution_count": 43,
   "metadata": {},
   "outputs": [
    {
     "name": "stdout",
     "output_type": "stream",
     "text": [
      "<class 'pandas.core.frame.DataFrame'>\n",
      "Index: 732 entries, 1 to 1468\n",
      "Data columns (total 35 columns):\n",
      " #   Column                    Non-Null Count  Dtype \n",
      "---  ------                    --------------  ----- \n",
      " 0   Age                       732 non-null    int64 \n",
      " 1   Attrition                 732 non-null    object\n",
      " 2   BusinessTravel            732 non-null    object\n",
      " 3   DailyRate                 732 non-null    int64 \n",
      " 4   Department                732 non-null    object\n",
      " 5   DistanceFromHome          732 non-null    int64 \n",
      " 6   Education                 732 non-null    int64 \n",
      " 7   EducationField            732 non-null    object\n",
      " 8   EmployeeCount             732 non-null    int64 \n",
      " 9   EmployeeNumber            732 non-null    int64 \n",
      " 10  EnvironmentSatisfaction   732 non-null    int64 \n",
      " 11  Gender                    732 non-null    object\n",
      " 12  HourlyRate                732 non-null    int64 \n",
      " 13  JobInvolvement            732 non-null    int64 \n",
      " 14  JobLevel                  732 non-null    int64 \n",
      " 15  JobRole                   732 non-null    object\n",
      " 16  JobSatisfaction           732 non-null    int64 \n",
      " 17  MaritalStatus             732 non-null    object\n",
      " 18  MonthlyIncome             732 non-null    int64 \n",
      " 19  MonthlyRate               732 non-null    int64 \n",
      " 20  NumCompaniesWorked        732 non-null    int64 \n",
      " 21  Over18                    732 non-null    object\n",
      " 22  OverTime                  732 non-null    object\n",
      " 23  PercentSalaryHike         732 non-null    int64 \n",
      " 24  PerformanceRating         732 non-null    int64 \n",
      " 25  RelationshipSatisfaction  732 non-null    int64 \n",
      " 26  StandardHours             732 non-null    int64 \n",
      " 27  StockOptionLevel          732 non-null    int64 \n",
      " 28  TotalWorkingYears         732 non-null    int64 \n",
      " 29  TrainingTimesLastYear     732 non-null    int64 \n",
      " 30  WorkLifeBalance           732 non-null    int64 \n",
      " 31  YearsAtCompany            732 non-null    int64 \n",
      " 32  YearsInCurrentRole        732 non-null    int64 \n",
      " 33  YearsSinceLastPromotion   732 non-null    int64 \n",
      " 34  YearsWithCurrManager      732 non-null    int64 \n",
      "dtypes: int64(26), object(9)\n",
      "memory usage: 205.9+ KB\n"
     ]
    }
   ],
   "source": [
    "filter_1.info()"
   ]
  },
  {
   "cell_type": "markdown",
   "metadata": {},
   "source": [
    "# 36. Applying functions on filtered data"
   ]
  },
  {
   "cell_type": "markdown",
   "metadata": {},
   "source": [
    "### Determining sum of monthly rate for a subset"
   ]
  },
  {
   "cell_type": "code",
   "execution_count": 42,
   "metadata": {},
   "outputs": [
    {
     "name": "stdout",
     "output_type": "stream",
     "text": [
      "Sum of Monthly Rate from subset: 10502913\n"
     ]
    }
   ],
   "source": [
    "print(\"Sum of Monthly Rate from subset:\",filter_1['MonthlyRate'].sum())"
   ]
  },
  {
   "cell_type": "markdown",
   "metadata": {},
   "source": [
    "### Determining product of total working years for a subset"
   ]
  },
  {
   "cell_type": "code",
   "execution_count": 46,
   "metadata": {},
   "outputs": [
    {
     "name": "stdout",
     "output_type": "stream",
     "text": [
      "Product of Total Working Years from subset: 0\n"
     ]
    }
   ],
   "source": [
    "print(\"Product of Total Working Years from subset:\",filter_1['TotalWorkingYears'].product())"
   ]
  },
  {
   "cell_type": "markdown",
   "metadata": {},
   "source": [
    "### Creating a new subset using \"or\" operator for multiple condition"
   ]
  },
  {
   "cell_type": "code",
   "execution_count": 47,
   "metadata": {},
   "outputs": [
    {
     "name": "stdout",
     "output_type": "stream",
     "text": [
      "Shape of new dataset using and is: (508, 35)\n"
     ]
    }
   ],
   "source": [
    "filter_2 = data[(data['EnvironmentSatisfaction'] == 2) | (data['JobSatisfaction'] == 2)]\n",
    "print(\"Shape of new dataset using and is:\",filter_2.shape)"
   ]
  },
  {
   "cell_type": "markdown",
   "metadata": {},
   "source": [
    "# 37.  Applying functions on filtered data"
   ]
  },
  {
   "cell_type": "markdown",
   "metadata": {},
   "source": [
    "### Determining mean of years with current manager for subset"
   ]
  },
  {
   "cell_type": "code",
   "execution_count": 48,
   "metadata": {},
   "outputs": [
    {
     "name": "stdout",
     "output_type": "stream",
     "text": [
      "Mean of years with the current manager from subset: 4.175196850393701\n"
     ]
    }
   ],
   "source": [
    "print(\"Mean of years with the current manager from subset:\",filter_2['YearsWithCurrManager'].mean())"
   ]
  },
  {
   "cell_type": "markdown",
   "metadata": {},
   "source": [
    "### Determining median of years at company for a subset"
   ]
  },
  {
   "cell_type": "code",
   "execution_count": 49,
   "metadata": {},
   "outputs": [
    {
     "name": "stdout",
     "output_type": "stream",
     "text": [
      "Median of years at company from subset: 6.0\n"
     ]
    }
   ],
   "source": [
    "print(\"Median of years at company from subset:\",filter_2['YearsAtCompany'].median())"
   ]
  },
  {
   "cell_type": "markdown",
   "metadata": {},
   "source": [
    "### Using both \"and\" and \"or\" together for multiple condition"
   ]
  },
  {
   "cell_type": "code",
   "execution_count": 50,
   "metadata": {},
   "outputs": [
    {
     "name": "stdout",
     "output_type": "stream",
     "text": [
      "Shape of new dataset using and & or is: (240, 35)\n"
     ]
    }
   ],
   "source": [
    "filter_3 = data[(data['Department'] == 'Sales') & (data['JobLevel'] == 2) | (data['EducationField']==1) | (data['JobRole']==2)]\n",
    "print(\"Shape of new dataset using and & or is:\",filter_3.shape)"
   ]
  },
  {
   "cell_type": "markdown",
   "metadata": {},
   "source": [
    "# 38. Applying functions on filtered data"
   ]
  },
  {
   "cell_type": "markdown",
   "metadata": {},
   "source": [
    "### Determining maximum of \"Daily Rate\" for a subset"
   ]
  },
  {
   "cell_type": "code",
   "execution_count": 51,
   "metadata": {},
   "outputs": [
    {
     "name": "stdout",
     "output_type": "stream",
     "text": [
      "Maximum of Daily Rate from subset: 1498\n"
     ]
    }
   ],
   "source": [
    "print(\"Maximum of Daily Rate from subset:\",filter_3['DailyRate'].max())"
   ]
  },
  {
   "cell_type": "markdown",
   "metadata": {},
   "source": [
    "### Determining minimum of \"Hourly Rate\" for a subset"
   ]
  },
  {
   "cell_type": "code",
   "execution_count": 52,
   "metadata": {},
   "outputs": [
    {
     "name": "stdout",
     "output_type": "stream",
     "text": [
      "Minimum of Hourly Rate from subset: 30\n"
     ]
    }
   ],
   "source": [
    "print(\"Minimum of Hourly Rate from subset:\",filter_3['HourlyRate'].min())"
   ]
  },
  {
   "cell_type": "markdown",
   "metadata": {},
   "source": [
    "# 39. Determining all the specified columns of second row using iloc indexer"
   ]
  },
  {
   "cell_type": "code",
   "execution_count": 55,
   "metadata": {},
   "outputs": [
    {
     "name": "stdout",
     "output_type": "stream",
     "text": [
      "Second observation:\n",
      " Age                                             49\n",
      "Attrition                                       No\n",
      "BusinessTravel                   Travel_Frequently\n",
      "DailyRate                                      279\n",
      "Department                  Research & Development\n",
      "DistanceFromHome                                 8\n",
      "Education                                        1\n",
      "EducationField                       Life Sciences\n",
      "EmployeeCount                                    1\n",
      "EmployeeNumber                                   2\n",
      "EnvironmentSatisfaction                          3\n",
      "Gender                                        Male\n",
      "HourlyRate                                      61\n",
      "JobInvolvement                                   2\n",
      "JobLevel                                         2\n",
      "JobRole                         Research Scientist\n",
      "JobSatisfaction                                  2\n",
      "MaritalStatus                              Married\n",
      "MonthlyIncome                                 5130\n",
      "MonthlyRate                                  24907\n",
      "NumCompaniesWorked                               1\n",
      "Over18                                           Y\n",
      "OverTime                                        No\n",
      "PercentSalaryHike                               23\n",
      "PerformanceRating                                4\n",
      "RelationshipSatisfaction                         4\n",
      "StandardHours                                   80\n",
      "StockOptionLevel                                 1\n",
      "TotalWorkingYears                               10\n",
      "TrainingTimesLastYear                            3\n",
      "WorkLifeBalance                                  3\n",
      "YearsAtCompany                                  10\n",
      "YearsInCurrentRole                               7\n",
      "YearsSinceLastPromotion                          1\n",
      "YearsWithCurrManager                             7\n",
      "Name: 1, dtype: object\n"
     ]
    }
   ],
   "source": [
    "print(\"Second observation:\\n\",data.iloc[1])"
   ]
  },
  {
   "cell_type": "markdown",
   "metadata": {},
   "source": [
    "### Displaying specific column of specific row"
   ]
  },
  {
   "cell_type": "code",
   "execution_count": 56,
   "metadata": {},
   "outputs": [
    {
     "name": "stdout",
     "output_type": "stream",
     "text": [
      "Fifth column of Ninth record: \n",
      " Research & Development\n"
     ]
    }
   ],
   "source": [
    "print(\"Fifth column of Ninth record: \\n\",data.iloc[8,4])"
   ]
  },
  {
   "cell_type": "markdown",
   "metadata": {},
   "source": [
    "### Displaying specific column of range of rows"
   ]
  },
  {
   "cell_type": "code",
   "execution_count": 57,
   "metadata": {},
   "outputs": [
    {
     "name": "stdout",
     "output_type": "stream",
     "text": [
      "Range of records for eight column: \n",
      "   EducationField\n",
      "3  Life Sciences\n",
      "4        Medical\n"
     ]
    }
   ],
   "source": [
    "print(\"Range of records for eight column: \\n\",data.iloc[3:5,[7]])"
   ]
  },
  {
   "cell_type": "markdown",
   "metadata": {},
   "source": [
    "# 40. Retrieving one specific row by loc method"
   ]
  },
  {
   "cell_type": "code",
   "execution_count": 58,
   "metadata": {},
   "outputs": [
    {
     "name": "stdout",
     "output_type": "stream",
     "text": [
      "Displaying specific single record: \n",
      " Age                                             33\n",
      "Attrition                                       No\n",
      "BusinessTravel                   Travel_Frequently\n",
      "DailyRate                                     1392\n",
      "Department                  Research & Development\n",
      "DistanceFromHome                                 3\n",
      "Education                                        4\n",
      "EducationField                       Life Sciences\n",
      "EmployeeCount                                    1\n",
      "EmployeeNumber                                   5\n",
      "EnvironmentSatisfaction                          4\n",
      "Gender                                      Female\n",
      "HourlyRate                                      56\n",
      "JobInvolvement                                   3\n",
      "JobLevel                                         1\n",
      "JobRole                         Research Scientist\n",
      "JobSatisfaction                                  3\n",
      "MaritalStatus                              Married\n",
      "MonthlyIncome                                 2909\n",
      "MonthlyRate                                  23159\n",
      "NumCompaniesWorked                               1\n",
      "Over18                                           Y\n",
      "OverTime                                       Yes\n",
      "PercentSalaryHike                               11\n",
      "PerformanceRating                                3\n",
      "RelationshipSatisfaction                         3\n",
      "StandardHours                                   80\n",
      "StockOptionLevel                                 0\n",
      "TotalWorkingYears                                8\n",
      "TrainingTimesLastYear                            3\n",
      "WorkLifeBalance                                  3\n",
      "YearsAtCompany                                   8\n",
      "YearsInCurrentRole                               7\n",
      "YearsSinceLastPromotion                          3\n",
      "YearsWithCurrManager                             0\n",
      "Name: 3, dtype: object\n"
     ]
    }
   ],
   "source": [
    "print(\"Displaying specific single record: \\n\",data.loc[3])"
   ]
  },
  {
   "cell_type": "markdown",
   "metadata": {},
   "source": [
    "### Retrieving range of rows by loc method"
   ]
  },
  {
   "cell_type": "code",
   "execution_count": 59,
   "metadata": {},
   "outputs": [
    {
     "name": "stdout",
     "output_type": "stream",
     "text": [
      "Displaing range of records: \n",
      "    Age Attrition     BusinessTravel  DailyRate              Department  \\\n",
      "1   49        No  Travel_Frequently        279  Research & Development   \n",
      "2   37       Yes      Travel_Rarely       1373  Research & Development   \n",
      "3   33        No  Travel_Frequently       1392  Research & Development   \n",
      "4   27        No      Travel_Rarely        591  Research & Development   \n",
      "5   32        No  Travel_Frequently       1005  Research & Development   \n",
      "\n",
      "   DistanceFromHome  Education EducationField  EmployeeCount  EmployeeNumber  \\\n",
      "1                 8          1  Life Sciences              1               2   \n",
      "2                 2          2          Other              1               4   \n",
      "3                 3          4  Life Sciences              1               5   \n",
      "4                 2          1        Medical              1               7   \n",
      "5                 2          2  Life Sciences              1               8   \n",
      "\n",
      "   ...  RelationshipSatisfaction StandardHours  StockOptionLevel  \\\n",
      "1  ...                         4            80                 1   \n",
      "2  ...                         2            80                 0   \n",
      "3  ...                         3            80                 0   \n",
      "4  ...                         4            80                 1   \n",
      "5  ...                         3            80                 0   \n",
      "\n",
      "   TotalWorkingYears  TrainingTimesLastYear WorkLifeBalance  YearsAtCompany  \\\n",
      "1                 10                      3               3              10   \n",
      "2                  7                      3               3               0   \n",
      "3                  8                      3               3               8   \n",
      "4                  6                      3               3               2   \n",
      "5                  8                      2               2               7   \n",
      "\n",
      "  YearsInCurrentRole  YearsSinceLastPromotion  YearsWithCurrManager  \n",
      "1                  7                        1                     7  \n",
      "2                  0                        0                     0  \n",
      "3                  7                        3                     0  \n",
      "4                  2                        2                     2  \n",
      "5                  7                        3                     6  \n",
      "\n",
      "[5 rows x 35 columns]\n"
     ]
    }
   ],
   "source": [
    "print(\"Displaing range of records: \\n\",data.loc[1:5,])"
   ]
  },
  {
   "cell_type": "markdown",
   "metadata": {},
   "source": [
    "### Retrieving different multiple rows by loc method"
   ]
  },
  {
   "cell_type": "code",
   "execution_count": 60,
   "metadata": {},
   "outputs": [
    {
     "name": "stdout",
     "output_type": "stream",
     "text": [
      "Displaying multiple specified records: \n",
      "     Age Attrition BusinessTravel  DailyRate              Department  \\\n",
      "14   28       Yes  Travel_Rarely        103  Research & Development   \n",
      "25   53        No  Travel_Rarely       1282  Research & Development   \n",
      "36   50       Yes  Travel_Rarely        869                   Sales   \n",
      "\n",
      "    DistanceFromHome  Education EducationField  EmployeeCount  EmployeeNumber  \\\n",
      "14                24          3  Life Sciences              1              19   \n",
      "25                 5          3          Other              1              32   \n",
      "36                 3          2      Marketing              1              47   \n",
      "\n",
      "    ...  RelationshipSatisfaction StandardHours  StockOptionLevel  \\\n",
      "14  ...                         2            80                 0   \n",
      "25  ...                         4            80                 1   \n",
      "36  ...                         3            80                 0   \n",
      "\n",
      "    TotalWorkingYears  TrainingTimesLastYear WorkLifeBalance  YearsAtCompany  \\\n",
      "14                  6                      4               3               4   \n",
      "25                 26                      3               2              14   \n",
      "36                  3                      2               3               3   \n",
      "\n",
      "   YearsInCurrentRole  YearsSinceLastPromotion  YearsWithCurrManager  \n",
      "14                  2                        0                     3  \n",
      "25                 13                        4                     8  \n",
      "36                  2                        0                     2  \n",
      "\n",
      "[3 rows x 35 columns]\n"
     ]
    }
   ],
   "source": [
    "print(\"Displaying multiple specified records: \\n\",data.loc[[14,25,36]])"
   ]
  },
  {
   "cell_type": "markdown",
   "metadata": {},
   "source": [
    "### Retrieving selected rows with columns between \"Age\" and \"Daily Rate\""
   ]
  },
  {
   "cell_type": "code",
   "execution_count": 61,
   "metadata": {},
   "outputs": [
    {
     "name": "stdout",
     "output_type": "stream",
     "text": [
      "Displaying selected rows for range of columns: \n",
      "    Age Attrition     BusinessTravel  DailyRate\n",
      "5   32        No  Travel_Frequently       1005\n",
      "7   30        No      Travel_Rarely       1358\n"
     ]
    }
   ],
   "source": [
    "print(\"Displaying selected rows for range of columns: \\n\",data.loc[[5,7],'Age':'DailyRated'])"
   ]
  },
  {
   "cell_type": "markdown",
   "metadata": {},
   "source": [
    "### Retrieving rows with specific index and with specific columns"
   ]
  },
  {
   "cell_type": "code",
   "execution_count": 62,
   "metadata": {},
   "outputs": [
    {
     "name": "stdout",
     "output_type": "stream",
     "text": [
      "Dispalying range of rows for specific columns: \n",
      "    Age  MonthlyRate                JobRole\n",
      "7   30        13335  Laboratory Technician\n"
     ]
    }
   ],
   "source": [
    "print(\"Dispalying range of rows for specific columns: \\n\",data.loc[[7],['Age','MonthlyRate','JobRole']])"
   ]
  },
  {
   "cell_type": "markdown",
   "metadata": {},
   "source": [
    "# 41. Displaying first 4 records"
   ]
  },
  {
   "cell_type": "code",
   "execution_count": 64,
   "metadata": {},
   "outputs": [
    {
     "name": "stdout",
     "output_type": "stream",
     "text": [
      "First 4 records: \n",
      "    Age Attrition     BusinessTravel  DailyRate              Department  \\\n",
      "0   41       Yes      Travel_Rarely       1102                   Sales   \n",
      "1   49        No  Travel_Frequently        279  Research & Development   \n",
      "2   37       Yes      Travel_Rarely       1373  Research & Development   \n",
      "3   33        No  Travel_Frequently       1392  Research & Development   \n",
      "\n",
      "   DistanceFromHome  Education EducationField  EmployeeCount  EmployeeNumber  \\\n",
      "0                 1          2  Life Sciences              1               1   \n",
      "1                 8          1  Life Sciences              1               2   \n",
      "2                 2          2          Other              1               4   \n",
      "3                 3          4  Life Sciences              1               5   \n",
      "\n",
      "   ...  RelationshipSatisfaction StandardHours  StockOptionLevel  \\\n",
      "0  ...                         1            80                 0   \n",
      "1  ...                         4            80                 1   \n",
      "2  ...                         2            80                 0   \n",
      "3  ...                         3            80                 0   \n",
      "\n",
      "   TotalWorkingYears  TrainingTimesLastYear WorkLifeBalance  YearsAtCompany  \\\n",
      "0                  8                      0               1               6   \n",
      "1                 10                      3               3              10   \n",
      "2                  7                      3               3               0   \n",
      "3                  8                      3               3               8   \n",
      "\n",
      "  YearsInCurrentRole  YearsSinceLastPromotion  YearsWithCurrManager  \n",
      "0                  4                        0                     5  \n",
      "1                  7                        1                     7  \n",
      "2                  0                        0                     0  \n",
      "3                  7                        3                     0  \n",
      "\n",
      "[4 rows x 35 columns]\n"
     ]
    }
   ],
   "source": [
    "print(\"First 4 records: \\n\",data.head(4))"
   ]
  },
  {
   "cell_type": "markdown",
   "metadata": {},
   "source": [
    "### Determining all the values of marital status column only"
   ]
  },
  {
   "cell_type": "code",
   "execution_count": 65,
   "metadata": {},
   "outputs": [
    {
     "name": "stdout",
     "output_type": "stream",
     "text": [
      "The values corresponding to marital status column are: \n",
      " ['Single' 'Married' 'Single' ... 'Married' 'Married' 'Married']\n"
     ]
    }
   ],
   "source": [
    "print(\"The values corresponding to marital status column are: \\n\",data['MaritalStatus'].values)"
   ]
  },
  {
   "cell_type": "markdown",
   "metadata": {},
   "source": [
    "### Determining information of one observation from business travel"
   ]
  },
  {
   "cell_type": "code",
   "execution_count": 67,
   "metadata": {},
   "outputs": [
    {
     "name": "stdout",
     "output_type": "stream",
     "text": [
      "Information of fourth row in  Business Travel: \n",
      " Travel_Frequently\n"
     ]
    }
   ],
   "source": [
    "print(\"Information of fourth row in  Business Travel: \\n\",data['BusinessTravel'].values[3])"
   ]
  },
  {
   "cell_type": "markdown",
   "metadata": {},
   "source": [
    "### Determining information of range of observations from attrition"
   ]
  },
  {
   "cell_type": "code",
   "execution_count": 68,
   "metadata": {},
   "outputs": [
    {
     "name": "stdout",
     "output_type": "stream",
     "text": [
      "Information of first to third row in Attrition: \n",
      " ['Yes' 'No' 'Yes']\n"
     ]
    }
   ],
   "source": [
    "print(\"Information of first to third row in Attrition: \\n\",data['Attrition'].values[0:3])"
   ]
  },
  {
   "cell_type": "markdown",
   "metadata": {},
   "source": [
    "### Determining information on both row and column basis"
   ]
  },
  {
   "cell_type": "code",
   "execution_count": 69,
   "metadata": {},
   "outputs": [
    {
     "name": "stdout",
     "output_type": "stream",
     "text": [
      "Information of fourth column at third row: \n",
      " 1373\n"
     ]
    }
   ],
   "source": [
    "print(\"Information of fourth column at third row: \\n\",data.values[2,3])"
   ]
  },
  {
   "cell_type": "markdown",
   "metadata": {},
   "source": [
    "### Determining information on row basis"
   ]
  },
  {
   "cell_type": "code",
   "execution_count": 70,
   "metadata": {},
   "outputs": [
    {
     "name": "stdout",
     "output_type": "stream",
     "text": [
      "Information of first to third column in first row: \n",
      " [41 'Yes' 'Travel_Rarely']\n"
     ]
    }
   ],
   "source": [
    "print(\"Information of first to third column in first row: \\n\",data.values[0,0:3] )"
   ]
  },
  {
   "cell_type": "markdown",
   "metadata": {},
   "source": [
    "### Determining information on columnar basis"
   ]
  },
  {
   "cell_type": "code",
   "execution_count": 71,
   "metadata": {},
   "outputs": [
    {
     "name": "stdout",
     "output_type": "stream",
     "text": [
      "Information of first to fourth row in second column: \n",
      " ['Yes' 'No' 'Yes' 'No']\n"
     ]
    }
   ],
   "source": [
    "print(\"Information of first to fourth row in second column: \\n\",data.values[0:4,1])"
   ]
  },
  {
   "cell_type": "markdown",
   "metadata": {},
   "source": [
    "# DATA GROUPING: \n",
    " - groupby() function use\n",
    " - The grouping of observations can be done oonly on the basis of categorical variable and aggregate functions such as max(),min(),sum(),mean(),median(),count() on any of the categorical/continuous variable in the dataset"
   ]
  },
  {
   "cell_type": "markdown",
   "metadata": {},
   "source": [
    "# 42. Using groupby() to group records on basis of categorical variable"
   ]
  },
  {
   "cell_type": "markdown",
   "metadata": {},
   "source": [
    "### Count the number of records on the basis of department"
   ]
  },
  {
   "cell_type": "code",
   "execution_count": 72,
   "metadata": {},
   "outputs": [
    {
     "name": "stdout",
     "output_type": "stream",
     "text": [
      "Number of records based on different department are: \n",
      " Department\n",
      "Human Resources            63\n",
      "Research & Development    961\n",
      "Sales                     446\n",
      "Name: Department, dtype: int64\n"
     ]
    }
   ],
   "source": [
    "print(\"Number of records based on different department are: \\n\",data['Department'].groupby(data['Department']).count())"
   ]
  },
  {
   "cell_type": "markdown",
   "metadata": {},
   "source": [
    "### Grouping on basis of \"Job Role\" and using sum() for \"DailyRate\""
   ]
  },
  {
   "cell_type": "code",
   "execution_count": 78,
   "metadata": {},
   "outputs": [
    {
     "name": "stdout",
     "output_type": "stream",
     "text": [
      "Grouping on basis of Job Role and Calculating sum of Daily Rate: \n",
      "\n",
      " JobRole\n",
      "Healthcare Representative    111907\n",
      "Human Resources               39412\n",
      "Laboratory Technician        206324\n",
      "Manager                       79861\n",
      "Manufacturing Director       115423\n",
      "Research Director             64196\n",
      "Research Scientist           233705\n",
      "Sales Executive              261484\n",
      "Sales Representative          67342\n",
      "Name: DailyRate, dtype: int64\n"
     ]
    }
   ],
   "source": [
    "print(\"Grouping on basis of Job Role and Calculating sum of Daily Rate: \\n\\n\",data['DailyRate'].groupby(data['JobRole']).sum())"
   ]
  },
  {
   "cell_type": "markdown",
   "metadata": {},
   "source": [
    "### Grouping on basis of \"Marital Status\" and min for \"MonthlyRate\""
   ]
  },
  {
   "cell_type": "code",
   "execution_count": 79,
   "metadata": {},
   "outputs": [
    {
     "name": "stdout",
     "output_type": "stream",
     "text": [
      "Grouping on basis of Marital Status and min of Monthly Rate: \n",
      " MaritalStatus\n",
      "Divorced    2125\n",
      "Married     2094\n",
      "Single      2104\n",
      "Name: MonthlyRate, dtype: int64\n"
     ]
    }
   ],
   "source": [
    "print(\"Grouping on basis of Marital Status and min of Monthly Rate: \\n\",data[\"MonthlyRate\"].groupby(data['MaritalStatus']).min())"
   ]
  },
  {
   "cell_type": "markdown",
   "metadata": {},
   "source": [
    "### Grouping on basis of \"Education Field\" and maximum for \"Age\""
   ]
  },
  {
   "cell_type": "code",
   "execution_count": 80,
   "metadata": {},
   "outputs": [
    {
     "name": "stdout",
     "output_type": "stream",
     "text": [
      "Grouping on basis of Education Field and maximum of age: \n",
      " EducationField\n",
      "Human Resources     59\n",
      "Life Sciences       60\n",
      "Marketing           60\n",
      "Medical             60\n",
      "Other               53\n",
      "Technical Degree    59\n",
      "Name: Age, dtype: int64\n"
     ]
    }
   ],
   "source": [
    "print(\"Grouping on basis of Education Field and maximum of age: \\n\",data['Age'].groupby(data['EducationField']).max())"
   ]
  },
  {
   "cell_type": "markdown",
   "metadata": {},
   "source": [
    "### Grouping on basis of \"Gender\" and mean for \"Years At Company\""
   ]
  },
  {
   "cell_type": "code",
   "execution_count": 81,
   "metadata": {},
   "outputs": [
    {
     "name": "stdout",
     "output_type": "stream",
     "text": [
      "Grouping on basis of Gender and maean of Years at Comapny: \n",
      " Gender\n",
      "Female    7.231293\n",
      "Male      6.859410\n",
      "Name: YearsAtCompany, dtype: float64\n"
     ]
    }
   ],
   "source": [
    "print(\"Grouping on basis of Gender and maean of Years at Comapny: \\n\",data['YearsAtCompany'].groupby(data['Gender']).mean())"
   ]
  },
  {
   "cell_type": "markdown",
   "metadata": {},
   "source": [
    "### Grouping on basis of \"Attrition\" and median for \"Hourly Rate\""
   ]
  },
  {
   "cell_type": "code",
   "execution_count": 82,
   "metadata": {},
   "outputs": [
    {
     "name": "stdout",
     "output_type": "stream",
     "text": [
      "Grouping on basis of Attrition and Median of Hourly Rate: \n",
      " Attrition\n",
      "No     66.0\n",
      "Yes    66.0\n",
      "Name: HourlyRate, dtype: float64\n"
     ]
    }
   ],
   "source": [
    "print(\"Grouping on basis of Attrition and Median of Hourly Rate: \\n\",data['HourlyRate'].groupby(data['Attrition']).median())"
   ]
  },
  {
   "cell_type": "markdown",
   "metadata": {},
   "source": [
    "### Grouping on gender and using aggregate functions on multiple variables"
   ]
  },
  {
   "cell_type": "code",
   "execution_count": 83,
   "metadata": {},
   "outputs": [
    {
     "data": {
      "text/plain": [
       "Index(['Age', 'Attrition', 'BusinessTravel', 'DailyRate', 'Department',\n",
       "       'DistanceFromHome', 'Education', 'EducationField', 'EmployeeCount',\n",
       "       'EmployeeNumber', 'EnvironmentSatisfaction', 'Gender', 'HourlyRate',\n",
       "       'JobInvolvement', 'JobLevel', 'JobRole', 'JobSatisfaction',\n",
       "       'MaritalStatus', 'MonthlyIncome', 'MonthlyRate', 'NumCompaniesWorked',\n",
       "       'Over18', 'OverTime', 'PercentSalaryHike', 'PerformanceRating',\n",
       "       'RelationshipSatisfaction', 'StandardHours', 'StockOptionLevel',\n",
       "       'TotalWorkingYears', 'TrainingTimesLastYear', 'WorkLifeBalance',\n",
       "       'YearsAtCompany', 'YearsInCurrentRole', 'YearsSinceLastPromotion',\n",
       "       'YearsWithCurrManager'],\n",
       "      dtype='object')"
      ]
     },
     "execution_count": 83,
     "metadata": {},
     "output_type": "execute_result"
    }
   ],
   "source": [
    "data.columns"
   ]
  },
  {
   "cell_type": "code",
   "execution_count": 86,
   "metadata": {},
   "outputs": [
    {
     "data": {
      "text/html": [
       "<div>\n",
       "<style scoped>\n",
       "    .dataframe tbody tr th:only-of-type {\n",
       "        vertical-align: middle;\n",
       "    }\n",
       "\n",
       "    .dataframe tbody tr th {\n",
       "        vertical-align: top;\n",
       "    }\n",
       "\n",
       "    .dataframe thead th {\n",
       "        text-align: right;\n",
       "    }\n",
       "</style>\n",
       "<table border=\"1\" class=\"dataframe\">\n",
       "  <thead>\n",
       "    <tr style=\"text-align: right;\">\n",
       "      <th></th>\n",
       "      <th>Age</th>\n",
       "      <th>HourlyRate</th>\n",
       "      <th>DailyRate</th>\n",
       "      <th>MonthlyRate</th>\n",
       "      <th>JobSatisfaction</th>\n",
       "      <th>YearsAtCompany</th>\n",
       "    </tr>\n",
       "    <tr>\n",
       "      <th>Gender</th>\n",
       "      <th></th>\n",
       "      <th></th>\n",
       "      <th></th>\n",
       "      <th></th>\n",
       "      <th></th>\n",
       "      <th></th>\n",
       "    </tr>\n",
       "  </thead>\n",
       "  <tbody>\n",
       "    <tr>\n",
       "      <th>Female</th>\n",
       "      <td>37.329932</td>\n",
       "      <td>38751</td>\n",
       "      <td>825.5</td>\n",
       "      <td>588</td>\n",
       "      <td>1</td>\n",
       "      <td>40</td>\n",
       "    </tr>\n",
       "    <tr>\n",
       "      <th>Male</th>\n",
       "      <td>36.653061</td>\n",
       "      <td>58109</td>\n",
       "      <td>783.0</td>\n",
       "      <td>882</td>\n",
       "      <td>1</td>\n",
       "      <td>37</td>\n",
       "    </tr>\n",
       "  </tbody>\n",
       "</table>\n",
       "</div>"
      ],
      "text/plain": [
       "              Age  HourlyRate  DailyRate  MonthlyRate  JobSatisfaction  \\\n",
       "Gender                                                                   \n",
       "Female  37.329932       38751      825.5          588                1   \n",
       "Male    36.653061       58109      783.0          882                1   \n",
       "\n",
       "        YearsAtCompany  \n",
       "Gender                  \n",
       "Female              40  \n",
       "Male                37  "
      ]
     },
     "execution_count": 86,
     "metadata": {},
     "output_type": "execute_result"
    }
   ],
   "source": [
    "data.groupby(['Gender']).agg({'Age':'mean','HourlyRate':'sum','DailyRate':'median','MonthlyRate':'count','JobSatisfaction':'min','YearsAtCompany':'max'})"
   ]
  },
  {
   "cell_type": "markdown",
   "metadata": {},
   "source": [
    "# DATA TABLES\n",
    "1. Pivot Table :\n",
    "   - pivot_table() function use - three important arguments for index,columns,aggfunc."
   ]
  },
  {
   "cell_type": "markdown",
   "metadata": {},
   "source": [
    "### Using count aggregate function"
   ]
  },
  {
   "cell_type": "code",
   "execution_count": 87,
   "metadata": {},
   "outputs": [
    {
     "name": "stdout",
     "output_type": "stream",
     "text": [
      "Using count aggregate function:\n",
      "                        Age      BusinessTravel      DailyRate       \\\n",
      "Attrition                No  Yes             No  Yes        No  Yes   \n",
      "Department                                                            \n",
      "Human Resources          51   12             51   12        51   12   \n",
      "Research & Development  828  133            828  133       828  133   \n",
      "Sales                   354   92            354   92       354   92   \n",
      "\n",
      "                       DistanceFromHome      Education       ...  \\\n",
      "Attrition                            No  Yes        No  Yes  ...   \n",
      "Department                                                   ...   \n",
      "Human Resources                      51   12        51   12  ...   \n",
      "Research & Development              828  133       828  133  ...   \n",
      "Sales                               354   92       354   92  ...   \n",
      "\n",
      "                       WorkLifeBalance      YearsAtCompany       \\\n",
      "Attrition                           No  Yes             No  Yes   \n",
      "Department                                                        \n",
      "Human Resources                     51   12             51   12   \n",
      "Research & Development             828  133            828  133   \n",
      "Sales                              354   92            354   92   \n",
      "\n",
      "                       YearsInCurrentRole      YearsSinceLastPromotion       \\\n",
      "Attrition                              No  Yes                      No  Yes   \n",
      "Department                                                                    \n",
      "Human Resources                        51   12                      51   12   \n",
      "Research & Development                828  133                     828  133   \n",
      "Sales                                 354   92                     354   92   \n",
      "\n",
      "                       YearsWithCurrManager       \n",
      "Attrition                                No  Yes  \n",
      "Department                                        \n",
      "Human Resources                          51   12  \n",
      "Research & Development                  828  133  \n",
      "Sales                                   354   92  \n",
      "\n",
      "[3 rows x 66 columns]\n"
     ]
    }
   ],
   "source": [
    "print(\"Using count aggregate function:\")\n",
    "print(data.pivot_table(index='Department',columns='Attrition',aggfunc='count'))"
   ]
  },
  {
   "cell_type": "markdown",
   "metadata": {},
   "source": [
    "### Using Sum aggregate function"
   ]
  },
  {
   "cell_type": "code",
   "execution_count": 95,
   "metadata": {},
   "outputs": [
    {
     "name": "stdout",
     "output_type": "stream",
     "text": [
      "Using Sum aggregate function:\n",
      "                     Age         \\\n",
      "Gender            Female   Male   \n",
      "BusinessTravel                    \n",
      "Non-Travel          1746   3747   \n",
      "Travel_Frequently   4285   5813   \n",
      "Travel_Rarely      15919  22768   \n",
      "\n",
      "                                                           Attrition  \\\n",
      "Gender                                                        Female   \n",
      "BusinessTravel                                                         \n",
      "Non-Travel         NoNoNoNoNoNoNoNoNoNoNoNoNoNoNoNoNoNoNoNoNoYesN...   \n",
      "Travel_Frequently  NoYesNoNoNoNoNoYesNoNoNoNoNoNoNoNoYesNoNoNoYes...   \n",
      "Travel_Rarely      YesNoNoNoNoNoNoNoNoNoNoNoNoYesNoNoNoNoNoNoNoNo...   \n",
      "\n",
      "                                                                      \\\n",
      "Gender                                                          Male   \n",
      "BusinessTravel                                                         \n",
      "Non-Travel         NoNoNoNoNoNoNoNoNoNoNoNoNoNoNoNoNoNoNoNoNoYesN...   \n",
      "Travel_Frequently  NoNoNoNoNoNoNoNoNoNoYesNoNoYesNoNoNoNoNoNoNoNo...   \n",
      "Travel_Rarely      YesNoNoNoNoNoNoYesNoNoYesNoYesNoNoNoNoYesYesYe...   \n",
      "\n",
      "                  DailyRate          \\\n",
      "Gender               Female    Male   \n",
      "BusinessTravel                        \n",
      "Non-Travel            43334   79210   \n",
      "Travel_Frequently     90128  129430   \n",
      "Travel_Rarely        341803  495749   \n",
      "\n",
      "                                                          Department  \\\n",
      "Gender                                                        Female   \n",
      "BusinessTravel                                                         \n",
      "Non-Travel         Research & DevelopmentResearch & DevelopmentHu...   \n",
      "Travel_Frequently  Research & DevelopmentResearch & DevelopmentSa...   \n",
      "Travel_Rarely      SalesResearch & DevelopmentResearch & Developm...   \n",
      "\n",
      "                                                                      \\\n",
      "Gender                                                          Male   \n",
      "BusinessTravel                                                         \n",
      "Non-Travel         Research & DevelopmentSalesResearch & Developm...   \n",
      "Travel_Frequently  Research & DevelopmentResearch & DevelopmentRe...   \n",
      "Travel_Rarely      Research & DevelopmentResearch & DevelopmentRe...   \n",
      "\n",
      "                  DistanceFromHome        ... WorkLifeBalance        \\\n",
      "Gender                      Female  Male  ...          Female  Male   \n",
      "BusinessTravel                            ...                         \n",
      "Non-Travel                     495   969  ...             141   275   \n",
      "Travel_Frequently             1237  1333  ...             321   448   \n",
      "Travel_Rarely                 3684  5795  ...            1163  1711   \n",
      "\n",
      "                  YearsAtCompany       YearsInCurrentRole        \\\n",
      "Gender                    Female  Male             Female  Male   \n",
      "BusinessTravel                                                    \n",
      "Non-Travel                   332   740                216   437   \n",
      "Travel_Frequently            835  1152                502   673   \n",
      "Travel_Rarely               3085  4158               1877  2512   \n",
      "\n",
      "                  YearsSinceLastPromotion       YearsWithCurrManager        \n",
      "Gender                             Female  Male               Female  Male  \n",
      "BusinessTravel                                                              \n",
      "Non-Travel                            108   250                  211   434  \n",
      "Travel_Frequently                     267   382                  502   666  \n",
      "Travel_Rarely                         974  1235                 1790  2458  \n",
      "\n",
      "[3 rows x 66 columns]\n"
     ]
    }
   ],
   "source": [
    "print(\"Using Sum aggregate function:\")\n",
    "print(data.pivot_table(index='BusinessTravel',columns='Gender',aggfunc='sum'))"
   ]
  },
  {
   "cell_type": "markdown",
   "metadata": {},
   "source": [
    "### Using Count aggregate function"
   ]
  },
  {
   "cell_type": "code",
   "execution_count": 97,
   "metadata": {},
   "outputs": [
    {
     "name": "stdout",
     "output_type": "stream",
     "text": [
      "Using Median aggregate function:\n",
      "                      Age                Attrition                 \\\n",
      "MaritalStatus    Divorced Married Single  Divorced Married Single   \n",
      "EducationField                                                      \n",
      "Human Resources         7      18      2         7      18      2   \n",
      "Life Sciences         134     271    201       134     271    201   \n",
      "Marketing              34      77     48        34      77     48   \n",
      "Medical               107     210    147       107     210    147   \n",
      "Other                  19      36     27        19      36     27   \n",
      "Technical Degree       26      61     45        26      61     45   \n",
      "\n",
      "                 BusinessTravel                DailyRate  ... YearsAtCompany  \\\n",
      "MaritalStatus          Divorced Married Single  Divorced  ...         Single   \n",
      "EducationField                                            ...                  \n",
      "Human Resources               7      18      2         7  ...              2   \n",
      "Life Sciences               134     271    201       134  ...            201   \n",
      "Marketing                    34      77     48        34  ...             48   \n",
      "Medical                     107     210    147       107  ...            147   \n",
      "Other                        19      36     27        19  ...             27   \n",
      "Technical Degree             26      61     45        26  ...             45   \n",
      "\n",
      "                 YearsInCurrentRole                YearsSinceLastPromotion  \\\n",
      "MaritalStatus              Divorced Married Single                Divorced   \n",
      "EducationField                                                               \n",
      "Human Resources                   7      18      2                       7   \n",
      "Life Sciences                   134     271    201                     134   \n",
      "Marketing                        34      77     48                      34   \n",
      "Medical                         107     210    147                     107   \n",
      "Other                            19      36     27                      19   \n",
      "Technical Degree                 26      61     45                      26   \n",
      "\n",
      "                                YearsWithCurrManager                 \n",
      "MaritalStatus    Married Single             Divorced Married Single  \n",
      "EducationField                                                       \n",
      "Human Resources       18      2                    7      18      2  \n",
      "Life Sciences        271    201                  134     271    201  \n",
      "Marketing             77     48                   34      77     48  \n",
      "Medical              210    147                  107     210    147  \n",
      "Other                 36     27                   19      36     27  \n",
      "Technical Degree      61     45                   26      61     45  \n",
      "\n",
      "[6 rows x 99 columns]\n"
     ]
    }
   ],
   "source": [
    "print(\"Using Count aggregate function:\")\n",
    "print(data.pivot_table(index='EducationField',columns='MaritalStatus',aggfunc='count'))"
   ]
  },
  {
   "cell_type": "markdown",
   "metadata": {},
   "source": [
    "### Using crosstab for determining number of observations for 2 variables"
   ]
  },
  {
   "cell_type": "code",
   "execution_count": 99,
   "metadata": {},
   "outputs": [
    {
     "name": "stdout",
     "output_type": "stream",
     "text": [
      "Cross tab without aggregate values:\n",
      "Gender            Female  Male\n",
      "EducationField                \n",
      "Human Resources        8    19\n",
      "Life Sciences        240   366\n",
      "Marketing             69    90\n",
      "Medical              190   274\n",
      "Other                 29    53\n",
      "Technical Degree      52    80\n"
     ]
    }
   ],
   "source": [
    "print(\"Cross tab without aggregate values:\")\n",
    "print(pd.crosstab(data.EducationField,data.Gender,margins=False))"
   ]
  },
  {
   "cell_type": "code",
   "execution_count": 100,
   "metadata": {},
   "outputs": [
    {
     "name": "stdout",
     "output_type": "stream",
     "text": [
      "Cross tab without aggregate values:\n",
      "Gender            Female  Male   All\n",
      "EducationField                      \n",
      "Human Resources        8    19    27\n",
      "Life Sciences        240   366   606\n",
      "Marketing             69    90   159\n",
      "Medical              190   274   464\n",
      "Other                 29    53    82\n",
      "Technical Degree      52    80   132\n",
      "All                  588   882  1470\n"
     ]
    }
   ],
   "source": [
    "print(\"Cross tab without aggregate values:\")\n",
    "print(pd.crosstab(data.EducationField,data.Gender,margins=True))"
   ]
  },
  {
   "cell_type": "code",
   "execution_count": 98,
   "metadata": {},
   "outputs": [
    {
     "name": "stdout",
     "output_type": "stream",
     "text": [
      "Cross tab with aggregate values:\n",
      "Department     Human Resources  Research & Development  Sales   All\n",
      "MaritalStatus                                                      \n",
      "Divorced                    16                     224     87   327\n",
      "Married                     34                     433    206   673\n",
      "Single                      13                     304    153   470\n",
      "All                         63                     961    446  1470\n"
     ]
    }
   ],
   "source": [
    "print(\"Cross tab with aggregate values:\")\n",
    "print(pd.crosstab(data.MaritalStatus,data.Department,margins=True))"
   ]
  },
  {
   "cell_type": "markdown",
   "metadata": {},
   "source": [
    "### Handling Duplicate and Missing Values"
   ]
  },
  {
   "cell_type": "markdown",
   "metadata": {},
   "source": [
    "### Creating Dataset:"
   ]
  },
  {
   "cell_type": "code",
   "execution_count": 3,
   "metadata": {},
   "outputs": [],
   "source": [
    "import pandas as pd"
   ]
  },
  {
   "cell_type": "code",
   "execution_count": 4,
   "metadata": {},
   "outputs": [
    {
     "name": "stdout",
     "output_type": "stream",
     "text": [
      "Original data: \n",
      "   Brand   Price\n",
      "0     A  3000.0\n",
      "1     B  2000.0\n",
      "2     A  3000.0\n",
      "3     D  1700.0\n",
      "4     E     NaN\n",
      "5     F  1600.0\n",
      "Dimension of data: \n",
      " (6, 2)\n"
     ]
    }
   ],
   "source": [
    "product = pd.DataFrame([['A',3000],['B',2000],['A',3000],['D',1700],['E'],['F',1600]],columns=['Brand','Price'])\n",
    "print(\"Original data: \\n\",product)\n",
    "print(\"Dimension of data: \\n\",product.shape)"
   ]
  },
  {
   "cell_type": "markdown",
   "metadata": {},
   "source": [
    "### Determining Missing Values"
   ]
  },
  {
   "cell_type": "markdown",
   "metadata": {},
   "source": [
    "# 43. Information related to number of missing observations for each column"
   ]
  },
  {
   "cell_type": "code",
   "execution_count": 5,
   "metadata": {},
   "outputs": [
    {
     "name": "stdout",
     "output_type": "stream",
     "text": [
      "Number of missing values in column: \n",
      " Brand    0\n",
      "Price    1\n",
      "dtype: int64\n"
     ]
    }
   ],
   "source": [
    "print(\"Number of missing values in column: \\n\",product.isnull().sum())"
   ]
  },
  {
   "cell_type": "markdown",
   "metadata": {},
   "source": [
    "### Deleting Observations Containing Missing Values"
   ]
  },
  {
   "cell_type": "markdown",
   "metadata": {},
   "source": [
    "### Creating a copy of the DataFrame"
   ]
  },
  {
   "cell_type": "code",
   "execution_count": 6,
   "metadata": {},
   "outputs": [],
   "source": [
    "newproduct = product.copy()"
   ]
  },
  {
   "cell_type": "markdown",
   "metadata": {},
   "source": [
    "# 44. Removing the complete observations containing missing values"
   ]
  },
  {
   "cell_type": "code",
   "execution_count": 7,
   "metadata": {},
   "outputs": [],
   "source": [
    "newproduct.dropna(inplace=True)"
   ]
  },
  {
   "cell_type": "markdown",
   "metadata": {},
   "source": [
    "### Displayng the data after removing missing observations"
   ]
  },
  {
   "cell_type": "code",
   "execution_count": 8,
   "metadata": {},
   "outputs": [
    {
     "name": "stdout",
     "output_type": "stream",
     "text": [
      "Dimension after removing observations:  (5, 2)\n",
      "New Data: \n",
      "   Brand   Price\n",
      "0     A  3000.0\n",
      "1     B  2000.0\n",
      "2     A  3000.0\n",
      "3     D  1700.0\n",
      "5     F  1600.0\n"
     ]
    }
   ],
   "source": [
    "print(\"Dimension after removing observations: \",newproduct.shape)\n",
    "print(\"New Data: \\n\",newproduct)"
   ]
  },
  {
   "cell_type": "code",
   "execution_count": 9,
   "metadata": {},
   "outputs": [
    {
     "data": {
      "text/plain": [
       "Brand    0\n",
       "Price    0\n",
       "dtype: int64"
      ]
     },
     "execution_count": 9,
     "metadata": {},
     "output_type": "execute_result"
    }
   ],
   "source": [
    "newproduct.isnull().sum()"
   ]
  },
  {
   "cell_type": "markdown",
   "metadata": {},
   "source": [
    "### Missing Data Imputation"
   ]
  },
  {
   "cell_type": "markdown",
   "metadata": {},
   "source": [
    "### Determining average price from the data"
   ]
  },
  {
   "cell_type": "code",
   "execution_count": 10,
   "metadata": {},
   "outputs": [
    {
     "name": "stdout",
     "output_type": "stream",
     "text": [
      "Average price before data imputation: 2260.0\n"
     ]
    }
   ],
   "source": [
    "print(\"Average price before data imputation:\",product['Price'].mean())"
   ]
  },
  {
   "cell_type": "markdown",
   "metadata": {},
   "source": [
    "# 45. Replacing missing values of \"Price\" with 0 "
   ]
  },
  {
   "cell_type": "code",
   "execution_count": 11,
   "metadata": {},
   "outputs": [
    {
     "name": "stdout",
     "output_type": "stream",
     "text": [
      "Average after replacing with 0: 1883.3333333333333\n",
      "Number of missing values: 0\n"
     ]
    }
   ],
   "source": [
    "product1= product.copy()\n",
    "product1[\"Price\"] = product1['Price'].fillna(0)\n",
    "print(\"Average after replacing with 0:\",product1[\"Price\"].mean())\n",
    "print(\"Number of missing values:\",product1['Price'].isnull().sum())"
   ]
  },
  {
   "cell_type": "markdown",
   "metadata": {},
   "source": [
    "# 46. Replacing missing values of \"Price\" with median"
   ]
  },
  {
   "cell_type": "code",
   "execution_count": 12,
   "metadata": {},
   "outputs": [
    {
     "name": "stdout",
     "output_type": "stream",
     "text": [
      "Average after replacing with median: 2216.6666666666665\n",
      "Number of missing values: 0\n"
     ]
    }
   ],
   "source": [
    "product2= product.copy()\n",
    "product2[\"Price\"] = product2['Price'].fillna(product2['Price'].median())\n",
    "print(\"Average after replacing with median:\",product2[\"Price\"].mean())\n",
    "print(\"Number of missing values:\",product2['Price'].isnull().sum())"
   ]
  },
  {
   "cell_type": "markdown",
   "metadata": {},
   "source": [
    "# 47. Replacing missing values of \"Price\" with mean"
   ]
  },
  {
   "cell_type": "code",
   "execution_count": 13,
   "metadata": {},
   "outputs": [
    {
     "name": "stdout",
     "output_type": "stream",
     "text": [
      "Average after replacing with median: 2260.0\n",
      "Number of missing values: 0\n"
     ]
    }
   ],
   "source": [
    "product3= product.copy()\n",
    "product3[\"Price\"] = product3['Price'].fillna(product3['Price'].mean())\n",
    "print(\"Average after replacing with median:\",product3[\"Price\"].mean())\n",
    "print(\"Number of missing values:\",product3['Price'].isnull().sum())"
   ]
  },
  {
   "cell_type": "markdown",
   "metadata": {},
   "source": [
    "### Deleting Duplicate Records"
   ]
  },
  {
   "cell_type": "markdown",
   "metadata": {},
   "source": [
    "### Determinig number of duplicate records"
   ]
  },
  {
   "cell_type": "code",
   "execution_count": 14,
   "metadata": {},
   "outputs": [
    {
     "name": "stdout",
     "output_type": "stream",
     "text": [
      "Number of duplicate records: 1\n"
     ]
    }
   ],
   "source": [
    "print(\"Number of duplicate records:\",product3.duplicated().sum())"
   ]
  },
  {
   "cell_type": "markdown",
   "metadata": {},
   "source": [
    "# 48. Deleting duplicate records"
   ]
  },
  {
   "cell_type": "code",
   "execution_count": 15,
   "metadata": {},
   "outputs": [
    {
     "name": "stdout",
     "output_type": "stream",
     "text": [
      "New dataset after removing duplicate records: \n",
      "   Brand   Price\n",
      "0     A  3000.0\n",
      "1     B  2000.0\n",
      "3     D  1700.0\n",
      "4     E  2260.0\n",
      "5     F  1600.0\n"
     ]
    }
   ],
   "source": [
    "newproduct3 = product3.drop_duplicates()\n",
    "print(\"New dataset after removing duplicate records: \\n\",newproduct3)"
   ]
  },
  {
   "cell_type": "markdown",
   "metadata": {},
   "source": [
    "* NOTE: \n",
    "   -  If there are multiple columns having duplicate values and the user may want to drop the duplicates on the basis of particular column only.\n",
    "   -  newdata = data.drop_dupliactes(subset=['Salary'],keep='first')\n",
    "   -  The keep argument with value as \"first\" will keep the first observation only."
   ]
  },
  {
   "cell_type": "markdown",
   "metadata": {},
   "source": [
    "# QUICK CHALLENGE:\n",
    "### Create a DataFrame of employee information(name,area,city,department,designation and salary) containing missing values in city and salary.Perform missing data imputation and delete the area column."
   ]
  },
  {
   "cell_type": "code",
   "execution_count": 33,
   "metadata": {},
   "outputs": [],
   "source": [
    "import pandas as pd\n",
    "import numpy as np"
   ]
  },
  {
   "cell_type": "code",
   "execution_count": 37,
   "metadata": {},
   "outputs": [],
   "source": [
    "employee_information = pd.DataFrame([['Prodip','Bamangachhi','Barasat','IT','junior Data Analyst',35000],\n",
    "    ['Anand','Belghoria',np.nan,'PWD','manager',120000],\n",
    "    ['Madhumita','Sonarpur',np.nan,'Finance','Computer Operator'],\n",
    "    ['Debasish','Baruipur','Kolkata','Finance_B','Data Entry Operator',15000],\n",
    "    ['Rahul','Srerampore','Hooghly','Finance_C','Group D'],\n",
    "    ['Mokha','Uttarpara',np.nan,'Finance_D','Network Operator'],\n",
    "    ['Rajesh','Baguihati','North24 PGS','Finance_E','Security Engineer',55000],\n",
    "    ['Nintin','Kestopur',np.nan,'Railway','Loco Pilot',60000],\n",
    "    ['Debashmita','Madhyamgram',np.nan,'Medical','Doctor',900000],\n",
    "    ['Subhankar','Rishra','Howrah','Bank','Loan Collector'],\n",
    "    ['Sonam','Chinchurah',np.nan,'Hotel','Shef',40000],\n",
    "    ['Koyel','Ballygaunge',np.nan,'Police','ACP',130000]],\n",
    "    columns=['Name','Area','City','Department','Designation','Salary']\n",
    "\n",
    ")\n"
   ]
  },
  {
   "cell_type": "code",
   "execution_count": 35,
   "metadata": {},
   "outputs": [
    {
     "data": {
      "text/html": [
       "<div>\n",
       "<style scoped>\n",
       "    .dataframe tbody tr th:only-of-type {\n",
       "        vertical-align: middle;\n",
       "    }\n",
       "\n",
       "    .dataframe tbody tr th {\n",
       "        vertical-align: top;\n",
       "    }\n",
       "\n",
       "    .dataframe thead th {\n",
       "        text-align: right;\n",
       "    }\n",
       "</style>\n",
       "<table border=\"1\" class=\"dataframe\">\n",
       "  <thead>\n",
       "    <tr style=\"text-align: right;\">\n",
       "      <th></th>\n",
       "      <th>Name</th>\n",
       "      <th>Area</th>\n",
       "      <th>City</th>\n",
       "      <th>Department</th>\n",
       "      <th>Designation</th>\n",
       "      <th>Salary</th>\n",
       "    </tr>\n",
       "  </thead>\n",
       "  <tbody>\n",
       "    <tr>\n",
       "      <th>0</th>\n",
       "      <td>Prodip</td>\n",
       "      <td>Bamangachhi</td>\n",
       "      <td>Barasat</td>\n",
       "      <td>IT</td>\n",
       "      <td>junior Data Analyst</td>\n",
       "      <td>35000.0</td>\n",
       "    </tr>\n",
       "    <tr>\n",
       "      <th>1</th>\n",
       "      <td>Anand</td>\n",
       "      <td>Belghoria</td>\n",
       "      <td>NaN</td>\n",
       "      <td>PWD</td>\n",
       "      <td>manager</td>\n",
       "      <td>120000.0</td>\n",
       "    </tr>\n",
       "    <tr>\n",
       "      <th>2</th>\n",
       "      <td>Madhumita</td>\n",
       "      <td>Sonarpur</td>\n",
       "      <td></td>\n",
       "      <td>Finance</td>\n",
       "      <td>Computer Operator</td>\n",
       "      <td>NaN</td>\n",
       "    </tr>\n",
       "    <tr>\n",
       "      <th>3</th>\n",
       "      <td>Debasish</td>\n",
       "      <td>Baruipur</td>\n",
       "      <td>Kolkata</td>\n",
       "      <td>Finance_B</td>\n",
       "      <td>Data Entry Operator</td>\n",
       "      <td>15000.0</td>\n",
       "    </tr>\n",
       "    <tr>\n",
       "      <th>4</th>\n",
       "      <td>Rahul</td>\n",
       "      <td>Srerampore</td>\n",
       "      <td>Hooghly</td>\n",
       "      <td>Finance_C</td>\n",
       "      <td>Group D</td>\n",
       "      <td>NaN</td>\n",
       "    </tr>\n",
       "    <tr>\n",
       "      <th>5</th>\n",
       "      <td>Mokha</td>\n",
       "      <td>Uttarpara</td>\n",
       "      <td></td>\n",
       "      <td>Finance_D</td>\n",
       "      <td>Network Operator</td>\n",
       "      <td>NaN</td>\n",
       "    </tr>\n",
       "    <tr>\n",
       "      <th>6</th>\n",
       "      <td>Rajesh</td>\n",
       "      <td>Baguihati</td>\n",
       "      <td>North24 PGS</td>\n",
       "      <td>Finance_E</td>\n",
       "      <td>Security Engineer</td>\n",
       "      <td>55000.0</td>\n",
       "    </tr>\n",
       "    <tr>\n",
       "      <th>7</th>\n",
       "      <td>Nintin</td>\n",
       "      <td>Kestopur</td>\n",
       "      <td></td>\n",
       "      <td>Railway</td>\n",
       "      <td>Loco Pilot</td>\n",
       "      <td>60000.0</td>\n",
       "    </tr>\n",
       "    <tr>\n",
       "      <th>8</th>\n",
       "      <td>Debashmita</td>\n",
       "      <td>Madhyamgram</td>\n",
       "      <td></td>\n",
       "      <td>Medical</td>\n",
       "      <td>Doctor</td>\n",
       "      <td>900000.0</td>\n",
       "    </tr>\n",
       "    <tr>\n",
       "      <th>9</th>\n",
       "      <td>Subhankar</td>\n",
       "      <td>Rishra</td>\n",
       "      <td>Howrah</td>\n",
       "      <td>Bank</td>\n",
       "      <td>Loan Collector</td>\n",
       "      <td>NaN</td>\n",
       "    </tr>\n",
       "    <tr>\n",
       "      <th>10</th>\n",
       "      <td>Sonam</td>\n",
       "      <td>Chinchurah</td>\n",
       "      <td></td>\n",
       "      <td>Hotel</td>\n",
       "      <td>Shef</td>\n",
       "      <td>40000.0</td>\n",
       "    </tr>\n",
       "    <tr>\n",
       "      <th>11</th>\n",
       "      <td>Koyel</td>\n",
       "      <td>Ballygaunge</td>\n",
       "      <td></td>\n",
       "      <td>Police</td>\n",
       "      <td>ACP</td>\n",
       "      <td>130000.0</td>\n",
       "    </tr>\n",
       "  </tbody>\n",
       "</table>\n",
       "</div>"
      ],
      "text/plain": [
       "          Name         Area         City Department          Designation  \\\n",
       "0       Prodip  Bamangachhi      Barasat         IT  junior Data Analyst   \n",
       "1        Anand    Belghoria          NaN        PWD              manager   \n",
       "2    Madhumita     Sonarpur                 Finance    Computer Operator   \n",
       "3     Debasish     Baruipur      Kolkata  Finance_B  Data Entry Operator   \n",
       "4        Rahul   Srerampore      Hooghly  Finance_C              Group D   \n",
       "5        Mokha    Uttarpara               Finance_D     Network Operator   \n",
       "6       Rajesh    Baguihati  North24 PGS  Finance_E    Security Engineer   \n",
       "7       Nintin     Kestopur                 Railway           Loco Pilot   \n",
       "8   Debashmita  Madhyamgram                 Medical               Doctor   \n",
       "9    Subhankar       Rishra       Howrah       Bank       Loan Collector   \n",
       "10       Sonam   Chinchurah                   Hotel                 Shef   \n",
       "11       Koyel  Ballygaunge                  Police                  ACP   \n",
       "\n",
       "      Salary  \n",
       "0    35000.0  \n",
       "1   120000.0  \n",
       "2        NaN  \n",
       "3    15000.0  \n",
       "4        NaN  \n",
       "5        NaN  \n",
       "6    55000.0  \n",
       "7    60000.0  \n",
       "8   900000.0  \n",
       "9        NaN  \n",
       "10   40000.0  \n",
       "11  130000.0  "
      ]
     },
     "execution_count": 35,
     "metadata": {},
     "output_type": "execute_result"
    }
   ],
   "source": [
    "employee_information"
   ]
  },
  {
   "cell_type": "code",
   "execution_count": 38,
   "metadata": {},
   "outputs": [
    {
     "data": {
      "text/plain": [
       "Name           0\n",
       "Area           0\n",
       "City           7\n",
       "Department     0\n",
       "Designation    0\n",
       "Salary         4\n",
       "dtype: int64"
      ]
     },
     "execution_count": 38,
     "metadata": {},
     "output_type": "execute_result"
    }
   ],
   "source": [
    "employee_information.isnull().sum()"
   ]
  },
  {
   "cell_type": "code",
   "execution_count": 39,
   "metadata": {},
   "outputs": [
    {
     "data": {
      "text/html": [
       "<div>\n",
       "<style scoped>\n",
       "    .dataframe tbody tr th:only-of-type {\n",
       "        vertical-align: middle;\n",
       "    }\n",
       "\n",
       "    .dataframe tbody tr th {\n",
       "        vertical-align: top;\n",
       "    }\n",
       "\n",
       "    .dataframe thead th {\n",
       "        text-align: right;\n",
       "    }\n",
       "</style>\n",
       "<table border=\"1\" class=\"dataframe\">\n",
       "  <thead>\n",
       "    <tr style=\"text-align: right;\">\n",
       "      <th></th>\n",
       "      <th>Name</th>\n",
       "      <th>Area</th>\n",
       "      <th>City</th>\n",
       "      <th>Department</th>\n",
       "      <th>Designation</th>\n",
       "      <th>Salary</th>\n",
       "    </tr>\n",
       "  </thead>\n",
       "  <tbody>\n",
       "    <tr>\n",
       "      <th>0</th>\n",
       "      <td>Prodip</td>\n",
       "      <td>Bamangachhi</td>\n",
       "      <td>Barasat</td>\n",
       "      <td>IT</td>\n",
       "      <td>junior Data Analyst</td>\n",
       "      <td>35000</td>\n",
       "    </tr>\n",
       "    <tr>\n",
       "      <th>1</th>\n",
       "      <td>Anand</td>\n",
       "      <td>Belghoria</td>\n",
       "      <td>Barasat</td>\n",
       "      <td>PWD</td>\n",
       "      <td>manager</td>\n",
       "      <td>120000</td>\n",
       "    </tr>\n",
       "    <tr>\n",
       "      <th>2</th>\n",
       "      <td>Madhumita</td>\n",
       "      <td>Sonarpur</td>\n",
       "      <td>Barasat</td>\n",
       "      <td>Finance</td>\n",
       "      <td>Computer Operator</td>\n",
       "      <td>169375</td>\n",
       "    </tr>\n",
       "    <tr>\n",
       "      <th>3</th>\n",
       "      <td>Debasish</td>\n",
       "      <td>Baruipur</td>\n",
       "      <td>Kolkata</td>\n",
       "      <td>Finance_B</td>\n",
       "      <td>Data Entry Operator</td>\n",
       "      <td>15000</td>\n",
       "    </tr>\n",
       "    <tr>\n",
       "      <th>4</th>\n",
       "      <td>Rahul</td>\n",
       "      <td>Srerampore</td>\n",
       "      <td>Hooghly</td>\n",
       "      <td>Finance_C</td>\n",
       "      <td>Group D</td>\n",
       "      <td>169375</td>\n",
       "    </tr>\n",
       "    <tr>\n",
       "      <th>5</th>\n",
       "      <td>Mokha</td>\n",
       "      <td>Uttarpara</td>\n",
       "      <td>Barasat</td>\n",
       "      <td>Finance_D</td>\n",
       "      <td>Network Operator</td>\n",
       "      <td>169375</td>\n",
       "    </tr>\n",
       "    <tr>\n",
       "      <th>6</th>\n",
       "      <td>Rajesh</td>\n",
       "      <td>Baguihati</td>\n",
       "      <td>North24 PGS</td>\n",
       "      <td>Finance_E</td>\n",
       "      <td>Security Engineer</td>\n",
       "      <td>55000</td>\n",
       "    </tr>\n",
       "    <tr>\n",
       "      <th>7</th>\n",
       "      <td>Nintin</td>\n",
       "      <td>Kestopur</td>\n",
       "      <td>Barasat</td>\n",
       "      <td>Railway</td>\n",
       "      <td>Loco Pilot</td>\n",
       "      <td>60000</td>\n",
       "    </tr>\n",
       "    <tr>\n",
       "      <th>8</th>\n",
       "      <td>Debashmita</td>\n",
       "      <td>Madhyamgram</td>\n",
       "      <td>Barasat</td>\n",
       "      <td>Medical</td>\n",
       "      <td>Doctor</td>\n",
       "      <td>900000</td>\n",
       "    </tr>\n",
       "    <tr>\n",
       "      <th>9</th>\n",
       "      <td>Subhankar</td>\n",
       "      <td>Rishra</td>\n",
       "      <td>Howrah</td>\n",
       "      <td>Bank</td>\n",
       "      <td>Loan Collector</td>\n",
       "      <td>169375</td>\n",
       "    </tr>\n",
       "    <tr>\n",
       "      <th>10</th>\n",
       "      <td>Sonam</td>\n",
       "      <td>Chinchurah</td>\n",
       "      <td>Barasat</td>\n",
       "      <td>Hotel</td>\n",
       "      <td>Shef</td>\n",
       "      <td>40000</td>\n",
       "    </tr>\n",
       "    <tr>\n",
       "      <th>11</th>\n",
       "      <td>Koyel</td>\n",
       "      <td>Ballygaunge</td>\n",
       "      <td>Barasat</td>\n",
       "      <td>Police</td>\n",
       "      <td>ACP</td>\n",
       "      <td>130000</td>\n",
       "    </tr>\n",
       "  </tbody>\n",
       "</table>\n",
       "</div>"
      ],
      "text/plain": [
       "          Name         Area         City Department          Designation  \\\n",
       "0       Prodip  Bamangachhi      Barasat         IT  junior Data Analyst   \n",
       "1        Anand    Belghoria      Barasat        PWD              manager   \n",
       "2    Madhumita     Sonarpur      Barasat    Finance    Computer Operator   \n",
       "3     Debasish     Baruipur      Kolkata  Finance_B  Data Entry Operator   \n",
       "4        Rahul   Srerampore      Hooghly  Finance_C              Group D   \n",
       "5        Mokha    Uttarpara      Barasat  Finance_D     Network Operator   \n",
       "6       Rajesh    Baguihati  North24 PGS  Finance_E    Security Engineer   \n",
       "7       Nintin     Kestopur      Barasat    Railway           Loco Pilot   \n",
       "8   Debashmita  Madhyamgram      Barasat    Medical               Doctor   \n",
       "9    Subhankar       Rishra       Howrah       Bank       Loan Collector   \n",
       "10       Sonam   Chinchurah      Barasat      Hotel                 Shef   \n",
       "11       Koyel  Ballygaunge      Barasat     Police                  ACP   \n",
       "\n",
       "    Salary  \n",
       "0    35000  \n",
       "1   120000  \n",
       "2   169375  \n",
       "3    15000  \n",
       "4   169375  \n",
       "5   169375  \n",
       "6    55000  \n",
       "7    60000  \n",
       "8   900000  \n",
       "9   169375  \n",
       "10   40000  \n",
       "11  130000  "
      ]
     },
     "execution_count": 39,
     "metadata": {},
     "output_type": "execute_result"
    }
   ],
   "source": [
    "employee_information_copy = employee_information.copy()\n",
    "\n",
    "employee_information_copy['City'] = employee_information_copy['City'].fillna(employee_information_copy['City'].mode()[0])\n",
    "employee_information_copy['Salary'] = employee_information_copy['Salary'].fillna(employee_information_copy['Salary'].mean())\n",
    "employee_information_copy['Salary'] = employee_information_copy['Salary'].astype(int)\n",
    "employee_information_copy"
   ]
  },
  {
   "cell_type": "code",
   "execution_count": 40,
   "metadata": {},
   "outputs": [
    {
     "data": {
      "text/html": [
       "<div>\n",
       "<style scoped>\n",
       "    .dataframe tbody tr th:only-of-type {\n",
       "        vertical-align: middle;\n",
       "    }\n",
       "\n",
       "    .dataframe tbody tr th {\n",
       "        vertical-align: top;\n",
       "    }\n",
       "\n",
       "    .dataframe thead th {\n",
       "        text-align: right;\n",
       "    }\n",
       "</style>\n",
       "<table border=\"1\" class=\"dataframe\">\n",
       "  <thead>\n",
       "    <tr style=\"text-align: right;\">\n",
       "      <th></th>\n",
       "      <th>Name</th>\n",
       "      <th>City</th>\n",
       "      <th>Department</th>\n",
       "      <th>Designation</th>\n",
       "      <th>Salary</th>\n",
       "    </tr>\n",
       "  </thead>\n",
       "  <tbody>\n",
       "    <tr>\n",
       "      <th>0</th>\n",
       "      <td>Prodip</td>\n",
       "      <td>Barasat</td>\n",
       "      <td>IT</td>\n",
       "      <td>junior Data Analyst</td>\n",
       "      <td>35000</td>\n",
       "    </tr>\n",
       "    <tr>\n",
       "      <th>1</th>\n",
       "      <td>Anand</td>\n",
       "      <td>Barasat</td>\n",
       "      <td>PWD</td>\n",
       "      <td>manager</td>\n",
       "      <td>120000</td>\n",
       "    </tr>\n",
       "    <tr>\n",
       "      <th>2</th>\n",
       "      <td>Madhumita</td>\n",
       "      <td>Barasat</td>\n",
       "      <td>Finance</td>\n",
       "      <td>Computer Operator</td>\n",
       "      <td>169375</td>\n",
       "    </tr>\n",
       "    <tr>\n",
       "      <th>3</th>\n",
       "      <td>Debasish</td>\n",
       "      <td>Kolkata</td>\n",
       "      <td>Finance_B</td>\n",
       "      <td>Data Entry Operator</td>\n",
       "      <td>15000</td>\n",
       "    </tr>\n",
       "    <tr>\n",
       "      <th>4</th>\n",
       "      <td>Rahul</td>\n",
       "      <td>Hooghly</td>\n",
       "      <td>Finance_C</td>\n",
       "      <td>Group D</td>\n",
       "      <td>169375</td>\n",
       "    </tr>\n",
       "    <tr>\n",
       "      <th>5</th>\n",
       "      <td>Mokha</td>\n",
       "      <td>Barasat</td>\n",
       "      <td>Finance_D</td>\n",
       "      <td>Network Operator</td>\n",
       "      <td>169375</td>\n",
       "    </tr>\n",
       "    <tr>\n",
       "      <th>6</th>\n",
       "      <td>Rajesh</td>\n",
       "      <td>North24 PGS</td>\n",
       "      <td>Finance_E</td>\n",
       "      <td>Security Engineer</td>\n",
       "      <td>55000</td>\n",
       "    </tr>\n",
       "    <tr>\n",
       "      <th>7</th>\n",
       "      <td>Nintin</td>\n",
       "      <td>Barasat</td>\n",
       "      <td>Railway</td>\n",
       "      <td>Loco Pilot</td>\n",
       "      <td>60000</td>\n",
       "    </tr>\n",
       "    <tr>\n",
       "      <th>8</th>\n",
       "      <td>Debashmita</td>\n",
       "      <td>Barasat</td>\n",
       "      <td>Medical</td>\n",
       "      <td>Doctor</td>\n",
       "      <td>900000</td>\n",
       "    </tr>\n",
       "    <tr>\n",
       "      <th>9</th>\n",
       "      <td>Subhankar</td>\n",
       "      <td>Howrah</td>\n",
       "      <td>Bank</td>\n",
       "      <td>Loan Collector</td>\n",
       "      <td>169375</td>\n",
       "    </tr>\n",
       "    <tr>\n",
       "      <th>10</th>\n",
       "      <td>Sonam</td>\n",
       "      <td>Barasat</td>\n",
       "      <td>Hotel</td>\n",
       "      <td>Shef</td>\n",
       "      <td>40000</td>\n",
       "    </tr>\n",
       "    <tr>\n",
       "      <th>11</th>\n",
       "      <td>Koyel</td>\n",
       "      <td>Barasat</td>\n",
       "      <td>Police</td>\n",
       "      <td>ACP</td>\n",
       "      <td>130000</td>\n",
       "    </tr>\n",
       "  </tbody>\n",
       "</table>\n",
       "</div>"
      ],
      "text/plain": [
       "          Name         City Department          Designation  Salary\n",
       "0       Prodip      Barasat         IT  junior Data Analyst   35000\n",
       "1        Anand      Barasat        PWD              manager  120000\n",
       "2    Madhumita      Barasat    Finance    Computer Operator  169375\n",
       "3     Debasish      Kolkata  Finance_B  Data Entry Operator   15000\n",
       "4        Rahul      Hooghly  Finance_C              Group D  169375\n",
       "5        Mokha      Barasat  Finance_D     Network Operator  169375\n",
       "6       Rajesh  North24 PGS  Finance_E    Security Engineer   55000\n",
       "7       Nintin      Barasat    Railway           Loco Pilot   60000\n",
       "8   Debashmita      Barasat    Medical               Doctor  900000\n",
       "9    Subhankar       Howrah       Bank       Loan Collector  169375\n",
       "10       Sonam      Barasat      Hotel                 Shef   40000\n",
       "11       Koyel      Barasat     Police                  ACP  130000"
      ]
     },
     "execution_count": 40,
     "metadata": {},
     "output_type": "execute_result"
    }
   ],
   "source": [
    "employee_information_copy.drop(columns=['Area'])"
   ]
  },
  {
   "cell_type": "markdown",
   "metadata": {},
   "source": [
    "### Data Transformation \n",
    " - Data Melting - helps in creating different rows on the basis of different values in different columns. \n",
    " - Data Concatenation - helps to create a single dataset from two dataset.\n",
    " - Data Merging - helps to add new columns from the new DataFrame to existing DataFrame.Merging will take place on the basis of similar column in the two DataFrames.The \"on\" argument inside the merge() function has the value of the common column and helps to merge the records on the basis of that column."
   ]
  },
  {
   "cell_type": "markdown",
   "metadata": {},
   "source": [
    "# 49. Performing data melting"
   ]
  },
  {
   "cell_type": "code",
   "execution_count": 16,
   "metadata": {},
   "outputs": [
    {
     "data": {
      "text/html": [
       "<div>\n",
       "<style scoped>\n",
       "    .dataframe tbody tr th:only-of-type {\n",
       "        vertical-align: middle;\n",
       "    }\n",
       "\n",
       "    .dataframe tbody tr th {\n",
       "        vertical-align: top;\n",
       "    }\n",
       "\n",
       "    .dataframe thead th {\n",
       "        text-align: right;\n",
       "    }\n",
       "</style>\n",
       "<table border=\"1\" class=\"dataframe\">\n",
       "  <thead>\n",
       "    <tr style=\"text-align: right;\">\n",
       "      <th></th>\n",
       "      <th>Brand</th>\n",
       "      <th>Price</th>\n",
       "    </tr>\n",
       "  </thead>\n",
       "  <tbody>\n",
       "    <tr>\n",
       "      <th>0</th>\n",
       "      <td>A</td>\n",
       "      <td>3000.0</td>\n",
       "    </tr>\n",
       "    <tr>\n",
       "      <th>1</th>\n",
       "      <td>B</td>\n",
       "      <td>2000.0</td>\n",
       "    </tr>\n",
       "    <tr>\n",
       "      <th>3</th>\n",
       "      <td>D</td>\n",
       "      <td>1700.0</td>\n",
       "    </tr>\n",
       "    <tr>\n",
       "      <th>4</th>\n",
       "      <td>E</td>\n",
       "      <td>2260.0</td>\n",
       "    </tr>\n",
       "    <tr>\n",
       "      <th>5</th>\n",
       "      <td>F</td>\n",
       "      <td>1600.0</td>\n",
       "    </tr>\n",
       "  </tbody>\n",
       "</table>\n",
       "</div>"
      ],
      "text/plain": [
       "  Brand   Price\n",
       "0     A  3000.0\n",
       "1     B  2000.0\n",
       "3     D  1700.0\n",
       "4     E  2260.0\n",
       "5     F  1600.0"
      ]
     },
     "execution_count": 16,
     "metadata": {},
     "output_type": "execute_result"
    }
   ],
   "source": [
    "newproduct3"
   ]
  },
  {
   "cell_type": "code",
   "execution_count": 17,
   "metadata": {},
   "outputs": [
    {
     "data": {
      "text/html": [
       "<div>\n",
       "<style scoped>\n",
       "    .dataframe tbody tr th:only-of-type {\n",
       "        vertical-align: middle;\n",
       "    }\n",
       "\n",
       "    .dataframe tbody tr th {\n",
       "        vertical-align: top;\n",
       "    }\n",
       "\n",
       "    .dataframe thead th {\n",
       "        text-align: right;\n",
       "    }\n",
       "</style>\n",
       "<table border=\"1\" class=\"dataframe\">\n",
       "  <thead>\n",
       "    <tr style=\"text-align: right;\">\n",
       "      <th></th>\n",
       "      <th>variable</th>\n",
       "      <th>value</th>\n",
       "    </tr>\n",
       "  </thead>\n",
       "  <tbody>\n",
       "    <tr>\n",
       "      <th>0</th>\n",
       "      <td>Brand</td>\n",
       "      <td>A</td>\n",
       "    </tr>\n",
       "    <tr>\n",
       "      <th>1</th>\n",
       "      <td>Brand</td>\n",
       "      <td>B</td>\n",
       "    </tr>\n",
       "    <tr>\n",
       "      <th>2</th>\n",
       "      <td>Brand</td>\n",
       "      <td>D</td>\n",
       "    </tr>\n",
       "    <tr>\n",
       "      <th>3</th>\n",
       "      <td>Brand</td>\n",
       "      <td>E</td>\n",
       "    </tr>\n",
       "    <tr>\n",
       "      <th>4</th>\n",
       "      <td>Brand</td>\n",
       "      <td>F</td>\n",
       "    </tr>\n",
       "    <tr>\n",
       "      <th>5</th>\n",
       "      <td>Price</td>\n",
       "      <td>3000.0</td>\n",
       "    </tr>\n",
       "    <tr>\n",
       "      <th>6</th>\n",
       "      <td>Price</td>\n",
       "      <td>2000.0</td>\n",
       "    </tr>\n",
       "    <tr>\n",
       "      <th>7</th>\n",
       "      <td>Price</td>\n",
       "      <td>1700.0</td>\n",
       "    </tr>\n",
       "    <tr>\n",
       "      <th>8</th>\n",
       "      <td>Price</td>\n",
       "      <td>2260.0</td>\n",
       "    </tr>\n",
       "    <tr>\n",
       "      <th>9</th>\n",
       "      <td>Price</td>\n",
       "      <td>1600.0</td>\n",
       "    </tr>\n",
       "  </tbody>\n",
       "</table>\n",
       "</div>"
      ],
      "text/plain": [
       "  variable   value\n",
       "0    Brand       A\n",
       "1    Brand       B\n",
       "2    Brand       D\n",
       "3    Brand       E\n",
       "4    Brand       F\n",
       "5    Price  3000.0\n",
       "6    Price  2000.0\n",
       "7    Price  1700.0\n",
       "8    Price  2260.0\n",
       "9    Price  1600.0"
      ]
     },
     "execution_count": 17,
     "metadata": {},
     "output_type": "execute_result"
    }
   ],
   "source": [
    "newproduct3.melt()"
   ]
  },
  {
   "cell_type": "markdown",
   "metadata": {},
   "source": [
    "# 50. Data concatenation for two DataFrame"
   ]
  },
  {
   "cell_type": "code",
   "execution_count": 18,
   "metadata": {},
   "outputs": [
    {
     "data": {
      "text/html": [
       "<div>\n",
       "<style scoped>\n",
       "    .dataframe tbody tr th:only-of-type {\n",
       "        vertical-align: middle;\n",
       "    }\n",
       "\n",
       "    .dataframe tbody tr th {\n",
       "        vertical-align: top;\n",
       "    }\n",
       "\n",
       "    .dataframe thead th {\n",
       "        text-align: right;\n",
       "    }\n",
       "</style>\n",
       "<table border=\"1\" class=\"dataframe\">\n",
       "  <thead>\n",
       "    <tr style=\"text-align: right;\">\n",
       "      <th></th>\n",
       "      <th>Brand</th>\n",
       "      <th>Price</th>\n",
       "    </tr>\n",
       "  </thead>\n",
       "  <tbody>\n",
       "    <tr>\n",
       "      <th>0</th>\n",
       "      <td>A</td>\n",
       "      <td>3000.0</td>\n",
       "    </tr>\n",
       "    <tr>\n",
       "      <th>1</th>\n",
       "      <td>B</td>\n",
       "      <td>2000.0</td>\n",
       "    </tr>\n",
       "    <tr>\n",
       "      <th>3</th>\n",
       "      <td>D</td>\n",
       "      <td>1700.0</td>\n",
       "    </tr>\n",
       "    <tr>\n",
       "      <th>4</th>\n",
       "      <td>E</td>\n",
       "      <td>2260.0</td>\n",
       "    </tr>\n",
       "    <tr>\n",
       "      <th>5</th>\n",
       "      <td>F</td>\n",
       "      <td>1600.0</td>\n",
       "    </tr>\n",
       "    <tr>\n",
       "      <th>0</th>\n",
       "      <td>G</td>\n",
       "      <td>2000.0</td>\n",
       "    </tr>\n",
       "    <tr>\n",
       "      <th>1</th>\n",
       "      <td>H</td>\n",
       "      <td>3300.0</td>\n",
       "    </tr>\n",
       "  </tbody>\n",
       "</table>\n",
       "</div>"
      ],
      "text/plain": [
       "  Brand   Price\n",
       "0     A  3000.0\n",
       "1     B  2000.0\n",
       "3     D  1700.0\n",
       "4     E  2260.0\n",
       "5     F  1600.0\n",
       "0     G  2000.0\n",
       "1     H  3300.0"
      ]
     },
     "execution_count": 18,
     "metadata": {},
     "output_type": "execute_result"
    }
   ],
   "source": [
    "product_4 = pd.DataFrame([['G',2000],['H',3300]],columns=['Brand','Price'])\n",
    "pd.concat([newproduct3,product_4])\n"
   ]
  },
  {
   "cell_type": "markdown",
   "metadata": {},
   "source": [
    "# 51. Data merging on two DataFrames"
   ]
  },
  {
   "cell_type": "code",
   "execution_count": 19,
   "metadata": {},
   "outputs": [
    {
     "name": "stdout",
     "output_type": "stream",
     "text": [
      "  Brand   Price        Name        Date\n",
      "0     A  3000.0  Van Heusen  04-05-2021\n",
      "1     B  2000.0        Nike  10-06-2021\n",
      "2     D  1700.0      Adidas  21-05-2021\n",
      "3     E  2260.0        Puma  19-08-2021\n",
      "4     F  1600.0         Gap  26-09-2021\n"
     ]
    }
   ],
   "source": [
    "pname = pd.DataFrame([['A','Van Heusen','04-05-2021'],['B','Nike','10-06-2021'],['D','Adidas','21-05-2021'],['E','Puma','19-08-2021'],['F','Gap','26-09-2021']],columns=['Brand','Name','Date'])\n",
    "finaldata = pd.merge(newproduct3,pname,on=['Brand'])\n",
    "print(finaldata)"
   ]
  },
  {
   "cell_type": "markdown",
   "metadata": {},
   "source": [
    "### Data Conversion Using Map\n",
    " - The map() function can be used to change the data type of any variable.\n",
    " - The dictionary and the key-value pairs created.\n",
    " - The map() function is used with dictionary object to perform the transformation in the dataset."
   ]
  },
  {
   "cell_type": "markdown",
   "metadata": {},
   "source": [
    "# 52. Creating an order for maping"
   ]
  },
  {
   "cell_type": "code",
   "execution_count": 20,
   "metadata": {},
   "outputs": [],
   "source": [
    "order = {\n",
    "    'A': 'First',\n",
    "    'B': 'Second',\n",
    "    'D': 'Third',\n",
    "    'E': 'Fourth',\n",
    "    'F': 'Fifth'\n",
    "}"
   ]
  },
  {
   "cell_type": "markdown",
   "metadata": {},
   "source": [
    "### Transformation any data type using map and apply"
   ]
  },
  {
   "cell_type": "code",
   "execution_count": 21,
   "metadata": {},
   "outputs": [
    {
     "name": "stdout",
     "output_type": "stream",
     "text": [
      "  Brand   Price        Name        Date newBrand\n",
      "0     A  3000.0  Van Heusen  04-05-2021    First\n",
      "1     B  2000.0        Nike  10-06-2021   Second\n",
      "2     D  1700.0      Adidas  21-05-2021    Third\n",
      "3     E  2260.0        Puma  19-08-2021   Fourth\n",
      "4     F  1600.0         Gap  26-09-2021    Fifth\n"
     ]
    }
   ],
   "source": [
    "finaldata['newBrand'] = finaldata['Brand'].map(order)\n",
    "print(finaldata)"
   ]
  },
  {
   "cell_type": "markdown",
   "metadata": {},
   "source": [
    "### Data conversion with apply() function"
   ]
  },
  {
   "cell_type": "code",
   "execution_count": 22,
   "metadata": {},
   "outputs": [
    {
     "name": "stdout",
     "output_type": "stream",
     "text": [
      "  Brand   Price        Name        Date newBrand\n",
      "0     A  3100.0  Van Heusen  04-05-2021    First\n",
      "1     B  2100.0        Nike  10-06-2021   Second\n",
      "2     D  1800.0      Adidas  21-05-2021    Third\n",
      "3     E  2360.0        Puma  19-08-2021   Fourth\n",
      "4     F  1700.0         Gap  26-09-2021    Fifth\n"
     ]
    }
   ],
   "source": [
    "finaldata['Price'] = finaldata['Price'].apply(lambda x: x+100)\n",
    "print(finaldata)"
   ]
  },
  {
   "cell_type": "markdown",
   "metadata": {},
   "source": [
    "* NOTE:\n",
    "   - It should be noted that apply() function can be used for multiple columns also.\n",
    "   - data[['Price','Discount']] = data[['Price','Discount']].apply(lambda x : x+100)"
   ]
  },
  {
   "cell_type": "markdown",
   "metadata": {},
   "source": [
    "# QUICK CHALLENGE:\n",
    "### Create two DataFrame of customer information(name,product and price) corresponding to 2 years.Concatenate the two DataFrames.Add a new column discounted price(10% discount) to the concatenated DataFrame."
   ]
  },
  {
   "cell_type": "code",
   "execution_count": 23,
   "metadata": {},
   "outputs": [],
   "source": [
    "data_year1 = pd.DataFrame(\n",
    "    [['Alice','Laptop',45000],['Bob','Smart Phone',35000],['Charlie','Tablet',25000]],columns=['Name','product','Price']\n",
    ")\n",
    "\n",
    "data_year2 = pd.DataFrame(\n",
    "    [['Prodip','Smartwatch',15000],['Mou','Headphones',5000],['Rajesh','AC',45000]],columns=['Name','product','Price']\n",
    ")"
   ]
  },
  {
   "cell_type": "code",
   "execution_count": 24,
   "metadata": {},
   "outputs": [
    {
     "name": "stdout",
     "output_type": "stream",
     "text": [
      "      Name      product  Price\n",
      "0    Alice       Laptop  45000\n",
      "1      Bob  Smart Phone  35000\n",
      "2  Charlie       Tablet  25000\n",
      "0   Prodip   Smartwatch  15000\n",
      "1      Mou   Headphones   5000\n",
      "2   Rajesh           AC  45000\n"
     ]
    }
   ],
   "source": [
    "concat_data = pd.concat([data_year1,data_year2])\n",
    "print(concat_data)"
   ]
  },
  {
   "cell_type": "code",
   "execution_count": 25,
   "metadata": {},
   "outputs": [],
   "source": [
    "concat_data['Discount'] = concat_data['Price'].apply(lambda x: x * 0.9)"
   ]
  },
  {
   "cell_type": "code",
   "execution_count": 26,
   "metadata": {},
   "outputs": [
    {
     "name": "stdout",
     "output_type": "stream",
     "text": [
      "      Name      product  Price  Discount\n",
      "0    Alice       Laptop  45000   40500.0\n",
      "1      Bob  Smart Phone  35000   31500.0\n",
      "2  Charlie       Tablet  25000   22500.0\n",
      "0   Prodip   Smartwatch  15000   13500.0\n",
      "1      Mou   Headphones   5000    4500.0\n",
      "2   Rajesh           AC  45000   40500.0\n"
     ]
    }
   ],
   "source": [
    "print(concat_data)"
   ]
  },
  {
   "cell_type": "markdown",
   "metadata": {},
   "source": [
    "### Data Type Transformation"
   ]
  },
  {
   "cell_type": "markdown",
   "metadata": {},
   "source": [
    "# 53. Dispalying the data type of the columns"
   ]
  },
  {
   "cell_type": "code",
   "execution_count": 27,
   "metadata": {},
   "outputs": [
    {
     "name": "stdout",
     "output_type": "stream",
     "text": [
      "<class 'pandas.core.frame.DataFrame'>\n",
      "RangeIndex: 5 entries, 0 to 4\n",
      "Data columns (total 5 columns):\n",
      " #   Column    Non-Null Count  Dtype  \n",
      "---  ------    --------------  -----  \n",
      " 0   Brand     5 non-null      object \n",
      " 1   Price     5 non-null      float64\n",
      " 2   Name      5 non-null      object \n",
      " 3   Date      5 non-null      object \n",
      " 4   newBrand  5 non-null      object \n",
      "dtypes: float64(1), object(4)\n",
      "memory usage: 328.0+ bytes\n",
      "None\n"
     ]
    }
   ],
   "source": [
    "print(finaldata.info())"
   ]
  },
  {
   "cell_type": "markdown",
   "metadata": {},
   "source": [
    "### Numeric to Object"
   ]
  },
  {
   "cell_type": "code",
   "execution_count": 28,
   "metadata": {},
   "outputs": [
    {
     "data": {
      "text/html": [
       "<div>\n",
       "<style scoped>\n",
       "    .dataframe tbody tr th:only-of-type {\n",
       "        vertical-align: middle;\n",
       "    }\n",
       "\n",
       "    .dataframe tbody tr th {\n",
       "        vertical-align: top;\n",
       "    }\n",
       "\n",
       "    .dataframe thead th {\n",
       "        text-align: right;\n",
       "    }\n",
       "</style>\n",
       "<table border=\"1\" class=\"dataframe\">\n",
       "  <thead>\n",
       "    <tr style=\"text-align: right;\">\n",
       "      <th></th>\n",
       "      <th>Brand</th>\n",
       "      <th>Price</th>\n",
       "      <th>Name</th>\n",
       "      <th>Date</th>\n",
       "      <th>newBrand</th>\n",
       "    </tr>\n",
       "  </thead>\n",
       "  <tbody>\n",
       "    <tr>\n",
       "      <th>0</th>\n",
       "      <td>A</td>\n",
       "      <td>3100.0</td>\n",
       "      <td>Van Heusen</td>\n",
       "      <td>04-05-2021</td>\n",
       "      <td>First</td>\n",
       "    </tr>\n",
       "    <tr>\n",
       "      <th>1</th>\n",
       "      <td>B</td>\n",
       "      <td>2100.0</td>\n",
       "      <td>Nike</td>\n",
       "      <td>10-06-2021</td>\n",
       "      <td>Second</td>\n",
       "    </tr>\n",
       "    <tr>\n",
       "      <th>2</th>\n",
       "      <td>D</td>\n",
       "      <td>1800.0</td>\n",
       "      <td>Adidas</td>\n",
       "      <td>21-05-2021</td>\n",
       "      <td>Third</td>\n",
       "    </tr>\n",
       "    <tr>\n",
       "      <th>3</th>\n",
       "      <td>E</td>\n",
       "      <td>2360.0</td>\n",
       "      <td>Puma</td>\n",
       "      <td>19-08-2021</td>\n",
       "      <td>Fourth</td>\n",
       "    </tr>\n",
       "    <tr>\n",
       "      <th>4</th>\n",
       "      <td>F</td>\n",
       "      <td>1700.0</td>\n",
       "      <td>Gap</td>\n",
       "      <td>26-09-2021</td>\n",
       "      <td>Fifth</td>\n",
       "    </tr>\n",
       "  </tbody>\n",
       "</table>\n",
       "</div>"
      ],
      "text/plain": [
       "  Brand   Price        Name        Date newBrand\n",
       "0     A  3100.0  Van Heusen  04-05-2021    First\n",
       "1     B  2100.0        Nike  10-06-2021   Second\n",
       "2     D  1800.0      Adidas  21-05-2021    Third\n",
       "3     E  2360.0        Puma  19-08-2021   Fourth\n",
       "4     F  1700.0         Gap  26-09-2021    Fifth"
      ]
     },
     "execution_count": 28,
     "metadata": {},
     "output_type": "execute_result"
    }
   ],
   "source": [
    "finaldata "
   ]
  },
  {
   "cell_type": "markdown",
   "metadata": {},
   "source": [
    "# 54. transforming continuous variable \"Price\" to categorical variable"
   ]
  },
  {
   "cell_type": "code",
   "execution_count": 29,
   "metadata": {},
   "outputs": [
    {
     "name": "stdout",
     "output_type": "stream",
     "text": [
      "  Brand   Price        Name        Date newBrand Price_Cat\n",
      "0     A  3100.0  Van Heusen  04-05-2021    First      High\n",
      "1     B  2100.0        Nike  10-06-2021   Second   Average\n",
      "2     D  1800.0      Adidas  21-05-2021    Third       Low\n",
      "3     E  2360.0        Puma  19-08-2021   Fourth      High\n",
      "4     F  1700.0         Gap  26-09-2021    Fifth       Low\n"
     ]
    }
   ],
   "source": [
    "finaldata['Price_Cat'] = pd.qcut(finaldata['Price'],q=3,labels=['Low','Average','High']) # labels Should be ascending order\n",
    "print(finaldata)"
   ]
  },
  {
   "cell_type": "markdown",
   "metadata": {},
   "source": [
    "* NOTE:\n",
    "  - The to_numeric() function can be used to convert the variable into numeric data type."
   ]
  },
  {
   "cell_type": "markdown",
   "metadata": {},
   "source": [
    "### Object to Date"
   ]
  },
  {
   "cell_type": "markdown",
   "metadata": {},
   "source": [
    "# 55. Transforming object to date data type"
   ]
  },
  {
   "cell_type": "code",
   "execution_count": 30,
   "metadata": {},
   "outputs": [
    {
     "name": "stdout",
     "output_type": "stream",
     "text": [
      "<class 'pandas.core.frame.DataFrame'>\n",
      "RangeIndex: 5 entries, 0 to 4\n",
      "Data columns (total 7 columns):\n",
      " #   Column     Non-Null Count  Dtype         \n",
      "---  ------     --------------  -----         \n",
      " 0   Brand      5 non-null      object        \n",
      " 1   Price      5 non-null      float64       \n",
      " 2   Name       5 non-null      object        \n",
      " 3   Date       5 non-null      object        \n",
      " 4   newBrand   5 non-null      object        \n",
      " 5   Price_Cat  5 non-null      category      \n",
      " 6   newDate    5 non-null      datetime64[ns]\n",
      "dtypes: category(1), datetime64[ns](1), float64(1), object(4)\n",
      "memory usage: 505.0+ bytes\n",
      "None\n"
     ]
    }
   ],
   "source": [
    "finaldata['newDate'] = pd.to_datetime(finaldata['Date'],format=\"%d-%m-%Y\")\n",
    "print(finaldata.info())"
   ]
  },
  {
   "cell_type": "code",
   "execution_count": 31,
   "metadata": {},
   "outputs": [
    {
     "data": {
      "text/html": [
       "<div>\n",
       "<style scoped>\n",
       "    .dataframe tbody tr th:only-of-type {\n",
       "        vertical-align: middle;\n",
       "    }\n",
       "\n",
       "    .dataframe tbody tr th {\n",
       "        vertical-align: top;\n",
       "    }\n",
       "\n",
       "    .dataframe thead th {\n",
       "        text-align: right;\n",
       "    }\n",
       "</style>\n",
       "<table border=\"1\" class=\"dataframe\">\n",
       "  <thead>\n",
       "    <tr style=\"text-align: right;\">\n",
       "      <th></th>\n",
       "      <th>Brand</th>\n",
       "      <th>Price</th>\n",
       "      <th>Name</th>\n",
       "      <th>Date</th>\n",
       "      <th>newBrand</th>\n",
       "      <th>Price_Cat</th>\n",
       "      <th>newDate</th>\n",
       "    </tr>\n",
       "  </thead>\n",
       "  <tbody>\n",
       "    <tr>\n",
       "      <th>0</th>\n",
       "      <td>A</td>\n",
       "      <td>3100.0</td>\n",
       "      <td>Van Heusen</td>\n",
       "      <td>04-05-2021</td>\n",
       "      <td>First</td>\n",
       "      <td>High</td>\n",
       "      <td>2021-05-04</td>\n",
       "    </tr>\n",
       "    <tr>\n",
       "      <th>1</th>\n",
       "      <td>B</td>\n",
       "      <td>2100.0</td>\n",
       "      <td>Nike</td>\n",
       "      <td>10-06-2021</td>\n",
       "      <td>Second</td>\n",
       "      <td>Average</td>\n",
       "      <td>2021-06-10</td>\n",
       "    </tr>\n",
       "    <tr>\n",
       "      <th>2</th>\n",
       "      <td>D</td>\n",
       "      <td>1800.0</td>\n",
       "      <td>Adidas</td>\n",
       "      <td>21-05-2021</td>\n",
       "      <td>Third</td>\n",
       "      <td>Low</td>\n",
       "      <td>2021-05-21</td>\n",
       "    </tr>\n",
       "    <tr>\n",
       "      <th>3</th>\n",
       "      <td>E</td>\n",
       "      <td>2360.0</td>\n",
       "      <td>Puma</td>\n",
       "      <td>19-08-2021</td>\n",
       "      <td>Fourth</td>\n",
       "      <td>High</td>\n",
       "      <td>2021-08-19</td>\n",
       "    </tr>\n",
       "    <tr>\n",
       "      <th>4</th>\n",
       "      <td>F</td>\n",
       "      <td>1700.0</td>\n",
       "      <td>Gap</td>\n",
       "      <td>26-09-2021</td>\n",
       "      <td>Fifth</td>\n",
       "      <td>Low</td>\n",
       "      <td>2021-09-26</td>\n",
       "    </tr>\n",
       "  </tbody>\n",
       "</table>\n",
       "</div>"
      ],
      "text/plain": [
       "  Brand   Price        Name        Date newBrand Price_Cat    newDate\n",
       "0     A  3100.0  Van Heusen  04-05-2021    First      High 2021-05-04\n",
       "1     B  2100.0        Nike  10-06-2021   Second   Average 2021-06-10\n",
       "2     D  1800.0      Adidas  21-05-2021    Third       Low 2021-05-21\n",
       "3     E  2360.0        Puma  19-08-2021   Fourth      High 2021-08-19\n",
       "4     F  1700.0         Gap  26-09-2021    Fifth       Low 2021-09-26"
      ]
     },
     "execution_count": 31,
     "metadata": {},
     "output_type": "execute_result"
    }
   ],
   "source": [
    "finaldata"
   ]
  },
  {
   "cell_type": "markdown",
   "metadata": {},
   "source": [
    "* NOTE:\n",
    " - The astype() helps to convert to any specified data type."
   ]
  },
  {
   "cell_type": "markdown",
   "metadata": {},
   "source": [
    "### Object/Numeric to Object/Numeric\n",
    " - The map() function can be used to change the values of the categorical data type of any variable."
   ]
  },
  {
   "cell_type": "markdown",
   "metadata": {},
   "source": [
    "# 56. Transforming object to object"
   ]
  },
  {
   "cell_type": "code",
   "execution_count": 32,
   "metadata": {},
   "outputs": [],
   "source": [
    "finaldata = finaldata.drop(columns=['Date'])"
   ]
  },
  {
   "cell_type": "code",
   "execution_count": 33,
   "metadata": {},
   "outputs": [
    {
     "name": "stdout",
     "output_type": "stream",
     "text": [
      "  Brand   Price        Name newBrand Price_Cat    newDate\n",
      "0     A  3100.0  Van Heusen    First         H 2021-05-04\n",
      "1     B  2100.0        Nike   Second         A 2021-06-10\n",
      "2     D  1800.0      Adidas    Third         L 2021-05-21\n",
      "3     E  2360.0        Puma   Fourth         H 2021-08-19\n",
      "4     F  1700.0         Gap    Fifth         L 2021-09-26\n"
     ]
    }
   ],
   "source": [
    "order = {'High': 'H','Low': 'L','Average': 'A'}\n",
    "\n",
    "finaldata['Price_Cat'] = finaldata['Price_Cat'].map(order)\n",
    "print(finaldata)"
   ]
  },
  {
   "cell_type": "markdown",
   "metadata": {},
   "source": [
    "# 57. Transforming object to numeric"
   ]
  },
  {
   "cell_type": "code",
   "execution_count": 34,
   "metadata": {},
   "outputs": [
    {
     "name": "stdout",
     "output_type": "stream",
     "text": [
      "  Brand   Price        Name newBrand Price_Cat    newDate Price_newCat\n",
      "0     A  3100.0  Van Heusen    First         H 2021-05-04          1.1\n",
      "1     B  2100.0        Nike   Second         A 2021-06-10          3.4\n",
      "2     D  1800.0      Adidas    Third         L 2021-05-21          2.2\n",
      "3     E  2360.0        Puma   Fourth         H 2021-08-19          1.1\n",
      "4     F  1700.0         Gap    Fifth         L 2021-09-26          2.2\n"
     ]
    }
   ],
   "source": [
    "order2 = {'H':1.1,'L':2.2,'A':3.4}\n",
    "finaldata['Price_newCat'] = finaldata['Price_Cat'].map(order2)\n",
    "print(finaldata)\n"
   ]
  },
  {
   "cell_type": "markdown",
   "metadata": {},
   "source": [
    "# 58. Transforming numeric to object"
   ]
  },
  {
   "cell_type": "code",
   "execution_count": 36,
   "metadata": {},
   "outputs": [
    {
     "name": "stdout",
     "output_type": "stream",
     "text": [
      "  Brand   Price        Name newBrand Price_Cat    newDate Price_newCat  \\\n",
      "0     A  3100.0  Van Heusen    First         H 2021-05-04          1.1   \n",
      "1     B  2100.0        Nike   Second         A 2021-06-10          3.4   \n",
      "2     D  1800.0      Adidas    Third         L 2021-05-21          2.2   \n",
      "3     E  2360.0        Puma   Fourth         H 2021-08-19          1.1   \n",
      "4     F  1700.0         Gap    Fifth         L 2021-09-26          2.2   \n",
      "\n",
      "  newPrice  \n",
      "0        A  \n",
      "1        B  \n",
      "2        C  \n",
      "3        E  \n",
      "4        D  \n"
     ]
    }
   ],
   "source": [
    "order3 = {3100:'A',2100:'B',1800:'C',1700:'D',2360:'E'}\n",
    "finaldata['newPrice'] = finaldata['Price'].map(order3)\n",
    "print(finaldata)\n"
   ]
  },
  {
   "cell_type": "markdown",
   "metadata": {},
   "source": [
    "### Object to Binary"
   ]
  },
  {
   "cell_type": "markdown",
   "metadata": {},
   "source": [
    "# 59. Converting categorical to binary values"
   ]
  },
  {
   "cell_type": "code",
   "execution_count": 40,
   "metadata": {},
   "outputs": [
    {
     "name": "stdout",
     "output_type": "stream",
     "text": [
      "    Price        Name newBrand Price_Cat    newDate Price_newCat newPrice  \\\n",
      "0  3100.0  Van Heusen    First         H 2021-05-04          1.1        A   \n",
      "1  2100.0        Nike   Second         A 2021-06-10          3.4        B   \n",
      "2  1800.0      Adidas    Third         L 2021-05-21          2.2        C   \n",
      "3  2360.0        Puma   Fourth         H 2021-08-19          1.1        E   \n",
      "4  1700.0         Gap    Fifth         L 2021-09-26          2.2        D   \n",
      "\n",
      "   Brand_A  Brand_B  Brand_D  Brand_E  Brand_F  \n",
      "0        1        0        0        0        0  \n",
      "1        0        1        0        0        0  \n",
      "2        0        0        1        0        0  \n",
      "3        0        0        0        1        0  \n",
      "4        0        0        0        0        1  \n"
     ]
    }
   ],
   "source": [
    "latestdata = pd.get_dummies(finaldata,columns=['Brand'],dtype='int')\n",
    "print(latestdata)"
   ]
  },
  {
   "cell_type": "markdown",
   "metadata": {},
   "source": [
    "# DATA VISUALIZATION:\n",
    "- matplotlib\n",
    "- seaborn"
   ]
  },
  {
   "cell_type": "code",
   "execution_count": 42,
   "metadata": {},
   "outputs": [],
   "source": [
    "import matplotlib.pyplot as plt"
   ]
  },
  {
   "cell_type": "markdown",
   "metadata": {},
   "source": [
    "# LINE CHART:\n",
    " - plot()\n",
    " - xlim() and ylim() - help to set the limt of x-axis and y-axis\n",
    " - xticks() and yticks() - help to set the tick values of x-axis and y-axis\n",
    " - xlabel() and ylabel() - help to set the label of x-axis and y-axis\n",
    " - title() - helps to set the title of the chart\n",
    " - grid() - helps to set the grid of the chart\n"
   ]
  },
  {
   "cell_type": "markdown",
   "metadata": {},
   "source": [
    "# 59. Program to display multiple lines with different shapes and colors"
   ]
  },
  {
   "cell_type": "markdown",
   "metadata": {},
   "source": [
    "### Creating four lists"
   ]
  },
  {
   "cell_type": "code",
   "execution_count": 44,
   "metadata": {},
   "outputs": [
    {
     "name": "stdout",
     "output_type": "stream",
     "text": [
      "First List: [1, 2, 3, 4, 5, 6, 7, 8, 9, 10]\n",
      "Second List: [5, 10, 15, 20, 25, 30, 35, 40, 45, 50]\n",
      "Third List: [10, 20, 30, 40, 50, 60, 70, 80, 90, 100]\n",
      "Fourth List: [20, 40, 60, 80, 100, 120, 140, 160, 180, 200]\n"
     ]
    }
   ],
   "source": [
    "a = list(range(1,11))\n",
    "b = list(range(5,55,5))\n",
    "c = list(range(10,110,10))\n",
    "d = list(range(20,210,20))\n",
    "print(\"First List:\",a)\n",
    "print(\"Second List:\",b)\n",
    "print(\"Third List:\",c)\n",
    "print(\"Fourth List:\",d)"
   ]
  },
  {
   "cell_type": "markdown",
   "metadata": {},
   "source": [
    "### Creating a chart with different colors and effects for different data"
   ]
  },
  {
   "cell_type": "code",
   "execution_count": 51,
   "metadata": {},
   "outputs": [
    {
     "data": {
      "image/png": "[encoded data removed]",
      "text/plain": [
       "<Figure size 640x480 with 1 Axes>"
      ]
     },
     "metadata": {},
     "output_type": "display_data"
    }
   ],
   "source": [
    "plt.plot(a,a,'g^',a,b,'bs',a,c,'r--',a,d,'mo') # g^ - green triangles bs-blue squares r-- -> red dashes mo-magenta dots\n",
    "plt.xlim(0,11)\n",
    "plt.ylim(0,220)\n",
    "plt.xlabel('x-axis')\n",
    "plt.title('Multiple lines with different shapes and colors')\n",
    "plt.grid(True,color='k') # k-black color\n",
    "plt.show()"
   ]
  },
  {
   "cell_type": "markdown",
   "metadata": {},
   "source": [
    "### Set limits of x-axis and y-axis"
   ]
  },
  {
   "cell_type": "code",
   "execution_count": 47,
   "metadata": {},
   "outputs": [
    {
     "data": {
      "text/plain": [
       "(0.0, 220.0)"
      ]
     },
     "execution_count": 47,
     "metadata": {},
     "output_type": "execute_result"
    },
    {
     "data": {
      "image/png": "[encoded data removed]",
      "text/plain": [
       "<Figure size 640x480 with 1 Axes>"
      ]
     },
     "metadata": {},
     "output_type": "display_data"
    }
   ],
   "source": [
    "plt.xlim(0,11)\n",
    "plt.ylim(0,220)"
   ]
  },
  {
   "cell_type": "markdown",
   "metadata": {},
   "source": [
    "### Set the label and title"
   ]
  },
  {
   "cell_type": "code",
   "execution_count": 48,
   "metadata": {},
   "outputs": [
    {
     "data": {
      "text/plain": [
       "Text(0.5, 1.0, 'Multiple lines with different shapes and colors')"
      ]
     },
     "execution_count": 48,
     "metadata": {},
     "output_type": "execute_result"
    },
    {
     "data": {
      "image/png": "[encoded data removed]",
      "text/plain": [
       "<Figure size 640x480 with 1 Axes>"
      ]
     },
     "metadata": {},
     "output_type": "display_data"
    }
   ],
   "source": [
    "plt.xlabel('x-axis')\n",
    "plt.title('Multiple lines with different shapes and colors')"
   ]
  },
  {
   "cell_type": "markdown",
   "metadata": {},
   "source": [
    "### Displaying grid in chart"
   ]
  },
  {
   "cell_type": "code",
   "execution_count": 49,
   "metadata": {},
   "outputs": [
    {
     "data": {
      "image/png": "[encoded data removed]",
      "text/plain": [
       "<Figure size 640x480 with 1 Axes>"
      ]
     },
     "metadata": {},
     "output_type": "display_data"
    }
   ],
   "source": [
    "plt.grid(True,color='k')"
   ]
  },
  {
   "cell_type": "markdown",
   "metadata": {},
   "source": [
    "### Displaying the chart"
   ]
  },
  {
   "cell_type": "code",
   "execution_count": 50,
   "metadata": {},
   "outputs": [],
   "source": [
    "plt.show()"
   ]
  },
  {
   "cell_type": "markdown",
   "metadata": {},
   "source": [
    "# QUICK CHALLENGE:\n",
    "### Create a line chart displaying the export of different countries from."
   ]
  },
  {
   "cell_type": "code",
   "execution_count": 57,
   "metadata": {},
   "outputs": [
    {
     "name": "stdout",
     "output_type": "stream",
     "text": [
      "   Year Country  Export_Value\n",
      "0  2020     USA          5000\n",
      "1  2021   China          6000\n",
      "2  2020     USA          5500\n",
      "3  2020   China          6500\n",
      "4  2020     USA          6000\n",
      "5  2020   China          7000\n"
     ]
    },
    {
     "data": {
      "image/png": "[encoded data removed]",
      "text/plain": [
       "<Figure size 1000x600 with 1 Axes>"
      ]
     },
     "metadata": {},
     "output_type": "display_data"
    }
   ],
   "source": [
    "import pandas as pd\n",
    "import matplotlib.pyplot as plt\n",
    "\n",
    "# Create the DataFrame\n",
    "country_list = pd.DataFrame([\n",
    "    [2020, 'USA', 5000],\n",
    "    [2021, 'China', 6000],\n",
    "    [2020, 'USA', 5500],\n",
    "    [2020, 'China', 6500],\n",
    "    [2020, 'USA', 6000],\n",
    "    [2020, 'China', 7000]\n",
    "], columns=['Year', 'Country', 'Export_Value'])\n",
    "\n",
    "# Print the DataFrame\n",
    "print(country_list)\n",
    "\n",
    "# Pivot the data to get 'Year' as the index and 'Country' as columns\n",
    "pivot_df = country_list.pivot_table(index='Year', columns='Country', values='Export_Value', aggfunc='mean')\n",
    "\n",
    "# Plot the data\n",
    "plt.figure(figsize=(10, 6))\n",
    "for country in pivot_df.columns:\n",
    "    plt.plot(pivot_df.index, pivot_df[country], marker='o', label=country)\n",
    "\n",
    "plt.title('Export Values of Different Countries Over Time')\n",
    "plt.xlabel('Year')\n",
    "plt.ylabel('Export Value')\n",
    "plt.legend(title='Country')\n",
    "plt.grid(True)\n",
    "plt.show()\n"
   ]
  },
  {
   "cell_type": "markdown",
   "metadata": {},
   "source": [
    "# PIE CHART:\n",
    "- pie()"
   ]
  },
  {
   "cell_type": "markdown",
   "metadata": {},
   "source": [
    "### Program for creating a pie chart"
   ]
  },
  {
   "cell_type": "code",
   "execution_count": 59,
   "metadata": {},
   "outputs": [],
   "source": [
    "import matplotlib.pyplot as plt\n",
    "list_1 = [10,30,40,30,60,70,80,100,70,10]"
   ]
  },
  {
   "cell_type": "markdown",
   "metadata": {},
   "source": [
    "### Creating and displaying a pie chart"
   ]
  },
  {
   "cell_type": "code",
   "execution_count": 60,
   "metadata": {},
   "outputs": [
    {
     "data": {
      "text/plain": [
       "([<matplotlib.patches.Wedge at 0x7ff5b8dede40>,\n",
       "  <matplotlib.patches.Wedge at 0x7ff5b8dee5c0>,\n",
       "  <matplotlib.patches.Wedge at 0x7ff5b8deda20>,\n",
       "  <matplotlib.patches.Wedge at 0x7ff5b8ded8a0>,\n",
       "  <matplotlib.patches.Wedge at 0x7ff5b8defc70>,\n",
       "  <matplotlib.patches.Wedge at 0x7ff5b8dec2e0>,\n",
       "  <matplotlib.patches.Wedge at 0x7ff5b8dec700>,\n",
       "  <matplotlib.patches.Wedge at 0x7ff5b8dedc90>,\n",
       "  <matplotlib.patches.Wedge at 0x7ff5b8dc3910>,\n",
       "  <matplotlib.patches.Wedge at 0x7ff5b8a5f700>],\n",
       " [Text(1.0978294010474121, 0.06906957503764397, '10'),\n",
       "  Text(1.0461621750833716, 0.3399186717802204, '30'),\n",
       "  Text(0.801865483340951, 0.7530018237868905, '40'),\n",
       "  Text(0.4049369983609408, 1.0227541382748992, '30'),\n",
       "  Text(-0.20611944741983823, 1.0805159755391591, '60'),\n",
       "  Text(-0.9287609148837594, 0.5894091643198995, '70'),\n",
       "  Text(-1.0227541334460737, -0.40493701055716164, '80'),\n",
       "  Text(-0.0690695864845589, -1.097829400327233, '100'),\n",
       "  Text(0.9287606853592858, -0.5894095259927091, '70'),\n",
       "  Text(1.0978293786450977, -0.06906993111129502, '10')])"
      ]
     },
     "execution_count": 60,
     "metadata": {},
     "output_type": "execute_result"
    },
    {
     "data": {
      "image/png": "[encoded data removed]",
      "text/plain": [
       "<Figure size 640x480 with 1 Axes>"
      ]
     },
     "metadata": {},
     "output_type": "display_data"
    }
   ],
   "source": [
    "plt.pie(list_1,labels=list_1)"
   ]
  },
  {
   "cell_type": "markdown",
   "metadata": {},
   "source": [
    "# QUICK CHALLENGE:\n",
    "### Create a pie chart displaying the gross domestic product(GDP) different countries from."
   ]
  },
  {
   "cell_type": "code",
   "execution_count": 61,
   "metadata": {},
   "outputs": [
    {
     "name": "stdout",
     "output_type": "stream",
     "text": [
      "   Country       GDP\n",
      "0      USA  25000000\n",
      "1    China  16000000\n",
      "2    Japan   5000000\n",
      "3  Germany   4000000\n",
      "4    India   3000000\n"
     ]
    }
   ],
   "source": [
    "import pandas as pd\n",
    "import matplotlib.pyplot as plt\n",
    "\n",
    "# Sample GDP data\n",
    "gdp_data = pd.DataFrame({\n",
    "    'Country': ['USA', 'China', 'Japan', 'Germany', 'India'],\n",
    "    'GDP': [25000000, 16000000, 5000000, 4000000, 3000000]  # GDP in millions\n",
    "})\n",
    "\n",
    "# Print the DataFrame\n",
    "print(gdp_data)"
   ]
  },
  {
   "cell_type": "code",
   "execution_count": 63,
   "metadata": {},
   "outputs": [
    {
     "data": {
      "image/png": "[encoded data removed]",
      "text/plain": [
       "<Figure size 1000x600 with 1 Axes>"
      ]
     },
     "metadata": {},
     "output_type": "display_data"
    }
   ],
   "source": [
    "plt.figure(figsize=(10, 6))\n",
    "\n",
    "# Create the pie chart\n",
    "plt.pie(gdp_data['GDP'], labels=gdp_data['Country'], autopct='%1.1f%%', startangle=140)\n",
    "\n",
    "# Title for the chart\n",
    "plt.title('GDP Distribution by Country')\n",
    "\n",
    "# Show the pie chart\n",
    "plt.show()\n"
   ]
  },
  {
   "cell_type": "markdown",
   "metadata": {},
   "source": [
    "# VIOLIN PLOT:\n",
    "- violinplot()"
   ]
  },
  {
   "cell_type": "code",
   "execution_count": 64,
   "metadata": {},
   "outputs": [
    {
     "data": {
      "image/png": "[encoded data removed]",
      "text/plain": [
       "<Figure size 640x480 with 1 Axes>"
      ]
     },
     "metadata": {},
     "output_type": "display_data"
    }
   ],
   "source": [
    "import matplotlib.pyplot as plt\n",
    "plt.violinplot([10,11,12,18,23,27,29,30,26,28,24,23,14,12,16,12,12,27,27])\n",
    "plt.show()"
   ]
  },
  {
   "cell_type": "markdown",
   "metadata": {},
   "source": [
    "# SCATTER PLOT:\n",
    "- scatter()"
   ]
  },
  {
   "cell_type": "markdown",
   "metadata": {},
   "source": [
    "### Program to draw a scatter plot"
   ]
  },
  {
   "cell_type": "code",
   "execution_count": 69,
   "metadata": {},
   "outputs": [],
   "source": [
    "import matplotlib.pyplot as plt\n",
    "ecommerce = ['ebay','Amazon','Alibaba','Walmart','Shopify']\n",
    "Q1_Profit = [35,45,100,70,40]\n",
    "Q2_Profit = [38,40,105,65,45]\n",
    "Q3_Profit = [30,42,120,72,50]\n",
    "Q4_Profit = [25,34,115,60,48]"
   ]
  },
  {
   "cell_type": "markdown",
   "metadata": {},
   "source": [
    "### Creating a scatter plot"
   ]
  },
  {
   "cell_type": "code",
   "execution_count": 73,
   "metadata": {},
   "outputs": [
    {
     "data": {
      "image/png": "[encoded data removed]",
      "text/plain": [
       "<Figure size 640x480 with 1 Axes>"
      ]
     },
     "metadata": {},
     "output_type": "display_data"
    }
   ],
   "source": [
    "plt.scatter(ecommerce,Q1_Profit,color='green')\n",
    "plt.scatter(ecommerce,Q2_Profit,color='blue')\n",
    "plt.scatter(ecommerce,Q3_Profit,color = 'pink')\n",
    "plt.scatter(ecommerce,Q4_Profit,color='red')\n",
    "plt.xlabel('Organization Name')\n",
    "plt.ylabel('Profit')\n",
    "plt.title('Scatter Plot')\n",
    "plt.show()"
   ]
  },
  {
   "cell_type": "markdown",
   "metadata": {},
   "source": [
    "### Adding title to the chart and labels to the axis"
   ]
  },
  {
   "cell_type": "code",
   "execution_count": 72,
   "metadata": {},
   "outputs": [
    {
     "data": {
      "image/png": "[encoded data removed]",
      "text/plain": [
       "<Figure size 640x480 with 1 Axes>"
      ]
     },
     "metadata": {},
     "output_type": "display_data"
    }
   ],
   "source": [
    "plt.xlabel('Organization Name')\n",
    "plt.ylabel('Profit')\n",
    "plt.title('Scatter Plot')\n",
    "plt.show()"
   ]
  },
  {
   "cell_type": "markdown",
   "metadata": {},
   "source": [
    "# BAR CHART:\n",
    "- bar()\n",
    "- barh()"
   ]
  },
  {
   "cell_type": "markdown",
   "metadata": {},
   "source": [
    "### Creating a horizontal barplot"
   ]
  },
  {
   "cell_type": "code",
   "execution_count": 74,
   "metadata": {},
   "outputs": [
    {
     "data": {
      "image/png": "[encoded data removed]",
      "text/plain": [
       "<Figure size 640x480 with 1 Axes>"
      ]
     },
     "metadata": {},
     "output_type": "display_data"
    }
   ],
   "source": [
    "plt.barh([2,4,5,6,7],width=[1,2,3,2,1])\n",
    "plt.show()"
   ]
  },
  {
   "cell_type": "markdown",
   "metadata": {},
   "source": [
    "# 60. Program for drawing multiple bar charts on one image"
   ]
  },
  {
   "cell_type": "code",
   "execution_count": 91,
   "metadata": {},
   "outputs": [
    {
     "data": {
      "text/plain": [
       "<Figure size 6000x6000 with 0 Axes>"
      ]
     },
     "metadata": {},
     "output_type": "display_data"
    }
   ],
   "source": [
    "import matplotlib.pyplot as plt\n",
    "plt.figure(figsize=(60,60))\n",
    "plt.rcParams.update({'font.size':5})"
   ]
  },
  {
   "cell_type": "markdown",
   "metadata": {},
   "source": [
    "### Creating Data"
   ]
  },
  {
   "cell_type": "code",
   "execution_count": 76,
   "metadata": {},
   "outputs": [],
   "source": [
    "ecommerce = ['ebay','Amazon','Alibaba','Walmart','Shopify']\n",
    "Q1_Profit = [35,45,100,70,40]\n",
    "Q2_Profit = [38,40,105,65,45]\n",
    "Q3_Profit = [30,42,120,72,50]\n",
    "Q4_Profit = [25,34,115,60,48]"
   ]
  },
  {
   "cell_type": "markdown",
   "metadata": {},
   "source": [
    "### Creating different bar charts on one image using subplot() function"
   ]
  },
  {
   "cell_type": "code",
   "execution_count": 93,
   "metadata": {},
   "outputs": [
    {
     "data": {
      "text/plain": [
       "<Figure size 6000x6000 with 0 Axes>"
      ]
     },
     "execution_count": 93,
     "metadata": {},
     "output_type": "execute_result"
    },
    {
     "data": {
      "text/plain": [
       "<Figure size 6000x6000 with 0 Axes>"
      ]
     },
     "metadata": {},
     "output_type": "display_data"
    }
   ],
   "source": [
    "plt.figure(1,figsize=(60,60))"
   ]
  },
  {
   "cell_type": "markdown",
   "metadata": {},
   "source": [
    "### Creating bar chart in first cell of figure having 2 rows and 3 columns"
   ]
  },
  {
   "cell_type": "code",
   "execution_count": 94,
   "metadata": {},
   "outputs": [
    {
     "data": {
      "image/png": "[encoded data removed]",
      "text/plain": [
       "<Figure size 640x480 with 4 Axes>"
      ]
     },
     "metadata": {},
     "output_type": "display_data"
    }
   ],
   "source": [
    "plt.subplot(221)\n",
    "plt.bar(ecommerce,Q1_Profit,color=\"red\")\n",
    "plt.title('Quarter1 Profit')\n",
    "\n",
    "plt.subplot(222)\n",
    "plt.bar(ecommerce,Q2_Profit,color=\"green\")\n",
    "plt.title('Quarter2 Profit')\n",
    "\n",
    "plt.subplot(223)\n",
    "plt.bar(ecommerce,Q3_Profit,color=\"yellow\")\n",
    "plt.title('Quarter3 Profit')\n",
    "\n",
    "plt.subplot(224)\n",
    "plt.bar(ecommerce,Q4_Profit,color=\"violet\")\n",
    "plt.title('Quarter4 Profit')\n",
    "\n",
    "# Adding a Main title for the figure\n",
    "plt.suptitle('Profit on Quarter Basis')\n",
    "\n",
    "plt.show()"
   ]
  },
  {
   "cell_type": "markdown",
   "metadata": {},
   "source": [
    "# QUICK CHALLENGE:\n",
    "### Create multiple bar charts for dispalying export of different countries for last 10 years."
   ]
  },
  {
   "cell_type": "code",
   "execution_count": 96,
   "metadata": {},
   "outputs": [
    {
     "name": "stdout",
     "output_type": "stream",
     "text": [
      "    Year  Country  Export_Value\n",
      "0   2014      USA          3000\n",
      "1   2015      USA          3200\n",
      "2   2016      USA          3400\n",
      "3   2017      USA          3600\n",
      "4   2018      USA          3800\n",
      "5   2019      USA          4000\n",
      "6   2020      USA          4200\n",
      "7   2021      USA          4400\n",
      "8   2022      USA          4600\n",
      "9   2023      USA          4800\n",
      "10  2014    China          2500\n",
      "11  2015    China          2700\n",
      "12  2016    China          2900\n",
      "13  2017    China          3100\n",
      "14  2018    China          3300\n",
      "15  2019    China          3500\n",
      "16  2020    China          3700\n",
      "17  2021    China          3900\n",
      "18  2022    China          4100\n",
      "19  2023    China          4300\n",
      "20  2014  Germany          2000\n",
      "21  2015  Germany          2200\n",
      "22  2016  Germany          2400\n",
      "23  2017  Germany          2600\n",
      "24  2018  Germany          2800\n",
      "25  2019  Germany          3000\n",
      "26  2020  Germany          3200\n",
      "27  2021  Germany          3400\n",
      "28  2022  Germany          3600\n",
      "29  2023  Germany          3800\n"
     ]
    },
    {
     "data": {
      "image/png": "[encoded data removed]",
      "text/plain": [
       "<Figure size 1200x800 with 1 Axes>"
      ]
     },
     "metadata": {},
     "output_type": "display_data"
    }
   ],
   "source": [
    "import pandas as pd\n",
    "import matplotlib.pyplot as plt\n",
    "\n",
    "# Sample export data\n",
    "data = {\n",
    "    'Year': [2014, 2015, 2016, 2017, 2018, 2019, 2020, 2021, 2022, 2023] * 3,\n",
    "    'Country': ['USA'] * 10 + ['China'] * 10 + ['Germany'] * 10,\n",
    "    'Export_Value': [3000, 3200, 3400, 3600, 3800, 4000, 4200, 4400, 4600, 4800] + \n",
    "                    [2500, 2700, 2900, 3100, 3300, 3500, 3700, 3900, 4100, 4300] + \n",
    "                    [2000, 2200, 2400, 2600, 2800, 3000, 3200, 3400, 3600, 3800]\n",
    "}\n",
    "\n",
    "df = pd.DataFrame(data)\n",
    "\n",
    "# Print the DataFrame\n",
    "print(df)\n",
    "\n",
    "# Prepare the data\n",
    "pivot_df = df.pivot(index='Year', columns='Country', values='Export_Value')\n",
    "\n",
    "# Plot the data\n",
    "pivot_df.plot(kind='bar', figsize=(12, 8))\n",
    "\n",
    "plt.title('Exports of Different Countries Over the Last 10 Years')\n",
    "plt.xlabel('Year')\n",
    "plt.ylabel('Export Value')\n",
    "plt.xticks(rotation=45)  # Rotate x-axis labels for better readability\n",
    "plt.legend(title='Country')\n",
    "plt.grid(True, linestyle='--', alpha=0.7)\n",
    "plt.tight_layout()  # Adjust layout to make room for the labels\n",
    "plt.show()\n"
   ]
  },
  {
   "cell_type": "code",
   "execution_count": null,
   "metadata": {},
   "outputs": [],
   "source": []
  }
 ],
 "metadata": {
  "kernelspec": {
   "display_name": "Python 3",
   "language": "python",
   "name": "python3"
  },
  "language_info": {
   "codemirror_mode": {
    "name": "ipython",
    "version": 3
   },
   "file_extension": ".py",
   "mimetype": "text/x-python",
   "name": "python",
   "nbconvert_exporter": "python",
   "pygments_lexer": "ipython3",
   "version": "3.10.14"
  }
 },
 "nbformat": 4,
 "nbformat_minor": 2
}
