{
 "cells": [
  {
   "cell_type": "markdown",
   "metadata": {},
   "source": [
    "# Content-Based Recommendation System:\n",
    "- Recommendation System are basically algorithms aimed at suggesting relevant information to customers and analyze available data to make best suggestions.\n",
    "- Used for :\n",
    "  * Products/Services Recommendations\n",
    "  * Text Data\n",
    "  * Images\n",
    "  * Videos \n",
    "- Product Recommendtaion for Online Stores\n",
    "- Amazon Prime/Netflix recommneded for Moviesshows\n",
    "- Restaurent websites recommending food\n",
    "-  Online dating websites for recommending partners\n",
    "-  YouTube for recommending videos."
   ]
  },
  {
   "cell_type": "markdown",
   "metadata": {},
   "source": [
    "![image](https://miro.medium.com/v2/resize:fit:720/format:webp/0*JoBh4VUxM7UMO89i.jpeg)"
   ]
  },
  {
   "cell_type": "markdown",
   "metadata": {},
   "source": [
    "![image](https://miro.medium.com/v2/resize:fit:1400/1*rbSXIekioP0QUpwXBkrhcA.png)"
   ]
  },
  {
   "cell_type": "markdown",
   "metadata": {},
   "source": [
    "- Recommendation is done primarily using two main methods:\n",
    "1. Collaborative filtering methods -> Past behaviour\n",
    "2. Content-based methods -> Similarity"
   ]
  },
  {
   "cell_type": "markdown",
   "metadata": {},
   "source": [
    "## Collaborative filtering methods:\n",
    "- Collaborative filtering methods for recommender systems are methods that are based solely on the past interaction recorded between customers and content they purchased/showed interest on so as to provide new recommendations. "
   ]
  },
  {
   "cell_type": "markdown",
   "metadata": {},
   "source": [
    "## Content-based methods:\n",
    "- Content-based filtering methods use content-specific features of the items (like images, videos, text) to recommend items that are similar to the user's preferences.\n",
    "- Content based filtering methods are best suited to situation where there is known data on an item related to its features,but not on the customer.\n",
    "- Classification problem (product likes or does not likes based on items features)"
   ]
  },
  {
   "cell_type": "markdown",
   "metadata": {},
   "source": [
    "![image](https://www.researchgate.net/profile/Lionel-Tondji/publication/323726564/figure/fig5/AS:631605009846299@1527597777415/Content-based-filtering-vs-Collaborative-filtering-Source.png)"
   ]
  },
  {
   "cell_type": "markdown",
   "metadata": {},
   "source": [
    "- Example of Content-Based Methods\n",
    "- Total 10 features (using binary encoding 0 -absent,1-present)"
   ]
  },
  {
   "cell_type": "markdown",
   "metadata": {},
   "source": [
    "Product1: 0 0 0 1 1 1 1 1 0 0\\\n",
    "Product2: 1 1 0 0 0 0 0 0 1 1\\\n",
    "Product3: 0 0 0 0 1 1 1 0 0 0\\\n",
    "Product4: 1 1 1 0 0 0 0 0 0 1"
   ]
  },
  {
   "cell_type": "markdown",
   "metadata": {},
   "source": [
    "- To calculate which product is similar to another , we use cosine similarity."
   ]
  },
  {
   "cell_type": "markdown",
   "metadata": {},
   "source": [
    "similarity(Product1,Product3) = dot-product(Product1,Product3)/||Product1||* ||Product3||\\\n",
    "similarity(Product2,Product4) = dot-product(Product2,Product4)/||Product2||* ||Product4||"
   ]
  },
  {
   "cell_type": "markdown",
   "metadata": {},
   "source": [
    "- highest similarity for (m,n)"
   ]
  },
  {
   "cell_type": "markdown",
   "metadata": {},
   "source": [
    "- There are mainly three ways of designing recommendation of content-based filtering.\n",
    "1. Pattern matching\n",
    "2. Clustering\n",
    "3. Association rule mining \n",
    "- The content recommendation system is designed on the concept of distances and similarity scores.\n",
    "- sklearn.metrices.pairwaise \n",
    "- Four different distances and similarity techniques \n",
    "  1. Cosine Similarity\n",
    "  2. Cosine Distances\n",
    "  3. Euclidean Distances  \n",
    "  4. Manhattan Distances "
   ]
  },
  {
   "cell_type": "markdown",
   "metadata": {},
   "source": [
    "#### Cosine Similarity:\n",
    "- It is basically a numeric score to denote the similarity between two text documents.\n",
    "![image](https://assets.zilliz.com/Vector_Similarity_Measures_Cosine_Zilliz_f3ebfcfd7e.png) \n",
    "\n",
    "\n",
    "- ranges -1 to 1\n",
    "- If both the data are similar ,then the angle between two text in 0.Since cos(0) = 1.\n",
    "- better similarity - cosine similarity value is higher.\n",
    "- Hence,in order to recomenmend the text/images that are similar to the given text/images,we need to sort the result in descending order.\n",
    "\n",
    "![image](https://memgraph.com/images/blog/cosine-similarity-python-scikit-learn/cosine-similarity-formula-equivalent.png)"
   ]
  },
  {
   "cell_type": "markdown",
   "metadata": {},
   "source": [
    "#### Cosine Distances:\n",
    "- Cosine distance is calculated by determinnig the difference of cosine similarity from 1.\n",
    "- cosine distance = 1 - cosine similarity\n",
    "- If both images/texts are same,similarity is 1 and distance is 0 so texts/images are exatly same.\n",
    "- If distance is more ,this means that the texts or images are dissimilar in nature.\n",
    "- Lesser the distance,more is the similarity and Higher distance ,less is the similarity."
   ]
  },
  {
   "cell_type": "markdown",
   "metadata": {},
   "source": [
    "![image](https://encrypted-tbn0.gstatic.com/images?q=tbn:ANd9GcSbyBro42kT9zSIh7NYKsB9CT4KOTVISqIt1Q&s)"
   ]
  },
  {
   "cell_type": "markdown",
   "metadata": {},
   "source": [
    "#### Euclidean Distances :\n",
    "- Euclidean distance or Eucliden metric is the \"ordinary\" straight-line distance between two points in Euclidean space.\n",
    "\n",
    "![image](https://apat.io/.netlify/images?url=_astro%2Funderstanding-euclidean-distance.MdaAtsFq.png) \n"
   ]
  },
  {
   "cell_type": "markdown",
   "metadata": {},
   "source": [
    "- If two texts are exactly similar,the distance between them will be 0.\n",
    "- Thus,lower values result in better similarity between the texts.\n",
    "- Hence,there is no need to sort the results in descending order unlike cosine similarity function.\n",
    "- The text images with better similarity can be known by sorting them an ascending order."
   ]
  },
  {
   "cell_type": "markdown",
   "metadata": {},
   "source": [
    "#### Manhattan Distances:\n",
    "- The Manhattan distance function computes the distance,that would be traveled to get from one data point to the other ,if a grid-like path is followed.\n",
    "- The Manhattan distance between two items is the sum of the differences of their corresponding components.\n",
    "\n",
    "![image](https://cdn-images-1.medium.com/max/800/1*-xXnL0liqSl-flWgCTFbiw.png)"
   ]
  },
  {
   "cell_type": "markdown",
   "metadata": {},
   "source": [
    "### Example\n",
    "\n",
    "![iamge](https://encrypted-tbn0.gstatic.com/images?q=tbn:ANd9GcTqRRbZdZMsYbghdqlvQ61gwOO3fBLy5FaVjQ&s)"
   ]
  },
  {
   "cell_type": "markdown",
   "metadata": {},
   "source": [
    "- Lower value of Manhattan distance shows better similarity."
   ]
  }
 ],
 "metadata": {
  "kernelspec": {
   "display_name": "Python 3",
   "language": "python",
   "name": "python3"
  },
  "language_info": {
   "name": "python",
   "version": "3.10.14"
  }
 },
 "nbformat": 4,
 "nbformat_minor": 2
}
