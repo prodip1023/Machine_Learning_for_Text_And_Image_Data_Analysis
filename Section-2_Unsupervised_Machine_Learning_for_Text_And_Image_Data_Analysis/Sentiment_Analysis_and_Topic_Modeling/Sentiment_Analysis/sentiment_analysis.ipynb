{
 "cells": [
  {
   "cell_type": "markdown",
   "metadata": {},
   "source": [
    "# Sentiment Analysis:\n",
    "- Sentiment Analysis is also popular known as opinion analysis or opinion mining.\n",
    "- It is used to find the sentiment of a text or a document."
   ]
  },
  {
   "cell_type": "markdown",
   "metadata": {},
   "source": [
    "1. Used Lexicon Model : \n",
    " - A lexicon model also known as a dictionary or vocabulary of words,is specifically aligned toward sentiment analysis.\n",
    " - These lexicons usally contain a list of words associated with positive and negative sentiments,polarity (magnitude of negative or positive score),parts-of-speech(POS) tags,subjective classifiers(strong,weak,neutral),mood,modality etc."
   ]
  },
  {
   "cell_type": "markdown",
   "metadata": {},
   "source": [
    "#### Importing necessary libraries"
   ]
  },
  {
   "cell_type": "code",
   "execution_count": 1,
   "metadata": {},
   "outputs": [],
   "source": [
    "from nltk.stem import PorterStemmer,WordNetLemmatizer\n",
    "from nltk.corpus import stopwords\n",
    "from sklearn.preprocessing import LabelEncoder\n",
    "import pandas as pd \n",
    "import numpy as np"
   ]
  },
  {
   "cell_type": "markdown",
   "metadata": {},
   "source": [
    "#### Reading training,test and sample data files"
   ]
  },
  {
   "cell_type": "code",
   "execution_count": 2,
   "metadata": {},
   "outputs": [],
   "source": [
    "train = pd.read_csv('/Users/hackthebox/Downloads/Machine_Learning_for_Text_And_Image_Data_Analysis/Section-2_Unsupervised_Machine_Learning_for_Text_And_Image_Data_Analysis/Sentiment_Analysis_and_Topic_Modeling/Sentiment_Analysis/empreview/train.csv')\n",
    "test = pd.read_csv('/Users/hackthebox/Downloads/Machine_Learning_for_Text_And_Image_Data_Analysis/Section-2_Unsupervised_Machine_Learning_for_Text_And_Image_Data_Analysis/Sentiment_Analysis_and_Topic_Modeling/Sentiment_Analysis/empreview/test.csv')\n",
    "sample = pd.read_csv('/Users/hackthebox/Downloads/Machine_Learning_for_Text_And_Image_Data_Analysis/Section-2_Unsupervised_Machine_Learning_for_Text_And_Image_Data_Analysis/Sentiment_Analysis_and_Topic_Modeling/Sentiment_Analysis/empreview/sample_submission.csv')"
   ]
  },
  {
   "cell_type": "markdown",
   "metadata": {},
   "source": [
    "#### Displaying dimensions of training,test and sample datasets"
   ]
  },
  {
   "cell_type": "code",
   "execution_count": 3,
   "metadata": {},
   "outputs": [
    {
     "name": "stdout",
     "output_type": "stream",
     "text": [
      "Dimensions of training dataset:  (30336, 17)\n",
      "Dimensions of test dataset:  (29272, 16)\n",
      "Dimensions of sample dataset:  (29272, 2)\n"
     ]
    }
   ],
   "source": [
    "print(\"Dimensions of training dataset: \",train.shape)\n",
    "print(\"Dimensions of test dataset: \",test.shape)\n",
    "print(\"Dimensions of sample dataset: \",sample.shape)"
   ]
  },
  {
   "cell_type": "markdown",
   "metadata": {},
   "source": [
    "#### Displaying information of datasets"
   ]
  },
  {
   "cell_type": "code",
   "execution_count": 4,
   "metadata": {},
   "outputs": [
    {
     "name": "stdout",
     "output_type": "stream",
     "text": [
      "<class 'pandas.core.frame.DataFrame'>\n",
      "RangeIndex: 30336 entries, 0 to 30335\n",
      "Data columns (total 17 columns):\n",
      " #   Column          Non-Null Count  Dtype  \n",
      "---  ------          --------------  -----  \n",
      " 0   ID              30336 non-null  int64  \n",
      " 1   Place           30336 non-null  object \n",
      " 2   location        19082 non-null  object \n",
      " 3   date            30336 non-null  object \n",
      " 4   status          30336 non-null  object \n",
      " 5   job_title       30336 non-null  object \n",
      " 6   summary         30281 non-null  object \n",
      " 7   positives       30336 non-null  object \n",
      " 8   negatives       30336 non-null  object \n",
      " 9   advice_to_mgmt  16893 non-null  object \n",
      " 10  score_1         27150 non-null  float64\n",
      " 11  score_2         24286 non-null  float64\n",
      " 12  score_3         27167 non-null  float64\n",
      " 13  score_4         27145 non-null  float64\n",
      " 14  score_5         26851 non-null  float64\n",
      " 15  score_6         30336 non-null  int64  \n",
      " 16  overall         30336 non-null  int64  \n",
      "dtypes: float64(5), int64(3), object(9)\n",
      "memory usage: 3.9+ MB\n",
      "Information of training datasets None\n"
     ]
    }
   ],
   "source": [
    "print(\"Information of training datasets\",train.info())"
   ]
  },
  {
   "cell_type": "markdown",
   "metadata": {},
   "source": [
    "#### Displaying top 5 rows of the training dataset"
   ]
  },
  {
   "cell_type": "code",
   "execution_count": 5,
   "metadata": {},
   "outputs": [
    {
     "data": {
      "text/html": [
       "<div>\n",
       "<style scoped>\n",
       "    .dataframe tbody tr th:only-of-type {\n",
       "        vertical-align: middle;\n",
       "    }\n",
       "\n",
       "    .dataframe tbody tr th {\n",
       "        vertical-align: top;\n",
       "    }\n",
       "\n",
       "    .dataframe thead th {\n",
       "        text-align: right;\n",
       "    }\n",
       "</style>\n",
       "<table border=\"1\" class=\"dataframe\">\n",
       "  <thead>\n",
       "    <tr style=\"text-align: right;\">\n",
       "      <th></th>\n",
       "      <th>ID</th>\n",
       "      <th>Place</th>\n",
       "      <th>location</th>\n",
       "      <th>date</th>\n",
       "      <th>status</th>\n",
       "      <th>job_title</th>\n",
       "      <th>summary</th>\n",
       "      <th>positives</th>\n",
       "      <th>negatives</th>\n",
       "      <th>advice_to_mgmt</th>\n",
       "      <th>score_1</th>\n",
       "      <th>score_2</th>\n",
       "      <th>score_3</th>\n",
       "      <th>score_4</th>\n",
       "      <th>score_5</th>\n",
       "      <th>score_6</th>\n",
       "      <th>overall</th>\n",
       "    </tr>\n",
       "  </thead>\n",
       "  <tbody>\n",
       "    <tr>\n",
       "      <th>0</th>\n",
       "      <td>1</td>\n",
       "      <td>startup_1</td>\n",
       "      <td>NaN</td>\n",
       "      <td>Dec 11, 2018</td>\n",
       "      <td>Current Employee</td>\n",
       "      <td>Anonymous Employee</td>\n",
       "      <td>Best Company to work for</td>\n",
       "      <td>People are smart and friendly</td>\n",
       "      <td>Bureaucracy is slowing things down</td>\n",
       "      <td>NaN</td>\n",
       "      <td>4.0</td>\n",
       "      <td>5.0</td>\n",
       "      <td>5.0</td>\n",
       "      <td>4.0</td>\n",
       "      <td>5.0</td>\n",
       "      <td>0</td>\n",
       "      <td>5</td>\n",
       "    </tr>\n",
       "    <tr>\n",
       "      <th>1</th>\n",
       "      <td>2</td>\n",
       "      <td>startup_1</td>\n",
       "      <td>Mountain View, CA</td>\n",
       "      <td>Jun 21, 2013</td>\n",
       "      <td>Former Employee</td>\n",
       "      <td>Program Manager</td>\n",
       "      <td>Moving at the speed of light, burn out is inev...</td>\n",
       "      <td>1) Food, food, food. 15+ cafes on main campus ...</td>\n",
       "      <td>1) Work/life balance. What balance? All those ...</td>\n",
       "      <td>1) Don't dismiss emotional intelligence and ad...</td>\n",
       "      <td>2.0</td>\n",
       "      <td>3.0</td>\n",
       "      <td>3.0</td>\n",
       "      <td>5.0</td>\n",
       "      <td>3.0</td>\n",
       "      <td>2094</td>\n",
       "      <td>5</td>\n",
       "    </tr>\n",
       "    <tr>\n",
       "      <th>2</th>\n",
       "      <td>3</td>\n",
       "      <td>startup_1</td>\n",
       "      <td>New York, NY</td>\n",
       "      <td>May 10, 2014</td>\n",
       "      <td>Current Employee</td>\n",
       "      <td>Software Engineer III</td>\n",
       "      <td>Great balance between big-company security and...</td>\n",
       "      <td>* If you're a software engineer, you're among ...</td>\n",
       "      <td>* It *is* becoming larger, and with it comes g...</td>\n",
       "      <td>Keep the focus on the user. Everything else wi...</td>\n",
       "      <td>5.0</td>\n",
       "      <td>4.0</td>\n",
       "      <td>5.0</td>\n",
       "      <td>5.0</td>\n",
       "      <td>4.0</td>\n",
       "      <td>949</td>\n",
       "      <td>5</td>\n",
       "    </tr>\n",
       "    <tr>\n",
       "      <th>3</th>\n",
       "      <td>4</td>\n",
       "      <td>startup_1</td>\n",
       "      <td>Mountain View, CA</td>\n",
       "      <td>Feb 8, 2015</td>\n",
       "      <td>Current Employee</td>\n",
       "      <td>Anonymous Employee</td>\n",
       "      <td>The best place I've worked and also the most d...</td>\n",
       "      <td>You can't find a more well-regarded company th...</td>\n",
       "      <td>I live in SF so the commute can take between 1...</td>\n",
       "      <td>Keep on NOT micromanaging - that is a huge ben...</td>\n",
       "      <td>2.0</td>\n",
       "      <td>5.0</td>\n",
       "      <td>5.0</td>\n",
       "      <td>4.0</td>\n",
       "      <td>5.0</td>\n",
       "      <td>498</td>\n",
       "      <td>4</td>\n",
       "    </tr>\n",
       "    <tr>\n",
       "      <th>4</th>\n",
       "      <td>10</td>\n",
       "      <td>startup_1</td>\n",
       "      <td>NaN</td>\n",
       "      <td>Dec 9, 2018</td>\n",
       "      <td>Current Employee</td>\n",
       "      <td>Anonymous Employee</td>\n",
       "      <td>Execellent for engineers</td>\n",
       "      <td>Impact driven. Best tech in the world.</td>\n",
       "      <td>Size matters. Engineers are a bit disconnected...</td>\n",
       "      <td>NaN</td>\n",
       "      <td>5.0</td>\n",
       "      <td>5.0</td>\n",
       "      <td>5.0</td>\n",
       "      <td>5.0</td>\n",
       "      <td>5.0</td>\n",
       "      <td>0</td>\n",
       "      <td>4</td>\n",
       "    </tr>\n",
       "  </tbody>\n",
       "</table>\n",
       "</div>"
      ],
      "text/plain": [
       "   ID      Place           location           date             status  \\\n",
       "0   1  startup_1                NaN   Dec 11, 2018  Current Employee    \n",
       "1   2  startup_1  Mountain View, CA   Jun 21, 2013   Former Employee    \n",
       "2   3  startup_1       New York, NY   May 10, 2014  Current Employee    \n",
       "3   4  startup_1  Mountain View, CA    Feb 8, 2015  Current Employee    \n",
       "4  10  startup_1                NaN    Dec 9, 2018  Current Employee    \n",
       "\n",
       "                job_title                                            summary  \\\n",
       "0      Anonymous Employee                           Best Company to work for   \n",
       "1         Program Manager  Moving at the speed of light, burn out is inev...   \n",
       "2   Software Engineer III  Great balance between big-company security and...   \n",
       "3      Anonymous Employee  The best place I've worked and also the most d...   \n",
       "4      Anonymous Employee                           Execellent for engineers   \n",
       "\n",
       "                                           positives  \\\n",
       "0                      People are smart and friendly   \n",
       "1  1) Food, food, food. 15+ cafes on main campus ...   \n",
       "2  * If you're a software engineer, you're among ...   \n",
       "3  You can't find a more well-regarded company th...   \n",
       "4             Impact driven. Best tech in the world.   \n",
       "\n",
       "                                           negatives  \\\n",
       "0                 Bureaucracy is slowing things down   \n",
       "1  1) Work/life balance. What balance? All those ...   \n",
       "2  * It *is* becoming larger, and with it comes g...   \n",
       "3  I live in SF so the commute can take between 1...   \n",
       "4  Size matters. Engineers are a bit disconnected...   \n",
       "\n",
       "                                      advice_to_mgmt  score_1  score_2  \\\n",
       "0                                                NaN      4.0      5.0   \n",
       "1  1) Don't dismiss emotional intelligence and ad...      2.0      3.0   \n",
       "2  Keep the focus on the user. Everything else wi...      5.0      4.0   \n",
       "3  Keep on NOT micromanaging - that is a huge ben...      2.0      5.0   \n",
       "4                                                NaN      5.0      5.0   \n",
       "\n",
       "   score_3  score_4  score_5  score_6  overall  \n",
       "0      5.0      4.0      5.0        0        5  \n",
       "1      3.0      5.0      3.0     2094        5  \n",
       "2      5.0      5.0      4.0      949        5  \n",
       "3      5.0      4.0      5.0      498        4  \n",
       "4      5.0      5.0      5.0        0        4  "
      ]
     },
     "execution_count": 5,
     "metadata": {},
     "output_type": "execute_result"
    }
   ],
   "source": [
    "train.head()"
   ]
  },
  {
   "cell_type": "markdown",
   "metadata": {},
   "source": [
    "#### Percentage of null values in training dataset"
   ]
  },
  {
   "cell_type": "code",
   "execution_count": 6,
   "metadata": {},
   "outputs": [
    {
     "data": {
      "text/plain": [
       "advice_to_mgmt    44.31\n",
       "location          37.10\n",
       "score_2           19.94\n",
       "score_5           11.49\n",
       "score_4           10.52\n",
       "score_1           10.50\n",
       "score_3           10.45\n",
       "summary            0.18\n",
       "ID                 0.00\n",
       "negatives          0.00\n",
       "positives          0.00\n",
       "job_title          0.00\n",
       "status             0.00\n",
       "Place              0.00\n",
       "date               0.00\n",
       "score_6            0.00\n",
       "overall            0.00\n",
       "dtype: float64"
      ]
     },
     "execution_count": 6,
     "metadata": {},
     "output_type": "execute_result"
    }
   ],
   "source": [
    "(round(train.isnull().sum()/len(train)* 100,2)).sort_values(ascending=False) "
   ]
  },
  {
   "cell_type": "markdown",
   "metadata": {},
   "source": [
    "#### Creating set of negetives and positives reviews from the training dataset"
   ]
  },
  {
   "cell_type": "code",
   "execution_count": 7,
   "metadata": {},
   "outputs": [],
   "source": [
    "pos_reviews =train['positives']\n",
    "neg_reviews = train['negatives']"
   ]
  },
  {
   "cell_type": "markdown",
   "metadata": {},
   "source": [
    "# Sentiment Analysis with TextBlob"
   ]
  },
  {
   "cell_type": "markdown",
   "metadata": {},
   "source": [
    "- TextBlob is an excellent open-source library for performing NLP tasks including Sentiment Analysis.\n",
    "- It also has a sentiment lexicon which it leverages to give both polarity and subjectivity scores.\n",
    "- The Polarity score is a float within the range [-1.0 to 1.0] (specific words and phrases expressing feelings and emotion).\n",
    "- Neutral sentiment polarity= 0,Positive Sentiment polarity >0,Negative Sentiment polarity < 0."
   ]
  },
  {
   "cell_type": "markdown",
   "metadata": {},
   "source": [
    "#### Importing textblobe library to display polarity of the data"
   ]
  },
  {
   "cell_type": "code",
   "execution_count": 8,
   "metadata": {},
   "outputs": [],
   "source": [
    "import textblob"
   ]
  },
  {
   "cell_type": "markdown",
   "metadata": {},
   "source": [
    "#### Creating a Positive review"
   ]
  },
  {
   "cell_type": "code",
   "execution_count": 9,
   "metadata": {},
   "outputs": [
    {
     "name": "stdout",
     "output_type": "stream",
     "text": [
      "Polarity of the positive sentiment: 1.0\n"
     ]
    }
   ],
   "source": [
    "review_1 = 'The product was excellent'\n",
    "print(\"Polarity of the positive sentiment:\",textblob.TextBlob(review_1).sentiment.polarity)"
   ]
  },
  {
   "cell_type": "markdown",
   "metadata": {},
   "source": [
    "#### Creating a Negative review"
   ]
  },
  {
   "cell_type": "code",
   "execution_count": 10,
   "metadata": {},
   "outputs": [
    {
     "name": "stdout",
     "output_type": "stream",
     "text": [
      "Polarity of the negative sentiment: -0.4\n"
     ]
    }
   ],
   "source": [
    "review_2 = 'It was a poor service'\n",
    "print(\"Polarity of the negative sentiment:\",textblob.TextBlob(review_2).sentiment.polarity)"
   ]
  },
  {
   "cell_type": "markdown",
   "metadata": {},
   "source": [
    "#### Performing sentiment analysis on the negative reviews"
   ]
  },
  {
   "cell_type": "code",
   "execution_count": 11,
   "metadata": {},
   "outputs": [
    {
     "data": {
      "text/plain": [
       "24    Being challanged everyday. Having no life.\n",
       "25                long hours can be unreasonable\n",
       "26          Very few, work sometimes monotonous.\n",
       "27                difficult to promote in google\n",
       "Name: negatives, dtype: object"
      ]
     },
     "execution_count": 11,
     "metadata": {},
     "output_type": "execute_result"
    }
   ],
   "source": [
    "neg_reviews_textblob = neg_reviews[24:28]\n",
    "neg_reviews_textblob"
   ]
  },
  {
   "cell_type": "markdown",
   "metadata": {},
   "source": [
    "#### Executing the for loop for displaying multiple reviews"
   ]
  },
  {
   "cell_type": "code",
   "execution_count": 12,
   "metadata": {},
   "outputs": [
    {
     "name": "stdout",
     "output_type": "stream",
     "text": [
      "Review is : Being challanged everyday. Having no life.\n",
      "Predicted polarity: -0.2\n",
      "..................................................\n",
      "Review is : long hours can be unreasonable\n",
      "Predicted polarity: -0.05\n",
      "..................................................\n",
      "Review is : Very few, work sometimes monotonous.\n",
      "Predicted polarity: -0.26\n",
      "..................................................\n",
      "Review is : difficult to promote in google\n",
      "Predicted polarity: -0.5\n",
      "..................................................\n"
     ]
    }
   ],
   "source": [
    "for review in neg_reviews_textblob:\n",
    "    print(\"Review is :\",review)\n",
    "    print(\"Predicted polarity:\",textblob.TextBlob(review).sentiment.polarity)\n",
    "    print(\".\"* 50)"
   ]
  },
  {
   "cell_type": "markdown",
   "metadata": {},
   "source": [
    "#### Performing sentiment analysis on the Positive reviews"
   ]
  },
  {
   "cell_type": "code",
   "execution_count": 13,
   "metadata": {},
   "outputs": [
    {
     "data": {
      "text/plain": [
       "74    Great benefits, awesome perks, smart people\n",
       "75                    Best place to work and grow\n",
       "76          Good work environment is good for me.\n",
       "77       Rewarding, good teamwork, cool locations\n",
       "Name: positives, dtype: object"
      ]
     },
     "execution_count": 13,
     "metadata": {},
     "output_type": "execute_result"
    }
   ],
   "source": [
    "pos_reviews_textblob = pos_reviews[74:78]\n",
    "pos_reviews_textblob"
   ]
  },
  {
   "cell_type": "markdown",
   "metadata": {},
   "source": [
    "#### Executing the for loop for displaying multiple reviews"
   ]
  },
  {
   "cell_type": "code",
   "execution_count": 14,
   "metadata": {},
   "outputs": [
    {
     "name": "stdout",
     "output_type": "stream",
     "text": [
      "Review is: Great benefits, awesome perks, smart people\n",
      "Predictd Polarity is: 0.6714285714285714\n",
      "..................................................\n",
      "Review is: Best place to work and grow\n",
      "Predictd Polarity is: 1.0\n",
      "..................................................\n",
      "Review is: Good work environment is good for me.\n",
      "Predictd Polarity is: 0.7\n",
      "..................................................\n",
      "Review is: Rewarding, good teamwork, cool locations\n",
      "Predictd Polarity is: 0.5166666666666666\n",
      "..................................................\n"
     ]
    }
   ],
   "source": [
    "for review_pos in pos_reviews_textblob:\n",
    "    print('Review is:',review_pos)\n",
    "    print(\"Predictd Polarity is:\",textblob.TextBlob(review_pos).sentiment.polarity)\n",
    "    print('.'* 50)"
   ]
  },
  {
   "cell_type": "markdown",
   "metadata": {},
   "source": [
    "#### Sentiment Analysis with \"nrc\" Lexicon"
   ]
  },
  {
   "cell_type": "markdown",
   "metadata": {},
   "source": [
    "- The NRC Emotion Lexicon is a list of English words and their associations with eight basic emotions:\n",
    "  * Anger\n",
    "  * Sadness\n",
    "  * Joy\n",
    "  * Fear\n",
    "  * Anticipation\n",
    "  * Trust\n",
    "  * Disgust\n",
    "- And two sentiments :\n",
    "  * Positive\n",
    "  * Negative"
   ]
  },
  {
   "cell_type": "markdown",
   "metadata": {},
   "source": [
    "##### Importing necessary libraries"
   ]
  },
  {
   "cell_type": "code",
   "execution_count": 15,
   "metadata": {},
   "outputs": [],
   "source": [
    "import pandas as pd"
   ]
  },
  {
   "cell_type": "code",
   "execution_count": 16,
   "metadata": {},
   "outputs": [],
   "source": [
    "nrc_df = pd.read_csv('/Users/hackthebox/Downloads/Machine_Learning_for_Text_And_Image_Data_Analysis/Section-2_Unsupervised_Machine_Learning_for_Text_And_Image_Data_Analysis/Sentiment_Analysis_and_Topic_Modeling/Sentiment_Analysis/NRC-emotion-lexicon-wordlevel-alphabetized-v0.92.txt',names=['word','emotion','association'],skiprows=45,sep='\\t',keep_default_na=False)"
   ]
  },
  {
   "cell_type": "markdown",
   "metadata": {},
   "source": [
    "##### Displaying number of words in the DataFrame"
   ]
  },
  {
   "cell_type": "code",
   "execution_count": 17,
   "metadata": {},
   "outputs": [
    {
     "name": "stdout",
     "output_type": "stream",
     "text": [
      "Number of words in DataFrame: (141777, 3)\n"
     ]
    }
   ],
   "source": [
    "print(\"Number of words in DataFrame:\",nrc_df.shape)"
   ]
  },
  {
   "cell_type": "markdown",
   "metadata": {},
   "source": [
    "##### Displaying the first 5 records in the DataFrame"
   ]
  },
  {
   "cell_type": "code",
   "execution_count": 18,
   "metadata": {},
   "outputs": [
    {
     "name": "stdout",
     "output_type": "stream",
     "text": [
      "          word   emotion  association\n",
      "0  abandonment      fear            1\n",
      "1  abandonment       joy            0\n",
      "2  abandonment  negative            1\n",
      "3  abandonment  positive            0\n",
      "4  abandonment   sadness            1\n"
     ]
    }
   ],
   "source": [
    "print(nrc_df.head())"
   ]
  },
  {
   "cell_type": "markdown",
   "metadata": {},
   "source": [
    "##### Displaying unique categories"
   ]
  },
  {
   "cell_type": "code",
   "execution_count": 19,
   "metadata": {},
   "outputs": [
    {
     "name": "stdout",
     "output_type": "stream",
     "text": [
      "Unique categories are:\n",
      " ['fear' 'joy' 'negative' 'positive' 'sadness' 'surprise' 'trust' 'anger'\n",
      " 'anticipation' 'disgust']\n",
      "OR\n",
      "Unique categories are:\n",
      " ['fear' 'joy' 'negative' 'positive' 'sadness' 'surprise' 'trust' 'anger'\n",
      " 'anticipation' 'disgust']\n"
     ]
    }
   ],
   "source": [
    "print(\"Unique categories are:\\n\",nrc_df['emotion'].unique())\n",
    "print(\"OR\")\n",
    "print(\"Unique categories are:\\n\",nrc_df.emotion.unique())"
   ]
  },
  {
   "cell_type": "markdown",
   "metadata": {},
   "source": [
    "##### Displaying words for each category"
   ]
  },
  {
   "cell_type": "code",
   "execution_count": 20,
   "metadata": {},
   "outputs": [
    {
     "name": "stdout",
     "output_type": "stream",
     "text": [
      "Number of words for each category:\n",
      " emotion\n",
      "fear            14178\n",
      "joy             14178\n",
      "negative        14178\n",
      "positive        14178\n",
      "sadness         14178\n",
      "surprise        14178\n",
      "trust           14178\n",
      "anger           14177\n",
      "anticipation    14177\n",
      "disgust         14177\n",
      "Name: count, dtype: int64\n"
     ]
    }
   ],
   "source": [
    "print(\"Number of words for each category:\\n\",nrc_df.emotion.value_counts())"
   ]
  },
  {
   "cell_type": "markdown",
   "metadata": {},
   "source": [
    "##### Displaying the words that are associated"
   ]
  },
  {
   "cell_type": "code",
   "execution_count": 21,
   "metadata": {},
   "outputs": [
    {
     "name": "stdout",
     "output_type": "stream",
     "text": [
      "Words that have an association:\n"
     ]
    },
    {
     "data": {
      "text/plain": [
       "emotion\n",
       "negative        3322\n",
       "positive        2312\n",
       "fear            1474\n",
       "anger           1245\n",
       "trust           1230\n",
       "sadness         1189\n",
       "disgust         1058\n",
       "anticipation     839\n",
       "joy              689\n",
       "surprise         534\n",
       "Name: count, dtype: int64"
      ]
     },
     "execution_count": 21,
     "metadata": {},
     "output_type": "execute_result"
    }
   ],
   "source": [
    "print(\"Words that have an association:\")\n",
    "#nrc_df[nrc_df['association'] == 1].emotion.value_counts()\n",
    "nrc_df[nrc_df['association'] == 1]['emotion'].value_counts()"
   ]
  },
  {
   "cell_type": "markdown",
   "metadata": {},
   "source": [
    "##### Displaying the words that represent anger"
   ]
  },
  {
   "cell_type": "code",
   "execution_count": 22,
   "metadata": {},
   "outputs": [
    {
     "name": "stdout",
     "output_type": "stream",
     "text": [
      "Associated words that represent anger:\n",
      "127             abhor\n",
      "137         abhorrent\n",
      "227           abolish\n",
      "257       abomination\n",
      "587             abuse\n",
      "             ...     \n",
      "141177       wrongful\n",
      "141187        wrongly\n",
      "141427           yell\n",
      "141457           yelp\n",
      "141597          youth\n",
      "Name: word, Length: 1245, dtype: object\n"
     ]
    }
   ],
   "source": [
    "print(\"Associated words that represent anger:\")\n",
    "print(nrc_df[(nrc_df.association == 1) & (nrc_df.emotion == 'anger')].word)"
   ]
  },
  {
   "cell_type": "markdown",
   "metadata": {},
   "source": [
    "##### Creating a pivot table to reshape the data differently"
   ]
  },
  {
   "cell_type": "markdown",
   "metadata": {},
   "source": [
    "- The pivot table can be created for effective representation of the words with the appropriate emotions."
   ]
  },
  {
   "cell_type": "code",
   "execution_count": 23,
   "metadata": {},
   "outputs": [
    {
     "data": {
      "text/html": [
       "<div>\n",
       "<style scoped>\n",
       "    .dataframe tbody tr th:only-of-type {\n",
       "        vertical-align: middle;\n",
       "    }\n",
       "\n",
       "    .dataframe tbody tr th {\n",
       "        vertical-align: top;\n",
       "    }\n",
       "\n",
       "    .dataframe thead th {\n",
       "        text-align: right;\n",
       "    }\n",
       "</style>\n",
       "<table border=\"1\" class=\"dataframe\">\n",
       "  <thead>\n",
       "    <tr style=\"text-align: right;\">\n",
       "      <th>emotion</th>\n",
       "      <th>word</th>\n",
       "      <th>anger</th>\n",
       "      <th>anticipation</th>\n",
       "      <th>disgust</th>\n",
       "      <th>fear</th>\n",
       "      <th>joy</th>\n",
       "      <th>negative</th>\n",
       "      <th>positive</th>\n",
       "      <th>sadness</th>\n",
       "      <th>surprise</th>\n",
       "      <th>trust</th>\n",
       "    </tr>\n",
       "  </thead>\n",
       "  <tbody>\n",
       "    <tr>\n",
       "      <th>0</th>\n",
       "      <td>abandonment</td>\n",
       "      <td>NaN</td>\n",
       "      <td>NaN</td>\n",
       "      <td>NaN</td>\n",
       "      <td>1.0</td>\n",
       "      <td>0.0</td>\n",
       "      <td>1.0</td>\n",
       "      <td>0.0</td>\n",
       "      <td>1.0</td>\n",
       "      <td>1.0</td>\n",
       "      <td>0.0</td>\n",
       "    </tr>\n",
       "    <tr>\n",
       "      <th>1</th>\n",
       "      <td>abate</td>\n",
       "      <td>0.0</td>\n",
       "      <td>0.0</td>\n",
       "      <td>0.0</td>\n",
       "      <td>0.0</td>\n",
       "      <td>0.0</td>\n",
       "      <td>0.0</td>\n",
       "      <td>0.0</td>\n",
       "      <td>0.0</td>\n",
       "      <td>0.0</td>\n",
       "      <td>0.0</td>\n",
       "    </tr>\n",
       "    <tr>\n",
       "      <th>2</th>\n",
       "      <td>abatement</td>\n",
       "      <td>0.0</td>\n",
       "      <td>0.0</td>\n",
       "      <td>0.0</td>\n",
       "      <td>0.0</td>\n",
       "      <td>0.0</td>\n",
       "      <td>0.0</td>\n",
       "      <td>0.0</td>\n",
       "      <td>0.0</td>\n",
       "      <td>0.0</td>\n",
       "      <td>0.0</td>\n",
       "    </tr>\n",
       "    <tr>\n",
       "      <th>3</th>\n",
       "      <td>abba</td>\n",
       "      <td>0.0</td>\n",
       "      <td>0.0</td>\n",
       "      <td>0.0</td>\n",
       "      <td>0.0</td>\n",
       "      <td>0.0</td>\n",
       "      <td>0.0</td>\n",
       "      <td>1.0</td>\n",
       "      <td>0.0</td>\n",
       "      <td>0.0</td>\n",
       "      <td>0.0</td>\n",
       "    </tr>\n",
       "  </tbody>\n",
       "</table>\n",
       "</div>"
      ],
      "text/plain": [
       "emotion         word  anger  anticipation  disgust  fear  joy  negative  \\\n",
       "0        abandonment    NaN           NaN      NaN   1.0  0.0       1.0   \n",
       "1              abate    0.0           0.0      0.0   0.0  0.0       0.0   \n",
       "2          abatement    0.0           0.0      0.0   0.0  0.0       0.0   \n",
       "3               abba    0.0           0.0      0.0   0.0  0.0       0.0   \n",
       "\n",
       "emotion  positive  sadness  surprise  trust  \n",
       "0             0.0      1.0       1.0    0.0  \n",
       "1             0.0      0.0       0.0    0.0  \n",
       "2             0.0      0.0       0.0    0.0  \n",
       "3             1.0      0.0       0.0    0.0  "
      ]
     },
     "execution_count": 23,
     "metadata": {},
     "output_type": "execute_result"
    }
   ],
   "source": [
    "nrc_words = nrc_df.pivot(index='word',columns='emotion',values='association').reset_index()\n",
    "nrc_words.head(4)"
   ]
  },
  {
   "cell_type": "markdown",
   "metadata": {},
   "source": [
    "#### Printing individual words"
   ]
  },
  {
   "cell_type": "code",
   "execution_count": 24,
   "metadata": {},
   "outputs": [
    {
     "name": "stdout",
     "output_type": "stream",
     "text": [
      "Categories for beautiful word:\n"
     ]
    },
    {
     "data": {
      "text/html": [
       "<div>\n",
       "<style scoped>\n",
       "    .dataframe tbody tr th:only-of-type {\n",
       "        vertical-align: middle;\n",
       "    }\n",
       "\n",
       "    .dataframe tbody tr th {\n",
       "        vertical-align: top;\n",
       "    }\n",
       "\n",
       "    .dataframe thead th {\n",
       "        text-align: right;\n",
       "    }\n",
       "</style>\n",
       "<table border=\"1\" class=\"dataframe\">\n",
       "  <thead>\n",
       "    <tr style=\"text-align: right;\">\n",
       "      <th>emotion</th>\n",
       "      <th>word</th>\n",
       "      <th>anger</th>\n",
       "      <th>anticipation</th>\n",
       "      <th>disgust</th>\n",
       "      <th>fear</th>\n",
       "      <th>joy</th>\n",
       "      <th>negative</th>\n",
       "      <th>positive</th>\n",
       "      <th>sadness</th>\n",
       "      <th>surprise</th>\n",
       "      <th>trust</th>\n",
       "    </tr>\n",
       "  </thead>\n",
       "  <tbody>\n",
       "    <tr>\n",
       "      <th>1133</th>\n",
       "      <td>beautiful</td>\n",
       "      <td>0.0</td>\n",
       "      <td>0.0</td>\n",
       "      <td>0.0</td>\n",
       "      <td>0.0</td>\n",
       "      <td>1.0</td>\n",
       "      <td>0.0</td>\n",
       "      <td>1.0</td>\n",
       "      <td>0.0</td>\n",
       "      <td>0.0</td>\n",
       "      <td>0.0</td>\n",
       "    </tr>\n",
       "  </tbody>\n",
       "</table>\n",
       "</div>"
      ],
      "text/plain": [
       "emotion       word  anger  anticipation  disgust  fear  joy  negative  \\\n",
       "1133     beautiful    0.0           0.0      0.0   0.0  1.0       0.0   \n",
       "\n",
       "emotion  positive  sadness  surprise  trust  \n",
       "1133          1.0      0.0       0.0    0.0  "
      ]
     },
     "execution_count": 24,
     "metadata": {},
     "output_type": "execute_result"
    }
   ],
   "source": [
    "print(\"Categories for beautiful word:\")\n",
    "nrc_words[nrc_words.word == 'beautiful']"
   ]
  },
  {
   "cell_type": "markdown",
   "metadata": {},
   "source": [
    "##### Printing words that show joy"
   ]
  },
  {
   "cell_type": "code",
   "execution_count": 25,
   "metadata": {},
   "outputs": [
    {
     "name": "stdout",
     "output_type": "stream",
     "text": [
      "Words depicting joy:\n"
     ]
    },
    {
     "data": {
      "text/html": [
       "<div>\n",
       "<style scoped>\n",
       "    .dataframe tbody tr th:only-of-type {\n",
       "        vertical-align: middle;\n",
       "    }\n",
       "\n",
       "    .dataframe tbody tr th {\n",
       "        vertical-align: top;\n",
       "    }\n",
       "\n",
       "    .dataframe thead th {\n",
       "        text-align: right;\n",
       "    }\n",
       "</style>\n",
       "<table border=\"1\" class=\"dataframe\">\n",
       "  <thead>\n",
       "    <tr style=\"text-align: right;\">\n",
       "      <th>emotion</th>\n",
       "      <th>word</th>\n",
       "      <th>anger</th>\n",
       "      <th>anticipation</th>\n",
       "      <th>disgust</th>\n",
       "      <th>fear</th>\n",
       "      <th>joy</th>\n",
       "      <th>negative</th>\n",
       "      <th>positive</th>\n",
       "      <th>sadness</th>\n",
       "      <th>surprise</th>\n",
       "      <th>trust</th>\n",
       "    </tr>\n",
       "  </thead>\n",
       "  <tbody>\n",
       "    <tr>\n",
       "      <th>45</th>\n",
       "      <td>absolution</td>\n",
       "      <td>0.0</td>\n",
       "      <td>0.0</td>\n",
       "      <td>0.0</td>\n",
       "      <td>0.0</td>\n",
       "      <td>1.0</td>\n",
       "      <td>0.0</td>\n",
       "      <td>1.0</td>\n",
       "      <td>0.0</td>\n",
       "      <td>0.0</td>\n",
       "      <td>1.0</td>\n",
       "    </tr>\n",
       "    <tr>\n",
       "      <th>57</th>\n",
       "      <td>abundance</td>\n",
       "      <td>0.0</td>\n",
       "      <td>1.0</td>\n",
       "      <td>1.0</td>\n",
       "      <td>0.0</td>\n",
       "      <td>1.0</td>\n",
       "      <td>1.0</td>\n",
       "      <td>1.0</td>\n",
       "      <td>0.0</td>\n",
       "      <td>0.0</td>\n",
       "      <td>1.0</td>\n",
       "    </tr>\n",
       "    <tr>\n",
       "      <th>58</th>\n",
       "      <td>abundant</td>\n",
       "      <td>0.0</td>\n",
       "      <td>0.0</td>\n",
       "      <td>0.0</td>\n",
       "      <td>0.0</td>\n",
       "      <td>1.0</td>\n",
       "      <td>0.0</td>\n",
       "      <td>1.0</td>\n",
       "      <td>0.0</td>\n",
       "      <td>0.0</td>\n",
       "      <td>0.0</td>\n",
       "    </tr>\n",
       "    <tr>\n",
       "      <th>81</th>\n",
       "      <td>accolade</td>\n",
       "      <td>0.0</td>\n",
       "      <td>1.0</td>\n",
       "      <td>0.0</td>\n",
       "      <td>0.0</td>\n",
       "      <td>1.0</td>\n",
       "      <td>0.0</td>\n",
       "      <td>1.0</td>\n",
       "      <td>0.0</td>\n",
       "      <td>1.0</td>\n",
       "      <td>1.0</td>\n",
       "    </tr>\n",
       "    <tr>\n",
       "      <th>84</th>\n",
       "      <td>accompaniment</td>\n",
       "      <td>0.0</td>\n",
       "      <td>1.0</td>\n",
       "      <td>0.0</td>\n",
       "      <td>0.0</td>\n",
       "      <td>1.0</td>\n",
       "      <td>0.0</td>\n",
       "      <td>1.0</td>\n",
       "      <td>0.0</td>\n",
       "      <td>0.0</td>\n",
       "      <td>1.0</td>\n",
       "    </tr>\n",
       "  </tbody>\n",
       "</table>\n",
       "</div>"
      ],
      "text/plain": [
       "emotion           word  anger  anticipation  disgust  fear  joy  negative  \\\n",
       "45          absolution    0.0           0.0      0.0   0.0  1.0       0.0   \n",
       "57           abundance    0.0           1.0      1.0   0.0  1.0       1.0   \n",
       "58            abundant    0.0           0.0      0.0   0.0  1.0       0.0   \n",
       "81            accolade    0.0           1.0      0.0   0.0  1.0       0.0   \n",
       "84       accompaniment    0.0           1.0      0.0   0.0  1.0       0.0   \n",
       "\n",
       "emotion  positive  sadness  surprise  trust  \n",
       "45            1.0      0.0       0.0    1.0  \n",
       "57            1.0      0.0       0.0    1.0  \n",
       "58            1.0      0.0       0.0    0.0  \n",
       "81            1.0      0.0       1.0    1.0  \n",
       "84            1.0      0.0       0.0    1.0  "
      ]
     },
     "execution_count": 25,
     "metadata": {},
     "output_type": "execute_result"
    }
   ],
   "source": [
    "print(\"Words depicting joy:\")\n",
    "nrc_words[nrc_words.joy == 1].head()\n"
   ]
  },
  {
   "cell_type": "markdown",
   "metadata": {},
   "source": [
    "#### Printing words that show multiple emotions"
   ]
  },
  {
   "cell_type": "code",
   "execution_count": 26,
   "metadata": {},
   "outputs": [
    {
     "name": "stdout",
     "output_type": "stream",
     "text": [
      "Words depicting trust and surprise:\n"
     ]
    },
    {
     "data": {
      "text/html": [
       "<div>\n",
       "<style scoped>\n",
       "    .dataframe tbody tr th:only-of-type {\n",
       "        vertical-align: middle;\n",
       "    }\n",
       "\n",
       "    .dataframe tbody tr th {\n",
       "        vertical-align: top;\n",
       "    }\n",
       "\n",
       "    .dataframe thead th {\n",
       "        text-align: right;\n",
       "    }\n",
       "</style>\n",
       "<table border=\"1\" class=\"dataframe\">\n",
       "  <thead>\n",
       "    <tr style=\"text-align: right;\">\n",
       "      <th>emotion</th>\n",
       "      <th>word</th>\n",
       "      <th>anger</th>\n",
       "      <th>anticipation</th>\n",
       "      <th>disgust</th>\n",
       "      <th>fear</th>\n",
       "      <th>joy</th>\n",
       "      <th>negative</th>\n",
       "      <th>positive</th>\n",
       "      <th>sadness</th>\n",
       "      <th>surprise</th>\n",
       "      <th>trust</th>\n",
       "    </tr>\n",
       "  </thead>\n",
       "  <tbody>\n",
       "    <tr>\n",
       "      <th>81</th>\n",
       "      <td>accolade</td>\n",
       "      <td>0.0</td>\n",
       "      <td>1.0</td>\n",
       "      <td>0.0</td>\n",
       "      <td>0.0</td>\n",
       "      <td>1.0</td>\n",
       "      <td>0.0</td>\n",
       "      <td>1.0</td>\n",
       "      <td>0.0</td>\n",
       "      <td>1.0</td>\n",
       "      <td>1.0</td>\n",
       "    </tr>\n",
       "    <tr>\n",
       "      <th>508</th>\n",
       "      <td>angel</td>\n",
       "      <td>0.0</td>\n",
       "      <td>1.0</td>\n",
       "      <td>0.0</td>\n",
       "      <td>0.0</td>\n",
       "      <td>1.0</td>\n",
       "      <td>0.0</td>\n",
       "      <td>1.0</td>\n",
       "      <td>0.0</td>\n",
       "      <td>1.0</td>\n",
       "      <td>1.0</td>\n",
       "    </tr>\n",
       "    <tr>\n",
       "      <th>625</th>\n",
       "      <td>applause</td>\n",
       "      <td>0.0</td>\n",
       "      <td>0.0</td>\n",
       "      <td>0.0</td>\n",
       "      <td>0.0</td>\n",
       "      <td>1.0</td>\n",
       "      <td>0.0</td>\n",
       "      <td>1.0</td>\n",
       "      <td>0.0</td>\n",
       "      <td>1.0</td>\n",
       "      <td>1.0</td>\n",
       "    </tr>\n",
       "    <tr>\n",
       "      <th>770</th>\n",
       "      <td>aspiration</td>\n",
       "      <td>0.0</td>\n",
       "      <td>1.0</td>\n",
       "      <td>0.0</td>\n",
       "      <td>0.0</td>\n",
       "      <td>1.0</td>\n",
       "      <td>0.0</td>\n",
       "      <td>1.0</td>\n",
       "      <td>0.0</td>\n",
       "      <td>1.0</td>\n",
       "      <td>1.0</td>\n",
       "    </tr>\n",
       "  </tbody>\n",
       "</table>\n",
       "</div>"
      ],
      "text/plain": [
       "emotion        word  anger  anticipation  disgust  fear  joy  negative  \\\n",
       "81         accolade    0.0           1.0      0.0   0.0  1.0       0.0   \n",
       "508           angel    0.0           1.0      0.0   0.0  1.0       0.0   \n",
       "625        applause    0.0           0.0      0.0   0.0  1.0       0.0   \n",
       "770      aspiration    0.0           1.0      0.0   0.0  1.0       0.0   \n",
       "\n",
       "emotion  positive  sadness  surprise  trust  \n",
       "81            1.0      0.0       1.0    1.0  \n",
       "508           1.0      0.0       1.0    1.0  \n",
       "625           1.0      0.0       1.0    1.0  \n",
       "770           1.0      0.0       1.0    1.0  "
      ]
     },
     "execution_count": 26,
     "metadata": {},
     "output_type": "execute_result"
    }
   ],
   "source": [
    "print(\"Words depicting trust and surprise:\")\n",
    "nrc_words[(nrc_words.trust == 1) & (nrc_words.surprise ==1)].head(4)"
   ]
  },
  {
   "cell_type": "markdown",
   "metadata": {},
   "source": [
    "##### Importing necessary library"
   ]
  },
  {
   "cell_type": "code",
   "execution_count": 27,
   "metadata": {},
   "outputs": [
    {
     "name": "stdout",
     "output_type": "stream",
     "text": [
      "Requirement already satisfied: NRCLex in /Users/hackthebox/Downloads/Machine_Learning_for_Text_And_Image_Data_Analysis/mltlda/lib/python3.10/site-packages (3.0.0)\n",
      "Requirement already satisfied: textblob in /Users/hackthebox/Downloads/Machine_Learning_for_Text_And_Image_Data_Analysis/mltlda/lib/python3.10/site-packages (from NRCLex) (0.18.0.post0)\n",
      "Requirement already satisfied: nltk>=3.8 in /Users/hackthebox/.local/lib/python3.10/site-packages (from textblob->NRCLex) (3.9.1)\n",
      "Requirement already satisfied: click in /Users/hackthebox/.local/lib/python3.10/site-packages (from nltk>=3.8->textblob->NRCLex) (8.1.7)\n",
      "Requirement already satisfied: joblib in /Users/hackthebox/Downloads/Machine_Learning_for_Text_And_Image_Data_Analysis/mltlda/lib/python3.10/site-packages (from nltk>=3.8->textblob->NRCLex) (1.4.2)\n",
      "Requirement already satisfied: regex>=2021.8.3 in /Users/hackthebox/.local/lib/python3.10/site-packages (from nltk>=3.8->textblob->NRCLex) (2024.7.24)\n",
      "Requirement already satisfied: tqdm in /Users/hackthebox/.local/lib/python3.10/site-packages (from nltk>=3.8->textblob->NRCLex) (4.66.5)\n"
     ]
    }
   ],
   "source": [
    "!pip install NRCLex"
   ]
  },
  {
   "cell_type": "code",
   "execution_count": 28,
   "metadata": {},
   "outputs": [],
   "source": [
    "from nrclex import NRCLex"
   ]
  },
  {
   "cell_type": "code",
   "execution_count": 29,
   "metadata": {},
   "outputs": [],
   "source": [
    "review = NRCLex('beautiful and superb place')"
   ]
  },
  {
   "cell_type": "markdown",
   "metadata": {},
   "source": [
    "##### Return words list"
   ]
  },
  {
   "cell_type": "code",
   "execution_count": 30,
   "metadata": {},
   "outputs": [
    {
     "name": "stdout",
     "output_type": "stream",
     "text": [
      "Important words of review:\n",
      " ['beautiful', 'and', 'superb', 'place']\n"
     ]
    }
   ],
   "source": [
    "print(\"Important words of review:\\n\",review.words)"
   ]
  },
  {
   "cell_type": "markdown",
   "metadata": {},
   "source": [
    "##### Return affect dictionary"
   ]
  },
  {
   "cell_type": "code",
   "execution_count": 31,
   "metadata": {},
   "outputs": [
    {
     "name": "stdout",
     "output_type": "stream",
     "text": [
      "Emotion associated with each word:\n",
      " {'beautiful': ['joy', 'positive'], 'superb': ['positive']}\n"
     ]
    }
   ],
   "source": [
    "print(\"Emotion associated with each word:\\n\",review.affect_dict)"
   ]
  },
  {
   "cell_type": "markdown",
   "metadata": {},
   "source": [
    "#### Return affect list"
   ]
  },
  {
   "cell_type": "code",
   "execution_count": 32,
   "metadata": {},
   "outputs": [
    {
     "name": "stdout",
     "output_type": "stream",
     "text": [
      "All emotions:\n",
      " ['joy', 'positive', 'positive']\n"
     ]
    }
   ],
   "source": [
    "print(\"All emotions:\\n\",review.affect_list)"
   ]
  },
  {
   "cell_type": "markdown",
   "metadata": {},
   "source": [
    "##### Return raw emotional counts"
   ]
  },
  {
   "cell_type": "code",
   "execution_count": 33,
   "metadata": {},
   "outputs": [
    {
     "name": "stdout",
     "output_type": "stream",
     "text": [
      "Total Score:\n",
      " {'joy': 1, 'positive': 2}\n"
     ]
    }
   ],
   "source": [
    "print(\"Total Score:\\n\",review.raw_emotion_scores)"
   ]
  },
  {
   "cell_type": "code",
   "execution_count": 34,
   "metadata": {},
   "outputs": [],
   "source": [
    "pos_reviews =train['positives']\n",
    "neg_reviews = train['negatives']"
   ]
  },
  {
   "cell_type": "code",
   "execution_count": 35,
   "metadata": {},
   "outputs": [],
   "source": [
    "import nltk\n",
    "eng_stopwords = nltk.corpus.stopwords.words('english')\n",
    "from string import punctuation"
   ]
  },
  {
   "cell_type": "markdown",
   "metadata": {},
   "source": [
    "##### Creating small dataset of negetive reviews"
   ]
  },
  {
   "cell_type": "code",
   "execution_count": 36,
   "metadata": {},
   "outputs": [
    {
     "data": {
      "text/plain": [
       "36    Bad management, very political and turning int...\n",
       "37      busy, stressful, sometimes disorganized, hectic\n",
       "38    I think the culture has lost its way. It's a s...\n",
       "39           crowded work environment, micro management\n",
       "Name: negatives, dtype: object"
      ]
     },
     "execution_count": 36,
     "metadata": {},
     "output_type": "execute_result"
    }
   ],
   "source": [
    "neg_reviews_nrc = neg_reviews[36:40]\n",
    "neg_reviews_nrc"
   ]
  },
  {
   "cell_type": "markdown",
   "metadata": {},
   "source": [
    "##### Displaying the score of each negative review from the dataset"
   ]
  },
  {
   "cell_type": "code",
   "execution_count": 37,
   "metadata": {},
   "outputs": [
    {
     "name": "stdout",
     "output_type": "stream",
     "text": [
      "Review: Bad management, very political and turning into a bureaucratic culture\n",
      "Important words of review:\n",
      " ['bad', 'management', 'political', 'turning', 'bureaucratic', 'culture']\n",
      "Emotion associated with each word:\n",
      " {'bad': ['anger', 'disgust', 'fear', 'negative', 'sadness'], 'management': ['positive', 'trust'], 'culture': ['positive']}\n",
      "Total Score:\n",
      " {'anger': 1, 'disgust': 1, 'fear': 1, 'negative': 1, 'sadness': 1, 'positive': 2, 'trust': 1}\n",
      "..................................................\n",
      "Review: busy, stressful, sometimes disorganized, hectic\n",
      "Important words of review:\n",
      " ['busy', 'stressful', 'sometimes', 'disorganized', 'hectic']\n",
      "Emotion associated with each word:\n",
      " {'disorganized': ['negative']}\n",
      "Total Score:\n",
      " {'negative': 1}\n",
      "..................................................\n",
      "Review: I think the culture has lost its way. It's a shame.\n",
      "Important words of review:\n",
      " ['think', 'culture', 'lost', 'way', \"'s\", 'shame']\n",
      "Emotion associated with each word:\n",
      " {'culture': ['positive'], 'lost': ['negative', 'sadness'], 'shame': ['disgust', 'fear', 'negative', 'sadness']}\n",
      "Total Score:\n",
      " {'positive': 1, 'negative': 2, 'sadness': 2, 'disgust': 1, 'fear': 1}\n",
      "..................................................\n",
      "Review: crowded work environment, micro management\n",
      "Important words of review:\n",
      " ['crowded', 'work', 'environment', 'micro', 'management']\n",
      "Emotion associated with each word:\n",
      " {'management': ['positive', 'trust']}\n",
      "Total Score:\n",
      " {'positive': 1, 'trust': 1}\n",
      "..................................................\n"
     ]
    }
   ],
   "source": [
    "for review in neg_reviews_nrc:\n",
    "    print(\"Review:\",review)\n",
    "    review = review.translate(punctuation).lower()\n",
    "    doc_tokens = nltk.word_tokenize(review)\n",
    "    final_tokens = [token for token in doc_tokens if token not in eng_stopwords]\n",
    "    newreview = ' '.join(final_tokens)\n",
    "    newreview = NRCLex(newreview)\n",
    "    print(\"Important words of review:\\n\",newreview.words)\n",
    "    print(\"Emotion associated with each word:\\n\",newreview.affect_dict)\n",
    "    print(\"Total Score:\\n\",newreview.raw_emotion_scores)\n",
    "    print(\".\"* 50)"
   ]
  },
  {
   "cell_type": "markdown",
   "metadata": {},
   "source": [
    "- Sentiment Analysis can also be done using supervised machine learning techniques."
   ]
  },
  {
   "cell_type": "markdown",
   "metadata": {},
   "source": [
    "##### Displaying for positive reviews"
   ]
  },
  {
   "cell_type": "code",
   "execution_count": 38,
   "metadata": {},
   "outputs": [],
   "source": [
    "pos_reviews_nrc = pos_reviews[67:70]"
   ]
  },
  {
   "cell_type": "code",
   "execution_count": 39,
   "metadata": {},
   "outputs": [
    {
     "name": "stdout",
     "output_type": "stream",
     "text": [
      "Review: Dynamic and tech savvy teams\n",
      "Important words of review:\n",
      " ['dynamic', 'tech', 'savvy', 'teams']\n",
      "Emotion associated with each word:\n",
      " {'dynamic': ['surprise'], 'savvy': ['positive']}\n",
      "Total Score:\n",
      " {'surprise': 1, 'positive': 1}\n",
      "..................................................\n",
      "Review: Great Pay, Great Flexibility, Nice Coworkers,\n",
      "Important words of review:\n",
      " ['great', 'pay', 'great', 'flexibility', 'nice', 'coworkers']\n",
      "Emotion associated with each word:\n",
      " {'pay': ['anticipation', 'joy', 'positive', 'trust'], 'flexibility': ['positive']}\n",
      "Total Score:\n",
      " {'anticipation': 1, 'joy': 1, 'positive': 2, 'trust': 1}\n",
      "..................................................\n",
      "Review: Good pay, good environment, smart people\n",
      "Important words of review:\n",
      " ['good', 'pay', 'good', 'environment', 'smart', 'people']\n",
      "Emotion associated with each word:\n",
      " {'good': ['anticipation', 'joy', 'positive', 'surprise', 'trust'], 'pay': ['anticipation', 'joy', 'positive', 'trust']}\n",
      "Total Score:\n",
      " {'anticipation': 3, 'joy': 3, 'positive': 3, 'surprise': 2, 'trust': 3}\n",
      "..................................................\n"
     ]
    }
   ],
   "source": [
    "for review in pos_reviews_nrc:\n",
    "    print(\"Review:\",review)\n",
    "    review = review.translate(punctuation).lower()\n",
    "    doc_tokens = nltk.word_tokenize(review)\n",
    "    final_tokens = [token for token in doc_tokens if token not in eng_stopwords]\n",
    "    newreview = ' '.join(final_tokens)\n",
    "    newreview = NRCLex(newreview)\n",
    "    print(\"Important words of review:\\n\",newreview.words)\n",
    "    print(\"Emotion associated with each word:\\n\",newreview.affect_dict)\n",
    "    print(\"Total Score:\\n\",newreview.raw_emotion_scores)\n",
    "    print(\".\"* 50)"
   ]
  },
  {
   "cell_type": "markdown",
   "metadata": {},
   "source": [
    "#### Sentiment Analysis with \"afinn\" Lexicon"
   ]
  },
  {
   "cell_type": "markdown",
   "metadata": {},
   "source": [
    "- The \"afinn\" lexicorn is perhaps one of the simplest and most popular that can be used extensively for sentiment analysis.\n",
    "- Current version of the lexicon is AFINN-en-165.txt and it contains over 3,300+ words with a polarity score associated with each word.\n",
    "- library afinn \n",
    "- score ranging from -5 to +5 is given for each word."
   ]
  },
  {
   "cell_type": "code",
   "execution_count": 40,
   "metadata": {},
   "outputs": [
    {
     "name": "stdout",
     "output_type": "stream",
     "text": [
      "Collecting afinn\n",
      "  Downloading afinn-0.1.tar.gz (52 kB)\n",
      "  Preparing metadata (setup.py) ... \u001b[?25ldone\n",
      "\u001b[?25hBuilding wheels for collected packages: afinn\n",
      "  Building wheel for afinn (setup.py) ... \u001b[?25ldone\n",
      "\u001b[?25h  Created wheel for afinn: filename=afinn-0.1-py3-none-any.whl size=53432 sha256=bd6d435bd57a28690d4ea742f30d10821fc1e1b9ceb8b8569dde2834f7859657\n",
      "  Stored in directory: /Users/hackthebox/Library/Caches/pip/wheels/b0/05/90/43f79196199a138fb486902fceca30a2d1b5228e6d2db8eb90\n",
      "Successfully built afinn\n",
      "Installing collected packages: afinn\n",
      "Successfully installed afinn-0.1\n"
     ]
    }
   ],
   "source": [
    "!pip install afinn"
   ]
  },
  {
   "cell_type": "markdown",
   "metadata": {},
   "source": [
    "##### Importing afinn lexicon and functions"
   ]
  },
  {
   "cell_type": "code",
   "execution_count": 41,
   "metadata": {},
   "outputs": [],
   "source": [
    "from afinn import Afinn"
   ]
  },
  {
   "cell_type": "markdown",
   "metadata": {},
   "source": [
    "##### Creating an afinn object"
   ]
  },
  {
   "cell_type": "code",
   "execution_count": 43,
   "metadata": {},
   "outputs": [],
   "source": [
    "afinn = Afinn()"
   ]
  },
  {
   "cell_type": "markdown",
   "metadata": {},
   "source": [
    "##### Performing sentiment analysis using afinn"
   ]
  },
  {
   "cell_type": "code",
   "execution_count": 46,
   "metadata": {},
   "outputs": [
    {
     "name": "stdout",
     "output_type": "stream",
     "text": [
      "Words in the review: ['Beautiful', 'and', 'amazing', 'place']\n",
      "Emotions in the review:  ['beautiful', 'amazing']\n",
      "Score of each emotion: [3, 4]\n",
      "Total score of emotions: 7.0\n"
     ]
    }
   ],
   "source": [
    "review_3 = \"Beautiful and amazing place!\"\n",
    "print(\"Words in the review:\",afinn.split(review_3))\n",
    "print(\"Emotions in the review: \",afinn.find_all(review_3))\n",
    "print(\"Score of each emotion:\",afinn.scores_with_pattern(review_3))\n",
    "print(\"Total score of emotions:\",afinn.score_with_wordlist(review_3))"
   ]
  },
  {
   "cell_type": "code",
   "execution_count": 47,
   "metadata": {},
   "outputs": [
    {
     "name": "stdout",
     "output_type": "stream",
     "text": [
      "Words in the review: ['Great', 'superb', 'excellent', 'wonderful', 'beautiful', 'and', 'amazing', 'place']\n",
      "Emotions in the review:  ['great', 'superb', 'excellent', 'wonderful', 'beautiful', 'amazing']\n",
      "Score of each emotion: [3, 5, 3, 4, 3, 4]\n",
      "Total score of emotions: 22.0\n"
     ]
    }
   ],
   "source": [
    "review_4 = \"Great,superb,excellent,wonderful,beautiful and amazing place!\"\n",
    "print(\"Words in the review:\",afinn.split(review_4))\n",
    "print(\"Emotions in the review: \",afinn.find_all(review_4))\n",
    "print(\"Score of each emotion:\",afinn.scores_with_pattern(review_4))\n",
    "print(\"Total score of emotions:\",afinn.score_with_wordlist(review_4))"
   ]
  },
  {
   "cell_type": "code",
   "execution_count": 48,
   "metadata": {},
   "outputs": [
    {
     "name": "stdout",
     "output_type": "stream",
     "text": [
      "Words in the review: ['Pathetic', 'disgusting', 'and', 'worse', 'food']\n",
      "Emotions in the review:  ['pathetic', 'disgusting', 'worse']\n",
      "Score of each emotion: [-2, -3, -3]\n",
      "Total score of emotions: -8.0\n"
     ]
    }
   ],
   "source": [
    "review_5 = \"Pathetic,disgusting and worse food\"\n",
    "print(\"Words in the review:\",afinn.split(review_5))\n",
    "print(\"Emotions in the review: \",afinn.find_all(review_5))\n",
    "print(\"Score of each emotion:\",afinn.scores_with_pattern(review_5))\n",
    "print(\"Total score of emotions:\",afinn.score_with_wordlist(review_5))"
   ]
  },
  {
   "cell_type": "markdown",
   "metadata": {},
   "source": [
    "##### Displaying scores of negative reviews"
   ]
  },
  {
   "cell_type": "code",
   "execution_count": 49,
   "metadata": {},
   "outputs": [],
   "source": [
    "neg_reviews_afinn = neg_reviews[727:731]\n",
    "from afinn import Afinn\n",
    "afinn = Afinn()"
   ]
  },
  {
   "cell_type": "code",
   "execution_count": 50,
   "metadata": {},
   "outputs": [
    {
     "name": "stdout",
     "output_type": "stream",
     "text": [
      "Review: Difficult to move teams in google.\n",
      "Words in the review: ['Difficult', 'to', 'move', 'teams', 'in', 'google']\n",
      "Emotions in the review:  ['difficult']\n",
      "Score of each emotion: [-1]\n",
      "Total score of emotions: -1.0\n",
      "**************************************************\n",
      "Review: dumb people, bad politics, worst management\n",
      "Words in the review: ['dumb', 'people', 'bad', 'politics', 'worst', 'management']\n",
      "Emotions in the review:  ['dumb', 'bad', 'worst']\n",
      "Score of each emotion: [-3, -3, -3]\n",
      "Total score of emotions: -9.0\n",
      "**************************************************\n",
      "Review: Nothing that I think would be standard across many people's experiences. I wasn't a fan of MTV and found the entire Bay Area dreadful. Being one of the few interns in my building and the only intern on my team, I had some trouble finding other interns to bond with.\n",
      "Words in the review: ['Nothing', 'that', 'I', 'think', 'would', 'be', 'standard', 'across', 'many', 'people', 's', 'experiences', 'I', 'wasn', 't', 'a', 'fan', 'of', 'MTV', 'and', 'found', 'the', 'entire', 'Bay', 'Area', 'dreadful', 'Being', 'one', 'of', 'the', 'few', 'interns', 'in', 'my', 'building', 'and', 'the', 'only', 'intern', 'on', 'my', 'team', 'I', 'had', 'some', 'trouble', 'finding', 'other', 'interns', 'to', 'bond', 'with']\n",
      "Emotions in the review:  ['fan', 'dreadful', 'trouble']\n",
      "Score of each emotion: [3, -3, -2]\n",
      "Total score of emotions: -2.0\n",
      "**************************************************\n",
      "Review: Poor work life balance, some departments have red tape\n",
      "Words in the review: ['Poor', 'work', 'life', 'balance', 'some', 'departments', 'have', 'red', 'tape']\n",
      "Emotions in the review:  ['poor']\n",
      "Score of each emotion: [-2]\n",
      "Total score of emotions: -2.0\n",
      "**************************************************\n"
     ]
    }
   ],
   "source": [
    "for review in neg_reviews_afinn:\n",
    "    print(\"Review:\",review)\n",
    "    print(\"Words in the review:\",afinn.split(review))\n",
    "    print(\"Emotions in the review: \",afinn.find_all(review))\n",
    "    print(\"Score of each emotion:\",afinn.scores_with_pattern(review))\n",
    "    print(\"Total score of emotions:\",afinn.score_with_wordlist(review))\n",
    "    print(\"*\" * 50)"
   ]
  },
  {
   "cell_type": "markdown",
   "metadata": {},
   "source": [
    "##### Displaying scores of positive reviews"
   ]
  },
  {
   "cell_type": "code",
   "execution_count": 51,
   "metadata": {},
   "outputs": [],
   "source": [
    "pos_reviews_afinn = pos_reviews[51:55]\n",
    "from afinn import Afinn\n",
    "afinn = Afinn()"
   ]
  },
  {
   "cell_type": "code",
   "execution_count": 52,
   "metadata": {},
   "outputs": [
    {
     "name": "stdout",
     "output_type": "stream",
     "text": [
      "Review: Work life balance. Interesting work. Everything you need to stay focused. Best in class salary. Healthy work environment.\n",
      "Words in the review: ['Work', 'life', 'balance', 'Interesting', 'work', 'Everything', 'you', 'need', 'to', 'stay', 'focused', 'Best', 'in', 'class', 'salary', 'Healthy', 'work', 'environment']\n",
      "Emotions in the review:  ['interesting', 'focused', 'best', 'healthy']\n",
      "Score of each emotion: [2, 2, 3, 2]\n",
      "Total score of emotions: 9.0\n",
      "**************************************************\n",
      "Review: Benefits, people, opportunities for growth, performance management, 360 degree reviews\n",
      "Words in the review: ['Benefits', 'people', 'opportunities', 'for', 'growth', 'performance', 'management', '360', 'degree', 'reviews']\n",
      "Emotions in the review:  ['benefits', 'opportunities', 'growth']\n",
      "Score of each emotion: [2, 2, 2]\n",
      "Total score of emotions: 6.0\n",
      "**************************************************\n",
      "Review: Great place to work at\n",
      "Words in the review: ['Great', 'place', 'to', 'work', 'at']\n",
      "Emotions in the review:  ['great']\n",
      "Score of each emotion: [3]\n",
      "Total score of emotions: 3.0\n",
      "**************************************************\n",
      "Review: Good place to start career with friendly coworkers and good benefits\n",
      "Words in the review: ['Good', 'place', 'to', 'start', 'career', 'with', 'friendly', 'coworkers', 'and', 'good', 'benefits']\n",
      "Emotions in the review:  ['good', 'friendly', 'good', 'benefits']\n",
      "Score of each emotion: [3, 2, 3, 2]\n",
      "Total score of emotions: 10.0\n",
      "**************************************************\n"
     ]
    }
   ],
   "source": [
    "for review in pos_reviews_afinn:\n",
    "    print(\"Review:\",review)\n",
    "    print(\"Words in the review:\",afinn.split(review))\n",
    "    print(\"Emotions in the review: \",afinn.find_all(review))\n",
    "    print(\"Score of each emotion:\",afinn.scores_with_pattern(review))\n",
    "    print(\"Total score of emotions:\",afinn.score_with_wordlist(review))\n",
    "    print(\"*\" * 50)"
   ]
  },
  {
   "cell_type": "markdown",
   "metadata": {},
   "source": [
    "#### Sentiment Analysis with VADER lexicon"
   ]
  },
  {
   "cell_type": "markdown",
   "metadata": {},
   "source": [
    "- VADER means Valance Aware Dictionary and Sentiment Reasoner.\n",
    "- is a lexicon and ruled-based sentiment analysis tool that specifically attuned to sentiments expressed on social media.\n",
    "- VADER not only tell about the positive and negative score but also tell us about how positive or negative a sentiment is.\n",
    "- This lexicon shows that positive,negative and neutral scores represent the proportion of text that falls in these categories.\n",
    "- The compound score is also generated that calculates the sum of all the lexicon ratings which have been normalized between -1 to +1.\n",
    "- range +1 (extream Positve) to -1 (extream Negative)\n",
    "- It should be noted that VADER also analyzes sentiments based on certain key points like punctuation,capitalization,degree modifiers and conjunction."
   ]
  },
  {
   "cell_type": "markdown",
   "metadata": {},
   "source": [
    "##### Importing necessary libraries"
   ]
  },
  {
   "cell_type": "code",
   "execution_count": 53,
   "metadata": {},
   "outputs": [],
   "source": [
    "from nltk.sentiment.vader import SentimentIntensityAnalyzer"
   ]
  },
  {
   "cell_type": "markdown",
   "metadata": {},
   "source": [
    "##### calling the function"
   ]
  },
  {
   "cell_type": "code",
   "execution_count": 54,
   "metadata": {},
   "outputs": [],
   "source": [
    "STA = SentimentIntensityAnalyzer()"
   ]
  },
  {
   "cell_type": "markdown",
   "metadata": {},
   "source": [
    "##### Determining the polarity scores"
   ]
  },
  {
   "cell_type": "code",
   "execution_count": 55,
   "metadata": {},
   "outputs": [
    {
     "name": "stdout",
     "output_type": "stream",
     "text": [
      "Result of the positve review:\n",
      " {'neg': 0.0, 'neu': 0.417, 'pos': 0.583, 'compound': 0.6369}\n"
     ]
    }
   ],
   "source": [
    "review_6 = \"The food is best\"\n",
    "print(\"Result of the positve review:\\n\",STA.polarity_scores(review_6))"
   ]
  },
  {
   "cell_type": "code",
   "execution_count": 56,
   "metadata": {},
   "outputs": [
    {
     "name": "stdout",
     "output_type": "stream",
     "text": [
      "Result of the negative review:\n",
      " {'neg': 0.483, 'neu': 0.517, 'pos': 0.0, 'compound': -0.6808}\n"
     ]
    }
   ],
   "source": [
    "review_7 = \"This man is worse and difficult to understand\"\n",
    "print(\"Result of the negative review:\\n\",STA.polarity_scores(review_7))"
   ]
  },
  {
   "cell_type": "markdown",
   "metadata": {},
   "source": [
    "##### Displaying score of negative reviews"
   ]
  },
  {
   "cell_type": "code",
   "execution_count": 57,
   "metadata": {},
   "outputs": [
    {
     "name": "stdout",
     "output_type": "stream",
     "text": [
      "Review: Very large organization, difficult to get promotions\n",
      "Result of the review:\n",
      " {'neg': 0.315, 'neu': 0.685, 'pos': 0.0, 'compound': -0.4144}\n",
      "**************************************************\n",
      "Review: It has a very competative atmosphere\n",
      "Result of the review:\n",
      " {'neg': 0.0, 'neu': 1.0, 'pos': 0.0, 'compound': 0.0}\n",
      "**************************************************\n",
      "Review: if you're younger in your career & want to get a ton of experience fast, this is not the place for you\n",
      "Result of the review:\n",
      " {'neg': 0.0, 'neu': 0.936, 'pos': 0.064, 'compound': 0.0772}\n",
      "**************************************************\n",
      "Review: Long hours and a long commute for me ended up being hard\n",
      "Result of the review:\n",
      " {'neg': 0.123, 'neu': 0.877, 'pos': 0.0, 'compound': -0.1027}\n",
      "**************************************************\n"
     ]
    }
   ],
   "source": [
    "neg_reviews_vader = neg_reviews[486:490]\n",
    "STA = SentimentIntensityAnalyzer()\n",
    "for review in neg_reviews_vader:\n",
    "    print(\"Review:\",review)\n",
    "    print(\"Result of the review:\\n\",STA.polarity_scores(review))\n",
    "    print(\"*\" * 50)"
   ]
  },
  {
   "cell_type": "markdown",
   "metadata": {},
   "source": [
    "##### Displaying score of positive reviews"
   ]
  },
  {
   "cell_type": "code",
   "execution_count": 58,
   "metadata": {},
   "outputs": [
    {
     "name": "stdout",
     "output_type": "stream",
     "text": [
      "Review: strong compensation packet, high mobility with the company that gives a lot of opportunities for growth\n",
      "Result of the review:\n",
      " {'neg': 0.0, 'neu': 0.585, 'pos': 0.415, 'compound': 0.8176}\n",
      "**************************************************\n",
      "Review: good atmosphere overall good job\n",
      "Result of the review:\n",
      " {'neg': 0.0, 'neu': 0.341, 'pos': 0.659, 'compound': 0.7003}\n",
      "**************************************************\n",
      "Review: free food, healthy culture and environment\n",
      "Result of the review:\n",
      " {'neg': 0.0, 'neu': 0.4, 'pos': 0.6, 'compound': 0.7184}\n",
      "**************************************************\n",
      "Review: Great food and environment. Nice perks.\n",
      "Result of the review:\n",
      " {'neg': 0.0, 'neu': 0.367, 'pos': 0.633, 'compound': 0.7845}\n",
      "**************************************************\n"
     ]
    }
   ],
   "source": [
    "pos_reviews_vader = pos_reviews[171:175]\n",
    "STA = SentimentIntensityAnalyzer()\n",
    "for review in pos_reviews_vader:\n",
    "    print(\"Review:\",review)\n",
    "    print(\"Result of the review:\\n\",STA.polarity_scores(review))\n",
    "    print(\"*\" * 50)"
   ]
  }
 ],
 "metadata": {
  "kernelspec": {
   "display_name": "Python 3",
   "language": "python",
   "name": "python3"
  },
  "language_info": {
   "codemirror_mode": {
    "name": "ipython",
    "version": 3
   },
   "file_extension": ".py",
   "mimetype": "text/x-python",
   "name": "python",
   "nbconvert_exporter": "python",
   "pygments_lexer": "ipython3",
   "version": "3.10.14"
  }
 },
 "nbformat": 4,
 "nbformat_minor": 2
}
